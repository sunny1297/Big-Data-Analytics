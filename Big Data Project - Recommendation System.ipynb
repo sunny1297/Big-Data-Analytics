{
 "cells": [
  {
   "cell_type": "markdown",
   "metadata": {},
   "source": [
    "\n",
    "# Recommendation system - Collaborative Filtering"
   ]
  },
  {
   "cell_type": "code",
   "execution_count": 1,
   "metadata": {},
   "outputs": [
    {
     "data": {
      "text/html": [
       "<style>.container { width:100% !important; }</style>"
      ],
      "text/plain": [
       "<IPython.core.display.HTML object>"
      ]
     },
     "metadata": {},
     "output_type": "display_data"
    }
   ],
   "source": [
    "from IPython.core.display import display, HTML\n",
    "display(HTML('<style>.container { width:100% !important; }</style>'))"
   ]
  },
  {
   "cell_type": "code",
   "execution_count": 2,
   "metadata": {},
   "outputs": [],
   "source": [
    "# Importing required libraries\n",
    "import pandas as pd\n",
    "import numpy as np\n",
    "import matplotlib.pyplot as plt\n",
    "import seaborn as sns\n",
    "import warnings\n",
    "warnings.filterwarnings(\"ignore\")\n",
    "import os\n",
    "%matplotlib inline\n",
    "pd.set_option('display.max_colwidth', -1)"
   ]
  },
  {
   "cell_type": "code",
   "execution_count": 3,
   "metadata": {},
   "outputs": [],
   "source": [
    "product_path = \"Final data/products.csv\"\n",
    "reviews_path = \"Final data/reviews.csv\"\n",
    "category_path = \"Final data/category.csv\"\n",
    "train_path = \"Final data/train.csv\""
   ]
  },
  {
   "cell_type": "markdown",
   "metadata": {},
   "source": [
    "Reading the data after making then csv files is easy"
   ]
  },
  {
   "cell_type": "markdown",
   "metadata": {},
   "source": [
    "# Reading Product Data"
   ]
  },
  {
   "cell_type": "code",
   "execution_count": 4,
   "metadata": {},
   "outputs": [],
   "source": [
    "products = pd.read_csv(product_path)"
   ]
  },
  {
   "cell_type": "code",
   "execution_count": 5,
   "metadata": {
    "scrolled": true
   },
   "outputs": [
    {
     "name": "stdout",
     "output_type": "stream",
     "text": [
      "<class 'pandas.core.frame.DataFrame'>\n",
      "RangeIndex: 1721771 entries, 0 to 1721770\n",
      "Data columns (total 13 columns):\n",
      "Unnamed: 0        int64\n",
      "Unnamed: 0.1      float64\n",
      "aboutMe           object\n",
      "comment           object\n",
      "id                float64\n",
      "name              object\n",
      "productId         float64\n",
      "rating            float64\n",
      "review            float64\n",
      "reviewer          object\n",
      "sku               int64\n",
      "submissionTime    object\n",
      "title             object\n",
      "dtypes: float64(5), int64(2), object(6)\n",
      "memory usage: 170.8+ MB\n"
     ]
    }
   ],
   "source": [
    "products.info()"
   ]
  },
  {
   "cell_type": "code",
   "execution_count": 6,
   "metadata": {},
   "outputs": [
    {
     "name": "stdout",
     "output_type": "stream",
     "text": [
      "Unnamed: 0        0      \n",
      "Unnamed: 0.1      1471771\n",
      "aboutMe           1721764\n",
      "comment           1500002\n",
      "id                1500000\n",
      "name              221771 \n",
      "productId         221771 \n",
      "rating            1500000\n",
      "review            1721771\n",
      "reviewer          1500000\n",
      "sku               0      \n",
      "submissionTime    1500000\n",
      "title             1500005\n",
      "dtype: int64\n"
     ]
    },
    {
     "data": {
      "text/html": [
       "<div>\n",
       "<style scoped>\n",
       "    .dataframe tbody tr th:only-of-type {\n",
       "        vertical-align: middle;\n",
       "    }\n",
       "\n",
       "    .dataframe tbody tr th {\n",
       "        vertical-align: top;\n",
       "    }\n",
       "\n",
       "    .dataframe thead th {\n",
       "        text-align: right;\n",
       "    }\n",
       "</style>\n",
       "<table border=\"1\" class=\"dataframe\">\n",
       "  <thead>\n",
       "    <tr style=\"text-align: right;\">\n",
       "      <th></th>\n",
       "      <th>name</th>\n",
       "      <th>sku</th>\n",
       "    </tr>\n",
       "  </thead>\n",
       "  <tbody>\n",
       "    <tr>\n",
       "      <th>0</th>\n",
       "      <td>Christmas Island - CD</td>\n",
       "      <td>10359694</td>\n",
       "    </tr>\n",
       "    <tr>\n",
       "      <th>1</th>\n",
       "      <td>Stellar Pieces - CD</td>\n",
       "      <td>10359701</td>\n",
       "    </tr>\n",
       "    <tr>\n",
       "      <th>2</th>\n",
       "      <td>Trumpet Experience - CD</td>\n",
       "      <td>10359729</td>\n",
       "    </tr>\n",
       "    <tr>\n",
       "      <th>3</th>\n",
       "      <td>The Shazam - CD</td>\n",
       "      <td>10359738</td>\n",
       "    </tr>\n",
       "    <tr>\n",
       "      <th>4</th>\n",
       "      <td>Rewriting the Wrongs - CD</td>\n",
       "      <td>10359747</td>\n",
       "    </tr>\n",
       "  </tbody>\n",
       "</table>\n",
       "</div>"
      ],
      "text/plain": [
       "                        name       sku\n",
       "0  Christmas Island - CD      10359694\n",
       "1  Stellar Pieces - CD        10359701\n",
       "2  Trumpet Experience - CD    10359729\n",
       "3  The Shazam - CD            10359738\n",
       "4  Rewriting the Wrongs - CD  10359747"
      ]
     },
     "execution_count": 6,
     "metadata": {},
     "output_type": "execute_result"
    }
   ],
   "source": [
    "print(products.isnull().sum())\n",
    "products.drop(['Unnamed: 0', 'Unnamed: 0.1', 'aboutMe', \n",
    "               'comment', 'id', 'rating', 'review', \n",
    "               'reviewer', 'submissionTime','title','productId'],axis = 1,inplace=True)\n",
    "products.head()"
   ]
  },
  {
   "cell_type": "markdown",
   "metadata": {},
   "source": [
    "# Reading reviews data"
   ]
  },
  {
   "cell_type": "code",
   "execution_count": 7,
   "metadata": {},
   "outputs": [
    {
     "name": "stdout",
     "output_type": "stream",
     "text": [
      "<class 'pandas.core.frame.DataFrame'>\n",
      "RangeIndex: 221771 entries, 0 to 221770\n",
      "Data columns (total 11 columns):\n",
      "Unnamed: 0        221771 non-null int64\n",
      "review            0 non-null float64\n",
      "id                221771 non-null int64\n",
      "sku               221771 non-null int64\n",
      "reviewer          221771 non-null object\n",
      "name              0 non-null float64\n",
      "aboutMe           7 non-null object\n",
      "rating            221771 non-null float64\n",
      "title             221766 non-null object\n",
      "comment           221769 non-null object\n",
      "submissionTime    221771 non-null object\n",
      "dtypes: float64(3), int64(3), object(5)\n",
      "memory usage: 18.6+ MB\n"
     ]
    }
   ],
   "source": [
    "reviews = pd.read_csv(reviews_path)\n",
    "reviews.info()"
   ]
  },
  {
   "cell_type": "code",
   "execution_count": 8,
   "metadata": {},
   "outputs": [
    {
     "data": {
      "text/html": [
       "<div>\n",
       "<style scoped>\n",
       "    .dataframe tbody tr th:only-of-type {\n",
       "        vertical-align: middle;\n",
       "    }\n",
       "\n",
       "    .dataframe tbody tr th {\n",
       "        vertical-align: top;\n",
       "    }\n",
       "\n",
       "    .dataframe thead th {\n",
       "        text-align: right;\n",
       "    }\n",
       "</style>\n",
       "<table border=\"1\" class=\"dataframe\">\n",
       "  <thead>\n",
       "    <tr style=\"text-align: right;\">\n",
       "      <th></th>\n",
       "      <th>sku</th>\n",
       "      <th>rating</th>\n",
       "    </tr>\n",
       "  </thead>\n",
       "  <tbody>\n",
       "    <tr>\n",
       "      <th>0</th>\n",
       "      <td>8149167</td>\n",
       "      <td>5.0</td>\n",
       "    </tr>\n",
       "    <tr>\n",
       "      <th>1</th>\n",
       "      <td>8487032</td>\n",
       "      <td>5.0</td>\n",
       "    </tr>\n",
       "    <tr>\n",
       "      <th>2</th>\n",
       "      <td>8381538</td>\n",
       "      <td>4.0</td>\n",
       "    </tr>\n",
       "    <tr>\n",
       "      <th>3</th>\n",
       "      <td>6287804</td>\n",
       "      <td>4.0</td>\n",
       "    </tr>\n",
       "    <tr>\n",
       "      <th>4</th>\n",
       "      <td>4307084</td>\n",
       "      <td>4.0</td>\n",
       "    </tr>\n",
       "  </tbody>\n",
       "</table>\n",
       "</div>"
      ],
      "text/plain": [
       "       sku  rating\n",
       "0  8149167  5.0   \n",
       "1  8487032  5.0   \n",
       "2  8381538  4.0   \n",
       "3  6287804  4.0   \n",
       "4  4307084  4.0   "
      ]
     },
     "execution_count": 8,
     "metadata": {},
     "output_type": "execute_result"
    }
   ],
   "source": [
    "reviews.drop(['Unnamed: 0','review','name','aboutMe','submissionTime','id','reviewer','title','comment'],axis = 1,inplace=True)\n",
    "reviews.head()"
   ]
  },
  {
   "cell_type": "markdown",
   "metadata": {},
   "source": [
    "# Reading Category Data "
   ]
  },
  {
   "cell_type": "code",
   "execution_count": 9,
   "metadata": {},
   "outputs": [],
   "source": [
    "categories = pd.read_csv(category_path)\n"
   ]
  },
  {
   "cell_type": "code",
   "execution_count": 10,
   "metadata": {},
   "outputs": [
    {
     "name": "stdout",
     "output_type": "stream",
     "text": [
      "<class 'pandas.core.frame.DataFrame'>\n",
      "RangeIndex: 4640 entries, 0 to 4639\n",
      "Data columns (total 3 columns):\n",
      "Unnamed: 0    4640 non-null int64\n",
      "id            4640 non-null object\n",
      "name          4640 non-null object\n",
      "dtypes: int64(1), object(2)\n",
      "memory usage: 108.8+ KB\n"
     ]
    }
   ],
   "source": [
    "categories.info()"
   ]
  },
  {
   "cell_type": "code",
   "execution_count": 11,
   "metadata": {},
   "outputs": [],
   "source": [
    "categories.drop(\"Unnamed: 0\",axis= 1,inplace = True)\n"
   ]
  },
  {
   "cell_type": "markdown",
   "metadata": {},
   "source": [
    "# Reading Train data"
   ]
  },
  {
   "cell_type": "code",
   "execution_count": 12,
   "metadata": {},
   "outputs": [
    {
     "name": "stdout",
     "output_type": "stream",
     "text": [
      "<class 'pandas.core.frame.DataFrame'>\n",
      "RangeIndex: 1865269 entries, 0 to 1865268\n",
      "Data columns (total 6 columns):\n",
      "user          object\n",
      "sku           int64\n",
      "category      object\n",
      "query         object\n",
      "click_time    object\n",
      "query_time    object\n",
      "dtypes: int64(1), object(5)\n",
      "memory usage: 85.4+ MB\n"
     ]
    }
   ],
   "source": [
    "train = pd.read_csv(train_path)\n",
    "train.info()"
   ]
  },
  {
   "cell_type": "code",
   "execution_count": 13,
   "metadata": {},
   "outputs": [],
   "source": [
    "# train.head(2)"
   ]
  },
  {
   "cell_type": "code",
   "execution_count": 14,
   "metadata": {},
   "outputs": [],
   "source": [
    "train = train.drop(['query','click_time','query_time'],axis = 1)"
   ]
  },
  {
   "cell_type": "markdown",
   "metadata": {},
   "source": [
    "# Prepare data for Analysis"
   ]
  },
  {
   "cell_type": "code",
   "execution_count": 15,
   "metadata": {},
   "outputs": [
    {
     "name": "stdout",
     "output_type": "stream",
     "text": [
      "<class 'pandas.core.frame.DataFrame'>\n",
      "Int64Index: 1862827 entries, 0 to 1865268\n",
      "Data columns (total 3 columns):\n",
      "user        object\n",
      "sku         int64\n",
      "category    object\n",
      "dtypes: int64(1), object(2)\n",
      "memory usage: 56.8+ MB\n"
     ]
    }
   ],
   "source": [
    "part_1 = train.drop_duplicates(subset = ['user','sku','category'])\n",
    "part_1.info()"
   ]
  },
  {
   "cell_type": "code",
   "execution_count": 16,
   "metadata": {},
   "outputs": [
    {
     "name": "stdout",
     "output_type": "stream",
     "text": [
      "<class 'pandas.core.frame.DataFrame'>\n",
      "Int64Index: 1852563 entries, 0 to 1852562\n",
      "Data columns (total 5 columns):\n",
      "user        object\n",
      "sku         int64\n",
      "category    object\n",
      "id          object\n",
      "name        object\n",
      "dtypes: int64(1), object(4)\n",
      "memory usage: 84.8+ MB\n"
     ]
    }
   ],
   "source": [
    "#adding Category name from category table\n",
    "part_2 = pd.merge(part_1,categories,how = 'inner',left_on='category',right_on='id')\n",
    "part_2.info()"
   ]
  },
  {
   "cell_type": "code",
   "execution_count": 17,
   "metadata": {},
   "outputs": [],
   "source": [
    "part_2.rename(columns={'name':'cat_name'}, inplace=True)\n",
    "part_2 = part_2.drop(['id','category'],axis =1)\n",
    "part_2 = part_2.set_index('sku')"
   ]
  },
  {
   "cell_type": "code",
   "execution_count": 18,
   "metadata": {},
   "outputs": [],
   "source": [
    "#adding product name from products table\n",
    "products.set_index('sku',inplace=True)"
   ]
  },
  {
   "cell_type": "code",
   "execution_count": 19,
   "metadata": {},
   "outputs": [],
   "source": [
    "x = products.dropna()\n",
    "x.sort_index().head(10)\n",
    "x.shape\n",
    "y =x.index"
   ]
  },
  {
   "cell_type": "code",
   "execution_count": 20,
   "metadata": {},
   "outputs": [
    {
     "name": "stdout",
     "output_type": "stream",
     "text": [
      "<class 'pandas.core.frame.DataFrame'>\n",
      "Int64Index: 1088727 entries, 7873063 to 19709208\n",
      "Data columns (total 3 columns):\n",
      "user        1088727 non-null object\n",
      "cat_name    1088727 non-null object\n",
      "name        1088727 non-null object\n",
      "dtypes: object(3)\n",
      "memory usage: 33.2+ MB\n"
     ]
    }
   ],
   "source": [
    "part_4 = part_2.join(x,how = 'inner')\n",
    "part_4.info()"
   ]
  },
  {
   "cell_type": "code",
   "execution_count": 21,
   "metadata": {},
   "outputs": [
    {
     "name": "stdout",
     "output_type": "stream",
     "text": [
      "user        0\n",
      "cat_name    0\n",
      "name        0\n",
      "dtype: int64\n"
     ]
    },
    {
     "data": {
      "text/html": [
       "<div>\n",
       "<style scoped>\n",
       "    .dataframe tbody tr th:only-of-type {\n",
       "        vertical-align: middle;\n",
       "    }\n",
       "\n",
       "    .dataframe tbody tr th {\n",
       "        vertical-align: top;\n",
       "    }\n",
       "\n",
       "    .dataframe thead th {\n",
       "        text-align: right;\n",
       "    }\n",
       "</style>\n",
       "<table border=\"1\" class=\"dataframe\">\n",
       "  <thead>\n",
       "    <tr style=\"text-align: right;\">\n",
       "      <th></th>\n",
       "      <th>user</th>\n",
       "      <th>cat_name</th>\n",
       "      <th>name</th>\n",
       "    </tr>\n",
       "    <tr>\n",
       "      <th>sku</th>\n",
       "      <th></th>\n",
       "      <th></th>\n",
       "      <th></th>\n",
       "    </tr>\n",
       "  </thead>\n",
       "  <tbody>\n",
       "    <tr>\n",
       "      <th>7873063</th>\n",
       "      <td>d6add0a136e569353efd3dcc7689b01faa4fbcef</td>\n",
       "      <td>Movies &amp; TV Shows</td>\n",
       "      <td>Johnny Cash: Man in Black - Live in Denmark 1971 - DVD</td>\n",
       "    </tr>\n",
       "    <tr>\n",
       "      <th>7873063</th>\n",
       "      <td>d6add0a136e569353efd3dcc7689b01faa4fbcef</td>\n",
       "      <td>Movies &amp; TV Shows</td>\n",
       "      <td>Johnny Cash: Man in Black - Live in Denmark 1971 - DVD</td>\n",
       "    </tr>\n",
       "    <tr>\n",
       "      <th>7873081</th>\n",
       "      <td>a210e86ce7741e5e4f5e7450161b158b09c3ef9c</td>\n",
       "      <td>Movies &amp; TV Shows</td>\n",
       "      <td>The Clash: Rude Boy - DVD</td>\n",
       "    </tr>\n",
       "    <tr>\n",
       "      <th>7873081</th>\n",
       "      <td>a210e86ce7741e5e4f5e7450161b158b09c3ef9c</td>\n",
       "      <td>Movies &amp; TV Shows</td>\n",
       "      <td>The Clash: Rude Boy - DVD</td>\n",
       "    </tr>\n",
       "    <tr>\n",
       "      <th>7873125</th>\n",
       "      <td>10beae2f3b62b3a1d30fbf16477b259a12ff049e</td>\n",
       "      <td>Children's</td>\n",
       "      <td>Groove to the Music - Various - CD</td>\n",
       "    </tr>\n",
       "  </tbody>\n",
       "</table>\n",
       "</div>"
      ],
      "text/plain": [
       "                                             user           cat_name  \\\n",
       "sku                                                                    \n",
       "7873063  d6add0a136e569353efd3dcc7689b01faa4fbcef  Movies & TV Shows   \n",
       "7873063  d6add0a136e569353efd3dcc7689b01faa4fbcef  Movies & TV Shows   \n",
       "7873081  a210e86ce7741e5e4f5e7450161b158b09c3ef9c  Movies & TV Shows   \n",
       "7873081  a210e86ce7741e5e4f5e7450161b158b09c3ef9c  Movies & TV Shows   \n",
       "7873125  10beae2f3b62b3a1d30fbf16477b259a12ff049e  Children's          \n",
       "\n",
       "                                                           name  \n",
       "sku                                                              \n",
       "7873063  Johnny Cash: Man in Black - Live in Denmark 1971 - DVD  \n",
       "7873063  Johnny Cash: Man in Black - Live in Denmark 1971 - DVD  \n",
       "7873081  The Clash: Rude Boy - DVD                               \n",
       "7873081  The Clash: Rude Boy - DVD                               \n",
       "7873125  Groove to the Music - Various - CD                      "
      ]
     },
     "execution_count": 21,
     "metadata": {},
     "output_type": "execute_result"
    }
   ],
   "source": [
    "print(part_4.isna().sum())\n",
    "part_4.head()"
   ]
  },
  {
   "cell_type": "markdown",
   "metadata": {},
   "source": [
    "# EDA\n",
    "\n",
    "Let's explore the data a bit and get a look at some of the best rated Products."
   ]
  },
  {
   "cell_type": "code",
   "execution_count": 22,
   "metadata": {},
   "outputs": [
    {
     "data": {
      "text/html": [
       "<div>\n",
       "<style scoped>\n",
       "    .dataframe tbody tr th:only-of-type {\n",
       "        vertical-align: middle;\n",
       "    }\n",
       "\n",
       "    .dataframe tbody tr th {\n",
       "        vertical-align: top;\n",
       "    }\n",
       "\n",
       "    .dataframe thead th {\n",
       "        text-align: right;\n",
       "    }\n",
       "</style>\n",
       "<table border=\"1\" class=\"dataframe\">\n",
       "  <thead>\n",
       "    <tr style=\"text-align: right;\">\n",
       "      <th></th>\n",
       "      <th>sku</th>\n",
       "      <th>rating</th>\n",
       "    </tr>\n",
       "  </thead>\n",
       "  <tbody>\n",
       "    <tr>\n",
       "      <th>0</th>\n",
       "      <td>8149167</td>\n",
       "      <td>5.0</td>\n",
       "    </tr>\n",
       "    <tr>\n",
       "      <th>1</th>\n",
       "      <td>8487032</td>\n",
       "      <td>5.0</td>\n",
       "    </tr>\n",
       "    <tr>\n",
       "      <th>2</th>\n",
       "      <td>8381538</td>\n",
       "      <td>4.0</td>\n",
       "    </tr>\n",
       "    <tr>\n",
       "      <th>3</th>\n",
       "      <td>6287804</td>\n",
       "      <td>4.0</td>\n",
       "    </tr>\n",
       "    <tr>\n",
       "      <th>4</th>\n",
       "      <td>4307084</td>\n",
       "      <td>4.0</td>\n",
       "    </tr>\n",
       "  </tbody>\n",
       "</table>\n",
       "</div>"
      ],
      "text/plain": [
       "       sku  rating\n",
       "0  8149167  5.0   \n",
       "1  8487032  5.0   \n",
       "2  8381538  4.0   \n",
       "3  6287804  4.0   \n",
       "4  4307084  4.0   "
      ]
     },
     "execution_count": 22,
     "metadata": {},
     "output_type": "execute_result"
    }
   ],
   "source": [
    "reviews.head()"
   ]
  },
  {
   "cell_type": "code",
   "execution_count": 23,
   "metadata": {},
   "outputs": [
    {
     "data": {
      "text/html": [
       "<div>\n",
       "<style scoped>\n",
       "    .dataframe tbody tr th:only-of-type {\n",
       "        vertical-align: middle;\n",
       "    }\n",
       "\n",
       "    .dataframe tbody tr th {\n",
       "        vertical-align: top;\n",
       "    }\n",
       "\n",
       "    .dataframe thead th {\n",
       "        text-align: right;\n",
       "    }\n",
       "</style>\n",
       "<table border=\"1\" class=\"dataframe\">\n",
       "  <thead>\n",
       "    <tr style=\"text-align: right;\">\n",
       "      <th></th>\n",
       "      <th>rating</th>\n",
       "      <th>num of ratings</th>\n",
       "    </tr>\n",
       "    <tr>\n",
       "      <th>sku</th>\n",
       "      <th></th>\n",
       "      <th></th>\n",
       "    </tr>\n",
       "  </thead>\n",
       "  <tbody>\n",
       "    <tr>\n",
       "      <th>48530</th>\n",
       "      <td>4.5</td>\n",
       "      <td>2</td>\n",
       "    </tr>\n",
       "    <tr>\n",
       "      <th>127687</th>\n",
       "      <td>5.0</td>\n",
       "      <td>5</td>\n",
       "    </tr>\n",
       "    <tr>\n",
       "      <th>150115</th>\n",
       "      <td>3.0</td>\n",
       "      <td>2</td>\n",
       "    </tr>\n",
       "    <tr>\n",
       "      <th>185267</th>\n",
       "      <td>5.0</td>\n",
       "      <td>1</td>\n",
       "    </tr>\n",
       "    <tr>\n",
       "      <th>312290</th>\n",
       "      <td>5.0</td>\n",
       "      <td>1</td>\n",
       "    </tr>\n",
       "  </tbody>\n",
       "</table>\n",
       "</div>"
      ],
      "text/plain": [
       "        rating  num of ratings\n",
       "sku                           \n",
       "48530   4.5     2             \n",
       "127687  5.0     5             \n",
       "150115  3.0     2             \n",
       "185267  5.0     1             \n",
       "312290  5.0     1             "
      ]
     },
     "execution_count": 23,
     "metadata": {},
     "output_type": "execute_result"
    }
   ],
   "source": [
    "sku_rat = pd.DataFrame(reviews.groupby('sku')['rating'].mean())\n",
    "sku_rat['num of ratings'] = pd.DataFrame(reviews.groupby('sku')['rating'].count())\n",
    "sku_rat.head()"
   ]
  },
  {
   "cell_type": "code",
   "execution_count": 24,
   "metadata": {},
   "outputs": [
    {
     "data": {
      "image/png": "[encoded data removed]",
      "text/plain": [
       "<Figure size 720x288 with 1 Axes>"
      ]
     },
     "metadata": {
      "needs_background": "light"
     },
     "output_type": "display_data"
    }
   ],
   "source": [
    "plt.figure(figsize=(10,4))\n",
    "sku_rat['num of ratings'].hist(bins=70)\n",
    "plt.xlim(0,1000)\n",
    "plt.xlabel('no of ratings')\n",
    "plt.ylabel('Frequency')\n",
    "plt.title('Frequency of Reviews')\n",
    "plt.show()"
   ]
  },
  {
   "cell_type": "code",
   "execution_count": 25,
   "metadata": {},
   "outputs": [
    {
     "data": {
      "image/png": "[encoded data removed]",
      "text/plain": [
       "<Figure size 864x360 with 1 Axes>"
      ]
     },
     "metadata": {
      "needs_background": "light"
     },
     "output_type": "display_data"
    }
   ],
   "source": [
    "plt.figure(figsize=(12,5))\n",
    "sku_rat['num of ratings'].hist(bins=70)\n",
    "plt.xlim(0,200)\n",
    "plt.xlabel('no of ratings')\n",
    "plt.ylabel('Frequency')\n",
    "plt.title('Frequency of Reviews')\n",
    "plt.show()"
   ]
  },
  {
   "cell_type": "code",
   "execution_count": 26,
   "metadata": {},
   "outputs": [
    {
     "data": {
      "image/png": "[encoded data removed]",
      "text/plain": [
       "<Figure size 864x432 with 1 Axes>"
      ]
     },
     "metadata": {
      "needs_background": "light"
     },
     "output_type": "display_data"
    }
   ],
   "source": [
    "plt.figure(figsize=(12,6))\n",
    "sku_rat['rating'].hist(bins=70)\n",
    "plt.xlabel('Ratings')\n",
    "plt.ylabel('Frequency')\n",
    "plt.title('Frequency of Ratings')\n",
    "plt.show()"
   ]
  },
  {
   "cell_type": "code",
   "execution_count": 27,
   "metadata": {},
   "outputs": [
    {
     "data": {
      "image/png": "[encoded data removed]",
      "text/plain": [
       "<Figure size 432x432 with 3 Axes>"
      ]
     },
     "metadata": {
      "needs_background": "light"
     },
     "output_type": "display_data"
    }
   ],
   "source": [
    "sns.jointplot(x='rating',y='num of ratings',data=sku_rat,alpha=0.5)\n",
    "plt.show()"
   ]
  },
  {
   "cell_type": "code",
   "execution_count": 28,
   "metadata": {},
   "outputs": [],
   "source": [
    "#most popular items\n",
    "item_freq = pd.DataFrame(part_4.groupby('name')['name'].count())\n",
    "item_freq.columns = ['freqs']\n",
    "item_freq = item_freq.reset_index()\n",
    "item_freq = item_freq.sort_values('freqs',ascending = False)"
   ]
  },
  {
   "cell_type": "code",
   "execution_count": 29,
   "metadata": {},
   "outputs": [],
   "source": [
    "x = item_freq.name.head(20)\n",
    "y=item_freq.freqs.head(20)"
   ]
  },
  {
   "cell_type": "code",
   "execution_count": 30,
   "metadata": {},
   "outputs": [
    {
     "data": {
      "image/png": "[encoded data removed]",
      "text/plain": [
       "<Figure size 1440x720 with 1 Axes>"
      ]
     },
     "metadata": {
      "needs_background": "light"
     },
     "output_type": "display_data"
    }
   ],
   "source": [
    "plt.figure(figsize = (20,10))\n",
    "plt.barh(x,y , align='center', alpha=0.5)\n",
    "plt.ylabel('Products',fontsize=20)\n",
    "plt.xlabel('No of Visits',fontsize=20)\n",
    "plt.title('Top 20 Searched Products',fontsize=20)\n",
    "plt.show()"
   ]
  },
  {
   "cell_type": "markdown",
   "metadata": {},
   "source": [
    "# Lets Do Some Recommendations"
   ]
  },
  {
   "cell_type": "markdown",
   "metadata": {},
   "source": [
    "## Filtering some less famous products"
   ]
  },
  {
   "cell_type": "code",
   "execution_count": 31,
   "metadata": {},
   "outputs": [
    {
     "data": {
      "text/html": [
       "<div>\n",
       "<style scoped>\n",
       "    .dataframe tbody tr th:only-of-type {\n",
       "        vertical-align: middle;\n",
       "    }\n",
       "\n",
       "    .dataframe tbody tr th {\n",
       "        vertical-align: top;\n",
       "    }\n",
       "\n",
       "    .dataframe thead th {\n",
       "        text-align: right;\n",
       "    }\n",
       "</style>\n",
       "<table border=\"1\" class=\"dataframe\">\n",
       "  <thead>\n",
       "    <tr style=\"text-align: right;\">\n",
       "      <th></th>\n",
       "      <th>sku</th>\n",
       "      <th>user</th>\n",
       "      <th>cat_name</th>\n",
       "      <th>name</th>\n",
       "    </tr>\n",
       "  </thead>\n",
       "  <tbody>\n",
       "    <tr>\n",
       "      <th>0</th>\n",
       "      <td>7897001</td>\n",
       "      <td>008de87c3a54a31701557d82cea9eb4ef2eec949</td>\n",
       "      <td>Receivers</td>\n",
       "      <td>Denon - 160W 2.1-Ch. XM Satellite Radio/iPod®-Ready A/V Stereo Receiver</td>\n",
       "    </tr>\n",
       "    <tr>\n",
       "      <th>1</th>\n",
       "      <td>7897001</td>\n",
       "      <td>008de87c3a54a31701557d82cea9eb4ef2eec949</td>\n",
       "      <td>Receivers</td>\n",
       "      <td>Denon - 160W 2.1-Ch. XM Satellite Radio/iPod®-Ready A/V Stereo Receiver</td>\n",
       "    </tr>\n",
       "  </tbody>\n",
       "</table>\n",
       "</div>"
      ],
      "text/plain": [
       "       sku                                      user   cat_name  \\\n",
       "0  7897001  008de87c3a54a31701557d82cea9eb4ef2eec949  Receivers   \n",
       "1  7897001  008de87c3a54a31701557d82cea9eb4ef2eec949  Receivers   \n",
       "\n",
       "                                                                      name  \n",
       "0  Denon - 160W 2.1-Ch. XM Satellite Radio/iPod®-Ready A/V Stereo Receiver  \n",
       "1  Denon - 160W 2.1-Ch. XM Satellite Radio/iPod®-Ready A/V Stereo Receiver  "
      ]
     },
     "execution_count": 31,
     "metadata": {},
     "output_type": "execute_result"
    }
   ],
   "source": [
    "merged = part_4.copy()\n",
    "merged = merged.reset_index()\n",
    "\n",
    "#filtering some less famous products\n",
    "x = pd.DataFrame(merged.sku.value_counts())\n",
    "x = x[x.sku>=200]\n",
    "x.columns = ['ct']\n",
    "\n",
    "#innerjoin with only famous skus\n",
    "merged = merged.set_index('sku')\n",
    "merged = merged.join(x,how = 'inner')\n",
    "merged = merged.reset_index()\n",
    "\n",
    "merged=merged.drop(['ct'],axis = 1)\n",
    "merged.columns = ['sku','user','cat_name','name']\n",
    "merged.head(2)"
   ]
  },
  {
   "cell_type": "code",
   "execution_count": 32,
   "metadata": {},
   "outputs": [
    {
     "data": {
      "text/html": [
       "<div>\n",
       "<style scoped>\n",
       "    .dataframe tbody tr th:only-of-type {\n",
       "        vertical-align: middle;\n",
       "    }\n",
       "\n",
       "    .dataframe tbody tr th {\n",
       "        vertical-align: top;\n",
       "    }\n",
       "\n",
       "    .dataframe thead th {\n",
       "        text-align: right;\n",
       "    }\n",
       "</style>\n",
       "<table border=\"1\" class=\"dataframe\">\n",
       "  <thead>\n",
       "    <tr style=\"text-align: right;\">\n",
       "      <th></th>\n",
       "      <th>sku</th>\n",
       "      <th>user</th>\n",
       "      <th>cat_name</th>\n",
       "      <th>name</th>\n",
       "      <th>flag</th>\n",
       "    </tr>\n",
       "  </thead>\n",
       "  <tbody>\n",
       "    <tr>\n",
       "      <th>0</th>\n",
       "      <td>7897001</td>\n",
       "      <td>008de87c3a54a31701557d82cea9eb4ef2eec949</td>\n",
       "      <td>Receivers</td>\n",
       "      <td>Denon - 160W 2.1-Ch. XM Satellite Radio/iPod®-Ready A/V Stereo Receiver</td>\n",
       "      <td>1</td>\n",
       "    </tr>\n",
       "    <tr>\n",
       "      <th>1</th>\n",
       "      <td>7897001</td>\n",
       "      <td>008de87c3a54a31701557d82cea9eb4ef2eec949</td>\n",
       "      <td>Receivers</td>\n",
       "      <td>Denon - 160W 2.1-Ch. XM Satellite Radio/iPod®-Ready A/V Stereo Receiver</td>\n",
       "      <td>1</td>\n",
       "    </tr>\n",
       "    <tr>\n",
       "      <th>2</th>\n",
       "      <td>7897001</td>\n",
       "      <td>010461547b74e04bdb900c3a612ad7df3a70168f</td>\n",
       "      <td>Receivers</td>\n",
       "      <td>Denon - 160W 2.1-Ch. XM Satellite Radio/iPod®-Ready A/V Stereo Receiver</td>\n",
       "      <td>1</td>\n",
       "    </tr>\n",
       "    <tr>\n",
       "      <th>3</th>\n",
       "      <td>7897001</td>\n",
       "      <td>010461547b74e04bdb900c3a612ad7df3a70168f</td>\n",
       "      <td>Receivers</td>\n",
       "      <td>Denon - 160W 2.1-Ch. XM Satellite Radio/iPod®-Ready A/V Stereo Receiver</td>\n",
       "      <td>1</td>\n",
       "    </tr>\n",
       "    <tr>\n",
       "      <th>4</th>\n",
       "      <td>7897001</td>\n",
       "      <td>0616cb5e8b94040fb1c0506e0d98e266b0450fdd</td>\n",
       "      <td>Receivers</td>\n",
       "      <td>Denon - 160W 2.1-Ch. XM Satellite Radio/iPod®-Ready A/V Stereo Receiver</td>\n",
       "      <td>1</td>\n",
       "    </tr>\n",
       "  </tbody>\n",
       "</table>\n",
       "</div>"
      ],
      "text/plain": [
       "       sku                                      user   cat_name  \\\n",
       "0  7897001  008de87c3a54a31701557d82cea9eb4ef2eec949  Receivers   \n",
       "1  7897001  008de87c3a54a31701557d82cea9eb4ef2eec949  Receivers   \n",
       "2  7897001  010461547b74e04bdb900c3a612ad7df3a70168f  Receivers   \n",
       "3  7897001  010461547b74e04bdb900c3a612ad7df3a70168f  Receivers   \n",
       "4  7897001  0616cb5e8b94040fb1c0506e0d98e266b0450fdd  Receivers   \n",
       "\n",
       "                                                                      name  \\\n",
       "0  Denon - 160W 2.1-Ch. XM Satellite Radio/iPod®-Ready A/V Stereo Receiver   \n",
       "1  Denon - 160W 2.1-Ch. XM Satellite Radio/iPod®-Ready A/V Stereo Receiver   \n",
       "2  Denon - 160W 2.1-Ch. XM Satellite Radio/iPod®-Ready A/V Stereo Receiver   \n",
       "3  Denon - 160W 2.1-Ch. XM Satellite Radio/iPod®-Ready A/V Stereo Receiver   \n",
       "4  Denon - 160W 2.1-Ch. XM Satellite Radio/iPod®-Ready A/V Stereo Receiver   \n",
       "\n",
       "   flag  \n",
       "0  1     \n",
       "1  1     \n",
       "2  1     \n",
       "3  1     \n",
       "4  1     "
      ]
     },
     "execution_count": 32,
     "metadata": {},
     "output_type": "execute_result"
    }
   ],
   "source": [
    "merged['flag'] = 1\n",
    "merged.head()"
   ]
  },
  {
   "cell_type": "code",
   "execution_count": 33,
   "metadata": {},
   "outputs": [
    {
     "data": {
      "text/plain": [
       "(329148, 5)"
      ]
     },
     "execution_count": 33,
     "metadata": {},
     "output_type": "execute_result"
    }
   ],
   "source": [
    "merged.drop_duplicates(subset = ['sku','user','name','flag'],inplace=True)\n",
    "merged.shape"
   ]
  },
  {
   "cell_type": "code",
   "execution_count": 34,
   "metadata": {},
   "outputs": [],
   "source": [
    "merged.to_csv(\"merged.csv\",index=False)"
   ]
  },
  {
   "cell_type": "markdown",
   "metadata": {},
   "source": [
    "# Create User Item Sparse matrix "
   ]
  },
  {
   "cell_type": "code",
   "execution_count": 35,
   "metadata": {
    "scrolled": false
   },
   "outputs": [
    {
     "data": {
      "text/html": [
       "<div>\n",
       "<style scoped>\n",
       "    .dataframe tbody tr th:only-of-type {\n",
       "        vertical-align: middle;\n",
       "    }\n",
       "\n",
       "    .dataframe tbody tr th {\n",
       "        vertical-align: top;\n",
       "    }\n",
       "\n",
       "    .dataframe thead th {\n",
       "        text-align: right;\n",
       "    }\n",
       "</style>\n",
       "<table border=\"1\" class=\"dataframe\">\n",
       "  <thead>\n",
       "    <tr style=\"text-align: right;\">\n",
       "      <th>sku</th>\n",
       "      <th>7897001</th>\n",
       "      <th>7903227</th>\n",
       "      <th>7918177</th>\n",
       "      <th>7933686</th>\n",
       "      <th>7934658</th>\n",
       "      <th>7942845</th>\n",
       "      <th>7945361</th>\n",
       "      <th>7956599</th>\n",
       "      <th>7960986</th>\n",
       "      <th>7968773</th>\n",
       "      <th>...</th>\n",
       "      <th>18850273</th>\n",
       "      <th>18963072</th>\n",
       "      <th>19046802</th>\n",
       "      <th>19057371</th>\n",
       "      <th>19439981</th>\n",
       "      <th>19440021</th>\n",
       "      <th>19440049</th>\n",
       "      <th>19486684</th>\n",
       "      <th>19493508</th>\n",
       "      <th>19550991</th>\n",
       "    </tr>\n",
       "    <tr>\n",
       "      <th>user</th>\n",
       "      <th></th>\n",
       "      <th></th>\n",
       "      <th></th>\n",
       "      <th></th>\n",
       "      <th></th>\n",
       "      <th></th>\n",
       "      <th></th>\n",
       "      <th></th>\n",
       "      <th></th>\n",
       "      <th></th>\n",
       "      <th></th>\n",
       "      <th></th>\n",
       "      <th></th>\n",
       "      <th></th>\n",
       "      <th></th>\n",
       "      <th></th>\n",
       "      <th></th>\n",
       "      <th></th>\n",
       "      <th></th>\n",
       "      <th></th>\n",
       "      <th></th>\n",
       "    </tr>\n",
       "  </thead>\n",
       "  <tbody>\n",
       "    <tr>\n",
       "      <th>00003cb3f85244c652f22c1daf11aed35d5ab7f6</th>\n",
       "      <td>0.0</td>\n",
       "      <td>0.0</td>\n",
       "      <td>0.0</td>\n",
       "      <td>0.0</td>\n",
       "      <td>0.0</td>\n",
       "      <td>0.0</td>\n",
       "      <td>0.0</td>\n",
       "      <td>0.0</td>\n",
       "      <td>0.0</td>\n",
       "      <td>0.0</td>\n",
       "      <td>...</td>\n",
       "      <td>0.0</td>\n",
       "      <td>0.0</td>\n",
       "      <td>0.0</td>\n",
       "      <td>0.0</td>\n",
       "      <td>0.0</td>\n",
       "      <td>0.0</td>\n",
       "      <td>0.0</td>\n",
       "      <td>0.0</td>\n",
       "      <td>0.0</td>\n",
       "      <td>0.0</td>\n",
       "    </tr>\n",
       "    <tr>\n",
       "      <th>0000776d7bf35b984ca8e3671327a7ac1d07a86c</th>\n",
       "      <td>0.0</td>\n",
       "      <td>0.0</td>\n",
       "      <td>0.0</td>\n",
       "      <td>0.0</td>\n",
       "      <td>0.0</td>\n",
       "      <td>0.0</td>\n",
       "      <td>0.0</td>\n",
       "      <td>0.0</td>\n",
       "      <td>0.0</td>\n",
       "      <td>0.0</td>\n",
       "      <td>...</td>\n",
       "      <td>0.0</td>\n",
       "      <td>0.0</td>\n",
       "      <td>0.0</td>\n",
       "      <td>0.0</td>\n",
       "      <td>0.0</td>\n",
       "      <td>0.0</td>\n",
       "      <td>0.0</td>\n",
       "      <td>0.0</td>\n",
       "      <td>0.0</td>\n",
       "      <td>0.0</td>\n",
       "    </tr>\n",
       "    <tr>\n",
       "      <th>000126150c17acb66664a42c47d5dba399311783</th>\n",
       "      <td>0.0</td>\n",
       "      <td>0.0</td>\n",
       "      <td>0.0</td>\n",
       "      <td>0.0</td>\n",
       "      <td>0.0</td>\n",
       "      <td>0.0</td>\n",
       "      <td>0.0</td>\n",
       "      <td>0.0</td>\n",
       "      <td>0.0</td>\n",
       "      <td>0.0</td>\n",
       "      <td>...</td>\n",
       "      <td>0.0</td>\n",
       "      <td>0.0</td>\n",
       "      <td>0.0</td>\n",
       "      <td>0.0</td>\n",
       "      <td>0.0</td>\n",
       "      <td>0.0</td>\n",
       "      <td>0.0</td>\n",
       "      <td>0.0</td>\n",
       "      <td>0.0</td>\n",
       "      <td>0.0</td>\n",
       "    </tr>\n",
       "    <tr>\n",
       "      <th>00014aac7ef84270dab58af1c92b79685b89b9b9</th>\n",
       "      <td>0.0</td>\n",
       "      <td>0.0</td>\n",
       "      <td>0.0</td>\n",
       "      <td>0.0</td>\n",
       "      <td>0.0</td>\n",
       "      <td>0.0</td>\n",
       "      <td>0.0</td>\n",
       "      <td>0.0</td>\n",
       "      <td>0.0</td>\n",
       "      <td>0.0</td>\n",
       "      <td>...</td>\n",
       "      <td>0.0</td>\n",
       "      <td>0.0</td>\n",
       "      <td>0.0</td>\n",
       "      <td>0.0</td>\n",
       "      <td>0.0</td>\n",
       "      <td>0.0</td>\n",
       "      <td>0.0</td>\n",
       "      <td>0.0</td>\n",
       "      <td>0.0</td>\n",
       "      <td>0.0</td>\n",
       "    </tr>\n",
       "    <tr>\n",
       "      <th>00016ac345cf3220c4f56855d7021693290796c2</th>\n",
       "      <td>0.0</td>\n",
       "      <td>0.0</td>\n",
       "      <td>0.0</td>\n",
       "      <td>0.0</td>\n",
       "      <td>0.0</td>\n",
       "      <td>0.0</td>\n",
       "      <td>0.0</td>\n",
       "      <td>0.0</td>\n",
       "      <td>0.0</td>\n",
       "      <td>0.0</td>\n",
       "      <td>...</td>\n",
       "      <td>0.0</td>\n",
       "      <td>0.0</td>\n",
       "      <td>0.0</td>\n",
       "      <td>0.0</td>\n",
       "      <td>0.0</td>\n",
       "      <td>0.0</td>\n",
       "      <td>0.0</td>\n",
       "      <td>0.0</td>\n",
       "      <td>0.0</td>\n",
       "      <td>0.0</td>\n",
       "    </tr>\n",
       "  </tbody>\n",
       "</table>\n",
       "<p>5 rows × 976 columns</p>\n",
       "</div>"
      ],
      "text/plain": [
       "sku                                       7897001  7903227  7918177  7933686  \\\n",
       "user                                                                           \n",
       "00003cb3f85244c652f22c1daf11aed35d5ab7f6  0.0      0.0      0.0      0.0       \n",
       "0000776d7bf35b984ca8e3671327a7ac1d07a86c  0.0      0.0      0.0      0.0       \n",
       "000126150c17acb66664a42c47d5dba399311783  0.0      0.0      0.0      0.0       \n",
       "00014aac7ef84270dab58af1c92b79685b89b9b9  0.0      0.0      0.0      0.0       \n",
       "00016ac345cf3220c4f56855d7021693290796c2  0.0      0.0      0.0      0.0       \n",
       "\n",
       "sku                                       7934658  7942845  7945361  7956599  \\\n",
       "user                                                                           \n",
       "00003cb3f85244c652f22c1daf11aed35d5ab7f6  0.0      0.0      0.0      0.0       \n",
       "0000776d7bf35b984ca8e3671327a7ac1d07a86c  0.0      0.0      0.0      0.0       \n",
       "000126150c17acb66664a42c47d5dba399311783  0.0      0.0      0.0      0.0       \n",
       "00014aac7ef84270dab58af1c92b79685b89b9b9  0.0      0.0      0.0      0.0       \n",
       "00016ac345cf3220c4f56855d7021693290796c2  0.0      0.0      0.0      0.0       \n",
       "\n",
       "sku                                       7960986  7968773  ...  18850273  \\\n",
       "user                                                        ...             \n",
       "00003cb3f85244c652f22c1daf11aed35d5ab7f6  0.0      0.0      ...  0.0        \n",
       "0000776d7bf35b984ca8e3671327a7ac1d07a86c  0.0      0.0      ...  0.0        \n",
       "000126150c17acb66664a42c47d5dba399311783  0.0      0.0      ...  0.0        \n",
       "00014aac7ef84270dab58af1c92b79685b89b9b9  0.0      0.0      ...  0.0        \n",
       "00016ac345cf3220c4f56855d7021693290796c2  0.0      0.0      ...  0.0        \n",
       "\n",
       "sku                                       18963072  19046802  19057371  \\\n",
       "user                                                                     \n",
       "00003cb3f85244c652f22c1daf11aed35d5ab7f6  0.0       0.0       0.0        \n",
       "0000776d7bf35b984ca8e3671327a7ac1d07a86c  0.0       0.0       0.0        \n",
       "000126150c17acb66664a42c47d5dba399311783  0.0       0.0       0.0        \n",
       "00014aac7ef84270dab58af1c92b79685b89b9b9  0.0       0.0       0.0        \n",
       "00016ac345cf3220c4f56855d7021693290796c2  0.0       0.0       0.0        \n",
       "\n",
       "sku                                       19439981  19440021  19440049  \\\n",
       "user                                                                     \n",
       "00003cb3f85244c652f22c1daf11aed35d5ab7f6  0.0       0.0       0.0        \n",
       "0000776d7bf35b984ca8e3671327a7ac1d07a86c  0.0       0.0       0.0        \n",
       "000126150c17acb66664a42c47d5dba399311783  0.0       0.0       0.0        \n",
       "00014aac7ef84270dab58af1c92b79685b89b9b9  0.0       0.0       0.0        \n",
       "00016ac345cf3220c4f56855d7021693290796c2  0.0       0.0       0.0        \n",
       "\n",
       "sku                                       19486684  19493508  19550991  \n",
       "user                                                                    \n",
       "00003cb3f85244c652f22c1daf11aed35d5ab7f6  0.0       0.0       0.0       \n",
       "0000776d7bf35b984ca8e3671327a7ac1d07a86c  0.0       0.0       0.0       \n",
       "000126150c17acb66664a42c47d5dba399311783  0.0       0.0       0.0       \n",
       "00014aac7ef84270dab58af1c92b79685b89b9b9  0.0       0.0       0.0       \n",
       "00016ac345cf3220c4f56855d7021693290796c2  0.0       0.0       0.0       \n",
       "\n",
       "[5 rows x 976 columns]"
      ]
     },
     "execution_count": 35,
     "metadata": {},
     "output_type": "execute_result"
    }
   ],
   "source": [
    "R_df = merged.pivot_table(index='user',columns='sku',aggfunc = 'sum').fillna(0)\n",
    "R_df.columns = R_df.columns.droplevel()\n",
    "R_df.head()"
   ]
  },
  {
   "cell_type": "code",
   "execution_count": 36,
   "metadata": {},
   "outputs": [
    {
     "data": {
      "text/plain": [
       "(271937, 976)"
      ]
     },
     "execution_count": 36,
     "metadata": {},
     "output_type": "execute_result"
    }
   ],
   "source": [
    "R_df.shape"
   ]
  },
  {
   "cell_type": "code",
   "execution_count": 790,
   "metadata": {},
   "outputs": [
    {
     "data": {
      "text/plain": [
       "265081364"
      ]
     },
     "execution_count": 790,
     "metadata": {},
     "output_type": "execute_result"
    }
   ],
   "source": [
    "(R_df == 0).sum(axis=1).sum()\n"
   ]
  },
  {
   "cell_type": "code",
   "execution_count": 800,
   "metadata": {},
   "outputs": [
    {
     "name": "stdout",
     "output_type": "stream",
     "text": [
      "Shape of Sparse Matrix:  (271937, 976)\n",
      "Amount of Zero occurrences:  265081364\n",
      "density: 0.1240146810763898\n"
     ]
    }
   ],
   "source": [
    "print('Shape of Sparse Matrix: ', R_df.shape)\n",
    "print('Amount of Zero occurrences: ', (R_df == 0).sum(axis=1).sum())\n",
    "# Percentage of zero values\n",
    "density = (100.0 * (1-((R_df == 0).sum(axis=1).sum()) / (R_df.shape[0] * R_df.shape[1])))\n",
    "density\n",
    "print('density: {}'.format(density))"
   ]
  },
  {
   "cell_type": "markdown",
   "metadata": {},
   "source": [
    "# Collaborative filtering \n",
    "    ## 1. User Based      \n",
    "    ## 2. Item Based\n",
    "   \n",
    "     # Model Based - using matrix factorization\n",
    "     + SVD\n",
    "     + SVDpp\n",
    "     + NMF\n",
    "       - Similarity Based - using sparse matrix\n",
    "         + pearson - Correlation \n",
    "         + cosine similarity"
   ]
  },
  {
   "cell_type": "markdown",
   "metadata": {},
   "source": [
    "### User Based, Using Sparse matrix - pearson correlation\n",
    "lets choose 2 users to see recommendations"
   ]
  },
  {
   "cell_type": "code",
   "execution_count": 37,
   "metadata": {
    "scrolled": true
   },
   "outputs": [
    {
     "data": {
      "text/html": [
       "<div>\n",
       "<style scoped>\n",
       "    .dataframe tbody tr th:only-of-type {\n",
       "        vertical-align: middle;\n",
       "    }\n",
       "\n",
       "    .dataframe tbody tr th {\n",
       "        vertical-align: top;\n",
       "    }\n",
       "\n",
       "    .dataframe thead th {\n",
       "        text-align: right;\n",
       "    }\n",
       "</style>\n",
       "<table border=\"1\" class=\"dataframe\">\n",
       "  <thead>\n",
       "    <tr style=\"text-align: right;\">\n",
       "      <th>user</th>\n",
       "      <th>00003cb3f85244c652f22c1daf11aed35d5ab7f6</th>\n",
       "      <th>0000776d7bf35b984ca8e3671327a7ac1d07a86c</th>\n",
       "      <th>000126150c17acb66664a42c47d5dba399311783</th>\n",
       "      <th>00014aac7ef84270dab58af1c92b79685b89b9b9</th>\n",
       "      <th>00016ac345cf3220c4f56855d7021693290796c2</th>\n",
       "      <th>000189195b3b3b0a4a02cd61d600aaa13fa01132</th>\n",
       "      <th>00018bd07703a3d9040ae56de3f9417edc043385</th>\n",
       "      <th>0001be1731ee7d1c519bc7e87110c9eb880cb396</th>\n",
       "      <th>0001e8bb4ac9af004b09530c7b5a9392f8e46280</th>\n",
       "      <th>00020d2c7f5d428383decea4ad087f414a2b60cb</th>\n",
       "      <th>...</th>\n",
       "      <th>fffd7c957f43567ebc6f50f8cf84b172b70867a2</th>\n",
       "      <th>fffda95cc59a80e92beed962d506f0885691d9ab</th>\n",
       "      <th>fffdd33c42a3e23efc2c2ffc54563b140af205b1</th>\n",
       "      <th>fffddc6e7462f94c438f7d328b65fcc6ce3302e5</th>\n",
       "      <th>fffe3e08fec77102c978ff24552d4f66abdb30a5</th>\n",
       "      <th>fffe45775451e2aefadbbc6b1d646d742097e12c</th>\n",
       "      <th>fffedfb154fbc4107ba7b075e4e1772a5a0cb20b</th>\n",
       "      <th>fffee392fe085ba6ee49a128942dc7e30d561c12</th>\n",
       "      <th>fffee4707784b8be3219bcd34e375811bb020e9d</th>\n",
       "      <th>ffff264f38f0f3cb7c3e45135bdd8bdaa4e6d2d8</th>\n",
       "    </tr>\n",
       "    <tr>\n",
       "      <th>sku</th>\n",
       "      <th></th>\n",
       "      <th></th>\n",
       "      <th></th>\n",
       "      <th></th>\n",
       "      <th></th>\n",
       "      <th></th>\n",
       "      <th></th>\n",
       "      <th></th>\n",
       "      <th></th>\n",
       "      <th></th>\n",
       "      <th></th>\n",
       "      <th></th>\n",
       "      <th></th>\n",
       "      <th></th>\n",
       "      <th></th>\n",
       "      <th></th>\n",
       "      <th></th>\n",
       "      <th></th>\n",
       "      <th></th>\n",
       "      <th></th>\n",
       "      <th></th>\n",
       "    </tr>\n",
       "  </thead>\n",
       "  <tbody>\n",
       "    <tr>\n",
       "      <th>7897001</th>\n",
       "      <td>0.0</td>\n",
       "      <td>0.0</td>\n",
       "      <td>0.0</td>\n",
       "      <td>0.0</td>\n",
       "      <td>0.0</td>\n",
       "      <td>0.0</td>\n",
       "      <td>0.0</td>\n",
       "      <td>0.0</td>\n",
       "      <td>0.0</td>\n",
       "      <td>0.0</td>\n",
       "      <td>...</td>\n",
       "      <td>0.0</td>\n",
       "      <td>0.0</td>\n",
       "      <td>0.0</td>\n",
       "      <td>0.0</td>\n",
       "      <td>0.0</td>\n",
       "      <td>0.0</td>\n",
       "      <td>0.0</td>\n",
       "      <td>0.0</td>\n",
       "      <td>0.0</td>\n",
       "      <td>0.0</td>\n",
       "    </tr>\n",
       "    <tr>\n",
       "      <th>7903227</th>\n",
       "      <td>0.0</td>\n",
       "      <td>0.0</td>\n",
       "      <td>0.0</td>\n",
       "      <td>0.0</td>\n",
       "      <td>0.0</td>\n",
       "      <td>0.0</td>\n",
       "      <td>0.0</td>\n",
       "      <td>0.0</td>\n",
       "      <td>0.0</td>\n",
       "      <td>0.0</td>\n",
       "      <td>...</td>\n",
       "      <td>0.0</td>\n",
       "      <td>0.0</td>\n",
       "      <td>0.0</td>\n",
       "      <td>0.0</td>\n",
       "      <td>0.0</td>\n",
       "      <td>0.0</td>\n",
       "      <td>0.0</td>\n",
       "      <td>0.0</td>\n",
       "      <td>0.0</td>\n",
       "      <td>0.0</td>\n",
       "    </tr>\n",
       "  </tbody>\n",
       "</table>\n",
       "<p>2 rows × 271937 columns</p>\n",
       "</div>"
      ],
      "text/plain": [
       "user     00003cb3f85244c652f22c1daf11aed35d5ab7f6  \\\n",
       "sku                                                 \n",
       "7897001  0.0                                        \n",
       "7903227  0.0                                        \n",
       "\n",
       "user     0000776d7bf35b984ca8e3671327a7ac1d07a86c  \\\n",
       "sku                                                 \n",
       "7897001  0.0                                        \n",
       "7903227  0.0                                        \n",
       "\n",
       "user     000126150c17acb66664a42c47d5dba399311783  \\\n",
       "sku                                                 \n",
       "7897001  0.0                                        \n",
       "7903227  0.0                                        \n",
       "\n",
       "user     00014aac7ef84270dab58af1c92b79685b89b9b9  \\\n",
       "sku                                                 \n",
       "7897001  0.0                                        \n",
       "7903227  0.0                                        \n",
       "\n",
       "user     00016ac345cf3220c4f56855d7021693290796c2  \\\n",
       "sku                                                 \n",
       "7897001  0.0                                        \n",
       "7903227  0.0                                        \n",
       "\n",
       "user     000189195b3b3b0a4a02cd61d600aaa13fa01132  \\\n",
       "sku                                                 \n",
       "7897001  0.0                                        \n",
       "7903227  0.0                                        \n",
       "\n",
       "user     00018bd07703a3d9040ae56de3f9417edc043385  \\\n",
       "sku                                                 \n",
       "7897001  0.0                                        \n",
       "7903227  0.0                                        \n",
       "\n",
       "user     0001be1731ee7d1c519bc7e87110c9eb880cb396  \\\n",
       "sku                                                 \n",
       "7897001  0.0                                        \n",
       "7903227  0.0                                        \n",
       "\n",
       "user     0001e8bb4ac9af004b09530c7b5a9392f8e46280  \\\n",
       "sku                                                 \n",
       "7897001  0.0                                        \n",
       "7903227  0.0                                        \n",
       "\n",
       "user     00020d2c7f5d428383decea4ad087f414a2b60cb  ...  \\\n",
       "sku                                                ...   \n",
       "7897001  0.0                                       ...   \n",
       "7903227  0.0                                       ...   \n",
       "\n",
       "user     fffd7c957f43567ebc6f50f8cf84b172b70867a2  \\\n",
       "sku                                                 \n",
       "7897001  0.0                                        \n",
       "7903227  0.0                                        \n",
       "\n",
       "user     fffda95cc59a80e92beed962d506f0885691d9ab  \\\n",
       "sku                                                 \n",
       "7897001  0.0                                        \n",
       "7903227  0.0                                        \n",
       "\n",
       "user     fffdd33c42a3e23efc2c2ffc54563b140af205b1  \\\n",
       "sku                                                 \n",
       "7897001  0.0                                        \n",
       "7903227  0.0                                        \n",
       "\n",
       "user     fffddc6e7462f94c438f7d328b65fcc6ce3302e5  \\\n",
       "sku                                                 \n",
       "7897001  0.0                                        \n",
       "7903227  0.0                                        \n",
       "\n",
       "user     fffe3e08fec77102c978ff24552d4f66abdb30a5  \\\n",
       "sku                                                 \n",
       "7897001  0.0                                        \n",
       "7903227  0.0                                        \n",
       "\n",
       "user     fffe45775451e2aefadbbc6b1d646d742097e12c  \\\n",
       "sku                                                 \n",
       "7897001  0.0                                        \n",
       "7903227  0.0                                        \n",
       "\n",
       "user     fffedfb154fbc4107ba7b075e4e1772a5a0cb20b  \\\n",
       "sku                                                 \n",
       "7897001  0.0                                        \n",
       "7903227  0.0                                        \n",
       "\n",
       "user     fffee392fe085ba6ee49a128942dc7e30d561c12  \\\n",
       "sku                                                 \n",
       "7897001  0.0                                        \n",
       "7903227  0.0                                        \n",
       "\n",
       "user     fffee4707784b8be3219bcd34e375811bb020e9d  \\\n",
       "sku                                                 \n",
       "7897001  0.0                                        \n",
       "7903227  0.0                                        \n",
       "\n",
       "user     ffff264f38f0f3cb7c3e45135bdd8bdaa4e6d2d8  \n",
       "sku                                                \n",
       "7897001  0.0                                       \n",
       "7903227  0.0                                       \n",
       "\n",
       "[2 rows x 271937 columns]"
      ]
     },
     "execution_count": 37,
     "metadata": {},
     "output_type": "execute_result"
    }
   ],
   "source": [
    "#Transpoing the matrix for user based columns\n",
    "R_df_trans = R_df.transpose()\n",
    "R_df_trans.head(2)"
   ]
  },
  {
   "cell_type": "code",
   "execution_count": 38,
   "metadata": {},
   "outputs": [],
   "source": [
    "# df = pd.DataFrame(merged.user.value_counts())\n",
    "# df[df.user>=2].sort_values(by = 'user')"
   ]
  },
  {
   "cell_type": "code",
   "execution_count": 185,
   "metadata": {},
   "outputs": [],
   "source": [
    "user1 = \"889dea4aeb8f72eb0a1f6c0c89f42f4f3d107898\"\n",
    "user2 = \"e93d81ed71a34bf33b61a4bc0cd2a486d73da2d2\"\n",
    "\n",
    "#selecting user data \n",
    "user1_rat = R_df_trans.loc[:,user1]\n",
    "user2_rat = R_df_trans.loc[:,user2]"
   ]
  },
  {
   "cell_type": "code",
   "execution_count": 186,
   "metadata": {},
   "outputs": [],
   "source": [
    "def Similar_users_pearson (user_rating):\n",
    "    users_similer_to_user = R_df_trans.corrwith(user_rating)\n",
    "    corr_tab = pd.DataFrame(users_similer_to_user,columns=['Correlation'])\n",
    "    corr_tab.dropna(inplace=True)\n",
    "    corr_tab=corr_tab.sort_values('Correlation',ascending=False).reset_index()\n",
    "    return corr_tab"
   ]
  },
  {
   "cell_type": "code",
   "execution_count": 187,
   "metadata": {},
   "outputs": [
    {
     "data": {
      "text/html": [
       "<div>\n",
       "<style scoped>\n",
       "    .dataframe tbody tr th:only-of-type {\n",
       "        vertical-align: middle;\n",
       "    }\n",
       "\n",
       "    .dataframe tbody tr th {\n",
       "        vertical-align: top;\n",
       "    }\n",
       "\n",
       "    .dataframe thead th {\n",
       "        text-align: right;\n",
       "    }\n",
       "</style>\n",
       "<table border=\"1\" class=\"dataframe\">\n",
       "  <thead>\n",
       "    <tr style=\"text-align: right;\">\n",
       "      <th></th>\n",
       "      <th>user</th>\n",
       "      <th>Correlation</th>\n",
       "    </tr>\n",
       "  </thead>\n",
       "  <tbody>\n",
       "    <tr>\n",
       "      <th>0</th>\n",
       "      <td>889dea4aeb8f72eb0a1f6c0c89f42f4f3d107898</td>\n",
       "      <td>1.000000</td>\n",
       "    </tr>\n",
       "    <tr>\n",
       "      <th>1</th>\n",
       "      <td>050ea239d38e11d097eb62835baa1e9622b4e06c</td>\n",
       "      <td>0.665639</td>\n",
       "    </tr>\n",
       "    <tr>\n",
       "      <th>2</th>\n",
       "      <td>3c6d2056a593a944ca9170c34feca7e0efe38d88</td>\n",
       "      <td>0.576758</td>\n",
       "    </tr>\n",
       "    <tr>\n",
       "      <th>3</th>\n",
       "      <td>e29eb6d24e001125625913e58149ff2e264d8abd</td>\n",
       "      <td>0.576758</td>\n",
       "    </tr>\n",
       "    <tr>\n",
       "      <th>4</th>\n",
       "      <td>04f5e5a20bcf5f203c035a7c5aa3409715e7f3c6</td>\n",
       "      <td>0.576758</td>\n",
       "    </tr>\n",
       "  </tbody>\n",
       "</table>\n",
       "</div>"
      ],
      "text/plain": [
       "                                       user  Correlation\n",
       "0  889dea4aeb8f72eb0a1f6c0c89f42f4f3d107898  1.000000   \n",
       "1  050ea239d38e11d097eb62835baa1e9622b4e06c  0.665639   \n",
       "2  3c6d2056a593a944ca9170c34feca7e0efe38d88  0.576758   \n",
       "3  e29eb6d24e001125625913e58149ff2e264d8abd  0.576758   \n",
       "4  04f5e5a20bcf5f203c035a7c5aa3409715e7f3c6  0.576758   "
      ]
     },
     "execution_count": 187,
     "metadata": {},
     "output_type": "execute_result"
    }
   ],
   "source": [
    "users_similer_to_user1 = Similar_users_pearson(user1_rat)\n",
    "users_similer_to_user1.head()"
   ]
  },
  {
   "cell_type": "code",
   "execution_count": 188,
   "metadata": {},
   "outputs": [
    {
     "data": {
      "text/html": [
       "<div>\n",
       "<style scoped>\n",
       "    .dataframe tbody tr th:only-of-type {\n",
       "        vertical-align: middle;\n",
       "    }\n",
       "\n",
       "    .dataframe tbody tr th {\n",
       "        vertical-align: top;\n",
       "    }\n",
       "\n",
       "    .dataframe thead th {\n",
       "        text-align: right;\n",
       "    }\n",
       "</style>\n",
       "<table border=\"1\" class=\"dataframe\">\n",
       "  <thead>\n",
       "    <tr style=\"text-align: right;\">\n",
       "      <th></th>\n",
       "      <th>user</th>\n",
       "      <th>Correlation</th>\n",
       "    </tr>\n",
       "  </thead>\n",
       "  <tbody>\n",
       "    <tr>\n",
       "      <th>0</th>\n",
       "      <td>e93d81ed71a34bf33b61a4bc0cd2a486d73da2d2</td>\n",
       "      <td>1.000000</td>\n",
       "    </tr>\n",
       "    <tr>\n",
       "      <th>1</th>\n",
       "      <td>e42ce17bb015788d29fc88662d8efccf02c0d3f9</td>\n",
       "      <td>0.816077</td>\n",
       "    </tr>\n",
       "    <tr>\n",
       "      <th>2</th>\n",
       "      <td>6cc4c0551470c62c323e3520fb30ea4063ed0ea8</td>\n",
       "      <td>0.816077</td>\n",
       "    </tr>\n",
       "    <tr>\n",
       "      <th>3</th>\n",
       "      <td>8b1d9d6303c98fa9ce6209c2593182c91cb182da</td>\n",
       "      <td>0.816077</td>\n",
       "    </tr>\n",
       "    <tr>\n",
       "      <th>4</th>\n",
       "      <td>af8e18940703c3a62859440927da5549163e12fa</td>\n",
       "      <td>0.816077</td>\n",
       "    </tr>\n",
       "  </tbody>\n",
       "</table>\n",
       "</div>"
      ],
      "text/plain": [
       "                                       user  Correlation\n",
       "0  e93d81ed71a34bf33b61a4bc0cd2a486d73da2d2  1.000000   \n",
       "1  e42ce17bb015788d29fc88662d8efccf02c0d3f9  0.816077   \n",
       "2  6cc4c0551470c62c323e3520fb30ea4063ed0ea8  0.816077   \n",
       "3  8b1d9d6303c98fa9ce6209c2593182c91cb182da  0.816077   \n",
       "4  af8e18940703c3a62859440927da5549163e12fa  0.816077   "
      ]
     },
     "execution_count": 188,
     "metadata": {},
     "output_type": "execute_result"
    }
   ],
   "source": [
    "users_similer_to_user2 = Similar_users_pearson(user2_rat)\n",
    "users_similer_to_user2.head()"
   ]
  },
  {
   "cell_type": "markdown",
   "metadata": {},
   "source": [
    "### user 1 Analysis"
   ]
  },
  {
   "cell_type": "markdown",
   "metadata": {},
   "source": [
    "- Lets take few nearest users to user 1 "
   ]
  },
  {
   "cell_type": "code",
   "execution_count": 167,
   "metadata": {},
   "outputs": [],
   "source": [
    "def recommendations(n_near_users,user,similar_to_user_data):\n",
    "    alreadyviewd = merged[merged['user'] == user].name.unique()\n",
    "    rec_dict={}\n",
    "    for i in range(1,n_near_users+1):\n",
    "        similati = similar_to_user_data['user'][i]\n",
    "        reci =  merged[merged['user'] == similati].name.unique()\n",
    "        for rec in reci:\n",
    "            if rec in rec_dict:\n",
    "                rec_dict[rec] = rec_dict[rec]+1\n",
    "            else:\n",
    "                rec_dict[rec] = 1            \n",
    "    rec_list=[]\n",
    "    for i in rec_dict.keys():\n",
    "        if i not in alreadyviewd:\n",
    "            rec_list.append(i) \n",
    "    return rec_list,alreadyviewd,rec_dict"
   ]
  },
  {
   "cell_type": "code",
   "execution_count": 44,
   "metadata": {},
   "outputs": [],
   "source": [
    "rec_list,alreadyviewd,rec_dict = recommendations(250,user1,users_similer_to_user1)"
   ]
  },
  {
   "cell_type": "code",
   "execution_count": 97,
   "metadata": {},
   "outputs": [
    {
     "name": "stdout",
     "output_type": "stream",
     "text": [
      "Already viewed items: \n",
      "                                                                            0\n",
      "0  Bose® - SoundDock® Series II Digital Music System for Apple® iPod® - Black\n",
      "1  Klipsch - Image S4 Earbud Headphones                                      \n",
      "2  Altec Lansing - Mix Digital Boombox for Apple® iPhone and iPod® - Black   \n",
      "\n",
      "Viewed by other users - unique items: \n",
      "                                                                            0\n",
      "0  Bose® - SoundDock® Series II Digital Music System for Apple® iPod® - Black\n",
      "1  Altec Lansing - Mix Digital Boombox for Apple® iPhone and iPod® - Black   \n",
      "2  Klipsch - Image S4 Earbud Headphones                                      \n",
      "3  Bose® - SoundDock® Portable Digital Music System for Apple® iPod® - Black \n",
      "\n",
      "Recommended list of items: \n",
      "                                                                           0\n",
      "0  Bose® - SoundDock® Portable Digital Music System for Apple® iPod® - Black\n",
      "\n"
     ]
    }
   ],
   "source": [
    "print(\"Already viewed items: \"+ \"\\n\"+ str(pd.DataFrame(alreadyviewd)) + \"\\n\")\n",
    "print(\"Viewed by other users - unique items: \"+\"\\n\"+ str(pd.DataFrame(list(rec_dict.keys())))+'\\n')\n",
    "print(\"Recommended list of items: \"+\"\\n\" + str(pd.DataFrame(rec_list))+\"\\n\")"
   ]
  },
  {
   "cell_type": "markdown",
   "metadata": {},
   "source": [
    "### user 2 Analysis"
   ]
  },
  {
   "cell_type": "code",
   "execution_count": 46,
   "metadata": {},
   "outputs": [],
   "source": [
    "rec_list,alreadyviewd,rec_dict = recommendations(5,user2,users_similer_to_user2)"
   ]
  },
  {
   "cell_type": "code",
   "execution_count": 47,
   "metadata": {},
   "outputs": [
    {
     "name": "stdout",
     "output_type": "stream",
     "text": [
      "Already viewed items: \n",
      "['Bose® - SoundDock® Series II Digital Music System for Apple® iPod® - Black'\n",
      " 'Klipsch - Image S4 Earbud Headphones'\n",
      " 'Altec Lansing - Mix Digital Boombox for Apple® iPhone and iPod® - Black']\n",
      "\n",
      "Viewed by other users - unique items: \n",
      "{'Bose® - SoundDock® Series II Digital Music System for Apple® iPod® - Black': 5, 'Altec Lansing - Mix Digital Boombox for Apple® iPhone and iPod® - Black': 4, 'Klipsch - Image S4 Earbud Headphones': 1, 'Bose® - SoundDock® Portable Digital Music System for Apple® iPod® - Black': 1}\n",
      "\n",
      "Recommended list of items: \n",
      "['Bose® - SoundDock® Portable Digital Music System for Apple® iPod® - Black']\n",
      "\n"
     ]
    }
   ],
   "source": [
    "print(\"Already viewed items: \"+ \"\\n\"+ str(alreadyviewd) + \"\\n\")\n",
    "print(\"Viewed by other users - unique items: \"+\"\\n\"+ str(rec_dict)+ \"\\n\")\n",
    "print(\"Recommended list of items: \"+\"\\n\" + str(rec_list)+\"\\n\")"
   ]
  },
  {
   "cell_type": "markdown",
   "metadata": {},
   "source": [
    "### User Based, Using Sparse matrix - Cosine similarity\n",
    "lets choose 2 users to see recommendations"
   ]
  },
  {
   "cell_type": "code",
   "execution_count": 48,
   "metadata": {},
   "outputs": [],
   "source": [
    "#Create a dummy ratings matrix with all null values imputed to 0\n",
    "r_matrix_dummy = R_df.copy()"
   ]
  },
  {
   "cell_type": "code",
   "execution_count": 49,
   "metadata": {},
   "outputs": [],
   "source": [
    "user1 = \"889dea4aeb8f72eb0a1f6c0c89f42f4f3d107898\"\n",
    "user2 = \"e93d81ed71a34bf33b61a4bc0cd2a486d73da2d2\"\n",
    "#selecting user data \n",
    "user_rat = r_matrix_dummy.loc[[user1,user2]]"
   ]
  },
  {
   "cell_type": "code",
   "execution_count": 50,
   "metadata": {},
   "outputs": [
    {
     "data": {
      "text/html": [
       "<div>\n",
       "<style scoped>\n",
       "    .dataframe tbody tr th:only-of-type {\n",
       "        vertical-align: middle;\n",
       "    }\n",
       "\n",
       "    .dataframe tbody tr th {\n",
       "        vertical-align: top;\n",
       "    }\n",
       "\n",
       "    .dataframe thead th {\n",
       "        text-align: right;\n",
       "    }\n",
       "</style>\n",
       "<table border=\"1\" class=\"dataframe\">\n",
       "  <thead>\n",
       "    <tr style=\"text-align: right;\">\n",
       "      <th>sku</th>\n",
       "      <th>7897001</th>\n",
       "      <th>7903227</th>\n",
       "      <th>7918177</th>\n",
       "      <th>7933686</th>\n",
       "      <th>7934658</th>\n",
       "      <th>7942845</th>\n",
       "      <th>7945361</th>\n",
       "      <th>7956599</th>\n",
       "      <th>7960986</th>\n",
       "      <th>7968773</th>\n",
       "      <th>...</th>\n",
       "      <th>18850273</th>\n",
       "      <th>18963072</th>\n",
       "      <th>19046802</th>\n",
       "      <th>19057371</th>\n",
       "      <th>19439981</th>\n",
       "      <th>19440021</th>\n",
       "      <th>19440049</th>\n",
       "      <th>19486684</th>\n",
       "      <th>19493508</th>\n",
       "      <th>19550991</th>\n",
       "    </tr>\n",
       "    <tr>\n",
       "      <th>user</th>\n",
       "      <th></th>\n",
       "      <th></th>\n",
       "      <th></th>\n",
       "      <th></th>\n",
       "      <th></th>\n",
       "      <th></th>\n",
       "      <th></th>\n",
       "      <th></th>\n",
       "      <th></th>\n",
       "      <th></th>\n",
       "      <th></th>\n",
       "      <th></th>\n",
       "      <th></th>\n",
       "      <th></th>\n",
       "      <th></th>\n",
       "      <th></th>\n",
       "      <th></th>\n",
       "      <th></th>\n",
       "      <th></th>\n",
       "      <th></th>\n",
       "      <th></th>\n",
       "    </tr>\n",
       "  </thead>\n",
       "  <tbody>\n",
       "    <tr>\n",
       "      <th>889dea4aeb8f72eb0a1f6c0c89f42f4f3d107898</th>\n",
       "      <td>0.0</td>\n",
       "      <td>0.0</td>\n",
       "      <td>0.0</td>\n",
       "      <td>0.0</td>\n",
       "      <td>0.0</td>\n",
       "      <td>0.0</td>\n",
       "      <td>0.0</td>\n",
       "      <td>0.0</td>\n",
       "      <td>0.0</td>\n",
       "      <td>0.0</td>\n",
       "      <td>...</td>\n",
       "      <td>0.0</td>\n",
       "      <td>0.0</td>\n",
       "      <td>0.0</td>\n",
       "      <td>0.0</td>\n",
       "      <td>0.0</td>\n",
       "      <td>0.0</td>\n",
       "      <td>0.0</td>\n",
       "      <td>0.0</td>\n",
       "      <td>0.0</td>\n",
       "      <td>0.0</td>\n",
       "    </tr>\n",
       "    <tr>\n",
       "      <th>e93d81ed71a34bf33b61a4bc0cd2a486d73da2d2</th>\n",
       "      <td>0.0</td>\n",
       "      <td>0.0</td>\n",
       "      <td>0.0</td>\n",
       "      <td>0.0</td>\n",
       "      <td>0.0</td>\n",
       "      <td>0.0</td>\n",
       "      <td>0.0</td>\n",
       "      <td>0.0</td>\n",
       "      <td>0.0</td>\n",
       "      <td>0.0</td>\n",
       "      <td>...</td>\n",
       "      <td>0.0</td>\n",
       "      <td>0.0</td>\n",
       "      <td>0.0</td>\n",
       "      <td>0.0</td>\n",
       "      <td>0.0</td>\n",
       "      <td>0.0</td>\n",
       "      <td>0.0</td>\n",
       "      <td>0.0</td>\n",
       "      <td>0.0</td>\n",
       "      <td>0.0</td>\n",
       "    </tr>\n",
       "  </tbody>\n",
       "</table>\n",
       "<p>2 rows × 976 columns</p>\n",
       "</div>"
      ],
      "text/plain": [
       "sku                                       7897001  7903227  7918177  7933686  \\\n",
       "user                                                                           \n",
       "889dea4aeb8f72eb0a1f6c0c89f42f4f3d107898  0.0      0.0      0.0      0.0       \n",
       "e93d81ed71a34bf33b61a4bc0cd2a486d73da2d2  0.0      0.0      0.0      0.0       \n",
       "\n",
       "sku                                       7934658  7942845  7945361  7956599  \\\n",
       "user                                                                           \n",
       "889dea4aeb8f72eb0a1f6c0c89f42f4f3d107898  0.0      0.0      0.0      0.0       \n",
       "e93d81ed71a34bf33b61a4bc0cd2a486d73da2d2  0.0      0.0      0.0      0.0       \n",
       "\n",
       "sku                                       7960986  7968773  ...  18850273  \\\n",
       "user                                                        ...             \n",
       "889dea4aeb8f72eb0a1f6c0c89f42f4f3d107898  0.0      0.0      ...  0.0        \n",
       "e93d81ed71a34bf33b61a4bc0cd2a486d73da2d2  0.0      0.0      ...  0.0        \n",
       "\n",
       "sku                                       18963072  19046802  19057371  \\\n",
       "user                                                                     \n",
       "889dea4aeb8f72eb0a1f6c0c89f42f4f3d107898  0.0       0.0       0.0        \n",
       "e93d81ed71a34bf33b61a4bc0cd2a486d73da2d2  0.0       0.0       0.0        \n",
       "\n",
       "sku                                       19439981  19440021  19440049  \\\n",
       "user                                                                     \n",
       "889dea4aeb8f72eb0a1f6c0c89f42f4f3d107898  0.0       0.0       0.0        \n",
       "e93d81ed71a34bf33b61a4bc0cd2a486d73da2d2  0.0       0.0       0.0        \n",
       "\n",
       "sku                                       19486684  19493508  19550991  \n",
       "user                                                                    \n",
       "889dea4aeb8f72eb0a1f6c0c89f42f4f3d107898  0.0       0.0       0.0       \n",
       "e93d81ed71a34bf33b61a4bc0cd2a486d73da2d2  0.0       0.0       0.0       \n",
       "\n",
       "[2 rows x 976 columns]"
      ]
     },
     "execution_count": 50,
     "metadata": {},
     "output_type": "execute_result"
    }
   ],
   "source": [
    "user_rat"
   ]
  },
  {
   "cell_type": "code",
   "execution_count": 98,
   "metadata": {},
   "outputs": [],
   "source": [
    "# Import cosine_score \n",
    "from sklearn.metrics.pairwise import cosine_similarity\n",
    "\n",
    "#Compute the cosine similarity matrix using the ratings matrix\n",
    "# cosine_sim = cosine_similarity(r_matrix_dummy,user_rat)\n",
    "cosine_sim1 = cosine_similarity(r_matrix_dummy,r_matrix_dummy.loc[[user1]])"
   ]
  },
  {
   "cell_type": "code",
   "execution_count": 52,
   "metadata": {},
   "outputs": [
    {
     "data": {
      "text/plain": [
       "(976,)"
      ]
     },
     "execution_count": 52,
     "metadata": {},
     "output_type": "execute_result"
    }
   ],
   "source": [
    "user1_rat.shape"
   ]
  },
  {
   "cell_type": "code",
   "execution_count": 53,
   "metadata": {
    "scrolled": true
   },
   "outputs": [
    {
     "name": "stdout",
     "output_type": "stream",
     "text": [
      "user\n",
      "889dea4aeb8f72eb0a1f6c0c89f42f4f3d107898    465.464611\n",
      "e93d81ed71a34bf33b61a4bc0cd2a486d73da2d2    656.213823\n",
      "dtype: float64\n"
     ]
    },
    {
     "data": {
      "text/html": [
       "<div>\n",
       "<style scoped>\n",
       "    .dataframe tbody tr th:only-of-type {\n",
       "        vertical-align: middle;\n",
       "    }\n",
       "\n",
       "    .dataframe tbody tr th {\n",
       "        vertical-align: top;\n",
       "    }\n",
       "\n",
       "    .dataframe thead th {\n",
       "        text-align: right;\n",
       "    }\n",
       "</style>\n",
       "<table border=\"1\" class=\"dataframe\">\n",
       "  <thead>\n",
       "    <tr style=\"text-align: right;\">\n",
       "      <th>user</th>\n",
       "      <th>889dea4aeb8f72eb0a1f6c0c89f42f4f3d107898</th>\n",
       "      <th>e93d81ed71a34bf33b61a4bc0cd2a486d73da2d2</th>\n",
       "    </tr>\n",
       "    <tr>\n",
       "      <th>user</th>\n",
       "      <th></th>\n",
       "      <th></th>\n",
       "    </tr>\n",
       "  </thead>\n",
       "  <tbody>\n",
       "    <tr>\n",
       "      <th>00003cb3f85244c652f22c1daf11aed35d5ab7f6</th>\n",
       "      <td>0.0</td>\n",
       "      <td>0.0</td>\n",
       "    </tr>\n",
       "    <tr>\n",
       "      <th>0000776d7bf35b984ca8e3671327a7ac1d07a86c</th>\n",
       "      <td>0.0</td>\n",
       "      <td>0.0</td>\n",
       "    </tr>\n",
       "    <tr>\n",
       "      <th>000126150c17acb66664a42c47d5dba399311783</th>\n",
       "      <td>0.0</td>\n",
       "      <td>0.0</td>\n",
       "    </tr>\n",
       "    <tr>\n",
       "      <th>00014aac7ef84270dab58af1c92b79685b89b9b9</th>\n",
       "      <td>0.0</td>\n",
       "      <td>0.0</td>\n",
       "    </tr>\n",
       "    <tr>\n",
       "      <th>00016ac345cf3220c4f56855d7021693290796c2</th>\n",
       "      <td>0.0</td>\n",
       "      <td>0.0</td>\n",
       "    </tr>\n",
       "  </tbody>\n",
       "</table>\n",
       "</div>"
      ],
      "text/plain": [
       "user                                      889dea4aeb8f72eb0a1f6c0c89f42f4f3d107898  \\\n",
       "user                                                                                 \n",
       "00003cb3f85244c652f22c1daf11aed35d5ab7f6  0.0                                        \n",
       "0000776d7bf35b984ca8e3671327a7ac1d07a86c  0.0                                        \n",
       "000126150c17acb66664a42c47d5dba399311783  0.0                                        \n",
       "00014aac7ef84270dab58af1c92b79685b89b9b9  0.0                                        \n",
       "00016ac345cf3220c4f56855d7021693290796c2  0.0                                        \n",
       "\n",
       "user                                      e93d81ed71a34bf33b61a4bc0cd2a486d73da2d2  \n",
       "user                                                                                \n",
       "00003cb3f85244c652f22c1daf11aed35d5ab7f6  0.0                                       \n",
       "0000776d7bf35b984ca8e3671327a7ac1d07a86c  0.0                                       \n",
       "000126150c17acb66664a42c47d5dba399311783  0.0                                       \n",
       "00014aac7ef84270dab58af1c92b79685b89b9b9  0.0                                       \n",
       "00016ac345cf3220c4f56855d7021693290796c2  0.0                                       "
      ]
     },
     "execution_count": 53,
     "metadata": {},
     "output_type": "execute_result"
    }
   ],
   "source": [
    "#Convert into pandas dataframe \n",
    "cosine_sim = pd.DataFrame(cosine_sim, index=r_matrix_dummy.index, columns=user_rat.index)\n",
    "print(cosine_sim.sum())\n",
    "cosine_sim.head()"
   ]
  },
  {
   "cell_type": "markdown",
   "metadata": {},
   "source": [
    "### user 1 Analysis\n",
    "- Lets take few nearest users to user 1 "
   ]
  },
  {
   "cell_type": "code",
   "execution_count": 54,
   "metadata": {},
   "outputs": [],
   "source": [
    "similar_to_user1 = cosine_sim[user1].sort_values(ascending = False).reset_index()"
   ]
  },
  {
   "cell_type": "code",
   "execution_count": 55,
   "metadata": {},
   "outputs": [
    {
     "data": {
      "text/html": [
       "<div>\n",
       "<style scoped>\n",
       "    .dataframe tbody tr th:only-of-type {\n",
       "        vertical-align: middle;\n",
       "    }\n",
       "\n",
       "    .dataframe tbody tr th {\n",
       "        vertical-align: top;\n",
       "    }\n",
       "\n",
       "    .dataframe thead th {\n",
       "        text-align: right;\n",
       "    }\n",
       "</style>\n",
       "<table border=\"1\" class=\"dataframe\">\n",
       "  <thead>\n",
       "    <tr style=\"text-align: right;\">\n",
       "      <th></th>\n",
       "      <th>user</th>\n",
       "      <th>889dea4aeb8f72eb0a1f6c0c89f42f4f3d107898</th>\n",
       "    </tr>\n",
       "  </thead>\n",
       "  <tbody>\n",
       "    <tr>\n",
       "      <th>0</th>\n",
       "      <td>889dea4aeb8f72eb0a1f6c0c89f42f4f3d107898</td>\n",
       "      <td>1.000000</td>\n",
       "    </tr>\n",
       "    <tr>\n",
       "      <th>1</th>\n",
       "      <td>050ea239d38e11d097eb62835baa1e9622b4e06c</td>\n",
       "      <td>0.666667</td>\n",
       "    </tr>\n",
       "    <tr>\n",
       "      <th>2</th>\n",
       "      <td>0cb341bb3eed19536367fa7c88dd20c82c40e550</td>\n",
       "      <td>0.577350</td>\n",
       "    </tr>\n",
       "    <tr>\n",
       "      <th>3</th>\n",
       "      <td>9e3d25835122bab061cc5c683bd9ed8387503828</td>\n",
       "      <td>0.577350</td>\n",
       "    </tr>\n",
       "    <tr>\n",
       "      <th>4</th>\n",
       "      <td>d8ac7d22e57e03ca6322aac5d751127918c534d1</td>\n",
       "      <td>0.577350</td>\n",
       "    </tr>\n",
       "  </tbody>\n",
       "</table>\n",
       "</div>"
      ],
      "text/plain": [
       "                                       user  \\\n",
       "0  889dea4aeb8f72eb0a1f6c0c89f42f4f3d107898   \n",
       "1  050ea239d38e11d097eb62835baa1e9622b4e06c   \n",
       "2  0cb341bb3eed19536367fa7c88dd20c82c40e550   \n",
       "3  9e3d25835122bab061cc5c683bd9ed8387503828   \n",
       "4  d8ac7d22e57e03ca6322aac5d751127918c534d1   \n",
       "\n",
       "   889dea4aeb8f72eb0a1f6c0c89f42f4f3d107898  \n",
       "0  1.000000                                  \n",
       "1  0.666667                                  \n",
       "2  0.577350                                  \n",
       "3  0.577350                                  \n",
       "4  0.577350                                  "
      ]
     },
     "execution_count": 55,
     "metadata": {},
     "output_type": "execute_result"
    }
   ],
   "source": [
    "similar_to_user1.head()"
   ]
  },
  {
   "cell_type": "code",
   "execution_count": null,
   "metadata": {},
   "outputs": [],
   "source": []
  },
  {
   "cell_type": "code",
   "execution_count": 57,
   "metadata": {},
   "outputs": [
    {
     "name": "stdout",
     "output_type": "stream",
     "text": [
      "Already viewed items: \n",
      "['Best Buy GC - $100 Gift Card' 'SanDisk - Cruzer 4GB USB 2.0 Flash Drive'\n",
      " 'Lowepro - Navi Plus Camera Case and GPS Pouch - Black']\n",
      "\n",
      "\n",
      "Viewed by other users - unique items: \n",
      "{'Best Buy GC - $100 Gift Card': 2, 'Smart Choice - Stainless-Steel Refrigerator Water Line Kit - Silver': 1, 'SanDisk - Cruzer 4GB USB 2.0 Flash Drive': 5, 'Lowepro - Navi Plus Camera Case and GPS Pouch - Black': 4}\n",
      "\n",
      "\n",
      "Recommended list of items: \n",
      "['Smart Choice - Stainless-Steel Refrigerator Water Line Kit - Silver']\n",
      "\n"
     ]
    }
   ],
   "source": [
    "rec_list,alreadyviewd,rec_dict = recommendations(10,user1,similar_to_user1)\n",
    "print(\"Already viewed items: \"+ \"\\n\"+ str(alreadyviewd) + \"\\n\\n\")\n",
    "print(\"Viewed by other users - unique items: \"+\"\\n\"+ str(rec_dict)+\"\\n\\n\")\n",
    "print(\"Recommended list of items: \"+\"\\n\" + str(rec_list)+\"\\n\")"
   ]
  },
  {
   "cell_type": "markdown",
   "metadata": {},
   "source": [
    "### user 2 Analysis\n",
    "- Lets take few nearest users to user 2"
   ]
  },
  {
   "cell_type": "code",
   "execution_count": 58,
   "metadata": {},
   "outputs": [],
   "source": [
    "similar_to_user2 = cosine_sim[user2].sort_values(ascending = False).reset_index()"
   ]
  },
  {
   "cell_type": "code",
   "execution_count": 59,
   "metadata": {},
   "outputs": [
    {
     "name": "stdout",
     "output_type": "stream",
     "text": [
      "Already viewed items: \n",
      "['Bose® - SoundDock® Series II Digital Music System for Apple® iPod® - Black'\n",
      " 'Klipsch - Image S4 Earbud Headphones'\n",
      " 'Altec Lansing - Mix Digital Boombox for Apple® iPhone and iPod® - Black']\n",
      "\n",
      "\n",
      "Viewed by other users - unique items: \n",
      "{'Bose® - SoundDock® Series II Digital Music System for Apple® iPod® - Black': 30, 'Altec Lansing - Mix Digital Boombox for Apple® iPhone and iPod® - Black': 24, 'Klipsch - Image S4 Earbud Headphones': 51, 'Bose® - SoundDock® Portable Digital Music System for Apple® iPod® - Black': 1}\n",
      "\n",
      "\n",
      "Recommended list of items: \n",
      "['Bose® - SoundDock® Portable Digital Music System for Apple® iPod® - Black']\n",
      "\n"
     ]
    }
   ],
   "source": [
    "rec_list,alreadyviewd,rec_dict = recommendations(100,user2,similar_to_user2)\n",
    "print(\"Already viewed items: \"+ \"\\n\"+ str(alreadyviewd) + \"\\n\\n\")\n",
    "print(\"Viewed by other users - unique items: \"+\"\\n\"+ str(rec_dict)+\"\\n\\n\")\n",
    "print(\"Recommended list of items: \"+\"\\n\" + str(rec_list)+\"\\n\")"
   ]
  },
  {
   "cell_type": "raw",
   "metadata": {},
   "source": []
  },
  {
   "cell_type": "markdown",
   "metadata": {},
   "source": []
  },
  {
   "cell_type": "markdown",
   "metadata": {},
   "source": [
    "# Model Based Collaborative filtering "
   ]
  },
  {
   "cell_type": "code",
   "execution_count": 770,
   "metadata": {},
   "outputs": [],
   "source": [
    "import pandas as pd\n",
    "from surprise import Reader\n",
    "from surprise import Dataset\n",
    "from surprise.model_selection import cross_validate\n",
    "from surprise import SVD\n",
    "from surprise import SVDpp\n",
    "from surprise import NMF\n",
    "from surprise.accuracy import rmse\n",
    "from surprise import accuracy\n",
    "from surprise.model_selection import train_test_split"
   ]
  },
  {
   "cell_type": "code",
   "execution_count": 771,
   "metadata": {},
   "outputs": [],
   "source": [
    "reader = Reader(rating_scale=(0, 1))\n",
    "data = Dataset.load_from_df( merged[['user', 'name', 'flag']], reader)"
   ]
  },
  {
   "cell_type": "markdown",
   "metadata": {},
   "source": [
    "With the Surprise library, we will benchmark the following algorithms\n",
    "\n",
    "# Matrix Factorization-based algorithms\n",
    "\n",
    "#### SVD\n",
    "\n",
    "* SVD algorithm is equivalent to Probabilistic Matrix Factorization (http://papers.nips.cc/paper/3208-probabilistic-matrix-factorization.pdf)\n",
    "\n",
    "#### SVDpp\n",
    "\n",
    "* The SVDpp algorithm is an extension of SVD that takes into account implicit ratings.\n",
    "\n",
    "#### NMF\n",
    "\n",
    "* NMF is a collaborative filtering algorithm based on Non-negative Matrix Factorization. It is very similar with SVD.\n",
    "\n",
    "\n",
    "We use rmse as our accuracy metric for the predictions."
   ]
  },
  {
   "cell_type": "code",
   "execution_count": 772,
   "metadata": {},
   "outputs": [],
   "source": [
    "benchmark = []\n",
    "# Iterate over all algorithms\n",
    "for algorithm in [SVD(), SVDpp(), NMF()]:\n",
    "    # Perform cross validation\n",
    "    results = cross_validate(algorithm, data, measures=['RMSE'], cv=3, verbose=False)\n",
    "    \n",
    "    # Get results & append algorithm name\n",
    "    tmp = pd.DataFrame.from_dict(results).mean(axis=0)\n",
    "    tmp = tmp.append(pd.Series([str(algorithm).split(' ')[0].split('.')[-1]], index=['Algorithm']))\n",
    "    benchmark.append(tmp)"
   ]
  },
  {
   "cell_type": "code",
   "execution_count": 773,
   "metadata": {},
   "outputs": [],
   "source": [
    "surprise_results = pd.DataFrame(benchmark).set_index('Algorithm').sort_values('test_rmse')"
   ]
  },
  {
   "cell_type": "code",
   "execution_count": 774,
   "metadata": {},
   "outputs": [
    {
     "data": {
      "text/html": [
       "<div>\n",
       "<style scoped>\n",
       "    .dataframe tbody tr th:only-of-type {\n",
       "        vertical-align: middle;\n",
       "    }\n",
       "\n",
       "    .dataframe tbody tr th {\n",
       "        vertical-align: top;\n",
       "    }\n",
       "\n",
       "    .dataframe thead th {\n",
       "        text-align: right;\n",
       "    }\n",
       "</style>\n",
       "<table border=\"1\" class=\"dataframe\">\n",
       "  <thead>\n",
       "    <tr style=\"text-align: right;\">\n",
       "      <th></th>\n",
       "      <th>test_rmse</th>\n",
       "      <th>fit_time</th>\n",
       "      <th>test_time</th>\n",
       "    </tr>\n",
       "    <tr>\n",
       "      <th>Algorithm</th>\n",
       "      <th></th>\n",
       "      <th></th>\n",
       "      <th></th>\n",
       "    </tr>\n",
       "  </thead>\n",
       "  <tbody>\n",
       "    <tr>\n",
       "      <th>SVDpp</th>\n",
       "      <td>0.008484</td>\n",
       "      <td>39.694466</td>\n",
       "      <td>1.526751</td>\n",
       "    </tr>\n",
       "    <tr>\n",
       "      <th>SVD</th>\n",
       "      <td>0.016601</td>\n",
       "      <td>21.993636</td>\n",
       "      <td>1.511943</td>\n",
       "    </tr>\n",
       "    <tr>\n",
       "      <th>NMF</th>\n",
       "      <td>0.097915</td>\n",
       "      <td>52.416549</td>\n",
       "      <td>1.346666</td>\n",
       "    </tr>\n",
       "  </tbody>\n",
       "</table>\n",
       "</div>"
      ],
      "text/plain": [
       "           test_rmse   fit_time  test_time\n",
       "Algorithm                                 \n",
       "SVDpp      0.008484   39.694466  1.526751 \n",
       "SVD        0.016601   21.993636  1.511943 \n",
       "NMF        0.097915   52.416549  1.346666 "
      ]
     },
     "execution_count": 774,
     "metadata": {},
     "output_type": "execute_result"
    }
   ],
   "source": [
    "surprise_results"
   ]
  },
  {
   "cell_type": "markdown",
   "metadata": {},
   "source": [
    "SVDpp algorithm gave us the best rmse, therefore, we will proceed further with SVDpp."
   ]
  },
  {
   "cell_type": "code",
   "execution_count": 103,
   "metadata": {},
   "outputs": [
    {
     "data": {
      "text/plain": [
       "{'test_rmse': array([0.00867773, 0.00841092, 0.00824231]),\n",
       " 'fit_time': (41.82793402671814, 39.34256720542908, 38.99308228492737),\n",
       " 'test_time': (1.7675001621246338, 1.771986961364746, 1.7482669353485107)}"
      ]
     },
     "execution_count": 103,
     "metadata": {},
     "output_type": "execute_result"
    }
   ],
   "source": [
    "algo = SVDpp(n_factors=20,\n",
    "    n_epochs=20,\n",
    "    init_mean=0,\n",
    "    init_std_dev=0.1,\n",
    "    lr_all=0.007,\n",
    "    reg_all=0.02,random_state = 0)\n",
    "cross_validate(algo, data, measures=['RMSE'], cv=3, verbose=False)"
   ]
  },
  {
   "cell_type": "markdown",
   "metadata": {},
   "source": [
    "We use the train_test_split() to sample a trainset and a testset with given sizes, and use the accuracy metric of rmse. We’ll then use the fit() method which will train the algorithm on the trainset, and the test() method which will return the predictions made from the testset"
   ]
  },
  {
   "cell_type": "code",
   "execution_count": 104,
   "metadata": {},
   "outputs": [],
   "source": [
    "trainset, testset = train_test_split(data, test_size=0.25,random_state=0)"
   ]
  },
  {
   "cell_type": "code",
   "execution_count": 105,
   "metadata": {},
   "outputs": [
    {
     "name": "stdout",
     "output_type": "stream",
     "text": [
      "RMSE: 0.0077\n"
     ]
    },
    {
     "data": {
      "text/plain": [
       "0.007740230315223599"
      ]
     },
     "execution_count": 105,
     "metadata": {},
     "output_type": "execute_result"
    }
   ],
   "source": [
    "algo = SVDpp(n_factors=20,\n",
    "    n_epochs=20,\n",
    "    init_mean=0,\n",
    "    init_std_dev=0.1,\n",
    "    lr_all=0.007,\n",
    "    reg_all=0.02,random_state = 0)\n",
    "predictions = algo.fit(trainset).test(testset)\n",
    "accuracy.rmse(predictions)"
   ]
  },
  {
   "cell_type": "markdown",
   "metadata": {},
   "source": [
    "## We can see the model is generalized and rmse score is also good.\n",
    "To inspect our predictions in details, we are going to build a pandas data frame with all the predictions."
   ]
  },
  {
   "cell_type": "code",
   "execution_count": 465,
   "metadata": {},
   "outputs": [],
   "source": [
    "def get_Iu(uid):\n",
    "    \"\"\" return the number of items visited by given user\n",
    "    args: \n",
    "      uid: the id of the user\n",
    "    returns: \n",
    "      the number of items rated by the user\n",
    "    \"\"\"\n",
    "    try:\n",
    "        return len(trainset.ur[trainset.to_inner_uid(uid)])\n",
    "    except ValueError: # user was not part of the trainset\n",
    "        return 0\n",
    "    \n",
    "def get_Ui(iid):\n",
    "    \"\"\" return number of users that have rated given item\n",
    "    args:\n",
    "      iid: the raw id of the item\n",
    "    returns:\n",
    "      the number of users that have rated the item.\n",
    "    \"\"\"\n",
    "    try: \n",
    "        return len(trainset.ir[trainset.to_inner_iid(iid)])\n",
    "    except ValueError:\n",
    "        return 0\n",
    "    \n",
    "df = pd.DataFrame(predictions, columns=['user', 'item_name', 'flag_viewed', 'est', 'details'])\n",
    "# df['Iu'] = df.user.apply(get_Iu)\n",
    "# df['Ui'] = df.item_name.apply(get_Ui)\n",
    "# df['err'] = abs(df.est - df.flag_viewed)"
   ]
  },
  {
   "cell_type": "code",
   "execution_count": 467,
   "metadata": {},
   "outputs": [
    {
     "data": {
      "text/plain": [
       "(82287, 5)"
      ]
     },
     "execution_count": 467,
     "metadata": {},
     "output_type": "execute_result"
    }
   ],
   "source": [
    "df.shape"
   ]
  },
  {
   "cell_type": "code",
   "execution_count": null,
   "metadata": {},
   "outputs": [],
   "source": [
    "R_df = merged.pivot_table(index='user',columns='sku',aggfunc = 'sum').fillna(0)\n",
    "R_df.columns = R_df.columns.droplevel()\n",
    "R_df.head()"
   ]
  },
  {
   "cell_type": "code",
   "execution_count": 119,
   "metadata": {},
   "outputs": [
    {
     "data": {
      "text/plain": [
       "Index(['user', 'item_name', 'flag_viewed', 'est', 'details', 'Iu', 'Ui',\n",
       "       'err'],\n",
       "      dtype='object')"
      ]
     },
     "execution_count": 119,
     "metadata": {},
     "output_type": "execute_result"
    }
   ],
   "source": [
    "df.columns"
   ]
  },
  {
   "cell_type": "code",
   "execution_count": 120,
   "metadata": {},
   "outputs": [],
   "source": [
    "matrix_factor = df[['user','item_name','est']].pivot_table(index='user',columns='item_name',aggfunc = 'sum').fillna(0)\n"
   ]
  },
  {
   "cell_type": "code",
   "execution_count": 121,
   "metadata": {},
   "outputs": [
    {
     "data": {
      "text/html": [
       "<div>\n",
       "<style scoped>\n",
       "    .dataframe tbody tr th:only-of-type {\n",
       "        vertical-align: middle;\n",
       "    }\n",
       "\n",
       "    .dataframe tbody tr th {\n",
       "        vertical-align: top;\n",
       "    }\n",
       "\n",
       "    .dataframe thead tr th {\n",
       "        text-align: left;\n",
       "    }\n",
       "\n",
       "    .dataframe thead tr:last-of-type th {\n",
       "        text-align: right;\n",
       "    }\n",
       "</style>\n",
       "<table border=\"1\" class=\"dataframe\">\n",
       "  <thead>\n",
       "    <tr>\n",
       "      <th></th>\n",
       "      <th colspan=\"21\" halign=\"left\">est</th>\n",
       "    </tr>\n",
       "    <tr>\n",
       "      <th>item_name</th>\n",
       "      <th>2Wire - Wireless-G 802.11g ADSL Gateway</th>\n",
       "      <th>360 Electrical - 12-Outlet Swivel Surge Protector</th>\n",
       "      <th>442: Extreme Patriots of Wii: Kitaro's... [11/9] - CD</th>\n",
       "      <th>APC - 1000VA Battery Back-Up System</th>\n",
       "      <th>APC - Back-UPS ES 550VA Desktop UPS - Black</th>\n",
       "      <th>APC - Back-UPS XS 1500 VA Tower UPS - Black</th>\n",
       "      <th>AT&amp;T - 4-Port Ethernet Wireless Router with DSL Modem</th>\n",
       "      <th>AT&amp;T GoPhone - $15 Prepaid Wireless Airtime Card</th>\n",
       "      <th>AT&amp;T GoPhone - $25 Prepaid Wireless Airtime Card</th>\n",
       "      <th>AT&amp;T GoPhone - LG Prime No-Contract Mobile Phone - Black</th>\n",
       "      <th>...</th>\n",
       "      <th>iFrogz - Privacy Screen for Apple® iPhone® 3G and 3GS</th>\n",
       "      <th>iHome - Alarm Clock for Apple® iPod® and Most MP3 Players - Black</th>\n",
       "      <th>iHome - Dual Alarm Clock Radio for Apple iPod and iPhone - Silver</th>\n",
       "      <th>iHome - Portable Speaker System for Apple iPhone and iPod - Black</th>\n",
       "      <th>iHome - Portable Stereo Speaker Case for Apple® iPod® - Black</th>\n",
       "      <th>iLuv - 8.9\" Widescreen Portable DVD Player with Apple® iPod® Dock</th>\n",
       "      <th>iRobot - Roomba 560 Vacuum Cleaning Robot - Black/Silver</th>\n",
       "      <th>iSimple - Apple® iPod® Adapter for Most Vehicle Radios (Basic Install Included)</th>\n",
       "      <th>iSimple - JamKast P FM Transmitter with RDS Text Transmission - Black</th>\n",
       "      <th>ooma - Telo VoIP Home Phone Service - Black</th>\n",
       "    </tr>\n",
       "    <tr>\n",
       "      <th>user</th>\n",
       "      <th></th>\n",
       "      <th></th>\n",
       "      <th></th>\n",
       "      <th></th>\n",
       "      <th></th>\n",
       "      <th></th>\n",
       "      <th></th>\n",
       "      <th></th>\n",
       "      <th></th>\n",
       "      <th></th>\n",
       "      <th></th>\n",
       "      <th></th>\n",
       "      <th></th>\n",
       "      <th></th>\n",
       "      <th></th>\n",
       "      <th></th>\n",
       "      <th></th>\n",
       "      <th></th>\n",
       "      <th></th>\n",
       "      <th></th>\n",
       "      <th></th>\n",
       "    </tr>\n",
       "  </thead>\n",
       "  <tbody>\n",
       "    <tr>\n",
       "      <th>00016ac345cf3220c4f56855d7021693290796c2</th>\n",
       "      <td>0.0</td>\n",
       "      <td>0.0</td>\n",
       "      <td>0.0</td>\n",
       "      <td>0.0</td>\n",
       "      <td>0.0</td>\n",
       "      <td>0.0</td>\n",
       "      <td>0.0</td>\n",
       "      <td>0.0</td>\n",
       "      <td>0.0</td>\n",
       "      <td>0.0</td>\n",
       "      <td>...</td>\n",
       "      <td>0.0</td>\n",
       "      <td>0.0</td>\n",
       "      <td>0.0</td>\n",
       "      <td>0.0</td>\n",
       "      <td>0.0</td>\n",
       "      <td>0.0</td>\n",
       "      <td>0.0</td>\n",
       "      <td>0.0</td>\n",
       "      <td>0.0</td>\n",
       "      <td>0.0</td>\n",
       "    </tr>\n",
       "    <tr>\n",
       "      <th>0001be1731ee7d1c519bc7e87110c9eb880cb396</th>\n",
       "      <td>0.0</td>\n",
       "      <td>0.0</td>\n",
       "      <td>0.0</td>\n",
       "      <td>0.0</td>\n",
       "      <td>0.0</td>\n",
       "      <td>0.0</td>\n",
       "      <td>0.0</td>\n",
       "      <td>0.0</td>\n",
       "      <td>0.0</td>\n",
       "      <td>0.0</td>\n",
       "      <td>...</td>\n",
       "      <td>0.0</td>\n",
       "      <td>0.0</td>\n",
       "      <td>0.0</td>\n",
       "      <td>0.0</td>\n",
       "      <td>0.0</td>\n",
       "      <td>0.0</td>\n",
       "      <td>0.0</td>\n",
       "      <td>0.0</td>\n",
       "      <td>0.0</td>\n",
       "      <td>0.0</td>\n",
       "    </tr>\n",
       "    <tr>\n",
       "      <th>0002bb28a9ca07f5515b01996fd5d7ca84742e41</th>\n",
       "      <td>0.0</td>\n",
       "      <td>0.0</td>\n",
       "      <td>0.0</td>\n",
       "      <td>0.0</td>\n",
       "      <td>0.0</td>\n",
       "      <td>0.0</td>\n",
       "      <td>0.0</td>\n",
       "      <td>0.0</td>\n",
       "      <td>0.0</td>\n",
       "      <td>0.0</td>\n",
       "      <td>...</td>\n",
       "      <td>0.0</td>\n",
       "      <td>0.0</td>\n",
       "      <td>0.0</td>\n",
       "      <td>0.0</td>\n",
       "      <td>0.0</td>\n",
       "      <td>0.0</td>\n",
       "      <td>0.0</td>\n",
       "      <td>0.0</td>\n",
       "      <td>0.0</td>\n",
       "      <td>0.0</td>\n",
       "    </tr>\n",
       "    <tr>\n",
       "      <th>0002bd9c3d654698bb514194c4f4171ad6992266</th>\n",
       "      <td>0.0</td>\n",
       "      <td>0.0</td>\n",
       "      <td>0.0</td>\n",
       "      <td>0.0</td>\n",
       "      <td>0.0</td>\n",
       "      <td>0.0</td>\n",
       "      <td>0.0</td>\n",
       "      <td>0.0</td>\n",
       "      <td>0.0</td>\n",
       "      <td>0.0</td>\n",
       "      <td>...</td>\n",
       "      <td>0.0</td>\n",
       "      <td>0.0</td>\n",
       "      <td>0.0</td>\n",
       "      <td>0.0</td>\n",
       "      <td>0.0</td>\n",
       "      <td>0.0</td>\n",
       "      <td>0.0</td>\n",
       "      <td>0.0</td>\n",
       "      <td>0.0</td>\n",
       "      <td>0.0</td>\n",
       "    </tr>\n",
       "    <tr>\n",
       "      <th>0002cfbc2a52a28bb10c1a27df986c1cb3429988</th>\n",
       "      <td>0.0</td>\n",
       "      <td>0.0</td>\n",
       "      <td>0.0</td>\n",
       "      <td>0.0</td>\n",
       "      <td>0.0</td>\n",
       "      <td>0.0</td>\n",
       "      <td>0.0</td>\n",
       "      <td>0.0</td>\n",
       "      <td>0.0</td>\n",
       "      <td>0.0</td>\n",
       "      <td>...</td>\n",
       "      <td>0.0</td>\n",
       "      <td>0.0</td>\n",
       "      <td>0.0</td>\n",
       "      <td>0.0</td>\n",
       "      <td>0.0</td>\n",
       "      <td>0.0</td>\n",
       "      <td>0.0</td>\n",
       "      <td>0.0</td>\n",
       "      <td>0.0</td>\n",
       "      <td>0.0</td>\n",
       "    </tr>\n",
       "  </tbody>\n",
       "</table>\n",
       "<p>5 rows × 967 columns</p>\n",
       "</div>"
      ],
      "text/plain": [
       "                                                                             est  \\\n",
       "item_name                                2Wire - Wireless-G 802.11g ADSL Gateway   \n",
       "user                                                                               \n",
       "00016ac345cf3220c4f56855d7021693290796c2  0.0                                      \n",
       "0001be1731ee7d1c519bc7e87110c9eb880cb396  0.0                                      \n",
       "0002bb28a9ca07f5515b01996fd5d7ca84742e41  0.0                                      \n",
       "0002bd9c3d654698bb514194c4f4171ad6992266  0.0                                      \n",
       "0002cfbc2a52a28bb10c1a27df986c1cb3429988  0.0                                      \n",
       "\n",
       "                                                                                            \\\n",
       "item_name                                360 Electrical - 12-Outlet Swivel Surge Protector   \n",
       "user                                                                                         \n",
       "00016ac345cf3220c4f56855d7021693290796c2  0.0                                                \n",
       "0001be1731ee7d1c519bc7e87110c9eb880cb396  0.0                                                \n",
       "0002bb28a9ca07f5515b01996fd5d7ca84742e41  0.0                                                \n",
       "0002bd9c3d654698bb514194c4f4171ad6992266  0.0                                                \n",
       "0002cfbc2a52a28bb10c1a27df986c1cb3429988  0.0                                                \n",
       "\n",
       "                                                                                                \\\n",
       "item_name                                442: Extreme Patriots of Wii: Kitaro's... [11/9] - CD   \n",
       "user                                                                                             \n",
       "00016ac345cf3220c4f56855d7021693290796c2  0.0                                                    \n",
       "0001be1731ee7d1c519bc7e87110c9eb880cb396  0.0                                                    \n",
       "0002bb28a9ca07f5515b01996fd5d7ca84742e41  0.0                                                    \n",
       "0002bd9c3d654698bb514194c4f4171ad6992266  0.0                                                    \n",
       "0002cfbc2a52a28bb10c1a27df986c1cb3429988  0.0                                                    \n",
       "\n",
       "                                                                              \\\n",
       "item_name                                APC - 1000VA Battery Back-Up System   \n",
       "user                                                                           \n",
       "00016ac345cf3220c4f56855d7021693290796c2  0.0                                  \n",
       "0001be1731ee7d1c519bc7e87110c9eb880cb396  0.0                                  \n",
       "0002bb28a9ca07f5515b01996fd5d7ca84742e41  0.0                                  \n",
       "0002bd9c3d654698bb514194c4f4171ad6992266  0.0                                  \n",
       "0002cfbc2a52a28bb10c1a27df986c1cb3429988  0.0                                  \n",
       "\n",
       "                                                                                      \\\n",
       "item_name                                APC - Back-UPS ES 550VA Desktop UPS - Black   \n",
       "user                                                                                   \n",
       "00016ac345cf3220c4f56855d7021693290796c2  0.0                                          \n",
       "0001be1731ee7d1c519bc7e87110c9eb880cb396  0.0                                          \n",
       "0002bb28a9ca07f5515b01996fd5d7ca84742e41  0.0                                          \n",
       "0002bd9c3d654698bb514194c4f4171ad6992266  0.0                                          \n",
       "0002cfbc2a52a28bb10c1a27df986c1cb3429988  0.0                                          \n",
       "\n",
       "                                                                                      \\\n",
       "item_name                                APC - Back-UPS XS 1500 VA Tower UPS - Black   \n",
       "user                                                                                   \n",
       "00016ac345cf3220c4f56855d7021693290796c2  0.0                                          \n",
       "0001be1731ee7d1c519bc7e87110c9eb880cb396  0.0                                          \n",
       "0002bb28a9ca07f5515b01996fd5d7ca84742e41  0.0                                          \n",
       "0002bd9c3d654698bb514194c4f4171ad6992266  0.0                                          \n",
       "0002cfbc2a52a28bb10c1a27df986c1cb3429988  0.0                                          \n",
       "\n",
       "                                                                                                \\\n",
       "item_name                                AT&T - 4-Port Ethernet Wireless Router with DSL Modem   \n",
       "user                                                                                             \n",
       "00016ac345cf3220c4f56855d7021693290796c2  0.0                                                    \n",
       "0001be1731ee7d1c519bc7e87110c9eb880cb396  0.0                                                    \n",
       "0002bb28a9ca07f5515b01996fd5d7ca84742e41  0.0                                                    \n",
       "0002bd9c3d654698bb514194c4f4171ad6992266  0.0                                                    \n",
       "0002cfbc2a52a28bb10c1a27df986c1cb3429988  0.0                                                    \n",
       "\n",
       "                                                                                           \\\n",
       "item_name                                AT&T GoPhone - $15 Prepaid Wireless Airtime Card   \n",
       "user                                                                                        \n",
       "00016ac345cf3220c4f56855d7021693290796c2  0.0                                               \n",
       "0001be1731ee7d1c519bc7e87110c9eb880cb396  0.0                                               \n",
       "0002bb28a9ca07f5515b01996fd5d7ca84742e41  0.0                                               \n",
       "0002bd9c3d654698bb514194c4f4171ad6992266  0.0                                               \n",
       "0002cfbc2a52a28bb10c1a27df986c1cb3429988  0.0                                               \n",
       "\n",
       "                                                                                           \\\n",
       "item_name                                AT&T GoPhone - $25 Prepaid Wireless Airtime Card   \n",
       "user                                                                                        \n",
       "00016ac345cf3220c4f56855d7021693290796c2  0.0                                               \n",
       "0001be1731ee7d1c519bc7e87110c9eb880cb396  0.0                                               \n",
       "0002bb28a9ca07f5515b01996fd5d7ca84742e41  0.0                                               \n",
       "0002bd9c3d654698bb514194c4f4171ad6992266  0.0                                               \n",
       "0002cfbc2a52a28bb10c1a27df986c1cb3429988  0.0                                               \n",
       "\n",
       "                                                                                                   \\\n",
       "item_name                                AT&T GoPhone - LG Prime No-Contract Mobile Phone - Black   \n",
       "user                                                                                                \n",
       "00016ac345cf3220c4f56855d7021693290796c2  0.0                                                       \n",
       "0001be1731ee7d1c519bc7e87110c9eb880cb396  0.0                                                       \n",
       "0002bb28a9ca07f5515b01996fd5d7ca84742e41  0.0                                                       \n",
       "0002bd9c3d654698bb514194c4f4171ad6992266  0.0                                                       \n",
       "0002cfbc2a52a28bb10c1a27df986c1cb3429988  0.0                                                       \n",
       "\n",
       "                                          ...  \\\n",
       "item_name                                 ...   \n",
       "user                                      ...   \n",
       "00016ac345cf3220c4f56855d7021693290796c2  ...   \n",
       "0001be1731ee7d1c519bc7e87110c9eb880cb396  ...   \n",
       "0002bb28a9ca07f5515b01996fd5d7ca84742e41  ...   \n",
       "0002bd9c3d654698bb514194c4f4171ad6992266  ...   \n",
       "0002cfbc2a52a28bb10c1a27df986c1cb3429988  ...   \n",
       "\n",
       "                                                                                                \\\n",
       "item_name                                iFrogz - Privacy Screen for Apple® iPhone® 3G and 3GS   \n",
       "user                                                                                             \n",
       "00016ac345cf3220c4f56855d7021693290796c2  0.0                                                    \n",
       "0001be1731ee7d1c519bc7e87110c9eb880cb396  0.0                                                    \n",
       "0002bb28a9ca07f5515b01996fd5d7ca84742e41  0.0                                                    \n",
       "0002bd9c3d654698bb514194c4f4171ad6992266  0.0                                                    \n",
       "0002cfbc2a52a28bb10c1a27df986c1cb3429988  0.0                                                    \n",
       "\n",
       "                                                                                                            \\\n",
       "item_name                                iHome - Alarm Clock for Apple® iPod® and Most MP3 Players - Black   \n",
       "user                                                                                                         \n",
       "00016ac345cf3220c4f56855d7021693290796c2  0.0                                                                \n",
       "0001be1731ee7d1c519bc7e87110c9eb880cb396  0.0                                                                \n",
       "0002bb28a9ca07f5515b01996fd5d7ca84742e41  0.0                                                                \n",
       "0002bd9c3d654698bb514194c4f4171ad6992266  0.0                                                                \n",
       "0002cfbc2a52a28bb10c1a27df986c1cb3429988  0.0                                                                \n",
       "\n",
       "                                                                                                            \\\n",
       "item_name                                iHome - Dual Alarm Clock Radio for Apple iPod and iPhone - Silver   \n",
       "user                                                                                                         \n",
       "00016ac345cf3220c4f56855d7021693290796c2  0.0                                                                \n",
       "0001be1731ee7d1c519bc7e87110c9eb880cb396  0.0                                                                \n",
       "0002bb28a9ca07f5515b01996fd5d7ca84742e41  0.0                                                                \n",
       "0002bd9c3d654698bb514194c4f4171ad6992266  0.0                                                                \n",
       "0002cfbc2a52a28bb10c1a27df986c1cb3429988  0.0                                                                \n",
       "\n",
       "                                                                                                            \\\n",
       "item_name                                iHome - Portable Speaker System for Apple iPhone and iPod - Black   \n",
       "user                                                                                                         \n",
       "00016ac345cf3220c4f56855d7021693290796c2  0.0                                                                \n",
       "0001be1731ee7d1c519bc7e87110c9eb880cb396  0.0                                                                \n",
       "0002bb28a9ca07f5515b01996fd5d7ca84742e41  0.0                                                                \n",
       "0002bd9c3d654698bb514194c4f4171ad6992266  0.0                                                                \n",
       "0002cfbc2a52a28bb10c1a27df986c1cb3429988  0.0                                                                \n",
       "\n",
       "                                                                                                        \\\n",
       "item_name                                iHome - Portable Stereo Speaker Case for Apple® iPod® - Black   \n",
       "user                                                                                                     \n",
       "00016ac345cf3220c4f56855d7021693290796c2  0.0                                                            \n",
       "0001be1731ee7d1c519bc7e87110c9eb880cb396  0.0                                                            \n",
       "0002bb28a9ca07f5515b01996fd5d7ca84742e41  0.0                                                            \n",
       "0002bd9c3d654698bb514194c4f4171ad6992266  0.0                                                            \n",
       "0002cfbc2a52a28bb10c1a27df986c1cb3429988  0.0                                                            \n",
       "\n",
       "                                                                                                            \\\n",
       "item_name                                iLuv - 8.9\" Widescreen Portable DVD Player with Apple® iPod® Dock   \n",
       "user                                                                                                         \n",
       "00016ac345cf3220c4f56855d7021693290796c2  0.0                                                                \n",
       "0001be1731ee7d1c519bc7e87110c9eb880cb396  0.0                                                                \n",
       "0002bb28a9ca07f5515b01996fd5d7ca84742e41  0.0                                                                \n",
       "0002bd9c3d654698bb514194c4f4171ad6992266  0.0                                                                \n",
       "0002cfbc2a52a28bb10c1a27df986c1cb3429988  0.0                                                                \n",
       "\n",
       "                                                                                                   \\\n",
       "item_name                                iRobot - Roomba 560 Vacuum Cleaning Robot - Black/Silver   \n",
       "user                                                                                                \n",
       "00016ac345cf3220c4f56855d7021693290796c2  0.0                                                       \n",
       "0001be1731ee7d1c519bc7e87110c9eb880cb396  0.0                                                       \n",
       "0002bb28a9ca07f5515b01996fd5d7ca84742e41  0.0                                                       \n",
       "0002bd9c3d654698bb514194c4f4171ad6992266  0.0                                                       \n",
       "0002cfbc2a52a28bb10c1a27df986c1cb3429988  0.0                                                       \n",
       "\n",
       "                                                                                                                          \\\n",
       "item_name                                iSimple - Apple® iPod® Adapter for Most Vehicle Radios (Basic Install Included)   \n",
       "user                                                                                                                       \n",
       "00016ac345cf3220c4f56855d7021693290796c2  0.0                                                                              \n",
       "0001be1731ee7d1c519bc7e87110c9eb880cb396  0.0                                                                              \n",
       "0002bb28a9ca07f5515b01996fd5d7ca84742e41  0.0                                                                              \n",
       "0002bd9c3d654698bb514194c4f4171ad6992266  0.0                                                                              \n",
       "0002cfbc2a52a28bb10c1a27df986c1cb3429988  0.0                                                                              \n",
       "\n",
       "                                                                                                                \\\n",
       "item_name                                iSimple - JamKast P FM Transmitter with RDS Text Transmission - Black   \n",
       "user                                                                                                             \n",
       "00016ac345cf3220c4f56855d7021693290796c2  0.0                                                                    \n",
       "0001be1731ee7d1c519bc7e87110c9eb880cb396  0.0                                                                    \n",
       "0002bb28a9ca07f5515b01996fd5d7ca84742e41  0.0                                                                    \n",
       "0002bd9c3d654698bb514194c4f4171ad6992266  0.0                                                                    \n",
       "0002cfbc2a52a28bb10c1a27df986c1cb3429988  0.0                                                                    \n",
       "\n",
       "                                                                                      \n",
       "item_name                                ooma - Telo VoIP Home Phone Service - Black  \n",
       "user                                                                                  \n",
       "00016ac345cf3220c4f56855d7021693290796c2  0.0                                         \n",
       "0001be1731ee7d1c519bc7e87110c9eb880cb396  0.0                                         \n",
       "0002bb28a9ca07f5515b01996fd5d7ca84742e41  0.0                                         \n",
       "0002bd9c3d654698bb514194c4f4171ad6992266  0.0                                         \n",
       "0002cfbc2a52a28bb10c1a27df986c1cb3429988  0.0                                         \n",
       "\n",
       "[5 rows x 967 columns]"
      ]
     },
     "execution_count": 121,
     "metadata": {},
     "output_type": "execute_result"
    }
   ],
   "source": [
    "matrix_factor.head()"
   ]
  },
  {
   "cell_type": "code",
   "execution_count": 107,
   "metadata": {},
   "outputs": [],
   "source": [
    "best_predictions = df.sort_values(by='err')[:10]\n",
    "worst_predictions = df.sort_values(by='err')[-10:]"
   ]
  },
  {
   "cell_type": "code",
   "execution_count": 108,
   "metadata": {},
   "outputs": [
    {
     "data": {
      "text/html": [
       "<div>\n",
       "<style scoped>\n",
       "    .dataframe tbody tr th:only-of-type {\n",
       "        vertical-align: middle;\n",
       "    }\n",
       "\n",
       "    .dataframe tbody tr th {\n",
       "        vertical-align: top;\n",
       "    }\n",
       "\n",
       "    .dataframe thead th {\n",
       "        text-align: right;\n",
       "    }\n",
       "</style>\n",
       "<table border=\"1\" class=\"dataframe\">\n",
       "  <thead>\n",
       "    <tr style=\"text-align: right;\">\n",
       "      <th></th>\n",
       "      <th>user</th>\n",
       "      <th>item_name</th>\n",
       "      <th>flag_viewed</th>\n",
       "      <th>est</th>\n",
       "      <th>details</th>\n",
       "      <th>Iu</th>\n",
       "      <th>Ui</th>\n",
       "      <th>err</th>\n",
       "    </tr>\n",
       "  </thead>\n",
       "  <tbody>\n",
       "    <tr>\n",
       "      <th>0</th>\n",
       "      <td>e6370edb227d9cee574267a5c0fa1ac9c65b227b</td>\n",
       "      <td>Beats By Dr. Dre - Beats Tour Earbud Headphones - Black</td>\n",
       "      <td>1.0</td>\n",
       "      <td>1.0</td>\n",
       "      <td>{'was_impossible': False}</td>\n",
       "      <td>0</td>\n",
       "      <td>3389</td>\n",
       "      <td>0.0</td>\n",
       "    </tr>\n",
       "    <tr>\n",
       "      <th>52181</th>\n",
       "      <td>0c03445984bad4229fb2e9c8def238a2739e9ac6</td>\n",
       "      <td>Magellan - RoadMate 2036 GPS - Black/Silver</td>\n",
       "      <td>1.0</td>\n",
       "      <td>1.0</td>\n",
       "      <td>{'was_impossible': False}</td>\n",
       "      <td>0</td>\n",
       "      <td>155</td>\n",
       "      <td>0.0</td>\n",
       "    </tr>\n",
       "    <tr>\n",
       "      <th>24470</th>\n",
       "      <td>93a89603ceeadbe74462b3885798f40aec139dba</td>\n",
       "      <td>Honeywell - Portable Electronic Ceramic Heater - Gray</td>\n",
       "      <td>1.0</td>\n",
       "      <td>1.0</td>\n",
       "      <td>{'was_impossible': False}</td>\n",
       "      <td>0</td>\n",
       "      <td>247</td>\n",
       "      <td>0.0</td>\n",
       "    </tr>\n",
       "    <tr>\n",
       "      <th>52184</th>\n",
       "      <td>0115de0913537af82a39c7f033f272a20cac04d9</td>\n",
       "      <td>Energizer - Energi Rechargeable Power Pack for Select Mobile Phones and Electronic Devices - Black</td>\n",
       "      <td>1.0</td>\n",
       "      <td>1.0</td>\n",
       "      <td>{'was_impossible': False}</td>\n",
       "      <td>0</td>\n",
       "      <td>121</td>\n",
       "      <td>0.0</td>\n",
       "    </tr>\n",
       "    <tr>\n",
       "      <th>24468</th>\n",
       "      <td>b9a32d4fc48a58722e1312f66f3220d22ddb8969</td>\n",
       "      <td>iRobot - Roomba 560 Vacuum Cleaning Robot - Black/Silver</td>\n",
       "      <td>1.0</td>\n",
       "      <td>1.0</td>\n",
       "      <td>{'was_impossible': False}</td>\n",
       "      <td>0</td>\n",
       "      <td>170</td>\n",
       "      <td>0.0</td>\n",
       "    </tr>\n",
       "    <tr>\n",
       "      <th>52186</th>\n",
       "      <td>b667bfe607884362d220f892714d5b98efb8cd8d</td>\n",
       "      <td>Wacom - Bamboo Pen and Touch - Black</td>\n",
       "      <td>1.0</td>\n",
       "      <td>1.0</td>\n",
       "      <td>{'was_impossible': False}</td>\n",
       "      <td>1</td>\n",
       "      <td>213</td>\n",
       "      <td>0.0</td>\n",
       "    </tr>\n",
       "    <tr>\n",
       "      <th>52188</th>\n",
       "      <td>20517136173cf132da194734c1ac5cb1d79f3c07</td>\n",
       "      <td>NETGEAR - N150 Wireless-N Router</td>\n",
       "      <td>1.0</td>\n",
       "      <td>1.0</td>\n",
       "      <td>{'was_impossible': False}</td>\n",
       "      <td>0</td>\n",
       "      <td>916</td>\n",
       "      <td>0.0</td>\n",
       "    </tr>\n",
       "    <tr>\n",
       "      <th>52191</th>\n",
       "      <td>36169e65ef2dac96061cfcfb8043dcb284f253bc</td>\n",
       "      <td>Pinnacle - Dazzle DVD Recorder Plus Video Capture Cable</td>\n",
       "      <td>1.0</td>\n",
       "      <td>1.0</td>\n",
       "      <td>{'was_impossible': False}</td>\n",
       "      <td>0</td>\n",
       "      <td>572</td>\n",
       "      <td>0.0</td>\n",
       "    </tr>\n",
       "    <tr>\n",
       "      <th>24464</th>\n",
       "      <td>33142664c4b9292a749c7429b7d702a37ea5c241</td>\n",
       "      <td>Sony - DVDirect Express 6x External USB 2.0 DVD±R Drive</td>\n",
       "      <td>1.0</td>\n",
       "      <td>1.0</td>\n",
       "      <td>{'was_impossible': False}</td>\n",
       "      <td>0</td>\n",
       "      <td>833</td>\n",
       "      <td>0.0</td>\n",
       "    </tr>\n",
       "    <tr>\n",
       "      <th>24463</th>\n",
       "      <td>3c60430adb70d8c79cabea90a2bf12b0b8eeacd4</td>\n",
       "      <td>Memorex - 20-Pack 16x LightScribe DVD+R Disc Spindle</td>\n",
       "      <td>1.0</td>\n",
       "      <td>1.0</td>\n",
       "      <td>{'was_impossible': False}</td>\n",
       "      <td>0</td>\n",
       "      <td>220</td>\n",
       "      <td>0.0</td>\n",
       "    </tr>\n",
       "  </tbody>\n",
       "</table>\n",
       "</div>"
      ],
      "text/plain": [
       "                                           user  \\\n",
       "0      e6370edb227d9cee574267a5c0fa1ac9c65b227b   \n",
       "52181  0c03445984bad4229fb2e9c8def238a2739e9ac6   \n",
       "24470  93a89603ceeadbe74462b3885798f40aec139dba   \n",
       "52184  0115de0913537af82a39c7f033f272a20cac04d9   \n",
       "24468  b9a32d4fc48a58722e1312f66f3220d22ddb8969   \n",
       "52186  b667bfe607884362d220f892714d5b98efb8cd8d   \n",
       "52188  20517136173cf132da194734c1ac5cb1d79f3c07   \n",
       "52191  36169e65ef2dac96061cfcfb8043dcb284f253bc   \n",
       "24464  33142664c4b9292a749c7429b7d702a37ea5c241   \n",
       "24463  3c60430adb70d8c79cabea90a2bf12b0b8eeacd4   \n",
       "\n",
       "                                                                                                item_name  \\\n",
       "0      Beats By Dr. Dre - Beats Tour Earbud Headphones - Black                                              \n",
       "52181  Magellan - RoadMate 2036 GPS - Black/Silver                                                          \n",
       "24470  Honeywell - Portable Electronic Ceramic Heater - Gray                                                \n",
       "52184  Energizer - Energi Rechargeable Power Pack for Select Mobile Phones and Electronic Devices - Black   \n",
       "24468  iRobot - Roomba 560 Vacuum Cleaning Robot - Black/Silver                                             \n",
       "52186  Wacom - Bamboo Pen and Touch - Black                                                                 \n",
       "52188  NETGEAR - N150 Wireless-N Router                                                                     \n",
       "52191  Pinnacle - Dazzle DVD Recorder Plus Video Capture Cable                                              \n",
       "24464  Sony - DVDirect Express 6x External USB 2.0 DVD±R Drive                                              \n",
       "24463  Memorex - 20-Pack 16x LightScribe DVD+R Disc Spindle                                                 \n",
       "\n",
       "       flag_viewed  est                    details  Iu    Ui  err  \n",
       "0      1.0          1.0  {'was_impossible': False}  0   3389  0.0  \n",
       "52181  1.0          1.0  {'was_impossible': False}  0   155   0.0  \n",
       "24470  1.0          1.0  {'was_impossible': False}  0   247   0.0  \n",
       "52184  1.0          1.0  {'was_impossible': False}  0   121   0.0  \n",
       "24468  1.0          1.0  {'was_impossible': False}  0   170   0.0  \n",
       "52186  1.0          1.0  {'was_impossible': False}  1   213   0.0  \n",
       "52188  1.0          1.0  {'was_impossible': False}  0   916   0.0  \n",
       "52191  1.0          1.0  {'was_impossible': False}  0   572   0.0  \n",
       "24464  1.0          1.0  {'was_impossible': False}  0   833   0.0  \n",
       "24463  1.0          1.0  {'was_impossible': False}  0   220   0.0  "
      ]
     },
     "execution_count": 108,
     "metadata": {},
     "output_type": "execute_result"
    }
   ],
   "source": [
    "best_predictions"
   ]
  },
  {
   "cell_type": "code",
   "execution_count": 109,
   "metadata": {},
   "outputs": [
    {
     "data": {
      "text/html": [
       "<div>\n",
       "<style scoped>\n",
       "    .dataframe tbody tr th:only-of-type {\n",
       "        vertical-align: middle;\n",
       "    }\n",
       "\n",
       "    .dataframe tbody tr th {\n",
       "        vertical-align: top;\n",
       "    }\n",
       "\n",
       "    .dataframe thead th {\n",
       "        text-align: right;\n",
       "    }\n",
       "</style>\n",
       "<table border=\"1\" class=\"dataframe\">\n",
       "  <thead>\n",
       "    <tr style=\"text-align: right;\">\n",
       "      <th></th>\n",
       "      <th>user</th>\n",
       "      <th>item_name</th>\n",
       "      <th>flag_viewed</th>\n",
       "      <th>est</th>\n",
       "      <th>details</th>\n",
       "      <th>Iu</th>\n",
       "      <th>Ui</th>\n",
       "      <th>err</th>\n",
       "    </tr>\n",
       "  </thead>\n",
       "  <tbody>\n",
       "    <tr>\n",
       "      <th>61431</th>\n",
       "      <td>81d68524f76a84735f03ec3a544e287e43583074</td>\n",
       "      <td>Rocketfish™ - Bluetooth Mono Headset for PlayStation 3</td>\n",
       "      <td>1.0</td>\n",
       "      <td>0.898910</td>\n",
       "      <td>{'was_impossible': False}</td>\n",
       "      <td>2</td>\n",
       "      <td>131</td>\n",
       "      <td>0.101090</td>\n",
       "    </tr>\n",
       "    <tr>\n",
       "      <th>44455</th>\n",
       "      <td>b041f1308d80d9d642b5edd812bdfd61090987bb</td>\n",
       "      <td>Samsung - 25.8 Cu. Ft. French Door Refrigerator - Stainless Platinum</td>\n",
       "      <td>1.0</td>\n",
       "      <td>0.898630</td>\n",
       "      <td>{'was_impossible': False}</td>\n",
       "      <td>2</td>\n",
       "      <td>88</td>\n",
       "      <td>0.101370</td>\n",
       "    </tr>\n",
       "    <tr>\n",
       "      <th>36222</th>\n",
       "      <td>8e6ade5993ae64fe28de2b8ac29c49bad455ada9</td>\n",
       "      <td>KitchenAid - Classic Stand Mixer - White</td>\n",
       "      <td>1.0</td>\n",
       "      <td>0.898612</td>\n",
       "      <td>{'was_impossible': False}</td>\n",
       "      <td>1</td>\n",
       "      <td>132</td>\n",
       "      <td>0.101388</td>\n",
       "    </tr>\n",
       "    <tr>\n",
       "      <th>3282</th>\n",
       "      <td>a35426851592ce6ab0e34aa30e129c6600a39afc</td>\n",
       "      <td>Init™ - 50-Blu-ray Disc Media Tower</td>\n",
       "      <td>1.0</td>\n",
       "      <td>0.896034</td>\n",
       "      <td>{'was_impossible': False}</td>\n",
       "      <td>1</td>\n",
       "      <td>106</td>\n",
       "      <td>0.103966</td>\n",
       "    </tr>\n",
       "    <tr>\n",
       "      <th>59651</th>\n",
       "      <td>10d6104685a48ef3211d4537e9f26d8bd138be98</td>\n",
       "      <td>Garmin Nuvi 1400 Series: 1450, 1450t, 1450lm, 1450lmt - DVD</td>\n",
       "      <td>1.0</td>\n",
       "      <td>0.893701</td>\n",
       "      <td>{'was_impossible': False}</td>\n",
       "      <td>2</td>\n",
       "      <td>81</td>\n",
       "      <td>0.106299</td>\n",
       "    </tr>\n",
       "    <tr>\n",
       "      <th>18237</th>\n",
       "      <td>39e00d79c43f18c386961f3690b60ce0ec44d008</td>\n",
       "      <td>DIRECTV - Universal Remote</td>\n",
       "      <td>1.0</td>\n",
       "      <td>0.892873</td>\n",
       "      <td>{'was_impossible': False}</td>\n",
       "      <td>2</td>\n",
       "      <td>146</td>\n",
       "      <td>0.107127</td>\n",
       "    </tr>\n",
       "    <tr>\n",
       "      <th>18681</th>\n",
       "      <td>6bbc3405be85854efb259396036f39de7ade1141</td>\n",
       "      <td>Frigidaire - 30\" Freestanding Gas Range - Stainless-Steel</td>\n",
       "      <td>1.0</td>\n",
       "      <td>0.889528</td>\n",
       "      <td>{'was_impossible': False}</td>\n",
       "      <td>3</td>\n",
       "      <td>76</td>\n",
       "      <td>0.110472</td>\n",
       "    </tr>\n",
       "    <tr>\n",
       "      <th>80830</th>\n",
       "      <td>09818ecb4f5366fce765446a116124be00dc20e0</td>\n",
       "      <td>Frigidaire - 30\" Freestanding Gas Range - Stainless-Steel</td>\n",
       "      <td>1.0</td>\n",
       "      <td>0.888678</td>\n",
       "      <td>{'was_impossible': False}</td>\n",
       "      <td>2</td>\n",
       "      <td>76</td>\n",
       "      <td>0.111322</td>\n",
       "    </tr>\n",
       "    <tr>\n",
       "      <th>29754</th>\n",
       "      <td>29b1e5ab0da68928d7e9e8d6850bb60050ebba74</td>\n",
       "      <td>Maestro by Gibson - 6-String Full-Size Acoustic Guitar - Black</td>\n",
       "      <td>1.0</td>\n",
       "      <td>0.872491</td>\n",
       "      <td>{'was_impossible': False}</td>\n",
       "      <td>1</td>\n",
       "      <td>76</td>\n",
       "      <td>0.127509</td>\n",
       "    </tr>\n",
       "    <tr>\n",
       "      <th>44476</th>\n",
       "      <td>db607dcc663579b8eb6bb0034048b63724a5d1f5</td>\n",
       "      <td>Ion Audio - Profile LP USB DJ Turntable - Black</td>\n",
       "      <td>1.0</td>\n",
       "      <td>0.839234</td>\n",
       "      <td>{'was_impossible': False}</td>\n",
       "      <td>1</td>\n",
       "      <td>86</td>\n",
       "      <td>0.160766</td>\n",
       "    </tr>\n",
       "  </tbody>\n",
       "</table>\n",
       "</div>"
      ],
      "text/plain": [
       "                                           user  \\\n",
       "61431  81d68524f76a84735f03ec3a544e287e43583074   \n",
       "44455  b041f1308d80d9d642b5edd812bdfd61090987bb   \n",
       "36222  8e6ade5993ae64fe28de2b8ac29c49bad455ada9   \n",
       "3282   a35426851592ce6ab0e34aa30e129c6600a39afc   \n",
       "59651  10d6104685a48ef3211d4537e9f26d8bd138be98   \n",
       "18237  39e00d79c43f18c386961f3690b60ce0ec44d008   \n",
       "18681  6bbc3405be85854efb259396036f39de7ade1141   \n",
       "80830  09818ecb4f5366fce765446a116124be00dc20e0   \n",
       "29754  29b1e5ab0da68928d7e9e8d6850bb60050ebba74   \n",
       "44476  db607dcc663579b8eb6bb0034048b63724a5d1f5   \n",
       "\n",
       "                                                                  item_name  \\\n",
       "61431  Rocketfish™ - Bluetooth Mono Headset for PlayStation 3                 \n",
       "44455  Samsung - 25.8 Cu. Ft. French Door Refrigerator - Stainless Platinum   \n",
       "36222  KitchenAid - Classic Stand Mixer - White                               \n",
       "3282   Init™ - 50-Blu-ray Disc Media Tower                                    \n",
       "59651  Garmin Nuvi 1400 Series: 1450, 1450t, 1450lm, 1450lmt - DVD            \n",
       "18237  DIRECTV - Universal Remote                                             \n",
       "18681  Frigidaire - 30\" Freestanding Gas Range - Stainless-Steel              \n",
       "80830  Frigidaire - 30\" Freestanding Gas Range - Stainless-Steel              \n",
       "29754  Maestro by Gibson - 6-String Full-Size Acoustic Guitar - Black         \n",
       "44476  Ion Audio - Profile LP USB DJ Turntable - Black                        \n",
       "\n",
       "       flag_viewed       est                    details  Iu   Ui       err  \n",
       "61431  1.0          0.898910  {'was_impossible': False}  2   131  0.101090  \n",
       "44455  1.0          0.898630  {'was_impossible': False}  2   88   0.101370  \n",
       "36222  1.0          0.898612  {'was_impossible': False}  1   132  0.101388  \n",
       "3282   1.0          0.896034  {'was_impossible': False}  1   106  0.103966  \n",
       "59651  1.0          0.893701  {'was_impossible': False}  2   81   0.106299  \n",
       "18237  1.0          0.892873  {'was_impossible': False}  2   146  0.107127  \n",
       "18681  1.0          0.889528  {'was_impossible': False}  3   76   0.110472  \n",
       "80830  1.0          0.888678  {'was_impossible': False}  2   76   0.111322  \n",
       "29754  1.0          0.872491  {'was_impossible': False}  1   76   0.127509  \n",
       "44476  1.0          0.839234  {'was_impossible': False}  1   86   0.160766  "
      ]
     },
     "execution_count": 109,
     "metadata": {},
     "output_type": "execute_result"
    }
   ],
   "source": [
    "worst_predictions"
   ]
  },
  {
   "cell_type": "markdown",
   "metadata": {},
   "source": [
    "# Now we Have a full matrix with predicted flag, we can replace this with our above user and item based collaborative filtering and can find the reccommended items for new and existing users."
   ]
  },
  {
   "cell_type": "code",
   "execution_count": 111,
   "metadata": {},
   "outputs": [],
   "source": [
    "from collections import defaultdict\n",
    "def get_top_n(predictions, n=10):\n",
    "    '''Return the top-N recommendation for each user from a set of predictions.\n",
    "\n",
    "    Args:\n",
    "        predictions(list of Prediction objects): The list of predictions, as\n",
    "            returned by the test method of an algorithm.\n",
    "        n(int): The number of recommendation to output for each user. Default\n",
    "            is 10.\n",
    "\n",
    "    Returns:\n",
    "    A dict where keys are user (raw) ids and values are lists of tuples:\n",
    "        [(raw item id, rating estimation), ...] of size n.\n",
    "    '''\n",
    "\n",
    "    # First map the predictions to each user.\n",
    "    top_n = defaultdict(list)\n",
    "    for uid, iid, true_r, est, _ in predictions:\n",
    "        top_n[uid].append((iid, est))\n",
    "\n",
    "    # Then sort the predictions for each user and retrieve the k highest ones.\n",
    "    for uid, user_ratings in top_n.items():\n",
    "        user_ratings.sort(key=lambda x: x[1], reverse=True)\n",
    "        top_n[uid] = user_ratings[:n]\n",
    "\n",
    "    return top_n\n"
   ]
  },
  {
   "cell_type": "markdown",
   "metadata": {},
   "source": [
    "# Lets see the recommendations for each user"
   ]
  },
  {
   "cell_type": "code",
   "execution_count": 125,
   "metadata": {
    "scrolled": true
   },
   "outputs": [],
   "source": [
    "top_n = get_top_n(predictions, n=11)\n",
    "#converting dict to dataframe \n",
    "rec_df = pd.DataFrame.from_dict(top_n,orient='index')"
   ]
  },
  {
   "cell_type": "code",
   "execution_count": 126,
   "metadata": {},
   "outputs": [
    {
     "data": {
      "text/html": [
       "<div>\n",
       "<style scoped>\n",
       "    .dataframe tbody tr th:only-of-type {\n",
       "        vertical-align: middle;\n",
       "    }\n",
       "\n",
       "    .dataframe tbody tr th {\n",
       "        vertical-align: top;\n",
       "    }\n",
       "\n",
       "    .dataframe thead th {\n",
       "        text-align: right;\n",
       "    }\n",
       "</style>\n",
       "<table border=\"1\" class=\"dataframe\">\n",
       "  <thead>\n",
       "    <tr style=\"text-align: right;\">\n",
       "      <th></th>\n",
       "      <th>0</th>\n",
       "      <th>1</th>\n",
       "      <th>2</th>\n",
       "      <th>3</th>\n",
       "      <th>4</th>\n",
       "      <th>5</th>\n",
       "    </tr>\n",
       "  </thead>\n",
       "  <tbody>\n",
       "    <tr>\n",
       "      <th>e6370edb227d9cee574267a5c0fa1ac9c65b227b</th>\n",
       "      <td>(Beats By Dr. Dre - Beats Tour Earbud Headphones - Black, 1)</td>\n",
       "      <td>None</td>\n",
       "      <td>None</td>\n",
       "      <td>None</td>\n",
       "      <td>None</td>\n",
       "      <td>None</td>\n",
       "    </tr>\n",
       "    <tr>\n",
       "      <th>177f039a31dd205287d56f59c4bb0968a9818b9e</th>\n",
       "      <td>(Experience Hendrix: The Best of Jimi Hendrix - CD, 0.9911597835954931)</td>\n",
       "      <td>None</td>\n",
       "      <td>None</td>\n",
       "      <td>None</td>\n",
       "      <td>None</td>\n",
       "      <td>None</td>\n",
       "    </tr>\n",
       "    <tr>\n",
       "      <th>2963099477a951b7d1d52e440941c0883dde3293</th>\n",
       "      <td>(NETGEAR - 1-port Powerline Adapter Kit, 0.9997818588190195)</td>\n",
       "      <td>None</td>\n",
       "      <td>None</td>\n",
       "      <td>None</td>\n",
       "      <td>None</td>\n",
       "      <td>None</td>\n",
       "    </tr>\n",
       "    <tr>\n",
       "      <th>3ddbeb02bfc0cb1ef014319bc3555cab0c555383</th>\n",
       "      <td>(Frigidaire - 5.0 Cu. Ft. Chest Freezer - White, 0.9988070405610905)</td>\n",
       "      <td>None</td>\n",
       "      <td>None</td>\n",
       "      <td>None</td>\n",
       "      <td>None</td>\n",
       "      <td>None</td>\n",
       "    </tr>\n",
       "    <tr>\n",
       "      <th>f9750464efff8e50747f3464a1ba946360d48037</th>\n",
       "      <td>(Apple® - iPod touch® 8GB* MP3 Player (4th Generation - Latest Model) - Black, 0.9999992644736726)</td>\n",
       "      <td>None</td>\n",
       "      <td>None</td>\n",
       "      <td>None</td>\n",
       "      <td>None</td>\n",
       "      <td>None</td>\n",
       "    </tr>\n",
       "    <tr>\n",
       "      <th>ab87549100c62cc9758c3861f3497e29d32bce74</th>\n",
       "      <td>(Rocketfish™ - Rocketfish™ 8' HDMI Digital A/V Cable for Xbox 360, 0.9939115575716444)</td>\n",
       "      <td>None</td>\n",
       "      <td>None</td>\n",
       "      <td>None</td>\n",
       "      <td>None</td>\n",
       "      <td>None</td>\n",
       "    </tr>\n",
       "    <tr>\n",
       "      <th>5cdd3388e4566cddcb6c9eeffd4cd4a4d1899228</th>\n",
       "      <td>(Optoma - Pico Pocket DLP Projector, 1)</td>\n",
       "      <td>None</td>\n",
       "      <td>None</td>\n",
       "      <td>None</td>\n",
       "      <td>None</td>\n",
       "      <td>None</td>\n",
       "    </tr>\n",
       "    <tr>\n",
       "      <th>cbfa1df0aef229f2f4554bedc5d87b54a7f267ee</th>\n",
       "      <td>(Nikon - D90 12.3-Megapixel Digital SLR Camera - Black, 0.9978589957129274)</td>\n",
       "      <td>(Euro-Pro - 0.5 Cu. Ft. 6-Slice Toaster Oven - Black, 0.9853055680953198)</td>\n",
       "      <td>None</td>\n",
       "      <td>None</td>\n",
       "      <td>None</td>\n",
       "      <td>None</td>\n",
       "    </tr>\n",
       "    <tr>\n",
       "      <th>02b6ca914857c434d397f3c509b5f44c205201ca</th>\n",
       "      <td>(Alpine - 500W Class D Mono MOSFET Amplifier with Adjustable Crossover, 1)</td>\n",
       "      <td>None</td>\n",
       "      <td>None</td>\n",
       "      <td>None</td>\n",
       "      <td>None</td>\n",
       "      <td>None</td>\n",
       "    </tr>\n",
       "    <tr>\n",
       "      <th>a8f882338dbf66aa2578a5f673ad2ffb551cc823</th>\n",
       "      <td>(HP - 564 Ink Cartridge - Black, 1)</td>\n",
       "      <td>None</td>\n",
       "      <td>None</td>\n",
       "      <td>None</td>\n",
       "      <td>None</td>\n",
       "      <td>None</td>\n",
       "    </tr>\n",
       "    <tr>\n",
       "      <th>82128267eb868ee5f8bfcbe1967a1ef86ed93d62</th>\n",
       "      <td>(Skullcandy - Hesh Stereo DJ Headphones 2011 Model - Black, 0.9999756281516299)</td>\n",
       "      <td>None</td>\n",
       "      <td>None</td>\n",
       "      <td>None</td>\n",
       "      <td>None</td>\n",
       "      <td>None</td>\n",
       "    </tr>\n",
       "    <tr>\n",
       "      <th>60cdaac9cc8f134f04e422f8053529b33c11c458</th>\n",
       "      <td>(MLB Front Office Manager - Windows, 0.9981325822972618)</td>\n",
       "      <td>None</td>\n",
       "      <td>None</td>\n",
       "      <td>None</td>\n",
       "      <td>None</td>\n",
       "      <td>None</td>\n",
       "    </tr>\n",
       "  </tbody>\n",
       "</table>\n",
       "</div>"
      ],
      "text/plain": [
       "                                                                                                                                           0  \\\n",
       "e6370edb227d9cee574267a5c0fa1ac9c65b227b  (Beats By Dr. Dre - Beats Tour Earbud Headphones - Black, 1)                                         \n",
       "177f039a31dd205287d56f59c4bb0968a9818b9e  (Experience Hendrix: The Best of Jimi Hendrix - CD, 0.9911597835954931)                              \n",
       "2963099477a951b7d1d52e440941c0883dde3293  (NETGEAR - 1-port Powerline Adapter Kit, 0.9997818588190195)                                         \n",
       "3ddbeb02bfc0cb1ef014319bc3555cab0c555383  (Frigidaire - 5.0 Cu. Ft. Chest Freezer - White, 0.9988070405610905)                                 \n",
       "f9750464efff8e50747f3464a1ba946360d48037  (Apple® - iPod touch® 8GB* MP3 Player (4th Generation - Latest Model) - Black, 0.9999992644736726)   \n",
       "ab87549100c62cc9758c3861f3497e29d32bce74  (Rocketfish™ - Rocketfish™ 8' HDMI Digital A/V Cable for Xbox 360, 0.9939115575716444)               \n",
       "5cdd3388e4566cddcb6c9eeffd4cd4a4d1899228  (Optoma - Pico Pocket DLP Projector, 1)                                                              \n",
       "cbfa1df0aef229f2f4554bedc5d87b54a7f267ee  (Nikon - D90 12.3-Megapixel Digital SLR Camera - Black, 0.9978589957129274)                          \n",
       "02b6ca914857c434d397f3c509b5f44c205201ca  (Alpine - 500W Class D Mono MOSFET Amplifier with Adjustable Crossover, 1)                           \n",
       "a8f882338dbf66aa2578a5f673ad2ffb551cc823  (HP - 564 Ink Cartridge - Black, 1)                                                                  \n",
       "82128267eb868ee5f8bfcbe1967a1ef86ed93d62  (Skullcandy - Hesh Stereo DJ Headphones 2011 Model - Black, 0.9999756281516299)                      \n",
       "60cdaac9cc8f134f04e422f8053529b33c11c458  (MLB Front Office Manager - Windows, 0.9981325822972618)                                             \n",
       "\n",
       "                                                                                                                  1  \\\n",
       "e6370edb227d9cee574267a5c0fa1ac9c65b227b  None                                                                        \n",
       "177f039a31dd205287d56f59c4bb0968a9818b9e  None                                                                        \n",
       "2963099477a951b7d1d52e440941c0883dde3293  None                                                                        \n",
       "3ddbeb02bfc0cb1ef014319bc3555cab0c555383  None                                                                        \n",
       "f9750464efff8e50747f3464a1ba946360d48037  None                                                                        \n",
       "ab87549100c62cc9758c3861f3497e29d32bce74  None                                                                        \n",
       "5cdd3388e4566cddcb6c9eeffd4cd4a4d1899228  None                                                                        \n",
       "cbfa1df0aef229f2f4554bedc5d87b54a7f267ee  (Euro-Pro - 0.5 Cu. Ft. 6-Slice Toaster Oven - Black, 0.9853055680953198)   \n",
       "02b6ca914857c434d397f3c509b5f44c205201ca  None                                                                        \n",
       "a8f882338dbf66aa2578a5f673ad2ffb551cc823  None                                                                        \n",
       "82128267eb868ee5f8bfcbe1967a1ef86ed93d62  None                                                                        \n",
       "60cdaac9cc8f134f04e422f8053529b33c11c458  None                                                                        \n",
       "\n",
       "                                             2     3     4     5  \n",
       "e6370edb227d9cee574267a5c0fa1ac9c65b227b  None  None  None  None  \n",
       "177f039a31dd205287d56f59c4bb0968a9818b9e  None  None  None  None  \n",
       "2963099477a951b7d1d52e440941c0883dde3293  None  None  None  None  \n",
       "3ddbeb02bfc0cb1ef014319bc3555cab0c555383  None  None  None  None  \n",
       "f9750464efff8e50747f3464a1ba946360d48037  None  None  None  None  \n",
       "ab87549100c62cc9758c3861f3497e29d32bce74  None  None  None  None  \n",
       "5cdd3388e4566cddcb6c9eeffd4cd4a4d1899228  None  None  None  None  \n",
       "cbfa1df0aef229f2f4554bedc5d87b54a7f267ee  None  None  None  None  \n",
       "02b6ca914857c434d397f3c509b5f44c205201ca  None  None  None  None  \n",
       "a8f882338dbf66aa2578a5f673ad2ffb551cc823  None  None  None  None  \n",
       "82128267eb868ee5f8bfcbe1967a1ef86ed93d62  None  None  None  None  \n",
       "60cdaac9cc8f134f04e422f8053529b33c11c458  None  None  None  None  "
      ]
     },
     "execution_count": 126,
     "metadata": {},
     "output_type": "execute_result"
    }
   ],
   "source": [
    "pd.set_option('display.max_colwidth', -1)\n",
    "rec_df.head(12)"
   ]
  },
  {
   "cell_type": "code",
   "execution_count": 114,
   "metadata": {},
   "outputs": [],
   "source": [
    "user1 = \"889dea4aeb8f72eb0a1f6c0c89f42f4f3d107898\"\n",
    "user2 = \"e93d81ed71a34bf33b61a4bc0cd2a486d73da2d2\""
   ]
  },
  {
   "cell_type": "code",
   "execution_count": 127,
   "metadata": {},
   "outputs": [
    {
     "data": {
      "text/html": [
       "<div>\n",
       "<style scoped>\n",
       "    .dataframe tbody tr th:only-of-type {\n",
       "        vertical-align: middle;\n",
       "    }\n",
       "\n",
       "    .dataframe tbody tr th {\n",
       "        vertical-align: top;\n",
       "    }\n",
       "\n",
       "    .dataframe thead th {\n",
       "        text-align: right;\n",
       "    }\n",
       "</style>\n",
       "<table border=\"1\" class=\"dataframe\">\n",
       "  <thead>\n",
       "    <tr style=\"text-align: right;\">\n",
       "      <th></th>\n",
       "      <th>0</th>\n",
       "      <th>1</th>\n",
       "      <th>2</th>\n",
       "      <th>3</th>\n",
       "      <th>4</th>\n",
       "      <th>5</th>\n",
       "    </tr>\n",
       "  </thead>\n",
       "  <tbody>\n",
       "    <tr>\n",
       "      <th>889dea4aeb8f72eb0a1f6c0c89f42f4f3d107898</th>\n",
       "      <td>(Best Buy GC - $100 Gift Card, 0.9974162176903099)</td>\n",
       "      <td>None</td>\n",
       "      <td>None</td>\n",
       "      <td>None</td>\n",
       "      <td>None</td>\n",
       "      <td>None</td>\n",
       "    </tr>\n",
       "  </tbody>\n",
       "</table>\n",
       "</div>"
      ],
      "text/plain": [
       "                                                                                           0  \\\n",
       "889dea4aeb8f72eb0a1f6c0c89f42f4f3d107898  (Best Buy GC - $100 Gift Card, 0.9974162176903099)   \n",
       "\n",
       "                                             1     2     3     4     5  \n",
       "889dea4aeb8f72eb0a1f6c0c89f42f4f3d107898  None  None  None  None  None  "
      ]
     },
     "execution_count": 127,
     "metadata": {},
     "output_type": "execute_result"
    }
   ],
   "source": [
    "pd.set_option('display.max_colwidth', -1)\n",
    "rec_df.loc[[user1]]"
   ]
  },
  {
   "cell_type": "code",
   "execution_count": 394,
   "metadata": {},
   "outputs": [
    {
     "data": {
      "text/html": [
       "<div>\n",
       "<style scoped>\n",
       "    .dataframe tbody tr th:only-of-type {\n",
       "        vertical-align: middle;\n",
       "    }\n",
       "\n",
       "    .dataframe tbody tr th {\n",
       "        vertical-align: top;\n",
       "    }\n",
       "\n",
       "    .dataframe thead th {\n",
       "        text-align: right;\n",
       "    }\n",
       "</style>\n",
       "<table border=\"1\" class=\"dataframe\">\n",
       "  <thead>\n",
       "    <tr style=\"text-align: right;\">\n",
       "      <th></th>\n",
       "      <th>0</th>\n",
       "      <th>1</th>\n",
       "      <th>2</th>\n",
       "      <th>3</th>\n",
       "      <th>4</th>\n",
       "      <th>5</th>\n",
       "    </tr>\n",
       "  </thead>\n",
       "  <tbody>\n",
       "    <tr>\n",
       "      <th>e93d81ed71a34bf33b61a4bc0cd2a486d73da2d2</th>\n",
       "      <td>(Altec Lansing - Mix Digital Boombox for Apple® iPhone and iPod® - Black, 1)</td>\n",
       "      <td>None</td>\n",
       "      <td>None</td>\n",
       "      <td>None</td>\n",
       "      <td>None</td>\n",
       "      <td>None</td>\n",
       "    </tr>\n",
       "  </tbody>\n",
       "</table>\n",
       "</div>"
      ],
      "text/plain": [
       "                                                                                                                     0  \\\n",
       "e93d81ed71a34bf33b61a4bc0cd2a486d73da2d2  (Altec Lansing - Mix Digital Boombox for Apple® iPhone and iPod® - Black, 1)   \n",
       "\n",
       "                                             1     2     3     4     5  \n",
       "e93d81ed71a34bf33b61a4bc0cd2a486d73da2d2  None  None  None  None  None  "
      ]
     },
     "execution_count": 394,
     "metadata": {},
     "output_type": "execute_result"
    }
   ],
   "source": [
    "rec_df.loc[[user2]]"
   ]
  },
  {
   "cell_type": "code",
   "execution_count": null,
   "metadata": {},
   "outputs": [],
   "source": []
  },
  {
   "cell_type": "code",
   "execution_count": null,
   "metadata": {},
   "outputs": [],
   "source": []
  },
  {
   "cell_type": "markdown",
   "metadata": {},
   "source": [
    "# Collborative filtering using ALS model on pySPARK"
   ]
  },
  {
   "cell_type": "markdown",
   "metadata": {},
   "source": [
    "# Creating New user ids for ALS Spark\n",
    "as it takes only integer values"
   ]
  },
  {
   "cell_type": "code",
   "execution_count": 648,
   "metadata": {},
   "outputs": [
    {
     "data": {
      "text/html": [
       "<div>\n",
       "<style scoped>\n",
       "    .dataframe tbody tr th:only-of-type {\n",
       "        vertical-align: middle;\n",
       "    }\n",
       "\n",
       "    .dataframe tbody tr th {\n",
       "        vertical-align: top;\n",
       "    }\n",
       "\n",
       "    .dataframe thead th {\n",
       "        text-align: right;\n",
       "    }\n",
       "</style>\n",
       "<table border=\"1\" class=\"dataframe\">\n",
       "  <thead>\n",
       "    <tr style=\"text-align: right;\">\n",
       "      <th></th>\n",
       "      <th>sku</th>\n",
       "      <th>user</th>\n",
       "      <th>c</th>\n",
       "      <th>name</th>\n",
       "      <th>flag</th>\n",
       "    </tr>\n",
       "  </thead>\n",
       "  <tbody>\n",
       "    <tr>\n",
       "      <th>0</th>\n",
       "      <td>7897001</td>\n",
       "      <td>010461547b74e04bdb900c3a612ad7df3a70168f</td>\n",
       "      <td>Receivers</td>\n",
       "      <td>Denon - 160W 2.1-Ch. XM Satellite Radio/iPod®-Ready A/V Stereo Receiver</td>\n",
       "      <td>1</td>\n",
       "    </tr>\n",
       "    <tr>\n",
       "      <th>1</th>\n",
       "      <td>7897001</td>\n",
       "      <td>0616cb5e8b94040fb1c0506e0d98e266b0450fdd</td>\n",
       "      <td>Receivers</td>\n",
       "      <td>Denon - 160W 2.1-Ch. XM Satellite Radio/iPod®-Ready A/V Stereo Receiver</td>\n",
       "      <td>1</td>\n",
       "    </tr>\n",
       "    <tr>\n",
       "      <th>2</th>\n",
       "      <td>7897001</td>\n",
       "      <td>074bc31a4a7accd9b7617f97c78d90082c236034</td>\n",
       "      <td>Receivers</td>\n",
       "      <td>Denon - 160W 2.1-Ch. XM Satellite Radio/iPod®-Ready A/V Stereo Receiver</td>\n",
       "      <td>1</td>\n",
       "    </tr>\n",
       "    <tr>\n",
       "      <th>3</th>\n",
       "      <td>7897001</td>\n",
       "      <td>07677aca5702e51409ac805532014e590cf2e2c9</td>\n",
       "      <td>Receivers</td>\n",
       "      <td>Denon - 160W 2.1-Ch. XM Satellite Radio/iPod®-Ready A/V Stereo Receiver</td>\n",
       "      <td>1</td>\n",
       "    </tr>\n",
       "    <tr>\n",
       "      <th>4</th>\n",
       "      <td>7897001</td>\n",
       "      <td>085477d327521eb32b91f12a966386b308f1c5c0</td>\n",
       "      <td>Receivers</td>\n",
       "      <td>Denon - 160W 2.1-Ch. XM Satellite Radio/iPod®-Ready A/V Stereo Receiver</td>\n",
       "      <td>1</td>\n",
       "    </tr>\n",
       "  </tbody>\n",
       "</table>\n",
       "</div>"
      ],
      "text/plain": [
       "       sku                                      user          c  \\\n",
       "0  7897001  010461547b74e04bdb900c3a612ad7df3a70168f  Receivers   \n",
       "1  7897001  0616cb5e8b94040fb1c0506e0d98e266b0450fdd  Receivers   \n",
       "2  7897001  074bc31a4a7accd9b7617f97c78d90082c236034  Receivers   \n",
       "3  7897001  07677aca5702e51409ac805532014e590cf2e2c9  Receivers   \n",
       "4  7897001  085477d327521eb32b91f12a966386b308f1c5c0  Receivers   \n",
       "\n",
       "                                                                      name  \\\n",
       "0  Denon - 160W 2.1-Ch. XM Satellite Radio/iPod®-Ready A/V Stereo Receiver   \n",
       "1  Denon - 160W 2.1-Ch. XM Satellite Radio/iPod®-Ready A/V Stereo Receiver   \n",
       "2  Denon - 160W 2.1-Ch. XM Satellite Radio/iPod®-Ready A/V Stereo Receiver   \n",
       "3  Denon - 160W 2.1-Ch. XM Satellite Radio/iPod®-Ready A/V Stereo Receiver   \n",
       "4  Denon - 160W 2.1-Ch. XM Satellite Radio/iPod®-Ready A/V Stereo Receiver   \n",
       "\n",
       "   flag  \n",
       "0  1     \n",
       "1  1     \n",
       "2  1     \n",
       "3  1     \n",
       "4  1     "
      ]
     },
     "execution_count": 648,
     "metadata": {},
     "output_type": "execute_result"
    }
   ],
   "source": [
    "a = pd.read_csv(\"merged.csv\")\n",
    "a.columns = ['sku','user','c','name','flag']\n",
    "a.head()"
   ]
  },
  {
   "cell_type": "code",
   "execution_count": 649,
   "metadata": {},
   "outputs": [],
   "source": [
    "usermap = pd.DataFrame(a['user'].unique())\n",
    "usermap.reset_index(inplace = True)\n"
   ]
  },
  {
   "cell_type": "code",
   "execution_count": 650,
   "metadata": {},
   "outputs": [],
   "source": [
    "usermap.columns = ['new_user_id','user']\n"
   ]
  },
  {
   "cell_type": "code",
   "execution_count": 651,
   "metadata": {},
   "outputs": [
    {
     "data": {
      "text/html": [
       "<div>\n",
       "<style scoped>\n",
       "    .dataframe tbody tr th:only-of-type {\n",
       "        vertical-align: middle;\n",
       "    }\n",
       "\n",
       "    .dataframe tbody tr th {\n",
       "        vertical-align: top;\n",
       "    }\n",
       "\n",
       "    .dataframe thead th {\n",
       "        text-align: right;\n",
       "    }\n",
       "</style>\n",
       "<table border=\"1\" class=\"dataframe\">\n",
       "  <thead>\n",
       "    <tr style=\"text-align: right;\">\n",
       "      <th></th>\n",
       "      <th>new_user_id</th>\n",
       "      <th>user</th>\n",
       "    </tr>\n",
       "  </thead>\n",
       "  <tbody>\n",
       "    <tr>\n",
       "      <th>0</th>\n",
       "      <td>0</td>\n",
       "      <td>010461547b74e04bdb900c3a612ad7df3a70168f</td>\n",
       "    </tr>\n",
       "    <tr>\n",
       "      <th>1</th>\n",
       "      <td>1</td>\n",
       "      <td>0616cb5e8b94040fb1c0506e0d98e266b0450fdd</td>\n",
       "    </tr>\n",
       "    <tr>\n",
       "      <th>2</th>\n",
       "      <td>2</td>\n",
       "      <td>074bc31a4a7accd9b7617f97c78d90082c236034</td>\n",
       "    </tr>\n",
       "    <tr>\n",
       "      <th>3</th>\n",
       "      <td>3</td>\n",
       "      <td>07677aca5702e51409ac805532014e590cf2e2c9</td>\n",
       "    </tr>\n",
       "    <tr>\n",
       "      <th>4</th>\n",
       "      <td>4</td>\n",
       "      <td>085477d327521eb32b91f12a966386b308f1c5c0</td>\n",
       "    </tr>\n",
       "  </tbody>\n",
       "</table>\n",
       "</div>"
      ],
      "text/plain": [
       "   new_user_id                                      user\n",
       "0  0            010461547b74e04bdb900c3a612ad7df3a70168f\n",
       "1  1            0616cb5e8b94040fb1c0506e0d98e266b0450fdd\n",
       "2  2            074bc31a4a7accd9b7617f97c78d90082c236034\n",
       "3  3            07677aca5702e51409ac805532014e590cf2e2c9\n",
       "4  4            085477d327521eb32b91f12a966386b308f1c5c0"
      ]
     },
     "execution_count": 651,
     "metadata": {},
     "output_type": "execute_result"
    }
   ],
   "source": [
    "usermap.head()\n"
   ]
  },
  {
   "cell_type": "code",
   "execution_count": 652,
   "metadata": {},
   "outputs": [],
   "source": [
    "merged_new_user_id = usermap.merge(a,on = 'user',how = 'inner')"
   ]
  },
  {
   "cell_type": "code",
   "execution_count": 653,
   "metadata": {},
   "outputs": [
    {
     "data": {
      "text/html": [
       "<div>\n",
       "<style scoped>\n",
       "    .dataframe tbody tr th:only-of-type {\n",
       "        vertical-align: middle;\n",
       "    }\n",
       "\n",
       "    .dataframe tbody tr th {\n",
       "        vertical-align: top;\n",
       "    }\n",
       "\n",
       "    .dataframe thead th {\n",
       "        text-align: right;\n",
       "    }\n",
       "</style>\n",
       "<table border=\"1\" class=\"dataframe\">\n",
       "  <thead>\n",
       "    <tr style=\"text-align: right;\">\n",
       "      <th></th>\n",
       "      <th>new_user_id</th>\n",
       "      <th>user</th>\n",
       "      <th>sku</th>\n",
       "      <th>c</th>\n",
       "      <th>name</th>\n",
       "      <th>flag</th>\n",
       "    </tr>\n",
       "  </thead>\n",
       "  <tbody>\n",
       "    <tr>\n",
       "      <th>0</th>\n",
       "      <td>0</td>\n",
       "      <td>010461547b74e04bdb900c3a612ad7df3a70168f</td>\n",
       "      <td>7897001</td>\n",
       "      <td>Receivers</td>\n",
       "      <td>Denon - 160W 2.1-Ch. XM Satellite Radio/iPod®-Ready A/V Stereo Receiver</td>\n",
       "      <td>1</td>\n",
       "    </tr>\n",
       "    <tr>\n",
       "      <th>1</th>\n",
       "      <td>0</td>\n",
       "      <td>010461547b74e04bdb900c3a612ad7df3a70168f</td>\n",
       "      <td>8872963</td>\n",
       "      <td>iPod &amp; MP3 Cables &amp; Connectors</td>\n",
       "      <td>Griffin Technology - USB 2.0 Dock Connector Cable for Apple® iPod® and iPhone</td>\n",
       "      <td>1</td>\n",
       "    </tr>\n",
       "    <tr>\n",
       "      <th>2</th>\n",
       "      <td>0</td>\n",
       "      <td>010461547b74e04bdb900c3a612ad7df3a70168f</td>\n",
       "      <td>8954232</td>\n",
       "      <td>Best Buy Gift Cards</td>\n",
       "      <td>Best Buy GC - $50 Spare the Earth Gift Card</td>\n",
       "      <td>1</td>\n",
       "    </tr>\n",
       "    <tr>\n",
       "      <th>3</th>\n",
       "      <td>0</td>\n",
       "      <td>010461547b74e04bdb900c3a612ad7df3a70168f</td>\n",
       "      <td>8959834</td>\n",
       "      <td>iPod &amp; MP3 Cables &amp; Connectors</td>\n",
       "      <td>Griffin Technology - Auxiliary Audio Cable - Black</td>\n",
       "      <td>1</td>\n",
       "    </tr>\n",
       "    <tr>\n",
       "      <th>4</th>\n",
       "      <td>0</td>\n",
       "      <td>010461547b74e04bdb900c3a612ad7df3a70168f</td>\n",
       "      <td>9420361</td>\n",
       "      <td>Laptop Chargers &amp; Adapters</td>\n",
       "      <td>Rocketfish™ - 90W AC Power Adapter for Most Laptop PCs - Black</td>\n",
       "      <td>1</td>\n",
       "    </tr>\n",
       "  </tbody>\n",
       "</table>\n",
       "</div>"
      ],
      "text/plain": [
       "   new_user_id                                      user      sku  \\\n",
       "0  0            010461547b74e04bdb900c3a612ad7df3a70168f  7897001   \n",
       "1  0            010461547b74e04bdb900c3a612ad7df3a70168f  8872963   \n",
       "2  0            010461547b74e04bdb900c3a612ad7df3a70168f  8954232   \n",
       "3  0            010461547b74e04bdb900c3a612ad7df3a70168f  8959834   \n",
       "4  0            010461547b74e04bdb900c3a612ad7df3a70168f  9420361   \n",
       "\n",
       "                                c  \\\n",
       "0  Receivers                        \n",
       "1  iPod & MP3 Cables & Connectors   \n",
       "2  Best Buy Gift Cards              \n",
       "3  iPod & MP3 Cables & Connectors   \n",
       "4  Laptop Chargers & Adapters       \n",
       "\n",
       "                                                                            name  \\\n",
       "0  Denon - 160W 2.1-Ch. XM Satellite Radio/iPod®-Ready A/V Stereo Receiver         \n",
       "1  Griffin Technology - USB 2.0 Dock Connector Cable for Apple® iPod® and iPhone   \n",
       "2  Best Buy GC - $50 Spare the Earth Gift Card                                     \n",
       "3  Griffin Technology - Auxiliary Audio Cable - Black                              \n",
       "4  Rocketfish™ - 90W AC Power Adapter for Most Laptop PCs - Black                  \n",
       "\n",
       "   flag  \n",
       "0  1     \n",
       "1  1     \n",
       "2  1     \n",
       "3  1     \n",
       "4  1     "
      ]
     },
     "execution_count": 653,
     "metadata": {},
     "output_type": "execute_result"
    }
   ],
   "source": [
    "merged_new_user_id.head()"
   ]
  },
  {
   "cell_type": "code",
   "execution_count": 654,
   "metadata": {},
   "outputs": [],
   "source": [
    "merged_new_user_id.to_csv('merged_new_user_id.csv',index=False)"
   ]
  },
  {
   "cell_type": "code",
   "execution_count": 619,
   "metadata": {},
   "outputs": [
    {
     "data": {
      "text/plain": [
       "<pyspark.sql.context.SQLContext at 0x2a40cbe80>"
      ]
     },
     "execution_count": 619,
     "metadata": {},
     "output_type": "execute_result"
    }
   ],
   "source": [
    "import findspark\n",
    "findspark.init()\n",
    "import pyspark\n",
    "from pyspark import SparkContext, SparkConf,SQLContext\n",
    "\n",
    "from pyspark.sql import SQLContext, Row\n",
    "sqlContext = SQLContext(sc)\n",
    "\n",
    "conf = SparkConf().setAppName('lecture-lyon2').setMaster('local')\n",
    "sc = SparkContext.getOrCreate(conf=conf)\n",
    "sc\n",
    "sqlContext"
   ]
  },
  {
   "cell_type": "code",
   "execution_count": 620,
   "metadata": {},
   "outputs": [],
   "source": [
    "from pyspark.rdd import RDD"
   ]
  },
  {
   "cell_type": "code",
   "execution_count": 621,
   "metadata": {},
   "outputs": [],
   "source": [
    "from pyspark.ml.evaluation import RegressionEvaluator\n",
    "from pyspark.ml.recommendation import ALS\n",
    "from pyspark.sql import Row"
   ]
  },
  {
   "cell_type": "code",
   "execution_count": 634,
   "metadata": {},
   "outputs": [],
   "source": [
    "lines = sqlContext.read.text(\"merged_new_user_id.csv\").rdd\n"
   ]
  },
  {
   "cell_type": "code",
   "execution_count": 635,
   "metadata": {},
   "outputs": [],
   "source": [
    "parts = lines.map(lambda row: row.value.split(','))\n"
   ]
  },
  {
   "cell_type": "code",
   "execution_count": 636,
   "metadata": {},
   "outputs": [
    {
     "data": {
      "text/plain": [
       "['0',\n",
       " '010461547b74e04bdb900c3a612ad7df3a70168f',\n",
       " '7897001',\n",
       " 'Receivers',\n",
       " 'Denon - 160W 2.1-Ch. XM Satellite Radio/iPod®-Ready A/V Stereo Receiver',\n",
       " '1']"
      ]
     },
     "execution_count": 636,
     "metadata": {},
     "output_type": "execute_result"
    }
   ],
   "source": [
    "parts.collect()[0]\n"
   ]
  },
  {
   "cell_type": "code",
   "execution_count": 643,
   "metadata": {},
   "outputs": [],
   "source": [
    "ratingsRDD = parts.map(lambda p: Row(userId=(p[0]), Item_id=(p[2]),Visited_flag=(p[5])))"
   ]
  },
  {
   "cell_type": "code",
   "execution_count": 644,
   "metadata": {},
   "outputs": [
    {
     "data": {
      "text/plain": [
       "Row(Item_id='7897001', Visited_flag='1', userId='0')"
      ]
     },
     "execution_count": 644,
     "metadata": {},
     "output_type": "execute_result"
    }
   ],
   "source": [
    "ratingsRDD.collect()[0]"
   ]
  },
  {
   "cell_type": "code",
   "execution_count": 645,
   "metadata": {},
   "outputs": [],
   "source": [
    "ratings = sqlContext.createDataFrame(ratingsRDD)\n"
   ]
  },
  {
   "cell_type": "code",
   "execution_count": 646,
   "metadata": {},
   "outputs": [
    {
     "data": {
      "text/plain": [
       "[Row(Item_id='7897001', Visited_flag='1', userId='0'),\n",
       " Row(Item_id='8872963', Visited_flag='1', userId='0')]"
      ]
     },
     "execution_count": 646,
     "metadata": {},
     "output_type": "execute_result"
    }
   ],
   "source": [
    "ratings.collect()[0:2]\n",
    "\n"
   ]
  },
  {
   "cell_type": "code",
   "execution_count": null,
   "metadata": {},
   "outputs": [],
   "source": []
  },
  {
   "cell_type": "code",
   "execution_count": 655,
   "metadata": {},
   "outputs": [
    {
     "name": "stdout",
     "output_type": "stream",
     "text": [
      "root\n",
      " |-- new_user_id: integer (nullable = true)\n",
      " |-- user: string (nullable = true)\n",
      " |-- sku: integer (nullable = true)\n",
      " |-- c: string (nullable = true)\n",
      " |-- name: string (nullable = true)\n",
      " |-- flag: integer (nullable = true)\n",
      "\n",
      "root\n",
      " |-- new_user_id: integer (nullable = true)\n",
      " |-- user: string (nullable = true)\n",
      " |-- sku: integer (nullable = true)\n",
      " |-- c: string (nullable = true)\n",
      " |-- name: string (nullable = true)\n",
      " |-- flag: integer (nullable = true)\n",
      "\n"
     ]
    }
   ],
   "source": [
    "data_df = sqlContext.read.format(\"csv\").load('merged_new_user_id.csv',header=True, inferSchema=\"true\")\n",
    "data_df.printSchema()\n",
    "data_df = data_df.fillna(0)\n",
    "data_df.printSchema()\n",
    "\n"
   ]
  },
  {
   "cell_type": "code",
   "execution_count": 657,
   "metadata": {},
   "outputs": [],
   "source": [
    "ratings = data_df.select('new_user_id', 'sku','flag') \n",
    "          \n",
    "          "
   ]
  },
  {
   "cell_type": "code",
   "execution_count": 658,
   "metadata": {},
   "outputs": [],
   "source": [
    "\n",
    "(training, test) = ratings.randomSplit([0.8, 0.2])\n",
    "\n"
   ]
  },
  {
   "cell_type": "markdown",
   "metadata": {},
   "source": [
    "# Build the recommendation model using ALS on the training data"
   ]
  },
  {
   "cell_type": "code",
   "execution_count": 731,
   "metadata": {},
   "outputs": [],
   "source": [
    "als = ALS(maxIter=5, regParam=0.01, userCol=\"new_user_id\", itemCol=\"sku\", ratingCol=\"flag\",\n",
    "          coldStartStrategy=\"drop\")\n"
   ]
  },
  {
   "cell_type": "code",
   "execution_count": 732,
   "metadata": {},
   "outputs": [],
   "source": [
    "model = als.fit(training)"
   ]
  },
  {
   "cell_type": "code",
   "execution_count": 733,
   "metadata": {},
   "outputs": [],
   "source": [
    "predictions = model.transform(test)"
   ]
  },
  {
   "cell_type": "code",
   "execution_count": 734,
   "metadata": {},
   "outputs": [
    {
     "name": "stdout",
     "output_type": "stream",
     "text": [
      "Root-mean-square error = 0.8039689878472729\n"
     ]
    }
   ],
   "source": [
    "# Evaluate the model by computing the RMSE on the test data\n",
    "evaluator = RegressionEvaluator(metricName=\"rmse\", labelCol=\"flag\",\n",
    "                                predictionCol=\"prediction\")\n",
    "rmse = evaluator.evaluate(predictions)\n",
    "print(\"Root-mean-square error = \" + str(rmse))"
   ]
  },
  {
   "cell_type": "code",
   "execution_count": 736,
   "metadata": {},
   "outputs": [
    {
     "name": "stdout",
     "output_type": "stream",
     "text": [
      "Root-mean-square error = 0.8039689878472729\n",
      "Root-mean-square error = 0.5660920786197627\n",
      "Root-mean-square error = 0.5590686336163447\n",
      "Root-mean-square error = 0.7992666118718785\n",
      "Root-mean-square error = 0.9999438596107291\n",
      "Root-mean-square error = 0.9999999999999419\n",
      "Root-mean-square error = 1.0\n",
      "Root-mean-square error = 1.0\n"
     ]
    }
   ],
   "source": [
    "for i in [0.01,0.03,0.1,0.3,1,3,10,100]:\n",
    "    als = ALS(maxIter=5, regParam=i, userCol=\"new_user_id\", itemCol=\"sku\", ratingCol=\"flag\",\n",
    "          coldStartStrategy=\"drop\")\n",
    "    model = als.fit(training)\n",
    "    predictions = model.transform(test)\n",
    "    # Evaluate the model by computing the RMSE on the test data\n",
    "    evaluator = RegressionEvaluator(metricName=\"rmse\", labelCol=\"flag\",\n",
    "                                    predictionCol=\"prediction\")\n",
    "    rmse = evaluator.evaluate(predictions)\n",
    "    print(\"Root-mean-square error = \" + str(rmse))\n"
   ]
  },
  {
   "cell_type": "markdown",
   "metadata": {},
   "source": [
    "# using best parameter"
   ]
  },
  {
   "cell_type": "code",
   "execution_count": 738,
   "metadata": {},
   "outputs": [
    {
     "name": "stdout",
     "output_type": "stream",
     "text": [
      "Root-mean-square error = 0.5590686336163447\n"
     ]
    }
   ],
   "source": [
    "als = ALS(maxIter=5, regParam=0.1, userCol=\"new_user_id\", itemCol=\"sku\", ratingCol=\"flag\",\n",
    "          coldStartStrategy=\"drop\")\n",
    "model = als.fit(training)\n",
    "predictions = model.transform(test)\n",
    "\n",
    "# Evaluate the model by computing the RMSE on the test data\n",
    "evaluator = RegressionEvaluator(metricName=\"rmse\", labelCol=\"flag\",\n",
    "                                predictionCol=\"prediction\")\n",
    "rmse = evaluator.evaluate(predictions)\n",
    "print(\"Root-mean-square error = \" + str(rmse))"
   ]
  },
  {
   "cell_type": "code",
   "execution_count": 739,
   "metadata": {},
   "outputs": [],
   "source": [
    "# Generate top 10 movie recommendations for each user\n",
    "userRecs = model.recommendForAllUsers(10)\n",
    "# Generate top 10 user recommendations for each movie\n",
    "movieRecs = model.recommendForAllItems(10)"
   ]
  },
  {
   "cell_type": "code",
   "execution_count": 740,
   "metadata": {},
   "outputs": [],
   "source": [
    "Movies_for_users = userRecs.toPandas()"
   ]
  },
  {
   "cell_type": "code",
   "execution_count": 741,
   "metadata": {},
   "outputs": [],
   "source": [
    "Users_for_movies = movieRecs.toPandas()"
   ]
  },
  {
   "cell_type": "code",
   "execution_count": 742,
   "metadata": {},
   "outputs": [
    {
     "data": {
      "text/html": [
       "<div>\n",
       "<style scoped>\n",
       "    .dataframe tbody tr th:only-of-type {\n",
       "        vertical-align: middle;\n",
       "    }\n",
       "\n",
       "    .dataframe tbody tr th {\n",
       "        vertical-align: top;\n",
       "    }\n",
       "\n",
       "    .dataframe thead th {\n",
       "        text-align: right;\n",
       "    }\n",
       "</style>\n",
       "<table border=\"1\" class=\"dataframe\">\n",
       "  <thead>\n",
       "    <tr style=\"text-align: right;\">\n",
       "      <th></th>\n",
       "      <th>new_user_id</th>\n",
       "      <th>recommendations</th>\n",
       "    </tr>\n",
       "  </thead>\n",
       "  <tbody>\n",
       "    <tr>\n",
       "      <th>0</th>\n",
       "      <td>148</td>\n",
       "      <td>[(7897001, 0.8941792845726013), (9605082, 0.7970792651176453), (9774223, 0.7893380522727966), (9594824, 0.7647921442985535), (8855465, 0.7647258043289185), (9955505, 0.7638417482376099), (8229044, 0.7533223032951355), (9225411, 0.7515904903411865), (9180405, 0.7493007183074951), (9376864, 0.7403249740600586)]</td>\n",
       "    </tr>\n",
       "    <tr>\n",
       "      <th>1</th>\n",
       "      <td>463</td>\n",
       "      <td>[(7918177, 0.8995293378829956), (8853234, 0.7446924448013306), (8439932, 0.7306798100471497), (9355574, 0.7032623887062073), (9699098, 0.6973826289176941), (12153581, 0.6970924735069275), (9537441, 0.6963603496551514), (9899581, 0.6875221729278564), (9452344, 0.681077778339386), (9234465, 0.6767995953559875)]</td>\n",
       "    </tr>\n",
       "    <tr>\n",
       "      <th>2</th>\n",
       "      <td>496</td>\n",
       "      <td>[(9420361, 0.8837087154388428), (7918177, 0.8622239828109741), (8439932, 0.8415402173995972), (8920812, 0.8096917867660522), (9699098, 0.8043019771575928), (9234465, 0.7800728678703308), (9889715, 0.7800490260124207), (8428775, 0.774829626083374), (9047266, 0.7710287570953369), (12153581, 0.7581316828727722)]</td>\n",
       "    </tr>\n",
       "    <tr>\n",
       "      <th>3</th>\n",
       "      <td>833</td>\n",
       "      <td>[(9429861, 0.8747588396072388), (7933686, 0.869530200958252), (9905608, 0.8516935110092163), (9530144, 0.8275806307792664), (18004918, 0.7962716817855835), (9226964, 0.7930792570114136), (9225439, 0.7901614308357239), (9315715, 0.7889085412025452), (9671263, 0.788680374622345), (9788617, 0.7865578532218933)]</td>\n",
       "    </tr>\n",
       "    <tr>\n",
       "      <th>4</th>\n",
       "      <td>1238</td>\n",
       "      <td>[(7942845, 0.8939815759658813), (8915178, 0.8384572267532349), (9297076, 0.8057675957679749), (9391339, 0.7934888601303101), (9936626, 0.7750003933906555), (9823687, 0.772534966468811), (9637373, 0.7692810893058777), (9941511, 0.7645086050033569), (9321307, 0.7632442712783813), (9825515, 0.7617279291152954)]</td>\n",
       "    </tr>\n",
       "  </tbody>\n",
       "</table>\n",
       "</div>"
      ],
      "text/plain": [
       "   new_user_id  \\\n",
       "0  148           \n",
       "1  463           \n",
       "2  496           \n",
       "3  833           \n",
       "4  1238          \n",
       "\n",
       "                                                                                                                                                                                                                                                                                                          recommendations  \n",
       "0  [(7897001, 0.8941792845726013), (9605082, 0.7970792651176453), (9774223, 0.7893380522727966), (9594824, 0.7647921442985535), (8855465, 0.7647258043289185), (9955505, 0.7638417482376099), (8229044, 0.7533223032951355), (9225411, 0.7515904903411865), (9180405, 0.7493007183074951), (9376864, 0.7403249740600586)]  \n",
       "1  [(7918177, 0.8995293378829956), (8853234, 0.7446924448013306), (8439932, 0.7306798100471497), (9355574, 0.7032623887062073), (9699098, 0.6973826289176941), (12153581, 0.6970924735069275), (9537441, 0.6963603496551514), (9899581, 0.6875221729278564), (9452344, 0.681077778339386), (9234465, 0.6767995953559875)]  \n",
       "2  [(9420361, 0.8837087154388428), (7918177, 0.8622239828109741), (8439932, 0.8415402173995972), (8920812, 0.8096917867660522), (9699098, 0.8043019771575928), (9234465, 0.7800728678703308), (9889715, 0.7800490260124207), (8428775, 0.774829626083374), (9047266, 0.7710287570953369), (12153581, 0.7581316828727722)]  \n",
       "3  [(9429861, 0.8747588396072388), (7933686, 0.869530200958252), (9905608, 0.8516935110092163), (9530144, 0.8275806307792664), (18004918, 0.7962716817855835), (9226964, 0.7930792570114136), (9225439, 0.7901614308357239), (9315715, 0.7889085412025452), (9671263, 0.788680374622345), (9788617, 0.7865578532218933)]   \n",
       "4  [(7942845, 0.8939815759658813), (8915178, 0.8384572267532349), (9297076, 0.8057675957679749), (9391339, 0.7934888601303101), (9936626, 0.7750003933906555), (9823687, 0.772534966468811), (9637373, 0.7692810893058777), (9941511, 0.7645086050033569), (9321307, 0.7632442712783813), (9825515, 0.7617279291152954)]   "
      ]
     },
     "execution_count": 742,
     "metadata": {},
     "output_type": "execute_result"
    }
   ],
   "source": [
    "Movies_for_users.head()"
   ]
  },
  {
   "cell_type": "markdown",
   "metadata": {},
   "source": [
    "## Getting Back to original User and Item Names"
   ]
  },
  {
   "cell_type": "code",
   "execution_count": 743,
   "metadata": {},
   "outputs": [
    {
     "data": {
      "text/html": [
       "<div>\n",
       "<style scoped>\n",
       "    .dataframe tbody tr th:only-of-type {\n",
       "        vertical-align: middle;\n",
       "    }\n",
       "\n",
       "    .dataframe tbody tr th {\n",
       "        vertical-align: top;\n",
       "    }\n",
       "\n",
       "    .dataframe thead th {\n",
       "        text-align: right;\n",
       "    }\n",
       "</style>\n",
       "<table border=\"1\" class=\"dataframe\">\n",
       "  <thead>\n",
       "    <tr style=\"text-align: right;\">\n",
       "      <th></th>\n",
       "      <th>new_user_id</th>\n",
       "      <th>user</th>\n",
       "    </tr>\n",
       "  </thead>\n",
       "  <tbody>\n",
       "    <tr>\n",
       "      <th>0</th>\n",
       "      <td>0</td>\n",
       "      <td>010461547b74e04bdb900c3a612ad7df3a70168f</td>\n",
       "    </tr>\n",
       "    <tr>\n",
       "      <th>1</th>\n",
       "      <td>1</td>\n",
       "      <td>0616cb5e8b94040fb1c0506e0d98e266b0450fdd</td>\n",
       "    </tr>\n",
       "    <tr>\n",
       "      <th>2</th>\n",
       "      <td>2</td>\n",
       "      <td>074bc31a4a7accd9b7617f97c78d90082c236034</td>\n",
       "    </tr>\n",
       "    <tr>\n",
       "      <th>3</th>\n",
       "      <td>3</td>\n",
       "      <td>07677aca5702e51409ac805532014e590cf2e2c9</td>\n",
       "    </tr>\n",
       "    <tr>\n",
       "      <th>4</th>\n",
       "      <td>4</td>\n",
       "      <td>085477d327521eb32b91f12a966386b308f1c5c0</td>\n",
       "    </tr>\n",
       "  </tbody>\n",
       "</table>\n",
       "</div>"
      ],
      "text/plain": [
       "   new_user_id                                      user\n",
       "0  0            010461547b74e04bdb900c3a612ad7df3a70168f\n",
       "1  1            0616cb5e8b94040fb1c0506e0d98e266b0450fdd\n",
       "2  2            074bc31a4a7accd9b7617f97c78d90082c236034\n",
       "3  3            07677aca5702e51409ac805532014e590cf2e2c9\n",
       "4  4            085477d327521eb32b91f12a966386b308f1c5c0"
      ]
     },
     "execution_count": 743,
     "metadata": {},
     "output_type": "execute_result"
    }
   ],
   "source": [
    "usermap.head()"
   ]
  },
  {
   "cell_type": "code",
   "execution_count": 744,
   "metadata": {},
   "outputs": [],
   "source": [
    "items_for_users = usermap.merge(Movies_for_users,on = \"new_user_id\",how = 'inner').drop(\"new_user_id\",axis = 1)"
   ]
  },
  {
   "cell_type": "code",
   "execution_count": 746,
   "metadata": {},
   "outputs": [
    {
     "data": {
      "text/html": [
       "<div>\n",
       "<style scoped>\n",
       "    .dataframe tbody tr th:only-of-type {\n",
       "        vertical-align: middle;\n",
       "    }\n",
       "\n",
       "    .dataframe tbody tr th {\n",
       "        vertical-align: top;\n",
       "    }\n",
       "\n",
       "    .dataframe thead th {\n",
       "        text-align: right;\n",
       "    }\n",
       "</style>\n",
       "<table border=\"1\" class=\"dataframe\">\n",
       "  <thead>\n",
       "    <tr style=\"text-align: right;\">\n",
       "      <th></th>\n",
       "      <th>user</th>\n",
       "      <th>recommendations</th>\n",
       "    </tr>\n",
       "  </thead>\n",
       "  <tbody>\n",
       "    <tr>\n",
       "      <th>0</th>\n",
       "      <td>010461547b74e04bdb900c3a612ad7df3a70168f</td>\n",
       "      <td>[(9047266, 1.0339785814285278), (8234127, 1.0278676748275757), (9322814, 1.027780532836914), (8855465, 1.0194154977798462), (8234092, 1.0182684659957886), (8234118, 1.0152106285095215), (8953965, 1.014041543006897), (9890447, 1.005707859992981), (9376864, 1.0008327960968018), (9994891, 0.9918345212936401)]</td>\n",
       "    </tr>\n",
       "    <tr>\n",
       "      <th>1</th>\n",
       "      <td>074bc31a4a7accd9b7617f97c78d90082c236034</td>\n",
       "      <td>[(7897001, 0.8941792845726013), (9605082, 0.7970792651176453), (9774223, 0.7893380522727966), (9594824, 0.7647921442985535), (8855465, 0.7647258043289185), (9955505, 0.7638417482376099), (8229044, 0.7533223032951355), (9225411, 0.7515904903411865), (9180405, 0.7493007183074951), (9376864, 0.7403249740600586)]</td>\n",
       "    </tr>\n",
       "    <tr>\n",
       "      <th>2</th>\n",
       "      <td>07677aca5702e51409ac805532014e590cf2e2c9</td>\n",
       "      <td>[(7897001, 0.8941792845726013), (9605082, 0.7970792651176453), (9774223, 0.7893380522727966), (9594824, 0.7647921442985535), (8855465, 0.7647258043289185), (9955505, 0.7638417482376099), (8229044, 0.7533223032951355), (9225411, 0.7515904903411865), (9180405, 0.7493007183074951), (9376864, 0.7403249740600586)]</td>\n",
       "    </tr>\n",
       "    <tr>\n",
       "      <th>3</th>\n",
       "      <td>091c53675b15ce793c08b5516c7f9383ff7bf80e</td>\n",
       "      <td>[(8234038, 0.8998314738273621), (8234092, 0.8829525113105774), (8234118, 0.8806374073028564), (8234127, 0.8770718574523926), (9322814, 0.8682106733322144), (9322752, 0.8647730946540833), (8953965, 0.8643480539321899), (8424537, 0.8619145750999451), (9908156, 0.8570706248283386), (9383311, 0.8566614389419556)]</td>\n",
       "    </tr>\n",
       "    <tr>\n",
       "      <th>4</th>\n",
       "      <td>0ad74367e5b83c58ae245e8d358c99d54a228126</td>\n",
       "      <td>[(8234038, 0.9658547639846802), (8234127, 0.9610933065414429), (8855465, 0.9570823907852173), (8953965, 0.9528146386146545), (8234092, 0.94204181432724), (8424537, 0.9353967308998108), (8234118, 0.9352898001670837), (9994891, 0.9335584044456482), (9383311, 0.9283227324485779), (8234047, 0.9247955679893494)]</td>\n",
       "    </tr>\n",
       "  </tbody>\n",
       "</table>\n",
       "</div>"
      ],
      "text/plain": [
       "                                       user  \\\n",
       "0  010461547b74e04bdb900c3a612ad7df3a70168f   \n",
       "1  074bc31a4a7accd9b7617f97c78d90082c236034   \n",
       "2  07677aca5702e51409ac805532014e590cf2e2c9   \n",
       "3  091c53675b15ce793c08b5516c7f9383ff7bf80e   \n",
       "4  0ad74367e5b83c58ae245e8d358c99d54a228126   \n",
       "\n",
       "                                                                                                                                                                                                                                                                                                          recommendations  \n",
       "0  [(9047266, 1.0339785814285278), (8234127, 1.0278676748275757), (9322814, 1.027780532836914), (8855465, 1.0194154977798462), (8234092, 1.0182684659957886), (8234118, 1.0152106285095215), (8953965, 1.014041543006897), (9890447, 1.005707859992981), (9376864, 1.0008327960968018), (9994891, 0.9918345212936401)]     \n",
       "1  [(7897001, 0.8941792845726013), (9605082, 0.7970792651176453), (9774223, 0.7893380522727966), (9594824, 0.7647921442985535), (8855465, 0.7647258043289185), (9955505, 0.7638417482376099), (8229044, 0.7533223032951355), (9225411, 0.7515904903411865), (9180405, 0.7493007183074951), (9376864, 0.7403249740600586)]  \n",
       "2  [(7897001, 0.8941792845726013), (9605082, 0.7970792651176453), (9774223, 0.7893380522727966), (9594824, 0.7647921442985535), (8855465, 0.7647258043289185), (9955505, 0.7638417482376099), (8229044, 0.7533223032951355), (9225411, 0.7515904903411865), (9180405, 0.7493007183074951), (9376864, 0.7403249740600586)]  \n",
       "3  [(8234038, 0.8998314738273621), (8234092, 0.8829525113105774), (8234118, 0.8806374073028564), (8234127, 0.8770718574523926), (9322814, 0.8682106733322144), (9322752, 0.8647730946540833), (8953965, 0.8643480539321899), (8424537, 0.8619145750999451), (9908156, 0.8570706248283386), (9383311, 0.8566614389419556)]  \n",
       "4  [(8234038, 0.9658547639846802), (8234127, 0.9610933065414429), (8855465, 0.9570823907852173), (8953965, 0.9528146386146545), (8234092, 0.94204181432724), (8424537, 0.9353967308998108), (8234118, 0.9352898001670837), (9994891, 0.9335584044456482), (9383311, 0.9283227324485779), (8234047, 0.9247955679893494)]    "
      ]
     },
     "execution_count": 746,
     "metadata": {},
     "output_type": "execute_result"
    }
   ],
   "source": [
    "items_for_users.head()"
   ]
  },
  {
   "cell_type": "code",
   "execution_count": 748,
   "metadata": {},
   "outputs": [],
   "source": [
    "# lets see the recommendations for some users:\n",
    "user1 = \"889dea4aeb8f72eb0a1f6c0c89f42f4f3d107898\"\n",
    "user1_rec_dict = items_for_users[items_for_users.user == user1]['recommendations']\n",
    "\n"
   ]
  },
  {
   "cell_type": "code",
   "execution_count": 749,
   "metadata": {},
   "outputs": [],
   "source": [
    "user1_recommedations = pd.DataFrame()\n",
    "for eachset in user1_rec_dict:\n",
    "    user1_recommedations = user1_recommedations.append(eachset)\n",
    "user1_recommedations.columns = ['sku','rating']  \n",
    "user1_recommedations = user1_recommedations.merge(merged[['sku','name']],on=\"sku\",how = 'inner').drop_duplicates()"
   ]
  },
  {
   "cell_type": "code",
   "execution_count": 750,
   "metadata": {},
   "outputs": [
    {
     "data": {
      "text/html": [
       "<div>\n",
       "<style scoped>\n",
       "    .dataframe tbody tr th:only-of-type {\n",
       "        vertical-align: middle;\n",
       "    }\n",
       "\n",
       "    .dataframe tbody tr th {\n",
       "        vertical-align: top;\n",
       "    }\n",
       "\n",
       "    .dataframe thead th {\n",
       "        text-align: right;\n",
       "    }\n",
       "</style>\n",
       "<table border=\"1\" class=\"dataframe\">\n",
       "  <thead>\n",
       "    <tr style=\"text-align: right;\">\n",
       "      <th></th>\n",
       "      <th>sku</th>\n",
       "      <th>rating</th>\n",
       "      <th>name</th>\n",
       "    </tr>\n",
       "  </thead>\n",
       "  <tbody>\n",
       "    <tr>\n",
       "      <th>0</th>\n",
       "      <td>9908156</td>\n",
       "      <td>0.937659</td>\n",
       "      <td>Best Buy GC - $50 It's Better To Receive Gift Card</td>\n",
       "    </tr>\n",
       "    <tr>\n",
       "      <th>480</th>\n",
       "      <td>9322814</td>\n",
       "      <td>0.923787</td>\n",
       "      <td>Best Buy GC - $100 Thank-You Gift Card</td>\n",
       "    </tr>\n",
       "    <tr>\n",
       "      <th>811</th>\n",
       "      <td>9322752</td>\n",
       "      <td>0.921582</td>\n",
       "      <td>Best Buy GC - $25 Thank-You Gift Card</td>\n",
       "    </tr>\n",
       "    <tr>\n",
       "      <th>1469</th>\n",
       "      <td>8234118</td>\n",
       "      <td>0.921043</td>\n",
       "      <td>Best Buy GC - $100 Gift Card</td>\n",
       "    </tr>\n",
       "    <tr>\n",
       "      <th>2491</th>\n",
       "      <td>8234092</td>\n",
       "      <td>0.918713</td>\n",
       "      <td>Best Buy GC - $50 Gift Card</td>\n",
       "    </tr>\n",
       "    <tr>\n",
       "      <th>3605</th>\n",
       "      <td>9759691</td>\n",
       "      <td>0.907641</td>\n",
       "      <td>Samsung - 24\" Tall Tub Built-In Dishwasher - Stainless-Steel</td>\n",
       "    </tr>\n",
       "    <tr>\n",
       "      <th>3751</th>\n",
       "      <td>9759258</td>\n",
       "      <td>0.899840</td>\n",
       "      <td>Mad Men: Season Three [4 Discs] - Widescreen Subtitle AC3 Dolby - DVD</td>\n",
       "    </tr>\n",
       "    <tr>\n",
       "      <th>3859</th>\n",
       "      <td>8178063</td>\n",
       "      <td>0.895708</td>\n",
       "      <td>Best Buy GC - $150 Gift Card</td>\n",
       "    </tr>\n",
       "    <tr>\n",
       "      <th>4059</th>\n",
       "      <td>8234127</td>\n",
       "      <td>0.894972</td>\n",
       "      <td>Best Buy GC - $200 Gift Card</td>\n",
       "    </tr>\n",
       "    <tr>\n",
       "      <th>5115</th>\n",
       "      <td>9383115</td>\n",
       "      <td>0.894121</td>\n",
       "      <td>Best Buy GC - $20 Military Gift Card</td>\n",
       "    </tr>\n",
       "  </tbody>\n",
       "</table>\n",
       "</div>"
      ],
      "text/plain": [
       "          sku    rating  \\\n",
       "0     9908156  0.937659   \n",
       "480   9322814  0.923787   \n",
       "811   9322752  0.921582   \n",
       "1469  8234118  0.921043   \n",
       "2491  8234092  0.918713   \n",
       "3605  9759691  0.907641   \n",
       "3751  9759258  0.899840   \n",
       "3859  8178063  0.895708   \n",
       "4059  8234127  0.894972   \n",
       "5115  9383115  0.894121   \n",
       "\n",
       "                                                                       name  \n",
       "0     Best Buy GC - $50 It's Better To Receive Gift Card                     \n",
       "480   Best Buy GC - $100 Thank-You Gift Card                                 \n",
       "811   Best Buy GC - $25 Thank-You Gift Card                                  \n",
       "1469  Best Buy GC - $100 Gift Card                                           \n",
       "2491  Best Buy GC - $50 Gift Card                                            \n",
       "3605  Samsung - 24\" Tall Tub Built-In Dishwasher - Stainless-Steel           \n",
       "3751  Mad Men: Season Three [4 Discs] - Widescreen Subtitle AC3 Dolby - DVD  \n",
       "3859  Best Buy GC - $150 Gift Card                                           \n",
       "4059  Best Buy GC - $200 Gift Card                                           \n",
       "5115  Best Buy GC - $20 Military Gift Card                                   "
      ]
     },
     "execution_count": 750,
     "metadata": {},
     "output_type": "execute_result"
    }
   ],
   "source": [
    "user1_recommedations"
   ]
  },
  {
   "cell_type": "code",
   "execution_count": 751,
   "metadata": {},
   "outputs": [
    {
     "data": {
      "text/plain": [
       "array(['Best Buy GC - $100 Gift Card',\n",
       "       'SanDisk - Cruzer 4GB USB 2.0 Flash Drive',\n",
       "       'Lowepro - Navi Plus Camera Case and GPS Pouch - Black'],\n",
       "      dtype=object)"
      ]
     },
     "execution_count": 751,
     "metadata": {},
     "output_type": "execute_result"
    }
   ],
   "source": [
    "merged[merged.user==user1].name.unique()"
   ]
  },
  {
   "cell_type": "code",
   "execution_count": null,
   "metadata": {},
   "outputs": [],
   "source": [
    "# lets see the recommendations for some movies:"
   ]
  },
  {
   "cell_type": "code",
   "execution_count": 753,
   "metadata": {},
   "outputs": [
    {
     "data": {
      "text/html": [
       "<div>\n",
       "<style scoped>\n",
       "    .dataframe tbody tr th:only-of-type {\n",
       "        vertical-align: middle;\n",
       "    }\n",
       "\n",
       "    .dataframe tbody tr th {\n",
       "        vertical-align: top;\n",
       "    }\n",
       "\n",
       "    .dataframe thead th {\n",
       "        text-align: right;\n",
       "    }\n",
       "</style>\n",
       "<table border=\"1\" class=\"dataframe\">\n",
       "  <thead>\n",
       "    <tr style=\"text-align: right;\">\n",
       "      <th></th>\n",
       "      <th>sku</th>\n",
       "      <th>recommendations</th>\n",
       "    </tr>\n",
       "  </thead>\n",
       "  <tbody>\n",
       "    <tr>\n",
       "      <th>0</th>\n",
       "      <td>9742882</td>\n",
       "      <td>[(142721, 1.096457600593567), (142876, 1.096457600593567), (200073, 1.0421974658966064), (94806, 1.0284782648086548), (109852, 1.0079216957092285), (82225, 0.9917259216308594), (42453, 0.9836723208427429), (63517, 0.9808446168899536), (130244, 0.9748697876930237), (23039, 0.960422158241272)]</td>\n",
       "    </tr>\n",
       "    <tr>\n",
       "      <th>1</th>\n",
       "      <td>9931145</td>\n",
       "      <td>[(21820, 1.0505281686782837), (23039, 1.0302120447158813), (65395, 0.9952985048294067), (30155, 0.9895248413085938), (111010, 0.9681990742683411), (164943, 0.9586849808692932), (30129, 0.943376898765564), (50096, 0.9425286650657654), (22353, 0.9415016174316406), (32266, 0.9396024346351624)]</td>\n",
       "    </tr>\n",
       "    <tr>\n",
       "      <th>2</th>\n",
       "      <td>9462636</td>\n",
       "      <td>[(85456, 1.0558017492294312), (62657, 1.0421359539031982), (36908, 1.0393418073654175), (28562, 1.0384445190429688), (48738, 1.0131359100341797), (2741, 1.00615656375885), (114348, 0.9976734519004822), (47042, 0.9940643906593323), (31242, 0.9928789734840393), (124435, 0.9914839863777161)]</td>\n",
       "    </tr>\n",
       "    <tr>\n",
       "      <th>3</th>\n",
       "      <td>9504707</td>\n",
       "      <td>[(229410, 1.0690139532089233), (214433, 0.9827687740325928), (109351, 0.9803454279899597), (36783, 0.9729002118110657), (182585, 0.9691559672355652), (33547, 0.9518222808837891), (115992, 0.9479303359985352), (34354, 0.9431894421577454), (33887, 0.9269397854804993), (117056, 0.9107113480567932)]</td>\n",
       "    </tr>\n",
       "    <tr>\n",
       "      <th>4</th>\n",
       "      <td>7983934</td>\n",
       "      <td>[(211048, 1.1068785190582275), (120850, 1.0167146921157837), (160323, 0.9949765205383301), (43434, 0.987538754940033), (2270, 0.9744809865951538), (224533, 0.9631272554397583), (112744, 0.9584277272224426), (112582, 0.9584277272224426), (112614, 0.9584277272224426), (27361, 0.9572612047195435)]</td>\n",
       "    </tr>\n",
       "  </tbody>\n",
       "</table>\n",
       "</div>"
      ],
      "text/plain": [
       "       sku  \\\n",
       "0  9742882   \n",
       "1  9931145   \n",
       "2  9462636   \n",
       "3  9504707   \n",
       "4  7983934   \n",
       "\n",
       "                                                                                                                                                                                                                                                                                            recommendations  \n",
       "0  [(142721, 1.096457600593567), (142876, 1.096457600593567), (200073, 1.0421974658966064), (94806, 1.0284782648086548), (109852, 1.0079216957092285), (82225, 0.9917259216308594), (42453, 0.9836723208427429), (63517, 0.9808446168899536), (130244, 0.9748697876930237), (23039, 0.960422158241272)]      \n",
       "1  [(21820, 1.0505281686782837), (23039, 1.0302120447158813), (65395, 0.9952985048294067), (30155, 0.9895248413085938), (111010, 0.9681990742683411), (164943, 0.9586849808692932), (30129, 0.943376898765564), (50096, 0.9425286650657654), (22353, 0.9415016174316406), (32266, 0.9396024346351624)]       \n",
       "2  [(85456, 1.0558017492294312), (62657, 1.0421359539031982), (36908, 1.0393418073654175), (28562, 1.0384445190429688), (48738, 1.0131359100341797), (2741, 1.00615656375885), (114348, 0.9976734519004822), (47042, 0.9940643906593323), (31242, 0.9928789734840393), (124435, 0.9914839863777161)]         \n",
       "3  [(229410, 1.0690139532089233), (214433, 0.9827687740325928), (109351, 0.9803454279899597), (36783, 0.9729002118110657), (182585, 0.9691559672355652), (33547, 0.9518222808837891), (115992, 0.9479303359985352), (34354, 0.9431894421577454), (33887, 0.9269397854804993), (117056, 0.9107113480567932)]  \n",
       "4  [(211048, 1.1068785190582275), (120850, 1.0167146921157837), (160323, 0.9949765205383301), (43434, 0.987538754940033), (2270, 0.9744809865951538), (224533, 0.9631272554397583), (112744, 0.9584277272224426), (112582, 0.9584277272224426), (112614, 0.9584277272224426), (27361, 0.9572612047195435)]   "
      ]
     },
     "execution_count": 753,
     "metadata": {},
     "output_type": "execute_result"
    }
   ],
   "source": [
    "Users_for_movies.head()"
   ]
  },
  {
   "cell_type": "code",
   "execution_count": 757,
   "metadata": {},
   "outputs": [],
   "source": [
    "user_for_item = Users_for_movies.merge(merged,on = \"sku\",how = 'inner').drop(['cat_name','flag'],axis = 1)"
   ]
  },
  {
   "cell_type": "code",
   "execution_count": 758,
   "metadata": {},
   "outputs": [
    {
     "data": {
      "text/html": [
       "<div>\n",
       "<style scoped>\n",
       "    .dataframe tbody tr th:only-of-type {\n",
       "        vertical-align: middle;\n",
       "    }\n",
       "\n",
       "    .dataframe tbody tr th {\n",
       "        vertical-align: top;\n",
       "    }\n",
       "\n",
       "    .dataframe thead th {\n",
       "        text-align: right;\n",
       "    }\n",
       "</style>\n",
       "<table border=\"1\" class=\"dataframe\">\n",
       "  <thead>\n",
       "    <tr style=\"text-align: right;\">\n",
       "      <th></th>\n",
       "      <th>sku</th>\n",
       "      <th>recommendations</th>\n",
       "      <th>user</th>\n",
       "      <th>name</th>\n",
       "    </tr>\n",
       "  </thead>\n",
       "  <tbody>\n",
       "    <tr>\n",
       "      <th>0</th>\n",
       "      <td>9742882</td>\n",
       "      <td>[(142721, 1.096457600593567), (142876, 1.096457600593567), (200073, 1.0421974658966064), (94806, 1.0284782648086548), (109852, 1.0079216957092285), (82225, 0.9917259216308594), (42453, 0.9836723208427429), (63517, 0.9808446168899536), (130244, 0.9748697876930237), (23039, 0.960422158241272)]</td>\n",
       "      <td>00104d6f091a46fa1503316882ce54ea427b567e</td>\n",
       "      <td>Polk Audio - SurroundBar 3000 2.1-Channel Instant Home Theater Speaker System</td>\n",
       "    </tr>\n",
       "    <tr>\n",
       "      <th>1</th>\n",
       "      <td>9742882</td>\n",
       "      <td>[(142721, 1.096457600593567), (142876, 1.096457600593567), (200073, 1.0421974658966064), (94806, 1.0284782648086548), (109852, 1.0079216957092285), (82225, 0.9917259216308594), (42453, 0.9836723208427429), (63517, 0.9808446168899536), (130244, 0.9748697876930237), (23039, 0.960422158241272)]</td>\n",
       "      <td>0067ca34e1128d702a696cf9004246393418dbf0</td>\n",
       "      <td>Polk Audio - SurroundBar 3000 2.1-Channel Instant Home Theater Speaker System</td>\n",
       "    </tr>\n",
       "    <tr>\n",
       "      <th>2</th>\n",
       "      <td>9742882</td>\n",
       "      <td>[(142721, 1.096457600593567), (142876, 1.096457600593567), (200073, 1.0421974658966064), (94806, 1.0284782648086548), (109852, 1.0079216957092285), (82225, 0.9917259216308594), (42453, 0.9836723208427429), (63517, 0.9808446168899536), (130244, 0.9748697876930237), (23039, 0.960422158241272)]</td>\n",
       "      <td>01c64dd7559b4f7599b3ef1c80a7f96cb4d5e321</td>\n",
       "      <td>Polk Audio - SurroundBar 3000 2.1-Channel Instant Home Theater Speaker System</td>\n",
       "    </tr>\n",
       "    <tr>\n",
       "      <th>3</th>\n",
       "      <td>9742882</td>\n",
       "      <td>[(142721, 1.096457600593567), (142876, 1.096457600593567), (200073, 1.0421974658966064), (94806, 1.0284782648086548), (109852, 1.0079216957092285), (82225, 0.9917259216308594), (42453, 0.9836723208427429), (63517, 0.9808446168899536), (130244, 0.9748697876930237), (23039, 0.960422158241272)]</td>\n",
       "      <td>026461f5a23ccd0107ab45d52630fd6f3b06b2d8</td>\n",
       "      <td>Polk Audio - SurroundBar 3000 2.1-Channel Instant Home Theater Speaker System</td>\n",
       "    </tr>\n",
       "    <tr>\n",
       "      <th>4</th>\n",
       "      <td>9742882</td>\n",
       "      <td>[(142721, 1.096457600593567), (142876, 1.096457600593567), (200073, 1.0421974658966064), (94806, 1.0284782648086548), (109852, 1.0079216957092285), (82225, 0.9917259216308594), (42453, 0.9836723208427429), (63517, 0.9808446168899536), (130244, 0.9748697876930237), (23039, 0.960422158241272)]</td>\n",
       "      <td>0265ac06acb02912319fe22960971abe0584e818</td>\n",
       "      <td>Polk Audio - SurroundBar 3000 2.1-Channel Instant Home Theater Speaker System</td>\n",
       "    </tr>\n",
       "  </tbody>\n",
       "</table>\n",
       "</div>"
      ],
      "text/plain": [
       "       sku  \\\n",
       "0  9742882   \n",
       "1  9742882   \n",
       "2  9742882   \n",
       "3  9742882   \n",
       "4  9742882   \n",
       "\n",
       "                                                                                                                                                                                                                                                                                        recommendations  \\\n",
       "0  [(142721, 1.096457600593567), (142876, 1.096457600593567), (200073, 1.0421974658966064), (94806, 1.0284782648086548), (109852, 1.0079216957092285), (82225, 0.9917259216308594), (42453, 0.9836723208427429), (63517, 0.9808446168899536), (130244, 0.9748697876930237), (23039, 0.960422158241272)]   \n",
       "1  [(142721, 1.096457600593567), (142876, 1.096457600593567), (200073, 1.0421974658966064), (94806, 1.0284782648086548), (109852, 1.0079216957092285), (82225, 0.9917259216308594), (42453, 0.9836723208427429), (63517, 0.9808446168899536), (130244, 0.9748697876930237), (23039, 0.960422158241272)]   \n",
       "2  [(142721, 1.096457600593567), (142876, 1.096457600593567), (200073, 1.0421974658966064), (94806, 1.0284782648086548), (109852, 1.0079216957092285), (82225, 0.9917259216308594), (42453, 0.9836723208427429), (63517, 0.9808446168899536), (130244, 0.9748697876930237), (23039, 0.960422158241272)]   \n",
       "3  [(142721, 1.096457600593567), (142876, 1.096457600593567), (200073, 1.0421974658966064), (94806, 1.0284782648086548), (109852, 1.0079216957092285), (82225, 0.9917259216308594), (42453, 0.9836723208427429), (63517, 0.9808446168899536), (130244, 0.9748697876930237), (23039, 0.960422158241272)]   \n",
       "4  [(142721, 1.096457600593567), (142876, 1.096457600593567), (200073, 1.0421974658966064), (94806, 1.0284782648086548), (109852, 1.0079216957092285), (82225, 0.9917259216308594), (42453, 0.9836723208427429), (63517, 0.9808446168899536), (130244, 0.9748697876930237), (23039, 0.960422158241272)]   \n",
       "\n",
       "                                       user  \\\n",
       "0  00104d6f091a46fa1503316882ce54ea427b567e   \n",
       "1  0067ca34e1128d702a696cf9004246393418dbf0   \n",
       "2  01c64dd7559b4f7599b3ef1c80a7f96cb4d5e321   \n",
       "3  026461f5a23ccd0107ab45d52630fd6f3b06b2d8   \n",
       "4  0265ac06acb02912319fe22960971abe0584e818   \n",
       "\n",
       "                                                                            name  \n",
       "0  Polk Audio - SurroundBar 3000 2.1-Channel Instant Home Theater Speaker System  \n",
       "1  Polk Audio - SurroundBar 3000 2.1-Channel Instant Home Theater Speaker System  \n",
       "2  Polk Audio - SurroundBar 3000 2.1-Channel Instant Home Theater Speaker System  \n",
       "3  Polk Audio - SurroundBar 3000 2.1-Channel Instant Home Theater Speaker System  \n",
       "4  Polk Audio - SurroundBar 3000 2.1-Channel Instant Home Theater Speaker System  "
      ]
     },
     "execution_count": 758,
     "metadata": {},
     "output_type": "execute_result"
    }
   ],
   "source": [
    "user_for_item.head()"
   ]
  },
  {
   "cell_type": "code",
   "execution_count": null,
   "metadata": {},
   "outputs": [],
   "source": [
    "#Lets test some SKU"
   ]
  },
  {
   "cell_type": "code",
   "execution_count": null,
   "metadata": {},
   "outputs": [],
   "source": []
  },
  {
   "cell_type": "code",
   "execution_count": 763,
   "metadata": {},
   "outputs": [],
   "source": [
    "# lets see the recommendations for some Items\n",
    "\n",
    "sku1 = 9225377\n",
    "sku1_rec_dict = user_for_item[user_for_item.sku == sku1]['recommendations']\n",
    "\n",
    "\n"
   ]
  },
  {
   "cell_type": "code",
   "execution_count": 766,
   "metadata": {},
   "outputs": [
    {
     "data": {
      "text/html": [
       "<div>\n",
       "<style scoped>\n",
       "    .dataframe tbody tr th:only-of-type {\n",
       "        vertical-align: middle;\n",
       "    }\n",
       "\n",
       "    .dataframe tbody tr th {\n",
       "        vertical-align: top;\n",
       "    }\n",
       "\n",
       "    .dataframe thead th {\n",
       "        text-align: right;\n",
       "    }\n",
       "</style>\n",
       "<table border=\"1\" class=\"dataframe\">\n",
       "  <thead>\n",
       "    <tr style=\"text-align: right;\">\n",
       "      <th></th>\n",
       "      <th>new_user_id</th>\n",
       "      <th>rating</th>\n",
       "    </tr>\n",
       "  </thead>\n",
       "  <tbody>\n",
       "    <tr>\n",
       "      <th>0</th>\n",
       "      <td>123316</td>\n",
       "      <td>1.308915</td>\n",
       "    </tr>\n",
       "    <tr>\n",
       "      <th>1</th>\n",
       "      <td>90370</td>\n",
       "      <td>1.289797</td>\n",
       "    </tr>\n",
       "  </tbody>\n",
       "</table>\n",
       "</div>"
      ],
      "text/plain": [
       "   new_user_id    rating\n",
       "0  123316       1.308915\n",
       "1  90370        1.289797"
      ]
     },
     "execution_count": 766,
     "metadata": {},
     "output_type": "execute_result"
    }
   ],
   "source": [
    "Item1_recommedations = pd.DataFrame()\n",
    "for eachset in sku1_rec_dict:\n",
    "    Item1_recommedations = Item1_recommedations.append(eachset)\n",
    "    \n",
    "Item1_recommedations.columns = ['new_user_id','rating']  \n",
    "Item1_recommedations.head(2)"
   ]
  },
  {
   "cell_type": "code",
   "execution_count": 768,
   "metadata": {},
   "outputs": [],
   "source": [
    "Item1_recommedations = usermap.merge(Item1_recommedations,on=\"new_user_id\",how = 'inner').drop_duplicates()"
   ]
  },
  {
   "cell_type": "code",
   "execution_count": 769,
   "metadata": {},
   "outputs": [
    {
     "data": {
      "text/html": [
       "<div>\n",
       "<style scoped>\n",
       "    .dataframe tbody tr th:only-of-type {\n",
       "        vertical-align: middle;\n",
       "    }\n",
       "\n",
       "    .dataframe tbody tr th {\n",
       "        vertical-align: top;\n",
       "    }\n",
       "\n",
       "    .dataframe thead th {\n",
       "        text-align: right;\n",
       "    }\n",
       "</style>\n",
       "<table border=\"1\" class=\"dataframe\">\n",
       "  <thead>\n",
       "    <tr style=\"text-align: right;\">\n",
       "      <th></th>\n",
       "      <th>new_user_id</th>\n",
       "      <th>user</th>\n",
       "      <th>rating</th>\n",
       "    </tr>\n",
       "  </thead>\n",
       "  <tbody>\n",
       "    <tr>\n",
       "      <th>0</th>\n",
       "      <td>7500</td>\n",
       "      <td>68ec64a3c22997fe86489968139e06e120f5522e</td>\n",
       "      <td>1.229791</td>\n",
       "    </tr>\n",
       "    <tr>\n",
       "      <th>11137</th>\n",
       "      <td>11115</td>\n",
       "      <td>1b37aacaf778c2329b8eab894d0f9177f0a7760a</td>\n",
       "      <td>1.247026</td>\n",
       "    </tr>\n",
       "    <tr>\n",
       "      <th>22274</th>\n",
       "      <td>13973</td>\n",
       "      <td>19af26804345b499f9e2a0330e57e5ae134e0974</td>\n",
       "      <td>1.231056</td>\n",
       "    </tr>\n",
       "    <tr>\n",
       "      <th>33411</th>\n",
       "      <td>21732</td>\n",
       "      <td>8382229824c03e4b8dcac2711b99b86c7c70f2e6</td>\n",
       "      <td>1.251819</td>\n",
       "    </tr>\n",
       "    <tr>\n",
       "      <th>44548</th>\n",
       "      <td>21820</td>\n",
       "      <td>9c86cc2cae3251aaba297ec68f51aa6df3a60371</td>\n",
       "      <td>1.238851</td>\n",
       "    </tr>\n",
       "    <tr>\n",
       "      <th>55685</th>\n",
       "      <td>22278</td>\n",
       "      <td>3945f14add4b26d60bd2a245213caf3957bb4b44</td>\n",
       "      <td>1.235525</td>\n",
       "    </tr>\n",
       "    <tr>\n",
       "      <th>66822</th>\n",
       "      <td>30139</td>\n",
       "      <td>c3ebfc34e15722912b79e4f4ae56c2e3ed384140</td>\n",
       "      <td>1.228132</td>\n",
       "    </tr>\n",
       "    <tr>\n",
       "      <th>77959</th>\n",
       "      <td>90370</td>\n",
       "      <td>f05048501cbd7def6d1515456b6210dd705d7f2d</td>\n",
       "      <td>1.289797</td>\n",
       "    </tr>\n",
       "    <tr>\n",
       "      <th>89096</th>\n",
       "      <td>123316</td>\n",
       "      <td>3aaf873b28b5898e3475657db53667feba9fe80f</td>\n",
       "      <td>1.308915</td>\n",
       "    </tr>\n",
       "    <tr>\n",
       "      <th>100233</th>\n",
       "      <td>169678</td>\n",
       "      <td>122aaf433e91560da11e89fd39008ded46209c5a</td>\n",
       "      <td>1.283434</td>\n",
       "    </tr>\n",
       "  </tbody>\n",
       "</table>\n",
       "</div>"
      ],
      "text/plain": [
       "        new_user_id                                      user    rating\n",
       "0       7500         68ec64a3c22997fe86489968139e06e120f5522e  1.229791\n",
       "11137   11115        1b37aacaf778c2329b8eab894d0f9177f0a7760a  1.247026\n",
       "22274   13973        19af26804345b499f9e2a0330e57e5ae134e0974  1.231056\n",
       "33411   21732        8382229824c03e4b8dcac2711b99b86c7c70f2e6  1.251819\n",
       "44548   21820        9c86cc2cae3251aaba297ec68f51aa6df3a60371  1.238851\n",
       "55685   22278        3945f14add4b26d60bd2a245213caf3957bb4b44  1.235525\n",
       "66822   30139        c3ebfc34e15722912b79e4f4ae56c2e3ed384140  1.228132\n",
       "77959   90370        f05048501cbd7def6d1515456b6210dd705d7f2d  1.289797\n",
       "89096   123316       3aaf873b28b5898e3475657db53667feba9fe80f  1.308915\n",
       "100233  169678       122aaf433e91560da11e89fd39008ded46209c5a  1.283434"
      ]
     },
     "execution_count": 769,
     "metadata": {},
     "output_type": "execute_result"
    }
   ],
   "source": [
    "Item1_recommedations"
   ]
  },
  {
   "cell_type": "markdown",
   "metadata": {},
   "source": []
  },
  {
   "cell_type": "markdown",
   "metadata": {},
   "source": []
  },
  {
   "cell_type": "markdown",
   "metadata": {},
   "source": []
  },
  {
   "cell_type": "markdown",
   "metadata": {},
   "source": []
  },
  {
   "cell_type": "markdown",
   "metadata": {},
   "source": [
    "# Item Based - pearson Correlation"
   ]
  },
  {
   "cell_type": "code",
   "execution_count": 423,
   "metadata": {},
   "outputs": [
    {
     "name": "stdout",
     "output_type": "stream",
     "text": [
      "320490    Apple® - iPod touch® 8GB* MP3 Player (4th Generation - Latest Model) - Black\n",
      "Name: name, dtype: object\n",
      "308184    NETGEAR - Wireless-N Router\n",
      "Name: name, dtype: object\n"
     ]
    },
    {
     "data": {
      "text/plain": [
       "320490    Apple® - iPod touch® 8GB* MP3 Player (4th Generation - Latest Model) - Black\n",
       "Name: name, dtype: object"
      ]
     },
     "execution_count": 423,
     "metadata": {},
     "output_type": "execute_result"
    }
   ],
   "source": [
    "products = products.reset_index()\n",
    "print(products[products.sku == 9225377].name.head(1))\n",
    "print(products[products.sku == 8998506].name.head(1))\n",
    "\n",
    "pd.set_option('display.max_colwidth', -1)\n",
    "products[products.sku == 9225377].name.head(1)\n",
    "\n"
   ]
  },
  {
   "cell_type": "code",
   "execution_count": 424,
   "metadata": {},
   "outputs": [],
   "source": [
    "Apple_ipod = R_df[(9225377)]\n",
    "Wireless_N_Router = R_df[(8998506)]\n",
    "\n",
    "Apple_ipod.sum()\n",
    "\n",
    "Wireless_N_Router.sum()\n",
    "\n",
    "similar_to_Apple_ipod = R_df.corrwith(Apple_ipod)\n",
    "similar_to_Wireless_N_Router = R_df.corrwith(Wireless_N_Router)\n",
    "\n",
    "def corr_table(item_data):\n",
    "    corr_apple = pd.DataFrame(item_data,columns=['Correlation'])\n",
    "    corr_apple.dropna(inplace=True)\n",
    "    corr_apple.head()\n",
    "    corr_apple=corr_apple.sort_values('Correlation',ascending=False).reset_index()\n",
    "    #corr_apple  = corr_apple.drop('level_0',axis = 1)\n",
    "    return corr_apple\n",
    "\n"
   ]
  },
  {
   "cell_type": "code",
   "execution_count": 425,
   "metadata": {},
   "outputs": [],
   "source": [
    "Apple_ipod = R_df[(9225377)]\n",
    "# Apple_ipod"
   ]
  },
  {
   "cell_type": "code",
   "execution_count": 426,
   "metadata": {},
   "outputs": [],
   "source": [
    "corr_apple = corr_table(similar_to_Apple_ipod)\n",
    "# corr_apple.head()"
   ]
  },
  {
   "cell_type": "code",
   "execution_count": 427,
   "metadata": {},
   "outputs": [],
   "source": [
    "corr_Wireless_N_Router=corr_table(similar_to_Wireless_N_Router)\n"
   ]
  },
  {
   "cell_type": "code",
   "execution_count": 430,
   "metadata": {},
   "outputs": [],
   "source": [
    "def recomditems_corr(data,n):\n",
    "    left = data.head(n)\n",
    "    similar = products.merge(left,on = 'sku',how = 'inner')     \n",
    "    similar = similar.dropna().drop_duplicates()\n",
    "    similar_rated = similar.merge(sku_rat,on = 'sku',how = 'left')\n",
    "    similar_rated = similar_rated[['name', 'Correlation', 'rating', 'num of ratings']]\n",
    "    similar_rated = similar_rated.drop_duplicates()\n",
    "    return similar_rated"
   ]
  },
  {
   "cell_type": "code",
   "execution_count": 431,
   "metadata": {},
   "outputs": [
    {
     "data": {
      "text/html": [
       "<div>\n",
       "<style scoped>\n",
       "    .dataframe tbody tr th:only-of-type {\n",
       "        vertical-align: middle;\n",
       "    }\n",
       "\n",
       "    .dataframe tbody tr th {\n",
       "        vertical-align: top;\n",
       "    }\n",
       "\n",
       "    .dataframe thead th {\n",
       "        text-align: right;\n",
       "    }\n",
       "</style>\n",
       "<table border=\"1\" class=\"dataframe\">\n",
       "  <thead>\n",
       "    <tr style=\"text-align: right;\">\n",
       "      <th></th>\n",
       "      <th>name</th>\n",
       "      <th>Correlation</th>\n",
       "      <th>rating</th>\n",
       "      <th>num of ratings</th>\n",
       "    </tr>\n",
       "  </thead>\n",
       "  <tbody>\n",
       "    <tr>\n",
       "      <th>0</th>\n",
       "      <td>Apple® - iPod touch® 64GB* MP3 Player (3rd Generation) - Black</td>\n",
       "      <td>0.014292</td>\n",
       "      <td>4.695906</td>\n",
       "      <td>171.0</td>\n",
       "    </tr>\n",
       "    <tr>\n",
       "      <th>2</th>\n",
       "      <td>Apple® - iPod classic® 160GB* MP3 Player - Black</td>\n",
       "      <td>0.006802</td>\n",
       "      <td>4.653199</td>\n",
       "      <td>297.0</td>\n",
       "    </tr>\n",
       "    <tr>\n",
       "      <th>4</th>\n",
       "      <td>Apple® - iPod classic® 160GB* MP3 Player - Silver</td>\n",
       "      <td>0.000875</td>\n",
       "      <td>4.728814</td>\n",
       "      <td>118.0</td>\n",
       "    </tr>\n",
       "    <tr>\n",
       "      <th>6</th>\n",
       "      <td>Apple® - iPod touch® 8GB* MP3 Player (4th Generation - Latest Model) - Black</td>\n",
       "      <td>1.000000</td>\n",
       "      <td>4.645193</td>\n",
       "      <td>1009.0</td>\n",
       "    </tr>\n",
       "    <tr>\n",
       "      <th>8</th>\n",
       "      <td>Apple® - iPod touch® 32GB* MP3 Player (4th Generation - Latest Model) - Black</td>\n",
       "      <td>0.059223</td>\n",
       "      <td>4.687500</td>\n",
       "      <td>912.0</td>\n",
       "    </tr>\n",
       "    <tr>\n",
       "      <th>10</th>\n",
       "      <td>Apple® - iPod touch® 64GB* MP3 Player (4th Generation - Latest Model) - Black</td>\n",
       "      <td>0.014273</td>\n",
       "      <td>4.483871</td>\n",
       "      <td>186.0</td>\n",
       "    </tr>\n",
       "    <tr>\n",
       "      <th>12</th>\n",
       "      <td>Sony - Walkman 8GB* MP3 Player - Violet</td>\n",
       "      <td>0.000497</td>\n",
       "      <td>NaN</td>\n",
       "      <td>NaN</td>\n",
       "    </tr>\n",
       "    <tr>\n",
       "      <th>14</th>\n",
       "      <td>Dynex™ - 6' Stereo Audio RCA Cable</td>\n",
       "      <td>-0.001451</td>\n",
       "      <td>NaN</td>\n",
       "      <td>NaN</td>\n",
       "    </tr>\n",
       "    <tr>\n",
       "      <th>16</th>\n",
       "      <td>Hello Kitty - Case for Apple® iPod® touch</td>\n",
       "      <td>0.002743</td>\n",
       "      <td>5.000000</td>\n",
       "      <td>3.0</td>\n",
       "    </tr>\n",
       "    <tr>\n",
       "      <th>18</th>\n",
       "      <td>New Potato - TuneLink Bluetooth Car Interface for Apple® iPhone® &amp; iPod® touch</td>\n",
       "      <td>0.028040</td>\n",
       "      <td>4.333333</td>\n",
       "      <td>3.0</td>\n",
       "    </tr>\n",
       "  </tbody>\n",
       "</table>\n",
       "</div>"
      ],
      "text/plain": [
       "                                                                              name  \\\n",
       "0   Apple® - iPod touch® 64GB* MP3 Player (3rd Generation) - Black                   \n",
       "2   Apple® - iPod classic® 160GB* MP3 Player - Black                                 \n",
       "4   Apple® - iPod classic® 160GB* MP3 Player - Silver                                \n",
       "6   Apple® - iPod touch® 8GB* MP3 Player (4th Generation - Latest Model) - Black     \n",
       "8   Apple® - iPod touch® 32GB* MP3 Player (4th Generation - Latest Model) - Black    \n",
       "10  Apple® - iPod touch® 64GB* MP3 Player (4th Generation - Latest Model) - Black    \n",
       "12  Sony - Walkman 8GB* MP3 Player - Violet                                          \n",
       "14  Dynex™ - 6' Stereo Audio RCA Cable                                               \n",
       "16  Hello Kitty - Case for Apple® iPod® touch                                        \n",
       "18  New Potato - TuneLink Bluetooth Car Interface for Apple® iPhone® & iPod® touch   \n",
       "\n",
       "    Correlation    rating  num of ratings  \n",
       "0   0.014292     4.695906  171.0           \n",
       "2   0.006802     4.653199  297.0           \n",
       "4   0.000875     4.728814  118.0           \n",
       "6   1.000000     4.645193  1009.0          \n",
       "8   0.059223     4.687500  912.0           \n",
       "10  0.014273     4.483871  186.0           \n",
       "12  0.000497    NaN       NaN              \n",
       "14 -0.001451    NaN       NaN              \n",
       "16  0.002743     5.000000  3.0             \n",
       "18  0.028040     4.333333  3.0             "
      ]
     },
     "execution_count": 431,
     "metadata": {},
     "output_type": "execute_result"
    }
   ],
   "source": [
    "apple_similar_rated = recomditems_corr(corr_apple,10)\n",
    "apple_similar_rated"
   ]
  },
  {
   "cell_type": "code",
   "execution_count": 389,
   "metadata": {},
   "outputs": [
    {
     "data": {
      "text/html": [
       "<div>\n",
       "<style scoped>\n",
       "    .dataframe tbody tr th:only-of-type {\n",
       "        vertical-align: middle;\n",
       "    }\n",
       "\n",
       "    .dataframe tbody tr th {\n",
       "        vertical-align: top;\n",
       "    }\n",
       "\n",
       "    .dataframe thead th {\n",
       "        text-align: right;\n",
       "    }\n",
       "</style>\n",
       "<table border=\"1\" class=\"dataframe\">\n",
       "  <thead>\n",
       "    <tr style=\"text-align: right;\">\n",
       "      <th></th>\n",
       "      <th>name</th>\n",
       "      <th>Correlation</th>\n",
       "      <th>rating</th>\n",
       "      <th>num of ratings</th>\n",
       "    </tr>\n",
       "  </thead>\n",
       "  <tbody>\n",
       "    <tr>\n",
       "      <th>0</th>\n",
       "      <td>2Wire - Wireless-G 802.11g ADSL Gateway</td>\n",
       "      <td>0.008909</td>\n",
       "      <td>NaN</td>\n",
       "      <td>NaN</td>\n",
       "    </tr>\n",
       "    <tr>\n",
       "      <th>2</th>\n",
       "      <td>Motorola - SURFboard Cable Modem</td>\n",
       "      <td>0.004760</td>\n",
       "      <td>4.245098</td>\n",
       "      <td>102.0</td>\n",
       "    </tr>\n",
       "    <tr>\n",
       "      <th>4</th>\n",
       "      <td>NETGEAR - Wireless-N Router</td>\n",
       "      <td>1.000000</td>\n",
       "      <td>4.253659</td>\n",
       "      <td>1025.0</td>\n",
       "    </tr>\n",
       "    <tr>\n",
       "      <th>6</th>\n",
       "      <td>NETGEAR - RangeMax Dual-Band Wireless-N Router with 4-Port Gigabit Ethernet Switch</td>\n",
       "      <td>0.018312</td>\n",
       "      <td>4.324841</td>\n",
       "      <td>628.0</td>\n",
       "    </tr>\n",
       "    <tr>\n",
       "      <th>8</th>\n",
       "      <td>Lenmar - Lithium-Ion Battery for Select Cell Phones</td>\n",
       "      <td>0.005852</td>\n",
       "      <td>NaN</td>\n",
       "      <td>NaN</td>\n",
       "    </tr>\n",
       "    <tr>\n",
       "      <th>10</th>\n",
       "      <td>CenturyLink - DSL Modem with 802.11g Wireless Router and 4-Port Ethernet Switch</td>\n",
       "      <td>0.008178</td>\n",
       "      <td>3.608696</td>\n",
       "      <td>23.0</td>\n",
       "    </tr>\n",
       "    <tr>\n",
       "      <th>12</th>\n",
       "      <td>NETGEAR - 150 Wireless-N Router with 4-Port Ethernet Switch</td>\n",
       "      <td>0.028573</td>\n",
       "      <td>4.320755</td>\n",
       "      <td>53.0</td>\n",
       "    </tr>\n",
       "    <tr>\n",
       "      <th>14</th>\n",
       "      <td>Cisco Linksys - E1000 Wireless-N Router</td>\n",
       "      <td>0.027700</td>\n",
       "      <td>NaN</td>\n",
       "      <td>NaN</td>\n",
       "    </tr>\n",
       "    <tr>\n",
       "      <th>16</th>\n",
       "      <td>NETGEAR - N150 Wireless-N Router</td>\n",
       "      <td>0.054537</td>\n",
       "      <td>NaN</td>\n",
       "      <td>NaN</td>\n",
       "    </tr>\n",
       "    <tr>\n",
       "      <th>18</th>\n",
       "      <td>NETGEAR - Wireless-N Dual-Band Router for Video and Gaming</td>\n",
       "      <td>0.012882</td>\n",
       "      <td>NaN</td>\n",
       "      <td>NaN</td>\n",
       "    </tr>\n",
       "  </tbody>\n",
       "</table>\n",
       "</div>"
      ],
      "text/plain": [
       "                                                                                  name  \\\n",
       "0   2Wire - Wireless-G 802.11g ADSL Gateway                                              \n",
       "2   Motorola - SURFboard Cable Modem                                                     \n",
       "4   NETGEAR - Wireless-N Router                                                          \n",
       "6   NETGEAR - RangeMax Dual-Band Wireless-N Router with 4-Port Gigabit Ethernet Switch   \n",
       "8   Lenmar - Lithium-Ion Battery for Select Cell Phones                                  \n",
       "10  CenturyLink - DSL Modem with 802.11g Wireless Router and 4-Port Ethernet Switch      \n",
       "12  NETGEAR - 150 Wireless-N Router with 4-Port Ethernet Switch                          \n",
       "14  Cisco Linksys - E1000 Wireless-N Router                                              \n",
       "16  NETGEAR - N150 Wireless-N Router                                                     \n",
       "18  NETGEAR - Wireless-N Dual-Band Router for Video and Gaming                           \n",
       "\n",
       "    Correlation    rating  num of ratings  \n",
       "0   0.008909    NaN       NaN              \n",
       "2   0.004760     4.245098  102.0           \n",
       "4   1.000000     4.253659  1025.0          \n",
       "6   0.018312     4.324841  628.0           \n",
       "8   0.005852    NaN       NaN              \n",
       "10  0.008178     3.608696  23.0            \n",
       "12  0.028573     4.320755  53.0            \n",
       "14  0.027700    NaN       NaN              \n",
       "16  0.054537    NaN       NaN              \n",
       "18  0.012882    NaN       NaN              "
      ]
     },
     "execution_count": 389,
     "metadata": {},
     "output_type": "execute_result"
    }
   ],
   "source": [
    "Wireless_N_Router_similar_rated = recomditems_corr(corr_Wireless_N_Router,10)\n",
    "Wireless_N_Router_similar_rated"
   ]
  },
  {
   "cell_type": "markdown",
   "metadata": {},
   "source": [
    "# Item Based - Cosine Similarity\n"
   ]
  },
  {
   "cell_type": "code",
   "execution_count": 446,
   "metadata": {},
   "outputs": [],
   "source": [
    "Apple_ipod = R_df[(9225377)]\n",
    "Wireless_N_Router = R_df[(8998506)]"
   ]
  },
  {
   "cell_type": "code",
   "execution_count": 447,
   "metadata": {},
   "outputs": [],
   "source": [
    "#Compute the cosine similarity matrix using the ratings matrix\n",
    "cosine_sim = cosine_similarity(r_matrix_dummy.transpose(),r_matrix_dummy.transpose().loc[[9225377]])"
   ]
  },
  {
   "cell_type": "code",
   "execution_count": 448,
   "metadata": {},
   "outputs": [],
   "source": [
    "cosine_sim = pd.DataFrame(cosine_sim, index=r_matrix_dummy.transpose().index, columns=r_matrix_dummy.transpose().loc[[9225377]].index)"
   ]
  },
  {
   "cell_type": "code",
   "execution_count": 449,
   "metadata": {},
   "outputs": [],
   "source": [
    "def recomditems_cosine(data,n):\n",
    "    left = data.head(n)\n",
    "    similar = products.merge(left,on = 'sku',how = 'inner')     \n",
    "    similar = similar.dropna().drop_duplicates()\n",
    "    similar_rated = similar.merge(sku_rat,on = 'sku',how = 'left')\n",
    "    similar_rated = similar_rated[['name', 'freq', 'rating', 'num of ratings']]\n",
    "    similar_rated = similar_rated.drop_duplicates()\n",
    "    return similar_rated"
   ]
  },
  {
   "cell_type": "code",
   "execution_count": 450,
   "metadata": {},
   "outputs": [],
   "source": [
    "similar_to_user1 = cosine_sim[9225377].sort_values(ascending = False).reset_index()"
   ]
  },
  {
   "cell_type": "code",
   "execution_count": 453,
   "metadata": {},
   "outputs": [
    {
     "name": "stdout",
     "output_type": "stream",
     "text": [
      "Recommended list of items for Apple_ipod: \n",
      "\n"
     ]
    },
    {
     "data": {
      "text/html": [
       "<div>\n",
       "<style scoped>\n",
       "    .dataframe tbody tr th:only-of-type {\n",
       "        vertical-align: middle;\n",
       "    }\n",
       "\n",
       "    .dataframe tbody tr th {\n",
       "        vertical-align: top;\n",
       "    }\n",
       "\n",
       "    .dataframe thead th {\n",
       "        text-align: right;\n",
       "    }\n",
       "</style>\n",
       "<table border=\"1\" class=\"dataframe\">\n",
       "  <thead>\n",
       "    <tr style=\"text-align: right;\">\n",
       "      <th></th>\n",
       "      <th>name</th>\n",
       "      <th>freq</th>\n",
       "      <th>rating</th>\n",
       "      <th>num of ratings</th>\n",
       "    </tr>\n",
       "  </thead>\n",
       "  <tbody>\n",
       "    <tr>\n",
       "      <th>0</th>\n",
       "      <td>Best Buy GC - $20 Gift Card</td>\n",
       "      <td>0.007811</td>\n",
       "      <td>4.803030</td>\n",
       "      <td>132</td>\n",
       "    </tr>\n",
       "    <tr>\n",
       "      <th>2</th>\n",
       "      <td>Best Buy GC - $250 Gift Card</td>\n",
       "      <td>0.007133</td>\n",
       "      <td>4.750000</td>\n",
       "      <td>4</td>\n",
       "    </tr>\n",
       "    <tr>\n",
       "      <th>4</th>\n",
       "      <td>Apple® - iPod touch® 64GB* MP3 Player (3rd Generation) - Black</td>\n",
       "      <td>0.019760</td>\n",
       "      <td>4.695906</td>\n",
       "      <td>171</td>\n",
       "    </tr>\n",
       "    <tr>\n",
       "      <th>6</th>\n",
       "      <td>Apple® - iPod classic® 160GB* MP3 Player - Black</td>\n",
       "      <td>0.017804</td>\n",
       "      <td>4.653199</td>\n",
       "      <td>297</td>\n",
       "    </tr>\n",
       "    <tr>\n",
       "      <th>8</th>\n",
       "      <td>Apple® - iPod touch® 8GB* MP3 Player (4th Generation - Latest Model) - Black</td>\n",
       "      <td>1.000000</td>\n",
       "      <td>4.645193</td>\n",
       "      <td>1009</td>\n",
       "    </tr>\n",
       "    <tr>\n",
       "      <th>10</th>\n",
       "      <td>Apple® - iPod touch® 32GB* MP3 Player (4th Generation - Latest Model) - Black</td>\n",
       "      <td>0.082078</td>\n",
       "      <td>4.687500</td>\n",
       "      <td>912</td>\n",
       "    </tr>\n",
       "    <tr>\n",
       "      <th>12</th>\n",
       "      <td>Apple® - iPod touch® 64GB* MP3 Player (4th Generation - Latest Model) - Black</td>\n",
       "      <td>0.026832</td>\n",
       "      <td>4.483871</td>\n",
       "      <td>186</td>\n",
       "    </tr>\n",
       "    <tr>\n",
       "      <th>14</th>\n",
       "      <td>XM - Onyx Satellite Radio Receiver with Vehicle Kit</td>\n",
       "      <td>0.007559</td>\n",
       "      <td>3.909091</td>\n",
       "      <td>110</td>\n",
       "    </tr>\n",
       "    <tr>\n",
       "      <th>16</th>\n",
       "      <td>Hello Kitty - Case for Apple® iPod® touch</td>\n",
       "      <td>0.011396</td>\n",
       "      <td>5.000000</td>\n",
       "      <td>3</td>\n",
       "    </tr>\n",
       "    <tr>\n",
       "      <th>18</th>\n",
       "      <td>New Potato - TuneLink Bluetooth Car Interface for Apple® iPhone® &amp; iPod® touch</td>\n",
       "      <td>0.033113</td>\n",
       "      <td>4.333333</td>\n",
       "      <td>3</td>\n",
       "    </tr>\n",
       "  </tbody>\n",
       "</table>\n",
       "</div>"
      ],
      "text/plain": [
       "                                                                              name  \\\n",
       "0   Best Buy GC - $20 Gift Card                                                      \n",
       "2   Best Buy GC - $250 Gift Card                                                     \n",
       "4   Apple® - iPod touch® 64GB* MP3 Player (3rd Generation) - Black                   \n",
       "6   Apple® - iPod classic® 160GB* MP3 Player - Black                                 \n",
       "8   Apple® - iPod touch® 8GB* MP3 Player (4th Generation - Latest Model) - Black     \n",
       "10  Apple® - iPod touch® 32GB* MP3 Player (4th Generation - Latest Model) - Black    \n",
       "12  Apple® - iPod touch® 64GB* MP3 Player (4th Generation - Latest Model) - Black    \n",
       "14  XM - Onyx Satellite Radio Receiver with Vehicle Kit                              \n",
       "16  Hello Kitty - Case for Apple® iPod® touch                                        \n",
       "18  New Potato - TuneLink Bluetooth Car Interface for Apple® iPhone® & iPod® touch   \n",
       "\n",
       "        freq    rating  num of ratings  \n",
       "0   0.007811  4.803030  132             \n",
       "2   0.007133  4.750000  4               \n",
       "4   0.019760  4.695906  171             \n",
       "6   0.017804  4.653199  297             \n",
       "8   1.000000  4.645193  1009            \n",
       "10  0.082078  4.687500  912             \n",
       "12  0.026832  4.483871  186             \n",
       "14  0.007559  3.909091  110             \n",
       "16  0.011396  5.000000  3               \n",
       "18  0.033113  4.333333  3               "
      ]
     },
     "execution_count": 453,
     "metadata": {},
     "output_type": "execute_result"
    }
   ],
   "source": [
    "# Item_sku = merged[merged.name == Item].sku.unique()\n",
    "cosine_sim = cosine_similarity(r_matrix_dummy.transpose(),r_matrix_dummy.transpose().loc[[9225377]])\n",
    "cosine_sim = pd.DataFrame(cosine_sim, index=r_matrix_dummy.transpose().index, columns=['freq'])\n",
    "Items_similer_to_user = cosine_sim.sort_values(ascending = False,by='freq').reset_index()\n",
    "print(\"Recommended list of items for Apple_ipod: \"+\"\\n\" )\n",
    "recomditems_cosine(Items_similer_to_user,10)"
   ]
  },
  {
   "cell_type": "code",
   "execution_count": 454,
   "metadata": {},
   "outputs": [
    {
     "name": "stdout",
     "output_type": "stream",
     "text": [
      "Recommended list of items for : Wireless_N_Router\n",
      "\n"
     ]
    },
    {
     "data": {
      "text/html": [
       "<div>\n",
       "<style scoped>\n",
       "    .dataframe tbody tr th:only-of-type {\n",
       "        vertical-align: middle;\n",
       "    }\n",
       "\n",
       "    .dataframe tbody tr th {\n",
       "        vertical-align: top;\n",
       "    }\n",
       "\n",
       "    .dataframe thead th {\n",
       "        text-align: right;\n",
       "    }\n",
       "</style>\n",
       "<table border=\"1\" class=\"dataframe\">\n",
       "  <thead>\n",
       "    <tr style=\"text-align: right;\">\n",
       "      <th></th>\n",
       "      <th>name</th>\n",
       "      <th>freq</th>\n",
       "      <th>rating</th>\n",
       "      <th>num of ratings</th>\n",
       "    </tr>\n",
       "  </thead>\n",
       "  <tbody>\n",
       "    <tr>\n",
       "      <th>0</th>\n",
       "      <td>2Wire - Wireless-G 802.11g ADSL Gateway</td>\n",
       "      <td>0.011952</td>\n",
       "      <td>NaN</td>\n",
       "      <td>NaN</td>\n",
       "    </tr>\n",
       "    <tr>\n",
       "      <th>2</th>\n",
       "      <td>Motorola - SURFboard Cable Modem</td>\n",
       "      <td>0.011663</td>\n",
       "      <td>4.245098</td>\n",
       "      <td>102.0</td>\n",
       "    </tr>\n",
       "    <tr>\n",
       "      <th>4</th>\n",
       "      <td>Best Buy GC - $50 Gift Card</td>\n",
       "      <td>0.008310</td>\n",
       "      <td>4.876712</td>\n",
       "      <td>73.0</td>\n",
       "    </tr>\n",
       "    <tr>\n",
       "      <th>6</th>\n",
       "      <td>NETGEAR - Wireless-N Router</td>\n",
       "      <td>1.000000</td>\n",
       "      <td>4.253659</td>\n",
       "      <td>1025.0</td>\n",
       "    </tr>\n",
       "    <tr>\n",
       "      <th>8</th>\n",
       "      <td>NETGEAR - RangeMax Dual-Band Wireless-N Router with 4-Port Gigabit Ethernet Switch</td>\n",
       "      <td>0.021194</td>\n",
       "      <td>4.324841</td>\n",
       "      <td>628.0</td>\n",
       "    </tr>\n",
       "    <tr>\n",
       "      <th>10</th>\n",
       "      <td>CenturyLink - DSL Modem with 802.11g Wireless Router and 4-Port Ethernet Switch</td>\n",
       "      <td>0.011379</td>\n",
       "      <td>3.608696</td>\n",
       "      <td>23.0</td>\n",
       "    </tr>\n",
       "    <tr>\n",
       "      <th>12</th>\n",
       "      <td>NETGEAR - 150 Wireless-N Router with 4-Port Ethernet Switch</td>\n",
       "      <td>0.029958</td>\n",
       "      <td>4.320755</td>\n",
       "      <td>53.0</td>\n",
       "    </tr>\n",
       "    <tr>\n",
       "      <th>14</th>\n",
       "      <td>Cisco Linksys - E1000 Wireless-N Router</td>\n",
       "      <td>0.030817</td>\n",
       "      <td>NaN</td>\n",
       "      <td>NaN</td>\n",
       "    </tr>\n",
       "    <tr>\n",
       "      <th>16</th>\n",
       "      <td>NETGEAR - N150 Wireless-N Router</td>\n",
       "      <td>0.059339</td>\n",
       "      <td>NaN</td>\n",
       "      <td>NaN</td>\n",
       "    </tr>\n",
       "    <tr>\n",
       "      <th>18</th>\n",
       "      <td>NETGEAR - Wireless-N Dual-Band Router for Video and Gaming</td>\n",
       "      <td>0.016948</td>\n",
       "      <td>NaN</td>\n",
       "      <td>NaN</td>\n",
       "    </tr>\n",
       "  </tbody>\n",
       "</table>\n",
       "</div>"
      ],
      "text/plain": [
       "                                                                                  name  \\\n",
       "0   2Wire - Wireless-G 802.11g ADSL Gateway                                              \n",
       "2   Motorola - SURFboard Cable Modem                                                     \n",
       "4   Best Buy GC - $50 Gift Card                                                          \n",
       "6   NETGEAR - Wireless-N Router                                                          \n",
       "8   NETGEAR - RangeMax Dual-Band Wireless-N Router with 4-Port Gigabit Ethernet Switch   \n",
       "10  CenturyLink - DSL Modem with 802.11g Wireless Router and 4-Port Ethernet Switch      \n",
       "12  NETGEAR - 150 Wireless-N Router with 4-Port Ethernet Switch                          \n",
       "14  Cisco Linksys - E1000 Wireless-N Router                                              \n",
       "16  NETGEAR - N150 Wireless-N Router                                                     \n",
       "18  NETGEAR - Wireless-N Dual-Band Router for Video and Gaming                           \n",
       "\n",
       "        freq    rating  num of ratings  \n",
       "0   0.011952 NaN       NaN              \n",
       "2   0.011663  4.245098  102.0           \n",
       "4   0.008310  4.876712  73.0            \n",
       "6   1.000000  4.253659  1025.0          \n",
       "8   0.021194  4.324841  628.0           \n",
       "10  0.011379  3.608696  23.0            \n",
       "12  0.029958  4.320755  53.0            \n",
       "14  0.030817 NaN       NaN              \n",
       "16  0.059339 NaN       NaN              \n",
       "18  0.016948 NaN       NaN              "
      ]
     },
     "execution_count": 454,
     "metadata": {},
     "output_type": "execute_result"
    }
   ],
   "source": [
    "# Item_sku = merged[merged.name == Item].sku.unique()\n",
    "cosine_sim = cosine_similarity(r_matrix_dummy.transpose(),r_matrix_dummy.transpose().loc[[8998506]])\n",
    "cosine_sim = pd.DataFrame(cosine_sim, index=r_matrix_dummy.transpose().index, columns=['freq'])\n",
    "Items_similer_to_user = cosine_sim.sort_values(ascending = False,by='freq').reset_index()\n",
    "print(\"Recommended list of items for : Wireless_N_Router\"+\"\\n\" )\n",
    "recomditems_cosine(Items_similer_to_user,10)"
   ]
  },
  {
   "cell_type": "code",
   "execution_count": null,
   "metadata": {},
   "outputs": [],
   "source": []
  },
  {
   "cell_type": "code",
   "execution_count": null,
   "metadata": {},
   "outputs": [],
   "source": []
  },
  {
   "cell_type": "code",
   "execution_count": null,
   "metadata": {},
   "outputs": [],
   "source": []
  },
  {
   "cell_type": "code",
   "execution_count": null,
   "metadata": {},
   "outputs": [],
   "source": []
  },
  {
   "cell_type": "code",
   "execution_count": null,
   "metadata": {},
   "outputs": [],
   "source": []
  },
  {
   "cell_type": "markdown",
   "metadata": {},
   "source": [
    "# Live demo for User Based Collaborative filtering"
   ]
  },
  {
   "cell_type": "code",
   "execution_count": 79,
   "metadata": {},
   "outputs": [],
   "source": [
    "from ipywidgets import widgets, interactive\n",
    "from ipykernel.pylab.backend_inline import flush_figures"
   ]
  },
  {
   "cell_type": "code",
   "execution_count": 87,
   "metadata": {},
   "outputs": [],
   "source": [
    "x = pd.DataFrame(merged.user.value_counts()).reset_index()\n",
    "x.columns = ['user','freq']\n",
    "user_list = list(x.user.head(20))"
   ]
  },
  {
   "cell_type": "code",
   "execution_count": 207,
   "metadata": {},
   "outputs": [],
   "source": [
    "User= widgets.Dropdown(options= user_list)\n",
    "no_of_closed_users = widgets.Dropdown(options= [1,5,10,50,100,150,250,500])\n",
    "\n",
    "Relation_Type= widgets.RadioButtons(options= ['Cosine Similarity','pearson correlation','SVDPP Matrix Factorization'])\n",
    "\n",
    "def UserbasedRecommendation(User,no_of_closed_users,Relation_Type):                            \n",
    "\n",
    "    if Relation_Type == 'pearson correlation':\n",
    "        user_rat = R_df_trans.loc[:,User]\n",
    "        users_similer_to_user = Similar_users(user_rat)\n",
    "        rec_list,alreadyviewd,rec_dict = recommendations(no_of_closed_users,User,users_similer_to_user)    \n",
    "        print(\"Already viewed items: \"+ \"\\n\"+ str(pd.DataFrame(alreadyviewd)) + \"\\n\\n\")\n",
    "        print(\"Viewed by other users - unique items: \"+\"\\n\"+ str(pd.DataFrame(list(rec_dict.keys())))+'\\n\\n')\n",
    "        print(\"Recommended list of items: \"+\"\\n\" + str(pd.DataFrame(rec_list))+\"\\n\\n\")\n",
    "    \n",
    "    elif Relation_Type == 'Cosine Similarity':\n",
    "        user_rat = r_matrix_dummy.loc[[User]]\n",
    "        cosine_sim = cosine_similarity(r_matrix_dummy,user_rat)\n",
    "        cosine_sim = pd.DataFrame(cosine_sim, index=r_matrix_dummy.index, columns=['freq'])\n",
    "        users_similer_to_user = cosine_sim.sort_values(ascending = False,by='freq').reset_index()\n",
    "        rec_list,alreadyviewd,rec_dict = recommendations(no_of_closed_users,User,users_similer_to_user)   \n",
    "        print(\"Already viewed items: \"+ \"\\n\"+ str(pd.DataFrame(alreadyviewd)) + \"\\n\\n\")\n",
    "        print(\"Viewed by other users - unique items: \"+\"\\n\"+ str(pd.DataFrame(list(rec_dict.keys())))+'\\n\\n')\n",
    "        print(\"Recommended list of items: \"+\"\\n\" + str(pd.DataFrame(rec_list))+\"\\n\\n\")\n",
    "        \n",
    "    elif Relation_Type == 'SVDPP Matrix Factorization':\n",
    "        top_n = get_top_n(predictions, n=10)\n",
    "        user_rat = r_matrix_dummy.loc[[User]]\n",
    "        cosine_sim = cosine_similarity(r_matrix_dummy,user_rat)\n",
    "        cosine_sim = pd.DataFrame(cosine_sim, index=r_matrix_dummy.index, columns=['freq'])\n",
    "        users_similer_to_user = cosine_sim.sort_values(ascending = False,by='freq').reset_index()\n",
    "        rec_list,alreadyviewd,rec_dict = recommendations(no_of_closed_users,User,users_similer_to_user)  \n",
    "        rec_df = pd.DataFrame.from_dict(top_n,orient='index')\n",
    "        print(\"Already viewed items: \"+ \"\\n\"+ str(pd.DataFrame(alreadyviewd)) + \"\\n\\n\")\n",
    "        print(\"Viewed by other users - unique items: \"+\"\\n\"+ str(pd.DataFrame(list(rec_dict.keys())))+'\\n\\n')\n",
    "        print(\"Recommended list of items: \"+\"\\n\" + str(rec_df.loc[[User]])+\"\\n\\n\" ) \n",
    "        \n",
    "\n"
   ]
  },
  {
   "cell_type": "code",
   "execution_count": 801,
   "metadata": {},
   "outputs": [
    {
     "data": {
      "application/vnd.jupyter.widget-view+json": {
       "model_id": "140b2e934c9b4e018386f95ff80b567b",
       "version_major": 2,
       "version_minor": 0
      },
      "text/plain": [
       "interactive(children=(Dropdown(description='User', index=16, options=('dc2bbff57193eed0181fd595452298dc1c2a4a7…"
      ]
     },
     "metadata": {},
     "output_type": "display_data"
    }
   ],
   "source": [
    "interactive(UserbasedRecommendation,User = User,no_of_closed_users = no_of_closed_users,Relation_Type=Relation_Type)"
   ]
  },
  {
   "cell_type": "markdown",
   "metadata": {},
   "source": [
    "# Live demo for Item Based Collaborative filtering"
   ]
  },
  {
   "cell_type": "code",
   "execution_count": 463,
   "metadata": {},
   "outputs": [],
   "source": [
    "y = pd.DataFrame(merged.name.value_counts()).reset_index()\n",
    "y.columns = ['item','freq']\n",
    "Item_list = list(y.item.head(20))\n",
    "\n",
    "Item= widgets.Dropdown(options= Item_list)\n",
    "R_items = widgets.Dropdown(options= [1,5,10,20,30,50])\n",
    "\n",
    "Relation= widgets.RadioButtons(options= ['Cosine Similarity','pearson correlation'])\n",
    "\n",
    "def ItembasedRecommendation(Item,R_items,Relation):                            \n",
    "    \n",
    "    if Relation == 'pearson correlation':\n",
    "        Item_sku = merged[merged.name == Item].sku.unique()[0]\n",
    "        Item_rat = R_df[Item_sku]\n",
    "        similar_to_item = R_df.corrwith(Item_rat)\n",
    "        corr_tab = corr_table(similar_to_item)\n",
    "        print(\"Recommended list of items: \"+\"\\n\")\n",
    "        return display(recomditems_corr(corr_tab,R_items))\n",
    "        \n",
    "    \n",
    "    elif Relation == 'Cosine Similarity':\n",
    "        Item_sku = merged[merged.name == Item].sku.unique()[0]\n",
    "        cosine_sim = cosine_similarity(r_matrix_dummy.transpose(),r_matrix_dummy.transpose().loc[[Item_sku]])\n",
    "        cosine_sim = pd.DataFrame(cosine_sim, index=r_matrix_dummy.transpose().index, columns=['freq'])\n",
    "        Items_similer_to_user = cosine_sim.sort_values(ascending = False,by='freq').reset_index()\n",
    "        print(\"Recommended list of items: \"+\"\\n\" )\n",
    "        return display(recomditems_cosine(Items_similer_to_user,R_items))\n"
   ]
  },
  {
   "cell_type": "code",
   "execution_count": 464,
   "metadata": {},
   "outputs": [
    {
     "data": {
      "application/vnd.jupyter.widget-view+json": {
       "model_id": "f27188834b94437aa29222d320d8fca8",
       "version_major": 2,
       "version_minor": 0
      },
      "text/plain": [
       "interactive(children=(Dropdown(description='Item', options=('Apple® - MacBook® Pro / Intel® Core™ i5 Processor…"
      ]
     },
     "metadata": {},
     "output_type": "display_data"
    }
   ],
   "source": [
    "interactive(ItembasedRecommendation,Item = Item,R_items =R_items ,Relation=Relation)"
   ]
  },
  {
   "cell_type": "markdown",
   "metadata": {},
   "source": []
  },
  {
   "cell_type": "markdown",
   "metadata": {},
   "source": []
  },
  {
   "cell_type": "markdown",
   "metadata": {},
   "source": []
  }
 ],
 "metadata": {
  "kernelspec": {
   "display_name": "Python 3",
   "language": "python",
   "name": "python3"
  },
  "language_info": {
   "codemirror_mode": {
    "name": "ipython",
    "version": 3
   },
   "file_extension": ".py",
   "mimetype": "text/x-python",
   "name": "python",
   "nbconvert_exporter": "python",
   "pygments_lexer": "ipython3",
   "version": "3.7.2"
  },
  "widgets": {
   "application/vnd.jupyter.widget-state+json": {
    "state": {
     "0058a659cbdb4e7ab81515064123e893": {
      "model_module": "@jupyter-widgets/controls",
      "model_module_version": "1.4.0",
      "model_name": "VBoxModel",
      "state": {
       "_dom_classes": [
        "widget-interact"
       ],
       "children": [
        "IPY_MODEL_ff3ba27a2e1548a9acef42f7a2441d50",
        "IPY_MODEL_9d21da8572e742a7b2a2d418bdb5ab83",
        "IPY_MODEL_7e21af6065bd4342bfc4a19978400460",
        "IPY_MODEL_6632823360e14624b5c78a5b7ad8113d"
       ],
       "layout": "IPY_MODEL_95b626a8de0442dc948d5ebd9fd02b7c"
      }
     },
     "0145acc2092143898cb79d97da7bf731": {
      "model_module": "@jupyter-widgets/controls",
      "model_module_version": "1.4.0",
      "model_name": "DescriptionStyleModel",
      "state": {
       "description_width": ""
      }
     },
     "0390287eac044c46b45dd5b7d5f15f9d": {
      "model_module": "@jupyter-widgets/controls",
      "model_module_version": "1.4.0",
      "model_name": "DescriptionStyleModel",
      "state": {
       "description_width": ""
      }
     },
     "042723da01e54faf8d25ccf93a0a16fd": {
      "model_module": "@jupyter-widgets/controls",
      "model_module_version": "1.4.0",
      "model_name": "DescriptionStyleModel",
      "state": {
       "description_width": ""
      }
     },
     "0539afb3bf7f467e8cfa3c4937933420": {
      "model_module": "@jupyter-widgets/controls",
      "model_module_version": "1.4.0",
      "model_name": "DropdownModel",
      "state": {
       "_options_labels": [
        "Apple® - MacBook® Pro / Intel® Core™ i5 Processor / 13.3\" Display / 4GB Memory / 320GB Hard Drive",
        "Apple® - iPod touch® 8GB* MP3 Player (4th Generation - Latest Model) - Black",
        "Beats By Dr. Dre - Beats Tour Earbud Headphones - Black",
        "Beats By Dr. Dre - Beats Solo HD Over-the-Ear Headphones - Black",
        "Apple® - iPod touch® 32GB* MP3 Player (4th Generation - Latest Model) - Black",
        "Rocketfish™ - 90W AC Power Adapter for Most Laptop PCs - Black",
        "Western Digital - Scorpio Blue 500GB Internal Serial ATA Hard Drive for Laptops",
        "Motorola - SURFboard Cable Modem",
        "TiVo® - Premiere High-Definition Digital Video Recorder",
        "Apple® - MacBook® Pro / Intel® Core™ i7 Processor / 13.3\" Display / 4GB Memory / 500GB Hard Drive",
        "Optoma - Pico Pocket DLP Projector",
        "Dynex™ - 3' 3.5mm Stereo Audio Cable",
        "Sony - Blu-ray Remote for PlayStation 3",
        "Western Digital - WD TV Live Plus HD Media Player",
        "Kaspersky Anti-Virus (1-Year Subscription) - Windows",
        "NETGEAR - Wireless-N Router",
        "Beats By Dr. Dre - Monster Studio High-Definition Red Sox Over-the-Ear Headphones - Blue",
        "HP - Photosmart e-All-in-One Wireless Printer",
        "Beats By Dr. Dre - Beats Studio Over-the-Ear Headphones - Black",
        "Beats By Dr. Dre - Beats Studio Over-the-Ear Headphones - White"
       ],
       "description": "Item",
       "index": 6,
       "layout": "IPY_MODEL_4d4bc148bd124d6297ffda2bfcbcf851",
       "style": "IPY_MODEL_6ec2aedf042a4cb3acad8531894cb08c"
      }
     },
     "0571aef79df142dd9eda0c8ff27ccc47": {
      "model_module": "@jupyter-widgets/base",
      "model_module_version": "1.1.0",
      "model_name": "LayoutModel",
      "state": {}
     },
     "069654ff0a354a17a40aeb53194aca5e": {
      "model_module": "@jupyter-widgets/base",
      "model_module_version": "1.1.0",
      "model_name": "LayoutModel",
      "state": {}
     },
     "06d5f493b9984b5b961f53ca44699c39": {
      "model_module": "@jupyter-widgets/controls",
      "model_module_version": "1.4.0",
      "model_name": "DescriptionStyleModel",
      "state": {
       "description_width": ""
      }
     },
     "06fea61534304ef8ae778c66d3ee9a1e": {
      "model_module": "@jupyter-widgets/controls",
      "model_module_version": "1.4.0",
      "model_name": "DescriptionStyleModel",
      "state": {
       "description_width": ""
      }
     },
     "07cc1291d0b44481a10aa87f8586cd5c": {
      "model_module": "@jupyter-widgets/base",
      "model_module_version": "1.1.0",
      "model_name": "LayoutModel",
      "state": {}
     },
     "07dda474b8a24f659a501f3d21869174": {
      "model_module": "@jupyter-widgets/controls",
      "model_module_version": "1.4.0",
      "model_name": "RadioButtonsModel",
      "state": {
       "_options_labels": [
        "Cosine Similarity",
        "pearson correlation"
       ],
       "description": "Relation",
       "index": 0,
       "layout": "IPY_MODEL_8eec51dfbff64398825061e44bd67aa3",
       "style": "IPY_MODEL_6f6109c1149b4d94a77918756f7034bc"
      }
     },
     "0824d283a8ff43c697deec9231613dbf": {
      "model_module": "@jupyter-widgets/base",
      "model_module_version": "1.1.0",
      "model_name": "LayoutModel",
      "state": {}
     },
     "094aee171ed344178a6783f8d54a08a5": {
      "model_module": "@jupyter-widgets/controls",
      "model_module_version": "1.4.0",
      "model_name": "DescriptionStyleModel",
      "state": {
       "description_width": ""
      }
     },
     "09cddeb383474ae4b52193359eb45f43": {
      "model_module": "@jupyter-widgets/controls",
      "model_module_version": "1.4.0",
      "model_name": "DescriptionStyleModel",
      "state": {
       "description_width": ""
      }
     },
     "09d10668ba8a4cf0af0253d1684d96ca": {
      "model_module": "@jupyter-widgets/base",
      "model_module_version": "1.1.0",
      "model_name": "LayoutModel",
      "state": {}
     },
     "0a601c8642114c52bd2603b6ff9b50df": {
      "model_module": "@jupyter-widgets/base",
      "model_module_version": "1.1.0",
      "model_name": "LayoutModel",
      "state": {}
     },
     "0aa43acf9b38402889945c1f7b421dc0": {
      "model_module": "@jupyter-widgets/controls",
      "model_module_version": "1.4.0",
      "model_name": "DescriptionStyleModel",
      "state": {
       "description_width": ""
      }
     },
     "0af436befc194523938d4769f78620c3": {
      "model_module": "@jupyter-widgets/base",
      "model_module_version": "1.1.0",
      "model_name": "LayoutModel",
      "state": {}
     },
     "0b1c3bf2fcb04f5a96f758b82773c545": {
      "model_module": "@jupyter-widgets/output",
      "model_module_version": "1.0.0",
      "model_name": "OutputModel",
      "state": {
       "layout": "IPY_MODEL_7a909677734b4ab197eadb9add3477dd"
      }
     },
     "0b6ddfcdff2441c19f1229af5cd9d597": {
      "model_module": "@jupyter-widgets/controls",
      "model_module_version": "1.4.0",
      "model_name": "DescriptionStyleModel",
      "state": {
       "description_width": ""
      }
     },
     "0bca8d441fbd429c9a221fc37a9a0c16": {
      "model_module": "@jupyter-widgets/controls",
      "model_module_version": "1.4.0",
      "model_name": "DropdownModel",
      "state": {
       "_options_labels": [
        "dc2bbff57193eed0181fd595452298dc1c2a4a70",
        "4924744a593a6de6d9ec34434a53e3901f449e7a",
        "7e708681b4f6a8dece0f538e11b535a780973068",
        "b60937bc9d7aaf43cad00b21e53c48c6ce0056df",
        "63f812f21f67f4afe07bcb7eb8afaa60a1373617",
        "72ff174ccd1c6c574aeae88cafdb128aada17191",
        "18db88e54b8fec0f44b88c85aa71aa8ccc628f50",
        "ff0b5a6dba4172d3295663450203866c825cb97d",
        "c5fca994457ed89ef61f32c074806e814127c112",
        "493d7c1900e606f079ca6c742898eadf7075e34a",
        "0daebfc24b4b818e8b451ea7a4ab8dcde5bb127f",
        "85691806a5373f6ed2180e42c9f6dcf02182d1ca",
        "b35862d23e811c2cb1f8bba328df13cacdd10d75",
        "5f57d92a0b4d12e79613c3d6c0856411a3845fdd",
        "6c646a930383da16b3963e4812ef1a1876fd12ee",
        "25b1e8c13f2dd0b0445921c9166301ce4b383242",
        "b44745292f516376f523748c5effeade0fbe12bc",
        "d8b2ca85c7610ff1b955baf6b40575250d7c335c",
        "881393c0590ef19491d17fe9d722bc42dc0706e6",
        "11409f6cf896af91577b1ab352a600a6dbbd20d2"
       ],
       "description": "Item",
       "index": 0,
       "layout": "IPY_MODEL_474c01e6218e42aa84f6f17216349e03",
       "style": "IPY_MODEL_a2392f00b58b4028926c4bc5e64f9bf6"
      }
     },
     "0c34f97832c94962a47d28f6c57d4cb9": {
      "model_module": "@jupyter-widgets/controls",
      "model_module_version": "1.4.0",
      "model_name": "VBoxModel",
      "state": {
       "_dom_classes": [
        "widget-interact"
       ],
       "children": [
        "IPY_MODEL_0cc2ab3f854f4253bef741717f98d470",
        "IPY_MODEL_d1cd38eaee384a64a65743bdd0362609",
        "IPY_MODEL_571d75b4ca9d4f7e9ae0fd9af81ba692",
        "IPY_MODEL_a7707331c5ab4b32a7f2a7a67663ea0c"
       ],
       "layout": "IPY_MODEL_d36d9ccfcf4d409c842311ff6ecee960"
      }
     },
     "0c7672382be148338ca3f28edf909445": {
      "model_module": "@jupyter-widgets/base",
      "model_module_version": "1.1.0",
      "model_name": "LayoutModel",
      "state": {}
     },
     "0c8d3a8875d14609b32d2ce7190d07dd": {
      "model_module": "@jupyter-widgets/output",
      "model_module_version": "1.0.0",
      "model_name": "OutputModel",
      "state": {
       "layout": "IPY_MODEL_77a248a130704a0eac5da530b20a78f3",
       "outputs": [
        {
         "name": "stdout",
         "output_type": "stream",
         "text": "Recommended list of items: \n\n"
        },
        {
         "ename": "KeyError",
         "evalue": "\"['Correlation'] not in index\"",
         "output_type": "error",
         "traceback": [
          "\u001b[0;31m---------------------------------------------------------------------------\u001b[0m",
          "\u001b[0;31mKeyError\u001b[0m                                  Traceback (most recent call last)",
          "\u001b[0;32m/Library/Frameworks/Python.framework/Versions/3.7/lib/python3.7/site-packages/ipywidgets/widgets/interaction.py\u001b[0m in \u001b[0;36mupdate\u001b[0;34m(self, *args)\u001b[0m\n\u001b[1;32m    249\u001b[0m                     \u001b[0mvalue\u001b[0m \u001b[0;34m=\u001b[0m \u001b[0mwidget\u001b[0m\u001b[0;34m.\u001b[0m\u001b[0mget_interact_value\u001b[0m\u001b[0;34m(\u001b[0m\u001b[0;34m)\u001b[0m\u001b[0;34m\u001b[0m\u001b[0;34m\u001b[0m\u001b[0m\n\u001b[1;32m    250\u001b[0m                     \u001b[0mself\u001b[0m\u001b[0;34m.\u001b[0m\u001b[0mkwargs\u001b[0m\u001b[0;34m[\u001b[0m\u001b[0mwidget\u001b[0m\u001b[0;34m.\u001b[0m\u001b[0m_kwarg\u001b[0m\u001b[0;34m]\u001b[0m \u001b[0;34m=\u001b[0m \u001b[0mvalue\u001b[0m\u001b[0;34m\u001b[0m\u001b[0;34m\u001b[0m\u001b[0m\n\u001b[0;32m--> 251\u001b[0;31m                 \u001b[0mself\u001b[0m\u001b[0;34m.\u001b[0m\u001b[0mresult\u001b[0m \u001b[0;34m=\u001b[0m \u001b[0mself\u001b[0m\u001b[0;34m.\u001b[0m\u001b[0mf\u001b[0m\u001b[0;34m(\u001b[0m\u001b[0;34m**\u001b[0m\u001b[0mself\u001b[0m\u001b[0;34m.\u001b[0m\u001b[0mkwargs\u001b[0m\u001b[0;34m)\u001b[0m\u001b[0;34m\u001b[0m\u001b[0;34m\u001b[0m\u001b[0m\n\u001b[0m\u001b[1;32m    252\u001b[0m                 \u001b[0mshow_inline_matplotlib_plots\u001b[0m\u001b[0;34m(\u001b[0m\u001b[0;34m)\u001b[0m\u001b[0;34m\u001b[0m\u001b[0;34m\u001b[0m\u001b[0m\n\u001b[1;32m    253\u001b[0m                 \u001b[0;32mif\u001b[0m \u001b[0mself\u001b[0m\u001b[0;34m.\u001b[0m\u001b[0mauto_display\u001b[0m \u001b[0;32mand\u001b[0m \u001b[0mself\u001b[0m\u001b[0;34m.\u001b[0m\u001b[0mresult\u001b[0m \u001b[0;32mis\u001b[0m \u001b[0;32mnot\u001b[0m \u001b[0;32mNone\u001b[0m\u001b[0;34m:\u001b[0m\u001b[0;34m\u001b[0m\u001b[0;34m\u001b[0m\u001b[0m\n",
          "\u001b[0;32m<ipython-input-416-ddb68c08f1fb>\u001b[0m in \u001b[0;36mItembasedRecommendation\u001b[0;34m(Item, R_items, Relation)\u001b[0m\n\u001b[1;32m     25\u001b[0m         \u001b[0mItems_similer_to_user\u001b[0m \u001b[0;34m=\u001b[0m \u001b[0mcosine_sim\u001b[0m\u001b[0;34m.\u001b[0m\u001b[0msort_values\u001b[0m\u001b[0;34m(\u001b[0m\u001b[0mascending\u001b[0m \u001b[0;34m=\u001b[0m \u001b[0;32mFalse\u001b[0m\u001b[0;34m,\u001b[0m\u001b[0mby\u001b[0m\u001b[0;34m=\u001b[0m\u001b[0;34m'freq'\u001b[0m\u001b[0;34m)\u001b[0m\u001b[0;34m.\u001b[0m\u001b[0mreset_index\u001b[0m\u001b[0;34m(\u001b[0m\u001b[0;34m)\u001b[0m\u001b[0;34m\u001b[0m\u001b[0;34m\u001b[0m\u001b[0m\n\u001b[1;32m     26\u001b[0m         \u001b[0mprint\u001b[0m\u001b[0;34m(\u001b[0m\u001b[0;34m\"Recommended list of items: \"\u001b[0m\u001b[0;34m+\u001b[0m\u001b[0;34m\"\\n\"\u001b[0m \u001b[0;34m)\u001b[0m\u001b[0;34m\u001b[0m\u001b[0;34m\u001b[0m\u001b[0m\n\u001b[0;32m---> 27\u001b[0;31m         \u001b[0mprint\u001b[0m\u001b[0;34m(\u001b[0m\u001b[0mrecomditems\u001b[0m\u001b[0;34m(\u001b[0m\u001b[0mItems_similer_to_user\u001b[0m\u001b[0;34m,\u001b[0m\u001b[0mR_items\u001b[0m\u001b[0;34m)\u001b[0m\u001b[0;34m)\u001b[0m\u001b[0;34m\u001b[0m\u001b[0;34m\u001b[0m\u001b[0m\n\u001b[0m",
          "\u001b[0;32m<ipython-input-385-55e4493080a1>\u001b[0m in \u001b[0;36mrecomditems\u001b[0;34m(data, n)\u001b[0m\n\u001b[1;32m      4\u001b[0m     \u001b[0msimilar\u001b[0m \u001b[0;34m=\u001b[0m \u001b[0msimilar\u001b[0m\u001b[0;34m.\u001b[0m\u001b[0mdropna\u001b[0m\u001b[0;34m(\u001b[0m\u001b[0;34m)\u001b[0m\u001b[0;34m.\u001b[0m\u001b[0mdrop_duplicates\u001b[0m\u001b[0;34m(\u001b[0m\u001b[0;34m)\u001b[0m\u001b[0;34m\u001b[0m\u001b[0;34m\u001b[0m\u001b[0m\n\u001b[1;32m      5\u001b[0m     \u001b[0msimilar_rated\u001b[0m \u001b[0;34m=\u001b[0m \u001b[0msimilar\u001b[0m\u001b[0;34m.\u001b[0m\u001b[0mmerge\u001b[0m\u001b[0;34m(\u001b[0m\u001b[0msku_rat\u001b[0m\u001b[0;34m,\u001b[0m\u001b[0mon\u001b[0m \u001b[0;34m=\u001b[0m \u001b[0;34m'sku'\u001b[0m\u001b[0;34m,\u001b[0m\u001b[0mhow\u001b[0m \u001b[0;34m=\u001b[0m \u001b[0;34m'left'\u001b[0m\u001b[0;34m)\u001b[0m\u001b[0;34m\u001b[0m\u001b[0;34m\u001b[0m\u001b[0m\n\u001b[0;32m----> 6\u001b[0;31m     \u001b[0msimilar_rated\u001b[0m \u001b[0;34m=\u001b[0m \u001b[0msimilar_rated\u001b[0m\u001b[0;34m[\u001b[0m\u001b[0;34m[\u001b[0m\u001b[0;34m'name'\u001b[0m\u001b[0;34m,\u001b[0m \u001b[0;34m'Correlation'\u001b[0m\u001b[0;34m,\u001b[0m \u001b[0;34m'rating'\u001b[0m\u001b[0;34m,\u001b[0m \u001b[0;34m'num of ratings'\u001b[0m\u001b[0;34m]\u001b[0m\u001b[0;34m]\u001b[0m\u001b[0;34m\u001b[0m\u001b[0;34m\u001b[0m\u001b[0m\n\u001b[0m\u001b[1;32m      7\u001b[0m     \u001b[0msimilar_rated\u001b[0m \u001b[0;34m=\u001b[0m \u001b[0msimilar_rated\u001b[0m\u001b[0;34m.\u001b[0m\u001b[0mdrop_duplicates\u001b[0m\u001b[0;34m(\u001b[0m\u001b[0;34m)\u001b[0m\u001b[0;34m\u001b[0m\u001b[0;34m\u001b[0m\u001b[0m\n\u001b[1;32m      8\u001b[0m     \u001b[0;32mreturn\u001b[0m \u001b[0msimilar_rated\u001b[0m\u001b[0;34m\u001b[0m\u001b[0;34m\u001b[0m\u001b[0m\n",
          "\u001b[0;32m/Library/Frameworks/Python.framework/Versions/3.7/lib/python3.7/site-packages/pandas/core/frame.py\u001b[0m in \u001b[0;36m__getitem__\u001b[0;34m(self, key)\u001b[0m\n\u001b[1;32m   2932\u001b[0m                 \u001b[0mkey\u001b[0m \u001b[0;34m=\u001b[0m \u001b[0mlist\u001b[0m\u001b[0;34m(\u001b[0m\u001b[0mkey\u001b[0m\u001b[0;34m)\u001b[0m\u001b[0;34m\u001b[0m\u001b[0;34m\u001b[0m\u001b[0m\n\u001b[1;32m   2933\u001b[0m             indexer = self.loc._convert_to_indexer(key, axis=1,\n\u001b[0;32m-> 2934\u001b[0;31m                                                    raise_missing=True)\n\u001b[0m\u001b[1;32m   2935\u001b[0m \u001b[0;34m\u001b[0m\u001b[0m\n\u001b[1;32m   2936\u001b[0m         \u001b[0;31m# take() does not accept boolean indexers\u001b[0m\u001b[0;34m\u001b[0m\u001b[0;34m\u001b[0m\u001b[0;34m\u001b[0m\u001b[0m\n",
          "\u001b[0;32m/Library/Frameworks/Python.framework/Versions/3.7/lib/python3.7/site-packages/pandas/core/indexing.py\u001b[0m in \u001b[0;36m_convert_to_indexer\u001b[0;34m(self, obj, axis, is_setter, raise_missing)\u001b[0m\n\u001b[1;32m   1352\u001b[0m                 kwargs = {'raise_missing': True if is_setter else\n\u001b[1;32m   1353\u001b[0m                           raise_missing}\n\u001b[0;32m-> 1354\u001b[0;31m                 \u001b[0;32mreturn\u001b[0m \u001b[0mself\u001b[0m\u001b[0;34m.\u001b[0m\u001b[0m_get_listlike_indexer\u001b[0m\u001b[0;34m(\u001b[0m\u001b[0mobj\u001b[0m\u001b[0;34m,\u001b[0m \u001b[0maxis\u001b[0m\u001b[0;34m,\u001b[0m \u001b[0;34m**\u001b[0m\u001b[0mkwargs\u001b[0m\u001b[0;34m)\u001b[0m\u001b[0;34m[\u001b[0m\u001b[0;36m1\u001b[0m\u001b[0;34m]\u001b[0m\u001b[0;34m\u001b[0m\u001b[0;34m\u001b[0m\u001b[0m\n\u001b[0m\u001b[1;32m   1355\u001b[0m         \u001b[0;32melse\u001b[0m\u001b[0;34m:\u001b[0m\u001b[0;34m\u001b[0m\u001b[0;34m\u001b[0m\u001b[0m\n\u001b[1;32m   1356\u001b[0m             \u001b[0;32mtry\u001b[0m\u001b[0;34m:\u001b[0m\u001b[0;34m\u001b[0m\u001b[0;34m\u001b[0m\u001b[0m\n",
          "\u001b[0;32m/Library/Frameworks/Python.framework/Versions/3.7/lib/python3.7/site-packages/pandas/core/indexing.py\u001b[0m in \u001b[0;36m_get_listlike_indexer\u001b[0;34m(self, key, axis, raise_missing)\u001b[0m\n\u001b[1;32m   1159\u001b[0m         self._validate_read_indexer(keyarr, indexer,\n\u001b[1;32m   1160\u001b[0m                                     \u001b[0mo\u001b[0m\u001b[0;34m.\u001b[0m\u001b[0m_get_axis_number\u001b[0m\u001b[0;34m(\u001b[0m\u001b[0maxis\u001b[0m\u001b[0;34m)\u001b[0m\u001b[0;34m,\u001b[0m\u001b[0;34m\u001b[0m\u001b[0;34m\u001b[0m\u001b[0m\n\u001b[0;32m-> 1161\u001b[0;31m                                     raise_missing=raise_missing)\n\u001b[0m\u001b[1;32m   1162\u001b[0m         \u001b[0;32mreturn\u001b[0m \u001b[0mkeyarr\u001b[0m\u001b[0;34m,\u001b[0m \u001b[0mindexer\u001b[0m\u001b[0;34m\u001b[0m\u001b[0;34m\u001b[0m\u001b[0m\n\u001b[1;32m   1163\u001b[0m \u001b[0;34m\u001b[0m\u001b[0m\n",
          "\u001b[0;32m/Library/Frameworks/Python.framework/Versions/3.7/lib/python3.7/site-packages/pandas/core/indexing.py\u001b[0m in \u001b[0;36m_validate_read_indexer\u001b[0;34m(self, key, indexer, axis, raise_missing)\u001b[0m\n\u001b[1;32m   1250\u001b[0m             \u001b[0;32mif\u001b[0m \u001b[0;32mnot\u001b[0m\u001b[0;34m(\u001b[0m\u001b[0mself\u001b[0m\u001b[0;34m.\u001b[0m\u001b[0mname\u001b[0m \u001b[0;34m==\u001b[0m \u001b[0;34m'loc'\u001b[0m \u001b[0;32mand\u001b[0m \u001b[0;32mnot\u001b[0m \u001b[0mraise_missing\u001b[0m\u001b[0;34m)\u001b[0m\u001b[0;34m:\u001b[0m\u001b[0;34m\u001b[0m\u001b[0;34m\u001b[0m\u001b[0m\n\u001b[1;32m   1251\u001b[0m                 \u001b[0mnot_found\u001b[0m \u001b[0;34m=\u001b[0m \u001b[0mlist\u001b[0m\u001b[0;34m(\u001b[0m\u001b[0mset\u001b[0m\u001b[0;34m(\u001b[0m\u001b[0mkey\u001b[0m\u001b[0;34m)\u001b[0m \u001b[0;34m-\u001b[0m \u001b[0mset\u001b[0m\u001b[0;34m(\u001b[0m\u001b[0max\u001b[0m\u001b[0;34m)\u001b[0m\u001b[0;34m)\u001b[0m\u001b[0;34m\u001b[0m\u001b[0;34m\u001b[0m\u001b[0m\n\u001b[0;32m-> 1252\u001b[0;31m                 \u001b[0;32mraise\u001b[0m \u001b[0mKeyError\u001b[0m\u001b[0;34m(\u001b[0m\u001b[0;34m\"{} not in index\"\u001b[0m\u001b[0;34m.\u001b[0m\u001b[0mformat\u001b[0m\u001b[0;34m(\u001b[0m\u001b[0mnot_found\u001b[0m\u001b[0;34m)\u001b[0m\u001b[0;34m)\u001b[0m\u001b[0;34m\u001b[0m\u001b[0;34m\u001b[0m\u001b[0m\n\u001b[0m\u001b[1;32m   1253\u001b[0m \u001b[0;34m\u001b[0m\u001b[0m\n\u001b[1;32m   1254\u001b[0m             \u001b[0;31m# we skip the warning on Categorical/Interval\u001b[0m\u001b[0;34m\u001b[0m\u001b[0;34m\u001b[0m\u001b[0;34m\u001b[0m\u001b[0m\n",
          "\u001b[0;31mKeyError\u001b[0m: \"['Correlation'] not in index\""
         ]
        }
       ]
      }
     },
     "0cb32891cf654443ba3499ba9be9302d": {
      "model_module": "@jupyter-widgets/base",
      "model_module_version": "1.1.0",
      "model_name": "LayoutModel",
      "state": {}
     },
     "0cc2ab3f854f4253bef741717f98d470": {
      "model_module": "@jupyter-widgets/controls",
      "model_module_version": "1.4.0",
      "model_name": "DropdownModel",
      "state": {
       "_options_labels": [
        "dc2bbff57193eed0181fd595452298dc1c2a4a70",
        "4924744a593a6de6d9ec34434a53e3901f449e7a",
        "7e708681b4f6a8dece0f538e11b535a780973068",
        "b60937bc9d7aaf43cad00b21e53c48c6ce0056df",
        "63f812f21f67f4afe07bcb7eb8afaa60a1373617",
        "72ff174ccd1c6c574aeae88cafdb128aada17191",
        "18db88e54b8fec0f44b88c85aa71aa8ccc628f50",
        "ff0b5a6dba4172d3295663450203866c825cb97d",
        "c5fca994457ed89ef61f32c074806e814127c112",
        "493d7c1900e606f079ca6c742898eadf7075e34a",
        "0daebfc24b4b818e8b451ea7a4ab8dcde5bb127f",
        "85691806a5373f6ed2180e42c9f6dcf02182d1ca",
        "b35862d23e811c2cb1f8bba328df13cacdd10d75",
        "5f57d92a0b4d12e79613c3d6c0856411a3845fdd",
        "6c646a930383da16b3963e4812ef1a1876fd12ee",
        "25b1e8c13f2dd0b0445921c9166301ce4b383242",
        "b44745292f516376f523748c5effeade0fbe12bc",
        "d8b2ca85c7610ff1b955baf6b40575250d7c335c",
        "881393c0590ef19491d17fe9d722bc42dc0706e6",
        "11409f6cf896af91577b1ab352a600a6dbbd20d2"
       ],
       "description": "Item",
       "index": 0,
       "layout": "IPY_MODEL_a0820df9650b48158630867285122099",
       "style": "IPY_MODEL_bf24268c0139401ba074d2d5a7ac9257"
      }
     },
     "0eb0b703a9c140468ad63e0f9107fc51": {
      "model_module": "@jupyter-widgets/base",
      "model_module_version": "1.1.0",
      "model_name": "LayoutModel",
      "state": {}
     },
     "0f3084d71009419e830601403d4cce09": {
      "model_module": "@jupyter-widgets/output",
      "model_module_version": "1.0.0",
      "model_name": "OutputModel",
      "state": {
       "layout": "IPY_MODEL_b8ab6c21cee14e21bd355be6278a96df"
      }
     },
     "1010c9a75cb84c1b8a40071ea4fa1761": {
      "model_module": "@jupyter-widgets/controls",
      "model_module_version": "1.4.0",
      "model_name": "DescriptionStyleModel",
      "state": {
       "description_width": ""
      }
     },
     "10441339ccb046b3b12d549ec0c5d5dd": {
      "model_module": "@jupyter-widgets/base",
      "model_module_version": "1.1.0",
      "model_name": "LayoutModel",
      "state": {}
     },
     "10c8c1e7e6a14ea387c227a38df44103": {
      "model_module": "@jupyter-widgets/base",
      "model_module_version": "1.1.0",
      "model_name": "LayoutModel",
      "state": {}
     },
     "10dbe3e247ea4a75bdda01d28625c5db": {
      "model_module": "@jupyter-widgets/controls",
      "model_module_version": "1.4.0",
      "model_name": "DropdownModel",
      "state": {
       "_options_labels": [
        "Apple® - MacBook® Pro / Intel® Core™ i5 Processor / 13.3\" Display / 4GB Memory / 320GB Hard Drive",
        "Apple® - iPod touch® 8GB* MP3 Player (4th Generation - Latest Model) - Black",
        "Beats By Dr. Dre - Beats Tour Earbud Headphones - Black",
        "Beats By Dr. Dre - Beats Solo HD Over-the-Ear Headphones - Black",
        "Apple® - iPod touch® 32GB* MP3 Player (4th Generation - Latest Model) - Black",
        "Rocketfish™ - 90W AC Power Adapter for Most Laptop PCs - Black",
        "Western Digital - Scorpio Blue 500GB Internal Serial ATA Hard Drive for Laptops",
        "Motorola - SURFboard Cable Modem",
        "TiVo® - Premiere High-Definition Digital Video Recorder",
        "Apple® - MacBook® Pro / Intel® Core™ i7 Processor / 13.3\" Display / 4GB Memory / 500GB Hard Drive",
        "Optoma - Pico Pocket DLP Projector",
        "Dynex™ - 3' 3.5mm Stereo Audio Cable",
        "Sony - Blu-ray Remote for PlayStation 3",
        "Western Digital - WD TV Live Plus HD Media Player",
        "Kaspersky Anti-Virus (1-Year Subscription) - Windows",
        "NETGEAR - Wireless-N Router",
        "Beats By Dr. Dre - Monster Studio High-Definition Red Sox Over-the-Ear Headphones - Blue",
        "HP - Photosmart e-All-in-One Wireless Printer",
        "Beats By Dr. Dre - Beats Studio Over-the-Ear Headphones - Black",
        "Beats By Dr. Dre - Beats Studio Over-the-Ear Headphones - White"
       ],
       "description": "Item",
       "index": 0,
       "layout": "IPY_MODEL_9fd319b45a1b4f6eaeb1309e22413ca1",
       "style": "IPY_MODEL_a55554dbc1ed4300baafc93f06074a13"
      }
     },
     "11dcdb8bf41041db8a4be807e3731019": {
      "model_module": "@jupyter-widgets/controls",
      "model_module_version": "1.4.0",
      "model_name": "RadioButtonsModel",
      "state": {
       "_options_labels": [
        "Cosine Similarity",
        "pearson correlation"
       ],
       "description": "Relation",
       "index": 1,
       "layout": "IPY_MODEL_80a06adcbbcd46538535d1e5ca9e08fa",
       "style": "IPY_MODEL_31ca184b2d314a36bb3f59207024a25d"
      }
     },
     "12142afe828940648f7ab86a4c63a87d": {
      "model_module": "@jupyter-widgets/output",
      "model_module_version": "1.0.0",
      "model_name": "OutputModel",
      "state": {
       "layout": "IPY_MODEL_d705b46b031248e1a9ea31d3dc7d68cf"
      }
     },
     "12f70bc4b0f543079a21a57e0f5f1b3b": {
      "model_module": "@jupyter-widgets/controls",
      "model_module_version": "1.4.0",
      "model_name": "DropdownModel",
      "state": {
       "_options_labels": [
        "Apple® - MacBook® Pro / Intel® Core™ i5 Processor / 13.3\" Display / 4GB Memory / 320GB Hard Drive",
        "Apple® - iPod touch® 8GB* MP3 Player (4th Generation - Latest Model) - Black",
        "Beats By Dr. Dre - Beats Tour Earbud Headphones - Black",
        "Beats By Dr. Dre - Beats Solo HD Over-the-Ear Headphones - Black",
        "Apple® - iPod touch® 32GB* MP3 Player (4th Generation - Latest Model) - Black",
        "Rocketfish™ - 90W AC Power Adapter for Most Laptop PCs - Black",
        "Western Digital - Scorpio Blue 500GB Internal Serial ATA Hard Drive for Laptops",
        "Motorola - SURFboard Cable Modem",
        "TiVo® - Premiere High-Definition Digital Video Recorder",
        "Apple® - MacBook® Pro / Intel® Core™ i7 Processor / 13.3\" Display / 4GB Memory / 500GB Hard Drive",
        "Optoma - Pico Pocket DLP Projector",
        "Dynex™ - 3' 3.5mm Stereo Audio Cable",
        "Sony - Blu-ray Remote for PlayStation 3",
        "Western Digital - WD TV Live Plus HD Media Player",
        "Kaspersky Anti-Virus (1-Year Subscription) - Windows",
        "NETGEAR - Wireless-N Router",
        "Beats By Dr. Dre - Monster Studio High-Definition Red Sox Over-the-Ear Headphones - Blue",
        "HP - Photosmart e-All-in-One Wireless Printer",
        "Beats By Dr. Dre - Beats Studio Over-the-Ear Headphones - Black",
        "Beats By Dr. Dre - Beats Studio Over-the-Ear Headphones - White"
       ],
       "description": "Item",
       "index": 1,
       "layout": "IPY_MODEL_aaba32ed27994638887cb23ffd3b813b",
       "style": "IPY_MODEL_1ca64bcd7ab448598c4ada5cb9ed8f1b"
      }
     },
     "12f9d92d549e4989a747c16888ef3fa6": {
      "model_module": "@jupyter-widgets/base",
      "model_module_version": "1.1.0",
      "model_name": "LayoutModel",
      "state": {}
     },
     "13f99f53c2cf4155ad85b8c105f07613": {
      "model_module": "@jupyter-widgets/controls",
      "model_module_version": "1.4.0",
      "model_name": "DropdownModel",
      "state": {
       "_options_labels": [
        "1",
        "5",
        "10",
        "20",
        "30",
        "50"
       ],
       "description": "R_item",
       "index": 2,
       "layout": "IPY_MODEL_9892be7257c1493386db13fbd503ca97",
       "style": "IPY_MODEL_55b5315db8e34f1daf041ebb6117d1fc"
      }
     },
     "140b2e934c9b4e018386f95ff80b567b": {
      "model_module": "@jupyter-widgets/controls",
      "model_module_version": "1.4.0",
      "model_name": "VBoxModel",
      "state": {
       "_dom_classes": [
        "widget-interact"
       ],
       "children": [
        "IPY_MODEL_9fe5da2f39614a19a72fb63239168911",
        "IPY_MODEL_63ec2a26775642bea07f6a8a4b564a3c",
        "IPY_MODEL_1eb862624ecd4da2b4b35c08e18991b1",
        "IPY_MODEL_d58d3e9107dc4b07b0985a4d86b23b9a"
       ],
       "layout": "IPY_MODEL_7df44213817841a3a146d51303d3508e"
      }
     },
     "14c81772ffaa4e4499c7b47c7934e818": {
      "model_module": "@jupyter-widgets/base",
      "model_module_version": "1.1.0",
      "model_name": "LayoutModel",
      "state": {}
     },
     "151fcb071569474f996fa9f97d5f6740": {
      "model_module": "@jupyter-widgets/controls",
      "model_module_version": "1.4.0",
      "model_name": "VBoxModel",
      "state": {
       "_dom_classes": [
        "widget-interact"
       ],
       "children": [
        "IPY_MODEL_d3b3ce9c49c94edb907130831e251670",
        "IPY_MODEL_9715e343a4e4430799a86ade4d1e1ae3",
        "IPY_MODEL_1d10b8c14bbe44fdb1555ea2361ff270",
        "IPY_MODEL_7ed8057b578048a3a3b4c16899ee32b1"
       ],
       "layout": "IPY_MODEL_d8312fb0823442139e1799b3ee5a1572"
      }
     },
     "1566c2453ea346e0887558a078e0f70a": {
      "model_module": "@jupyter-widgets/controls",
      "model_module_version": "1.4.0",
      "model_name": "DropdownModel",
      "state": {
       "_options_labels": [
        "1",
        "5",
        "10",
        "50",
        "100",
        "150",
        "250",
        "500"
       ],
       "description": "no_of_closed_users",
       "index": 0,
       "layout": "IPY_MODEL_829b1719a62a40548cd00f31940152a4",
       "style": "IPY_MODEL_af255b40230e4294a1c3603d202a3533"
      }
     },
     "1575098e98f3434abef2ca3431a4c62c": {
      "model_module": "@jupyter-widgets/controls",
      "model_module_version": "1.4.0",
      "model_name": "DropdownModel",
      "state": {
       "_options_labels": [
        "1",
        "5",
        "10",
        "50",
        "100",
        "150",
        "250",
        "500"
       ],
       "description": "no_of_closed_users",
       "index": 2,
       "layout": "IPY_MODEL_211e41864e9046bab4ecf014c6863ec5",
       "style": "IPY_MODEL_95ed58ecb5a44d2b84522e4a1e71b732"
      }
     },
     "15b55cd894194c868f4a3858a299d19a": {
      "model_module": "@jupyter-widgets/controls",
      "model_module_version": "1.4.0",
      "model_name": "DescriptionStyleModel",
      "state": {
       "description_width": ""
      }
     },
     "15cbf20a98d24f36800b40ccf2fab869": {
      "model_module": "@jupyter-widgets/base",
      "model_module_version": "1.1.0",
      "model_name": "LayoutModel",
      "state": {}
     },
     "173b9c992c984972a7408633d8474cf5": {
      "model_module": "@jupyter-widgets/controls",
      "model_module_version": "1.4.0",
      "model_name": "VBoxModel",
      "state": {
       "_dom_classes": [
        "widget-interact"
       ],
       "children": [
        "IPY_MODEL_9a49ff85616942199e493b3805c5eba5",
        "IPY_MODEL_c79429f0671f4567bcd7210bf407e425",
        "IPY_MODEL_57d0ec8383b54e79b37b82f51f7e6fc4",
        "IPY_MODEL_c0ad778f4e82432eaea379baade7435f"
       ],
       "layout": "IPY_MODEL_5f4aa00dd76a4543a88fba913f35f08a"
      }
     },
     "1909bfc3f5d340b68f7a01078af642b3": {
      "model_module": "@jupyter-widgets/controls",
      "model_module_version": "1.4.0",
      "model_name": "VBoxModel",
      "state": {
       "_dom_classes": [
        "widget-interact"
       ],
       "children": [
        "IPY_MODEL_81ac423d5e4e473280b99897cb273e9d",
        "IPY_MODEL_1c0f31d758b6419ea9dc5e05880dabb3",
        "IPY_MODEL_8b663a9c2a504820b6f9b0d82f4c20b1",
        "IPY_MODEL_6c7abdb181484c6f9c8b4dbc67bb83bd"
       ],
       "layout": "IPY_MODEL_274eb5ec3d2c4765bcc5dd5095cb2f7b"
      }
     },
     "19b59a910a9140fa92f510045b363a11": {
      "model_module": "@jupyter-widgets/base",
      "model_module_version": "1.1.0",
      "model_name": "LayoutModel",
      "state": {}
     },
     "1a0af7a04b254bb3b4dd767921c435ff": {
      "model_module": "@jupyter-widgets/controls",
      "model_module_version": "1.4.0",
      "model_name": "VBoxModel",
      "state": {
       "_dom_classes": [
        "widget-interact"
       ],
       "children": [
        "IPY_MODEL_9023ac0093a8426f8659c0c085f39a2f",
        "IPY_MODEL_6cfeaa0bb2964839aea8d8e1dfb6067d",
        "IPY_MODEL_11dcdb8bf41041db8a4be807e3731019",
        "IPY_MODEL_2a18852eff7f4280b6d3eafcbd4132ac"
       ],
       "layout": "IPY_MODEL_8a2184502dc74e73ad5aa35689a886c9"
      }
     },
     "1aefb96af2ba445fab2f131ff5462078": {
      "model_module": "@jupyter-widgets/base",
      "model_module_version": "1.1.0",
      "model_name": "LayoutModel",
      "state": {}
     },
     "1c0f31d758b6419ea9dc5e05880dabb3": {
      "model_module": "@jupyter-widgets/controls",
      "model_module_version": "1.4.0",
      "model_name": "IntSliderModel",
      "state": {
       "description": "R_items",
       "layout": "IPY_MODEL_43b86bf257684b83a537a2cdc03083e3",
       "max": 18,
       "min": -6,
       "style": "IPY_MODEL_72f4bf5d9fab42f7a77951f5e39bb88b",
       "value": 6
      }
     },
     "1c441791b53c479cba80fddc5984e164": {
      "model_module": "@jupyter-widgets/controls",
      "model_module_version": "1.4.0",
      "model_name": "DropdownModel",
      "state": {
       "_options_labels": [
        "Apple® - MacBook® Pro / Intel® Core™ i5 Processor / 13.3\" Display / 4GB Memory / 320GB Hard Drive",
        "Apple® - iPod touch® 8GB* MP3 Player (4th Generation - Latest Model) - Black",
        "Beats By Dr. Dre - Beats Tour Earbud Headphones - Black",
        "Beats By Dr. Dre - Beats Solo HD Over-the-Ear Headphones - Black",
        "Apple® - iPod touch® 32GB* MP3 Player (4th Generation - Latest Model) - Black",
        "Rocketfish™ - 90W AC Power Adapter for Most Laptop PCs - Black",
        "Western Digital - Scorpio Blue 500GB Internal Serial ATA Hard Drive for Laptops",
        "Motorola - SURFboard Cable Modem",
        "TiVo® - Premiere High-Definition Digital Video Recorder",
        "Apple® - MacBook® Pro / Intel® Core™ i7 Processor / 13.3\" Display / 4GB Memory / 500GB Hard Drive",
        "Optoma - Pico Pocket DLP Projector",
        "Dynex™ - 3' 3.5mm Stereo Audio Cable",
        "Sony - Blu-ray Remote for PlayStation 3",
        "Western Digital - WD TV Live Plus HD Media Player",
        "Kaspersky Anti-Virus (1-Year Subscription) - Windows",
        "NETGEAR - Wireless-N Router",
        "Beats By Dr. Dre - Monster Studio High-Definition Red Sox Over-the-Ear Headphones - Blue",
        "HP - Photosmart e-All-in-One Wireless Printer",
        "Beats By Dr. Dre - Beats Studio Over-the-Ear Headphones - Black",
        "Beats By Dr. Dre - Beats Studio Over-the-Ear Headphones - White"
       ],
       "index": 0,
       "layout": "IPY_MODEL_77e6d16a148d41acaa247631034d52f9",
       "style": "IPY_MODEL_6f9b7409331e4571bbb822fd15ecc376"
      }
     },
     "1c9d33521f37456abe5f8d02464a97cc": {
      "model_module": "@jupyter-widgets/base",
      "model_module_version": "1.1.0",
      "model_name": "LayoutModel",
      "state": {}
     },
     "1ca64bcd7ab448598c4ada5cb9ed8f1b": {
      "model_module": "@jupyter-widgets/controls",
      "model_module_version": "1.4.0",
      "model_name": "DescriptionStyleModel",
      "state": {
       "description_width": ""
      }
     },
     "1cb8410d4f134a6aab0ec24620a5a1cb": {
      "model_module": "@jupyter-widgets/base",
      "model_module_version": "1.1.0",
      "model_name": "LayoutModel",
      "state": {}
     },
     "1cdee8f60ef24d10b136e94ba4391f1a": {
      "model_module": "@jupyter-widgets/base",
      "model_module_version": "1.1.0",
      "model_name": "LayoutModel",
      "state": {}
     },
     "1d10b8c14bbe44fdb1555ea2361ff270": {
      "model_module": "@jupyter-widgets/controls",
      "model_module_version": "1.4.0",
      "model_name": "RadioButtonsModel",
      "state": {
       "_options_labels": [
        "Cosine Similarity",
        "pearson correlation"
       ],
       "description": "Relation",
       "index": 1,
       "layout": "IPY_MODEL_19b59a910a9140fa92f510045b363a11",
       "style": "IPY_MODEL_941cfaeac48744b8bafee6c521531a1d"
      }
     },
     "1da3795422d0401a9d79b2722bf3caa9": {
      "model_module": "@jupyter-widgets/controls",
      "model_module_version": "1.4.0",
      "model_name": "RadioButtonsModel",
      "state": {
       "_options_labels": [
        "Cosine Similarity",
        "pearson correlation"
       ],
       "description": "Relation",
       "index": 0,
       "layout": "IPY_MODEL_5bdfc0203bc14dd9ab36bc7ab6b4c411",
       "style": "IPY_MODEL_9796d2509d02410c88f2402ee815a7f3"
      }
     },
     "1e47c6ab22a94220822359e461194ac0": {
      "model_module": "@jupyter-widgets/controls",
      "model_module_version": "1.4.0",
      "model_name": "DescriptionStyleModel",
      "state": {
       "description_width": ""
      }
     },
     "1eb862624ecd4da2b4b35c08e18991b1": {
      "model_module": "@jupyter-widgets/controls",
      "model_module_version": "1.4.0",
      "model_name": "RadioButtonsModel",
      "state": {
       "_options_labels": [
        "Cosine Similarity",
        "pearson correlation",
        "SVDPP Matrix Factorization"
       ],
       "description": "Relation_Type",
       "index": 0,
       "layout": "IPY_MODEL_f379b6268ab5402fb045d6b9a9660c0c",
       "style": "IPY_MODEL_c84ba035d82b48859e05c9bb64419446"
      }
     },
     "1f04d2080a644e5683ff5fa0017605a4": {
      "model_module": "@jupyter-widgets/base",
      "model_module_version": "1.1.0",
      "model_name": "LayoutModel",
      "state": {}
     },
     "1f319f4f627846698a492c15acfa7dd0": {
      "model_module": "@jupyter-widgets/base",
      "model_module_version": "1.1.0",
      "model_name": "LayoutModel",
      "state": {}
     },
     "1f48476adfe84856a0e3cbac48c9994a": {
      "model_module": "@jupyter-widgets/output",
      "model_module_version": "1.0.0",
      "model_name": "OutputModel",
      "state": {
       "layout": "IPY_MODEL_43dccb7ba8574d0fbf74880ffac25f47"
      }
     },
     "1f79caca110849318b5b64e6109afb76": {
      "model_module": "@jupyter-widgets/base",
      "model_module_version": "1.1.0",
      "model_name": "LayoutModel",
      "state": {}
     },
     "1fa7fc8bc293418f9cfd1e6be6e75d13": {
      "model_module": "@jupyter-widgets/controls",
      "model_module_version": "1.4.0",
      "model_name": "RadioButtonsModel",
      "state": {
       "_options_labels": [
        "Cosine Similarity",
        "pearson correlation",
        "SVDPP Matrix Factorization"
       ],
       "description": "Relation_Type",
       "index": 0,
       "layout": "IPY_MODEL_971cf33b79ee452993da28978858b011",
       "style": "IPY_MODEL_f9e2172d8bab4de6921afd7f2fc06bd8"
      }
     },
     "206da5f944ef4ff5a5ab999b4aa158f7": {
      "model_module": "@jupyter-widgets/base",
      "model_module_version": "1.1.0",
      "model_name": "LayoutModel",
      "state": {}
     },
     "209fe39647464461b51972ebaaebab84": {
      "model_module": "@jupyter-widgets/output",
      "model_module_version": "1.0.0",
      "model_name": "OutputModel",
      "state": {
       "layout": "IPY_MODEL_625f1f2a5d6c4434b643f1e01d28258e"
      }
     },
     "20c052b9f2724a6d8df6436a612da02d": {
      "model_module": "@jupyter-widgets/controls",
      "model_module_version": "1.4.0",
      "model_name": "DropdownModel",
      "state": {
       "_options_labels": [
        "dc2bbff57193eed0181fd595452298dc1c2a4a70",
        "4924744a593a6de6d9ec34434a53e3901f449e7a",
        "7e708681b4f6a8dece0f538e11b535a780973068",
        "b60937bc9d7aaf43cad00b21e53c48c6ce0056df",
        "63f812f21f67f4afe07bcb7eb8afaa60a1373617",
        "72ff174ccd1c6c574aeae88cafdb128aada17191",
        "18db88e54b8fec0f44b88c85aa71aa8ccc628f50",
        "ff0b5a6dba4172d3295663450203866c825cb97d",
        "c5fca994457ed89ef61f32c074806e814127c112",
        "493d7c1900e606f079ca6c742898eadf7075e34a",
        "0daebfc24b4b818e8b451ea7a4ab8dcde5bb127f",
        "85691806a5373f6ed2180e42c9f6dcf02182d1ca",
        "b35862d23e811c2cb1f8bba328df13cacdd10d75",
        "5f57d92a0b4d12e79613c3d6c0856411a3845fdd",
        "6c646a930383da16b3963e4812ef1a1876fd12ee",
        "25b1e8c13f2dd0b0445921c9166301ce4b383242",
        "b44745292f516376f523748c5effeade0fbe12bc",
        "d8b2ca85c7610ff1b955baf6b40575250d7c335c",
        "881393c0590ef19491d17fe9d722bc42dc0706e6",
        "11409f6cf896af91577b1ab352a600a6dbbd20d2"
       ],
       "description": "User",
       "index": 6,
       "layout": "IPY_MODEL_1aefb96af2ba445fab2f131ff5462078",
       "style": "IPY_MODEL_6bfe48c9c03a4b88b5f94e74d5b4f772"
      }
     },
     "211e41864e9046bab4ecf014c6863ec5": {
      "model_module": "@jupyter-widgets/base",
      "model_module_version": "1.1.0",
      "model_name": "LayoutModel",
      "state": {}
     },
     "216d12480a5344b3809213657037495b": {
      "model_module": "@jupyter-widgets/output",
      "model_module_version": "1.0.0",
      "model_name": "OutputModel",
      "state": {
       "layout": "IPY_MODEL_55fdef3131a040ada3c0dcf83ae67b20"
      }
     },
     "22c7627bfb6146388a77300faf3444b1": {
      "model_module": "@jupyter-widgets/controls",
      "model_module_version": "1.4.0",
      "model_name": "DescriptionStyleModel",
      "state": {
       "description_width": ""
      }
     },
     "2394e93c65e54b0f9da3f87e99f69148": {
      "model_module": "@jupyter-widgets/base",
      "model_module_version": "1.1.0",
      "model_name": "LayoutModel",
      "state": {}
     },
     "245137ea0ca94e2d900b8c2add13116c": {
      "model_module": "@jupyter-widgets/controls",
      "model_module_version": "1.4.0",
      "model_name": "DescriptionStyleModel",
      "state": {
       "description_width": ""
      }
     },
     "24e4099405a544c2b04aa51d3e19ee15": {
      "model_module": "@jupyter-widgets/controls",
      "model_module_version": "1.4.0",
      "model_name": "DescriptionStyleModel",
      "state": {
       "description_width": ""
      }
     },
     "251bc94122b64dafb627ef746737cbdf": {
      "model_module": "@jupyter-widgets/controls",
      "model_module_version": "1.4.0",
      "model_name": "DropdownModel",
      "state": {
       "_options_labels": [
        "Apple® - MacBook® Pro / Intel® Core™ i5 Processor / 13.3\" Display / 4GB Memory / 320GB Hard Drive",
        "Apple® - iPod touch® 8GB* MP3 Player (4th Generation - Latest Model) - Black",
        "Beats By Dr. Dre - Beats Tour Earbud Headphones - Black",
        "Beats By Dr. Dre - Beats Solo HD Over-the-Ear Headphones - Black",
        "Apple® - iPod touch® 32GB* MP3 Player (4th Generation - Latest Model) - Black",
        "Rocketfish™ - 90W AC Power Adapter for Most Laptop PCs - Black",
        "Western Digital - Scorpio Blue 500GB Internal Serial ATA Hard Drive for Laptops",
        "Motorola - SURFboard Cable Modem",
        "TiVo® - Premiere High-Definition Digital Video Recorder",
        "Apple® - MacBook® Pro / Intel® Core™ i7 Processor / 13.3\" Display / 4GB Memory / 500GB Hard Drive",
        "Optoma - Pico Pocket DLP Projector",
        "Dynex™ - 3' 3.5mm Stereo Audio Cable",
        "Sony - Blu-ray Remote for PlayStation 3",
        "Western Digital - WD TV Live Plus HD Media Player",
        "Kaspersky Anti-Virus (1-Year Subscription) - Windows",
        "NETGEAR - Wireless-N Router",
        "Beats By Dr. Dre - Monster Studio High-Definition Red Sox Over-the-Ear Headphones - Blue",
        "HP - Photosmart e-All-in-One Wireless Printer",
        "Beats By Dr. Dre - Beats Studio Over-the-Ear Headphones - Black",
        "Beats By Dr. Dre - Beats Studio Over-the-Ear Headphones - White"
       ],
       "description": "Item",
       "index": 0,
       "layout": "IPY_MODEL_30715fce405d458b803feb39906b701c",
       "style": "IPY_MODEL_b5acbbaee1f740a8a0db9904e2b7069b"
      }
     },
     "2653a182da0246c383f9b6660969140b": {
      "model_module": "@jupyter-widgets/controls",
      "model_module_version": "1.4.0",
      "model_name": "DescriptionStyleModel",
      "state": {
       "description_width": ""
      }
     },
     "274eb5ec3d2c4765bcc5dd5095cb2f7b": {
      "model_module": "@jupyter-widgets/base",
      "model_module_version": "1.1.0",
      "model_name": "LayoutModel",
      "state": {}
     },
     "27efef6f97514baf97218783a1b6de23": {
      "model_module": "@jupyter-widgets/controls",
      "model_module_version": "1.4.0",
      "model_name": "DescriptionStyleModel",
      "state": {
       "description_width": ""
      }
     },
     "2880fac3df364e9c8f8c4e374ebd2a80": {
      "model_module": "@jupyter-widgets/base",
      "model_module_version": "1.1.0",
      "model_name": "LayoutModel",
      "state": {}
     },
     "29336c139e0d434c856281969d81a7e2": {
      "model_module": "@jupyter-widgets/controls",
      "model_module_version": "1.4.0",
      "model_name": "DropdownModel",
      "state": {
       "_options_labels": [
        "1",
        "5",
        "10",
        "20",
        "30",
        "50"
       ],
       "index": 0,
       "layout": "IPY_MODEL_686d0d7c35b84157bd699ab62b2e3b9e",
       "style": "IPY_MODEL_7073eafc5cb14758a461b6a9e13f0452"
      }
     },
     "294d2a93e6d14f3cb8bb7985f9182001": {
      "model_module": "@jupyter-widgets/controls",
      "model_module_version": "1.4.0",
      "model_name": "DropdownModel",
      "state": {
       "_options_labels": [
        "1",
        "5",
        "10",
        "20",
        "30",
        "50"
       ],
       "description": "R_items",
       "index": 2,
       "layout": "IPY_MODEL_206da5f944ef4ff5a5ab999b4aa158f7",
       "style": "IPY_MODEL_8db2955d88024cd4b87bd16437e13a4d"
      }
     },
     "2959c318c8dd41b7b5c71fd7b4156e50": {
      "model_module": "@jupyter-widgets/controls",
      "model_module_version": "1.4.0",
      "model_name": "RadioButtonsModel",
      "state": {
       "_options_labels": [
        "Cosine Similarity",
        "pearson correlation"
       ],
       "description": "Relation",
       "index": 0,
       "layout": "IPY_MODEL_b4b636bf4f2a4fc2b2e32b776ff0e536",
       "style": "IPY_MODEL_aca36fece4804c9c9a2586bb48af925f"
      }
     },
     "2a18852eff7f4280b6d3eafcbd4132ac": {
      "model_module": "@jupyter-widgets/output",
      "model_module_version": "1.0.0",
      "model_name": "OutputModel",
      "state": {
       "layout": "IPY_MODEL_b7b6e142bfa54fb68a1ec71b62cb2cd1",
       "outputs": [
        {
         "name": "stdout",
         "output_type": "stream",
         "text": "Recommended list of items: \n       sku  \\\n0  9225377   \n\n                                                                           name  \\\n0  Apple® - iPod touch® 8GB* MP3 Player (4th Generation - Latest Model) - Black   \n\n   Correlation    rating  num of ratings  \n0  1.0          4.645193  1009            \n"
        },
        {
         "data": {
          "text/html": "<div>\n<style scoped>\n    .dataframe tbody tr th:only-of-type {\n        vertical-align: middle;\n    }\n\n    .dataframe tbody tr th {\n        vertical-align: top;\n    }\n\n    .dataframe thead th {\n        text-align: right;\n    }\n</style>\n<table border=\"1\" class=\"dataframe\">\n  <thead>\n    <tr style=\"text-align: right;\">\n      <th></th>\n      <th>name</th>\n      <th>Correlation</th>\n      <th>rating</th>\n      <th>num of ratings</th>\n    </tr>\n  </thead>\n  <tbody>\n    <tr>\n      <th>0</th>\n      <td>Beats By Dr. Dre - Beats Studio Over-the-Ear Headphones - Black</td>\n      <td>0.016507</td>\n      <td>4.258427</td>\n      <td>267.0</td>\n    </tr>\n    <tr>\n      <th>2</th>\n      <td>Beats By Dr. Dre - Beats Solo Over-the-Ear Headphones - Black</td>\n      <td>0.022399</td>\n      <td>NaN</td>\n      <td>NaN</td>\n    </tr>\n    <tr>\n      <th>4</th>\n      <td>Beats By Dr. Dre - Beats Tour Earbud Headphones - Black</td>\n      <td>1.000000</td>\n      <td>3.196429</td>\n      <td>112.0</td>\n    </tr>\n    <tr>\n      <th>6</th>\n      <td>Beats By Dr. Dre - Beats Pro Over-the-Ear Headphones - Black</td>\n      <td>0.012030</td>\n      <td>4.253165</td>\n      <td>79.0</td>\n    </tr>\n    <tr>\n      <th>8</th>\n      <td>Beats By Dr. Dre - Diddybeats Monster Earbud Headphones - Black</td>\n      <td>0.036095</td>\n      <td>NaN</td>\n      <td>NaN</td>\n    </tr>\n    <tr>\n      <th>10</th>\n      <td>Beats By Dr. Dre - Monster Diddybeats Earbud Headphones - White</td>\n      <td>0.061177</td>\n      <td>2.000000</td>\n      <td>5.0</td>\n    </tr>\n    <tr>\n      <th>12</th>\n      <td>Beats By Dr. Dre - Diddybeats Earbud Headphones - Pink</td>\n      <td>0.058127</td>\n      <td>NaN</td>\n      <td>NaN</td>\n    </tr>\n    <tr>\n      <th>14</th>\n      <td>Beats By Dr. Dre - Beats (Solo HD) RED Edition Over-the-Ear Headphones - Red</td>\n      <td>0.017887</td>\n      <td>4.402174</td>\n      <td>92.0</td>\n    </tr>\n    <tr>\n      <th>16</th>\n      <td>Beats By Dr. Dre - Beats Solo HD Over-the-Ear Headphones - Black</td>\n      <td>0.041303</td>\n      <td>3.887574</td>\n      <td>169.0</td>\n    </tr>\n    <tr>\n      <th>18</th>\n      <td>Beats By Dr. Dre - Monster Studio High-Definition Red Sox Over-the-Ear Headphones - Blue</td>\n      <td>0.069429</td>\n      <td>NaN</td>\n      <td>NaN</td>\n    </tr>\n  </tbody>\n</table>\n</div>",
          "text/plain": "                                                                                        name  \\\n0   Beats By Dr. Dre - Beats Studio Over-the-Ear Headphones - Black                            \n2   Beats By Dr. Dre - Beats Solo Over-the-Ear Headphones - Black                              \n4   Beats By Dr. Dre - Beats Tour Earbud Headphones - Black                                    \n6   Beats By Dr. Dre - Beats Pro Over-the-Ear Headphones - Black                               \n8   Beats By Dr. Dre - Diddybeats Monster Earbud Headphones - Black                            \n10  Beats By Dr. Dre - Monster Diddybeats Earbud Headphones - White                            \n12  Beats By Dr. Dre - Diddybeats Earbud Headphones - Pink                                     \n14  Beats By Dr. Dre - Beats (Solo HD) RED Edition Over-the-Ear Headphones - Red               \n16  Beats By Dr. Dre - Beats Solo HD Over-the-Ear Headphones - Black                           \n18  Beats By Dr. Dre - Monster Studio High-Definition Red Sox Over-the-Ear Headphones - Blue   \n\n    Correlation    rating  num of ratings  \n0   0.016507     4.258427  267.0           \n2   0.022399    NaN       NaN              \n4   1.000000     3.196429  112.0           \n6   0.012030     4.253165  79.0            \n8   0.036095    NaN       NaN              \n10  0.061177     2.000000  5.0             \n12  0.058127    NaN       NaN              \n14  0.017887     4.402174  92.0            \n16  0.041303     3.887574  169.0           \n18  0.069429    NaN       NaN              "
         },
         "metadata": {},
         "output_type": "display_data"
        }
       ]
      }
     },
     "2a4c2c61d6df4810bfc6c0d9292a7946": {
      "model_module": "@jupyter-widgets/controls",
      "model_module_version": "1.4.0",
      "model_name": "VBoxModel",
      "state": {
       "_dom_classes": [
        "widget-interact"
       ],
       "children": [
        "IPY_MODEL_a10892a8f0f14196a893ebeffcf76805",
        "IPY_MODEL_1575098e98f3434abef2ca3431a4c62c",
        "IPY_MODEL_f729e436c3144a55b74b15f67a20628f",
        "IPY_MODEL_3993d20611d9469d9beb0d510d0f1e15"
       ],
       "layout": "IPY_MODEL_de8e4280b2fb4ae8ac0a5deeae318f94"
      }
     },
     "2ab1632f2b0d46399ce57d00d7fb8208": {
      "model_module": "@jupyter-widgets/base",
      "model_module_version": "1.1.0",
      "model_name": "LayoutModel",
      "state": {}
     },
     "2b212e098f47431a9f6a98af59922853": {
      "model_module": "@jupyter-widgets/controls",
      "model_module_version": "1.4.0",
      "model_name": "RadioButtonsModel",
      "state": {
       "_options_labels": [
        "Cosine Similarity",
        "pearson correlation"
       ],
       "index": 0,
       "layout": "IPY_MODEL_e67629e0ca814ed6b9eab14331f774e0",
       "style": "IPY_MODEL_e6a52a73705c44569560a4486b127e39"
      }
     },
     "2b3ee8bf56bd441eb8db7a5e6f6b14d8": {
      "model_module": "@jupyter-widgets/controls",
      "model_module_version": "1.4.0",
      "model_name": "IntSliderModel",
      "state": {
       "description": "R_item",
       "layout": "IPY_MODEL_a04f5c008fc24452865fd9d9b3309b8a",
       "max": 24,
       "min": -8,
       "style": "IPY_MODEL_396923b0be5e45c18453a78c4b01ea77",
       "value": 8
      }
     },
     "2c7c1484f8b24002aeb0d64a6cf4b93a": {
      "model_module": "@jupyter-widgets/controls",
      "model_module_version": "1.4.0",
      "model_name": "DropdownModel",
      "state": {
       "_options_labels": [
        "1",
        "5",
        "10",
        "20",
        "30",
        "50"
       ],
       "index": 0,
       "layout": "IPY_MODEL_d9255a093cb14f9da06f0151591e1e0f",
       "style": "IPY_MODEL_6aab6c88271146b997d20ab9ee5ad317"
      }
     },
     "2ce92c02c2f64d06b0be219e5516e9dd": {
      "model_module": "@jupyter-widgets/controls",
      "model_module_version": "1.4.0",
      "model_name": "VBoxModel",
      "state": {
       "_dom_classes": [
        "widget-interact"
       ],
       "children": [
        "IPY_MODEL_251bc94122b64dafb627ef746737cbdf",
        "IPY_MODEL_d97d770a456b49f9bbeac202f12349cb",
        "IPY_MODEL_441e85e9eeeb401a97be8e71309935b5",
        "IPY_MODEL_e826daefe7584fe883eb1f8303a8bb0f"
       ],
       "layout": "IPY_MODEL_5cc3e880588643a1b6d43154d6c76236"
      }
     },
     "2ceca2e6389646b68cb91820f569c815": {
      "model_module": "@jupyter-widgets/controls",
      "model_module_version": "1.4.0",
      "model_name": "RadioButtonsModel",
      "state": {
       "_options_labels": [
        "Cosine Similarity",
        "pearson correlation"
       ],
       "description": "Relation",
       "index": 0,
       "layout": "IPY_MODEL_c03e2c27516e4beabd1950a55e3eed8a",
       "style": "IPY_MODEL_d1f4e080654e440286af102a5dcc5004"
      }
     },
     "2d16e3cf89ba4d15b1933e47160ebce7": {
      "model_module": "@jupyter-widgets/output",
      "model_module_version": "1.0.0",
      "model_name": "OutputModel",
      "state": {
       "layout": "IPY_MODEL_fe51d11c5499459aa34d251ce30ea78d"
      }
     },
     "2d2c1619d1124f79b269cf71e8278841": {
      "model_module": "@jupyter-widgets/output",
      "model_module_version": "1.0.0",
      "model_name": "OutputModel",
      "state": {
       "layout": "IPY_MODEL_35a0ff8e33a24698842c771f4a32d1a8"
      }
     },
     "2e3203d4376c415185d7c35e8fd7bdec": {
      "model_module": "@jupyter-widgets/controls",
      "model_module_version": "1.4.0",
      "model_name": "RadioButtonsModel",
      "state": {
       "_options_labels": [
        "Cosine Similarity",
        "pearson correlation"
       ],
       "description": "Relation",
       "index": 0,
       "layout": "IPY_MODEL_1cb8410d4f134a6aab0ec24620a5a1cb",
       "style": "IPY_MODEL_22c7627bfb6146388a77300faf3444b1"
      }
     },
     "2e51d8427cdb4991814cf93a779d9db8": {
      "model_module": "@jupyter-widgets/base",
      "model_module_version": "1.1.0",
      "model_name": "LayoutModel",
      "state": {}
     },
     "2f69b0676fad45d59818ac84436d1b61": {
      "model_module": "@jupyter-widgets/controls",
      "model_module_version": "1.4.0",
      "model_name": "RadioButtonsModel",
      "state": {
       "_options_labels": [
        "Cosine Similarity",
        "pearson correlation"
       ],
       "description": "Relation",
       "index": 0,
       "layout": "IPY_MODEL_a30d42f701f94c10928eaca679504bd3",
       "style": "IPY_MODEL_949c813b0d4e4a068ee27f16f533304a"
      }
     },
     "2ff6747d64b8462490ce33536313e755": {
      "model_module": "@jupyter-widgets/controls",
      "model_module_version": "1.4.0",
      "model_name": "DropdownModel",
      "state": {
       "_options_labels": [
        "Apple® - MacBook® Pro / Intel® Core™ i5 Processor / 13.3\" Display / 4GB Memory / 320GB Hard Drive",
        "Apple® - iPod touch® 8GB* MP3 Player (4th Generation - Latest Model) - Black",
        "Beats By Dr. Dre - Beats Tour Earbud Headphones - Black",
        "Beats By Dr. Dre - Beats Solo HD Over-the-Ear Headphones - Black",
        "Apple® - iPod touch® 32GB* MP3 Player (4th Generation - Latest Model) - Black",
        "Rocketfish™ - 90W AC Power Adapter for Most Laptop PCs - Black",
        "Western Digital - Scorpio Blue 500GB Internal Serial ATA Hard Drive for Laptops",
        "Motorola - SURFboard Cable Modem",
        "TiVo® - Premiere High-Definition Digital Video Recorder",
        "Apple® - MacBook® Pro / Intel® Core™ i7 Processor / 13.3\" Display / 4GB Memory / 500GB Hard Drive",
        "Optoma - Pico Pocket DLP Projector",
        "Dynex™ - 3' 3.5mm Stereo Audio Cable",
        "Sony - Blu-ray Remote for PlayStation 3",
        "Western Digital - WD TV Live Plus HD Media Player",
        "Kaspersky Anti-Virus (1-Year Subscription) - Windows",
        "NETGEAR - Wireless-N Router",
        "Beats By Dr. Dre - Monster Studio High-Definition Red Sox Over-the-Ear Headphones - Blue",
        "HP - Photosmart e-All-in-One Wireless Printer",
        "Beats By Dr. Dre - Beats Studio Over-the-Ear Headphones - Black",
        "Beats By Dr. Dre - Beats Studio Over-the-Ear Headphones - White"
       ],
       "description": "Item",
       "index": 0,
       "layout": "IPY_MODEL_65c7644c542b43149cfd1d3baadce6b0",
       "style": "IPY_MODEL_06d5f493b9984b5b961f53ca44699c39"
      }
     },
     "30176bb10a604a668543d6c2392cd14c": {
      "model_module": "@jupyter-widgets/controls",
      "model_module_version": "1.4.0",
      "model_name": "DescriptionStyleModel",
      "state": {
       "description_width": ""
      }
     },
     "304ab524bd654710930805ea9573cec6": {
      "model_module": "@jupyter-widgets/base",
      "model_module_version": "1.1.0",
      "model_name": "LayoutModel",
      "state": {}
     },
     "30715fce405d458b803feb39906b701c": {
      "model_module": "@jupyter-widgets/base",
      "model_module_version": "1.1.0",
      "model_name": "LayoutModel",
      "state": {}
     },
     "30832c4275e24529926c9240cef42986": {
      "model_module": "@jupyter-widgets/controls",
      "model_module_version": "1.4.0",
      "model_name": "DropdownModel",
      "state": {
       "_options_labels": [
        "1",
        "5",
        "10",
        "20",
        "30",
        "50"
       ],
       "index": 0,
       "layout": "IPY_MODEL_92541dccf0d04e64aff038204b77452f",
       "style": "IPY_MODEL_b5498bf68c0e4051bb0efb2a06495f76"
      }
     },
     "30d3745d31e1481a947dca3e57c6b082": {
      "model_module": "@jupyter-widgets/controls",
      "model_module_version": "1.4.0",
      "model_name": "DropdownModel",
      "state": {
       "_options_labels": [
        "1",
        "5",
        "10",
        "20",
        "30",
        "50"
       ],
       "description": "R_item",
       "index": 0,
       "layout": "IPY_MODEL_60ce6934175c4fa9b651aae3c97e6590",
       "style": "IPY_MODEL_6bac6e28015c45d4816f83caf0f73d96"
      }
     },
     "3181c5b7f8ea4db0b2ffd35f76ae7f83": {
      "model_module": "@jupyter-widgets/output",
      "model_module_version": "1.0.0",
      "model_name": "OutputModel",
      "state": {
       "layout": "IPY_MODEL_6ff707f1e73a4631b6dec117836c6e01"
      }
     },
     "31830c8d4a5f4e198611422b9c573602": {
      "model_module": "@jupyter-widgets/output",
      "model_module_version": "1.0.0",
      "model_name": "OutputModel",
      "state": {
       "layout": "IPY_MODEL_2394e93c65e54b0f9da3f87e99f69148"
      }
     },
     "31ca184b2d314a36bb3f59207024a25d": {
      "model_module": "@jupyter-widgets/controls",
      "model_module_version": "1.4.0",
      "model_name": "DescriptionStyleModel",
      "state": {
       "description_width": ""
      }
     },
     "320e196ab614423f842bd3db1f897a13": {
      "model_module": "@jupyter-widgets/base",
      "model_module_version": "1.1.0",
      "model_name": "LayoutModel",
      "state": {}
     },
     "331fea34f0934e2c998589419bbf675d": {
      "model_module": "@jupyter-widgets/controls",
      "model_module_version": "1.4.0",
      "model_name": "DescriptionStyleModel",
      "state": {
       "description_width": ""
      }
     },
     "33a75cbcc92249fdb4a59ec3c67f31a0": {
      "model_module": "@jupyter-widgets/controls",
      "model_module_version": "1.4.0",
      "model_name": "RadioButtonsModel",
      "state": {
       "_options_labels": [
        "Cosine Similarity",
        "pearson correlation"
       ],
       "description": "Relation",
       "index": 1,
       "layout": "IPY_MODEL_304ab524bd654710930805ea9573cec6",
       "style": "IPY_MODEL_4b6bb5777d7343dab54d6e2fcf7060c4"
      }
     },
     "35a0ff8e33a24698842c771f4a32d1a8": {
      "model_module": "@jupyter-widgets/base",
      "model_module_version": "1.1.0",
      "model_name": "LayoutModel",
      "state": {}
     },
     "36f47608daf2486498903a847563a4e1": {
      "model_module": "@jupyter-widgets/controls",
      "model_module_version": "1.4.0",
      "model_name": "RadioButtonsModel",
      "state": {
       "_options_labels": [
        "Cosine Similarity",
        "pearson correlation"
       ],
       "description": "Relation",
       "index": 0,
       "layout": "IPY_MODEL_12f9d92d549e4989a747c16888ef3fa6",
       "style": "IPY_MODEL_27efef6f97514baf97218783a1b6de23"
      }
     },
     "3714ce2a90ba46fcbf09316570c3590d": {
      "model_module": "@jupyter-widgets/controls",
      "model_module_version": "1.4.0",
      "model_name": "DescriptionStyleModel",
      "state": {
       "description_width": ""
      }
     },
     "374eb78a8c024d49abf2dd79299666b6": {
      "model_module": "@jupyter-widgets/base",
      "model_module_version": "1.1.0",
      "model_name": "LayoutModel",
      "state": {}
     },
     "3888d0e04a1a42a490bd12cb10fc7204": {
      "model_module": "@jupyter-widgets/controls",
      "model_module_version": "1.4.0",
      "model_name": "DescriptionStyleModel",
      "state": {
       "description_width": ""
      }
     },
     "38d60db111684a6ba34c14f86553edff": {
      "model_module": "@jupyter-widgets/controls",
      "model_module_version": "1.4.0",
      "model_name": "DropdownModel",
      "state": {
       "_options_labels": [
        "1",
        "5",
        "10",
        "20",
        "30",
        "50"
       ],
       "index": 0,
       "layout": "IPY_MODEL_54d81aa063624f1c80b890ffed3a3dd5",
       "style": "IPY_MODEL_f3586ef8f0e14737be3993bc53581488"
      }
     },
     "396923b0be5e45c18453a78c4b01ea77": {
      "model_module": "@jupyter-widgets/controls",
      "model_module_version": "1.4.0",
      "model_name": "SliderStyleModel",
      "state": {
       "description_width": ""
      }
     },
     "397cdfa25918463d9019a4054f2b8f98": {
      "model_module": "@jupyter-widgets/base",
      "model_module_version": "1.1.0",
      "model_name": "LayoutModel",
      "state": {}
     },
     "3993d20611d9469d9beb0d510d0f1e15": {
      "model_module": "@jupyter-widgets/output",
      "model_module_version": "1.0.0",
      "model_name": "OutputModel",
      "state": {
       "layout": "IPY_MODEL_850a1f26064344e689c083811649f6a2",
       "outputs": [
        {
         "ename": "KeyboardInterrupt",
         "evalue": "",
         "output_type": "error",
         "traceback": [
          "\u001b[0;31m---------------------------------------------------------------------------\u001b[0m",
          "\u001b[0;31mKeyboardInterrupt\u001b[0m                         Traceback (most recent call last)",
          "\u001b[0;32m/Library/Frameworks/Python.framework/Versions/3.7/lib/python3.7/site-packages/ipywidgets/widgets/interaction.py\u001b[0m in \u001b[0;36mupdate\u001b[0;34m(self, *args)\u001b[0m\n\u001b[1;32m    249\u001b[0m                     \u001b[0mvalue\u001b[0m \u001b[0;34m=\u001b[0m \u001b[0mwidget\u001b[0m\u001b[0;34m.\u001b[0m\u001b[0mget_interact_value\u001b[0m\u001b[0;34m(\u001b[0m\u001b[0;34m)\u001b[0m\u001b[0;34m\u001b[0m\u001b[0;34m\u001b[0m\u001b[0m\n\u001b[1;32m    250\u001b[0m                     \u001b[0mself\u001b[0m\u001b[0;34m.\u001b[0m\u001b[0mkwargs\u001b[0m\u001b[0;34m[\u001b[0m\u001b[0mwidget\u001b[0m\u001b[0;34m.\u001b[0m\u001b[0m_kwarg\u001b[0m\u001b[0;34m]\u001b[0m \u001b[0;34m=\u001b[0m \u001b[0mvalue\u001b[0m\u001b[0;34m\u001b[0m\u001b[0;34m\u001b[0m\u001b[0m\n\u001b[0;32m--> 251\u001b[0;31m                 \u001b[0mself\u001b[0m\u001b[0;34m.\u001b[0m\u001b[0mresult\u001b[0m \u001b[0;34m=\u001b[0m \u001b[0mself\u001b[0m\u001b[0;34m.\u001b[0m\u001b[0mf\u001b[0m\u001b[0;34m(\u001b[0m\u001b[0;34m**\u001b[0m\u001b[0mself\u001b[0m\u001b[0;34m.\u001b[0m\u001b[0mkwargs\u001b[0m\u001b[0;34m)\u001b[0m\u001b[0;34m\u001b[0m\u001b[0;34m\u001b[0m\u001b[0m\n\u001b[0m\u001b[1;32m    252\u001b[0m                 \u001b[0mshow_inline_matplotlib_plots\u001b[0m\u001b[0;34m(\u001b[0m\u001b[0;34m)\u001b[0m\u001b[0;34m\u001b[0m\u001b[0;34m\u001b[0m\u001b[0m\n\u001b[1;32m    253\u001b[0m                 \u001b[0;32mif\u001b[0m \u001b[0mself\u001b[0m\u001b[0;34m.\u001b[0m\u001b[0mauto_display\u001b[0m \u001b[0;32mand\u001b[0m \u001b[0mself\u001b[0m\u001b[0;34m.\u001b[0m\u001b[0mresult\u001b[0m \u001b[0;32mis\u001b[0m \u001b[0;32mnot\u001b[0m \u001b[0;32mNone\u001b[0m\u001b[0;34m:\u001b[0m\u001b[0;34m\u001b[0m\u001b[0;34m\u001b[0m\u001b[0m\n",
          "\u001b[0;32m<ipython-input-137-cff7bd7fcab2>\u001b[0m in \u001b[0;36mUserbasedRecommendation\u001b[0;34m(User, no_of_closed_users, Relation_Type)\u001b[0m\n\u001b[1;32m      8\u001b[0m     \u001b[0;32mif\u001b[0m \u001b[0mRelation_Type\u001b[0m \u001b[0;34m==\u001b[0m \u001b[0;34m'pearson correlation'\u001b[0m\u001b[0;34m:\u001b[0m\u001b[0;34m\u001b[0m\u001b[0;34m\u001b[0m\u001b[0m\n\u001b[1;32m      9\u001b[0m         \u001b[0muser_rat\u001b[0m \u001b[0;34m=\u001b[0m \u001b[0mR_df_trans\u001b[0m\u001b[0;34m.\u001b[0m\u001b[0mloc\u001b[0m\u001b[0;34m[\u001b[0m\u001b[0;34m:\u001b[0m\u001b[0;34m,\u001b[0m\u001b[0mUser\u001b[0m\u001b[0;34m]\u001b[0m\u001b[0;34m\u001b[0m\u001b[0;34m\u001b[0m\u001b[0m\n\u001b[0;32m---> 10\u001b[0;31m         \u001b[0musers_similer_to_user\u001b[0m \u001b[0;34m=\u001b[0m \u001b[0mSimilar_users\u001b[0m\u001b[0;34m(\u001b[0m\u001b[0muser_rat\u001b[0m\u001b[0;34m)\u001b[0m\u001b[0;34m\u001b[0m\u001b[0;34m\u001b[0m\u001b[0m\n\u001b[0m\u001b[1;32m     11\u001b[0m         \u001b[0mrec_list\u001b[0m\u001b[0;34m,\u001b[0m\u001b[0malreadyviewd\u001b[0m\u001b[0;34m,\u001b[0m\u001b[0mrec_dict\u001b[0m \u001b[0;34m=\u001b[0m \u001b[0mrecommendations\u001b[0m\u001b[0;34m(\u001b[0m\u001b[0mno_of_closed_users\u001b[0m\u001b[0;34m,\u001b[0m\u001b[0mUser\u001b[0m\u001b[0;34m,\u001b[0m\u001b[0musers_similer_to_user\u001b[0m\u001b[0;34m)\u001b[0m\u001b[0;34m\u001b[0m\u001b[0;34m\u001b[0m\u001b[0m\n\u001b[1;32m     12\u001b[0m         \u001b[0mprint\u001b[0m\u001b[0;34m(\u001b[0m\u001b[0;34m\"Already viewed items: \"\u001b[0m\u001b[0;34m+\u001b[0m \u001b[0;34m\"\\n\"\u001b[0m\u001b[0;34m+\u001b[0m \u001b[0mstr\u001b[0m\u001b[0;34m(\u001b[0m\u001b[0mpd\u001b[0m\u001b[0;34m.\u001b[0m\u001b[0mDataFrame\u001b[0m\u001b[0;34m(\u001b[0m\u001b[0malreadyviewd\u001b[0m\u001b[0;34m)\u001b[0m\u001b[0;34m)\u001b[0m \u001b[0;34m+\u001b[0m \u001b[0;34m\"\\n\\n\"\u001b[0m\u001b[0;34m)\u001b[0m\u001b[0;34m\u001b[0m\u001b[0;34m\u001b[0m\u001b[0m\n",
          "\u001b[0;32m<ipython-input-40-5bd6add57778>\u001b[0m in \u001b[0;36mSimilar_users\u001b[0;34m(user_rating)\u001b[0m\n\u001b[1;32m      1\u001b[0m \u001b[0;32mdef\u001b[0m \u001b[0mSimilar_users\u001b[0m \u001b[0;34m(\u001b[0m\u001b[0muser_rating\u001b[0m\u001b[0;34m)\u001b[0m\u001b[0;34m:\u001b[0m\u001b[0;34m\u001b[0m\u001b[0;34m\u001b[0m\u001b[0m\n\u001b[0;32m----> 2\u001b[0;31m     \u001b[0musers_similer_to_user\u001b[0m \u001b[0;34m=\u001b[0m \u001b[0mR_df_trans\u001b[0m\u001b[0;34m.\u001b[0m\u001b[0mcorrwith\u001b[0m\u001b[0;34m(\u001b[0m\u001b[0muser_rating\u001b[0m\u001b[0;34m)\u001b[0m\u001b[0;34m\u001b[0m\u001b[0;34m\u001b[0m\u001b[0m\n\u001b[0m\u001b[1;32m      3\u001b[0m     \u001b[0mcorr_tab\u001b[0m \u001b[0;34m=\u001b[0m \u001b[0mpd\u001b[0m\u001b[0;34m.\u001b[0m\u001b[0mDataFrame\u001b[0m\u001b[0;34m(\u001b[0m\u001b[0musers_similer_to_user\u001b[0m\u001b[0;34m,\u001b[0m\u001b[0mcolumns\u001b[0m\u001b[0;34m=\u001b[0m\u001b[0;34m[\u001b[0m\u001b[0;34m'Correlation'\u001b[0m\u001b[0;34m]\u001b[0m\u001b[0;34m)\u001b[0m\u001b[0;34m\u001b[0m\u001b[0;34m\u001b[0m\u001b[0m\n\u001b[1;32m      4\u001b[0m     \u001b[0mcorr_tab\u001b[0m\u001b[0;34m.\u001b[0m\u001b[0mdropna\u001b[0m\u001b[0;34m(\u001b[0m\u001b[0minplace\u001b[0m\u001b[0;34m=\u001b[0m\u001b[0;32mTrue\u001b[0m\u001b[0;34m)\u001b[0m\u001b[0;34m\u001b[0m\u001b[0;34m\u001b[0m\u001b[0m\n\u001b[1;32m      5\u001b[0m     \u001b[0mcorr_tab\u001b[0m\u001b[0;34m=\u001b[0m\u001b[0mcorr_tab\u001b[0m\u001b[0;34m.\u001b[0m\u001b[0msort_values\u001b[0m\u001b[0;34m(\u001b[0m\u001b[0;34m'Correlation'\u001b[0m\u001b[0;34m,\u001b[0m\u001b[0mascending\u001b[0m\u001b[0;34m=\u001b[0m\u001b[0;32mFalse\u001b[0m\u001b[0;34m)\u001b[0m\u001b[0;34m.\u001b[0m\u001b[0mreset_index\u001b[0m\u001b[0;34m(\u001b[0m\u001b[0;34m)\u001b[0m\u001b[0;34m\u001b[0m\u001b[0;34m\u001b[0m\u001b[0m\n",
          "\u001b[0;32m/Library/Frameworks/Python.framework/Versions/3.7/lib/python3.7/site-packages/pandas/core/frame.py\u001b[0m in \u001b[0;36mcorrwith\u001b[0;34m(self, other, axis, drop, method)\u001b[0m\n\u001b[1;32m   7184\u001b[0m         \u001b[0;32mif\u001b[0m \u001b[0misinstance\u001b[0m\u001b[0;34m(\u001b[0m\u001b[0mother\u001b[0m\u001b[0;34m,\u001b[0m \u001b[0mSeries\u001b[0m\u001b[0;34m)\u001b[0m\u001b[0;34m:\u001b[0m\u001b[0;34m\u001b[0m\u001b[0;34m\u001b[0m\u001b[0m\n\u001b[1;32m   7185\u001b[0m             return this.apply(lambda x: other.corr(x, method=method),\n\u001b[0;32m-> 7186\u001b[0;31m                               axis=axis)\n\u001b[0m\u001b[1;32m   7187\u001b[0m \u001b[0;34m\u001b[0m\u001b[0m\n\u001b[1;32m   7188\u001b[0m         \u001b[0mother\u001b[0m \u001b[0;34m=\u001b[0m \u001b[0mother\u001b[0m\u001b[0;34m.\u001b[0m\u001b[0m_get_numeric_data\u001b[0m\u001b[0;34m(\u001b[0m\u001b[0;34m)\u001b[0m\u001b[0;34m\u001b[0m\u001b[0;34m\u001b[0m\u001b[0m\n",
          "\u001b[0;32m/Library/Frameworks/Python.framework/Versions/3.7/lib/python3.7/site-packages/pandas/core/frame.py\u001b[0m in \u001b[0;36mapply\u001b[0;34m(self, func, axis, broadcast, raw, reduce, result_type, args, **kwds)\u001b[0m\n\u001b[1;32m   6485\u001b[0m                          \u001b[0margs\u001b[0m\u001b[0;34m=\u001b[0m\u001b[0margs\u001b[0m\u001b[0;34m,\u001b[0m\u001b[0;34m\u001b[0m\u001b[0;34m\u001b[0m\u001b[0m\n\u001b[1;32m   6486\u001b[0m                          kwds=kwds)\n\u001b[0;32m-> 6487\u001b[0;31m         \u001b[0;32mreturn\u001b[0m \u001b[0mop\u001b[0m\u001b[0;34m.\u001b[0m\u001b[0mget_result\u001b[0m\u001b[0;34m(\u001b[0m\u001b[0;34m)\u001b[0m\u001b[0;34m\u001b[0m\u001b[0;34m\u001b[0m\u001b[0m\n\u001b[0m\u001b[1;32m   6488\u001b[0m \u001b[0;34m\u001b[0m\u001b[0m\n\u001b[1;32m   6489\u001b[0m     \u001b[0;32mdef\u001b[0m \u001b[0mapplymap\u001b[0m\u001b[0;34m(\u001b[0m\u001b[0mself\u001b[0m\u001b[0;34m,\u001b[0m \u001b[0mfunc\u001b[0m\u001b[0;34m)\u001b[0m\u001b[0;34m:\u001b[0m\u001b[0;34m\u001b[0m\u001b[0;34m\u001b[0m\u001b[0m\n",
          "\u001b[0;32m/Library/Frameworks/Python.framework/Versions/3.7/lib/python3.7/site-packages/pandas/core/apply.py\u001b[0m in \u001b[0;36mget_result\u001b[0;34m(self)\u001b[0m\n\u001b[1;32m    149\u001b[0m             \u001b[0;32mreturn\u001b[0m \u001b[0mself\u001b[0m\u001b[0;34m.\u001b[0m\u001b[0mapply_raw\u001b[0m\u001b[0;34m(\u001b[0m\u001b[0;34m)\u001b[0m\u001b[0;34m\u001b[0m\u001b[0;34m\u001b[0m\u001b[0m\n\u001b[1;32m    150\u001b[0m \u001b[0;34m\u001b[0m\u001b[0m\n\u001b[0;32m--> 151\u001b[0;31m         \u001b[0;32mreturn\u001b[0m \u001b[0mself\u001b[0m\u001b[0;34m.\u001b[0m\u001b[0mapply_standard\u001b[0m\u001b[0;34m(\u001b[0m\u001b[0;34m)\u001b[0m\u001b[0;34m\u001b[0m\u001b[0;34m\u001b[0m\u001b[0m\n\u001b[0m\u001b[1;32m    152\u001b[0m \u001b[0;34m\u001b[0m\u001b[0m\n\u001b[1;32m    153\u001b[0m     \u001b[0;32mdef\u001b[0m \u001b[0mapply_empty_result\u001b[0m\u001b[0;34m(\u001b[0m\u001b[0mself\u001b[0m\u001b[0;34m)\u001b[0m\u001b[0;34m:\u001b[0m\u001b[0;34m\u001b[0m\u001b[0;34m\u001b[0m\u001b[0m\n",
          "\u001b[0;32m/Library/Frameworks/Python.framework/Versions/3.7/lib/python3.7/site-packages/pandas/core/apply.py\u001b[0m in \u001b[0;36mapply_standard\u001b[0;34m(self)\u001b[0m\n\u001b[1;32m    249\u001b[0m                                           \u001b[0maxis\u001b[0m\u001b[0;34m=\u001b[0m\u001b[0mself\u001b[0m\u001b[0;34m.\u001b[0m\u001b[0maxis\u001b[0m\u001b[0;34m,\u001b[0m\u001b[0;34m\u001b[0m\u001b[0;34m\u001b[0m\u001b[0m\n\u001b[1;32m    250\u001b[0m                                           \u001b[0mdummy\u001b[0m\u001b[0;34m=\u001b[0m\u001b[0mdummy\u001b[0m\u001b[0;34m,\u001b[0m\u001b[0;34m\u001b[0m\u001b[0;34m\u001b[0m\u001b[0m\n\u001b[0;32m--> 251\u001b[0;31m                                           labels=labels)\n\u001b[0m\u001b[1;32m    252\u001b[0m                 \u001b[0;32mreturn\u001b[0m \u001b[0mself\u001b[0m\u001b[0;34m.\u001b[0m\u001b[0mobj\u001b[0m\u001b[0;34m.\u001b[0m\u001b[0m_constructor_sliced\u001b[0m\u001b[0;34m(\u001b[0m\u001b[0mresult\u001b[0m\u001b[0;34m,\u001b[0m \u001b[0mindex\u001b[0m\u001b[0;34m=\u001b[0m\u001b[0mlabels\u001b[0m\u001b[0;34m)\u001b[0m\u001b[0;34m\u001b[0m\u001b[0;34m\u001b[0m\u001b[0m\n\u001b[1;32m    253\u001b[0m             \u001b[0;32mexcept\u001b[0m \u001b[0mException\u001b[0m\u001b[0;34m:\u001b[0m\u001b[0;34m\u001b[0m\u001b[0;34m\u001b[0m\u001b[0m\n",
          "\u001b[0;32mpandas/_libs/reduction.pyx\u001b[0m in \u001b[0;36mpandas._libs.reduction.reduce\u001b[0;34m()\u001b[0m\n",
          "\u001b[0;32mpandas/_libs/reduction.pyx\u001b[0m in \u001b[0;36mpandas._libs.reduction.Reducer.get_result\u001b[0;34m()\u001b[0m\n",
          "\u001b[0;32m/Library/Frameworks/Python.framework/Versions/3.7/lib/python3.7/site-packages/pandas/core/frame.py\u001b[0m in \u001b[0;36m<lambda>\u001b[0;34m(x)\u001b[0m\n\u001b[1;32m   7183\u001b[0m \u001b[0;34m\u001b[0m\u001b[0m\n\u001b[1;32m   7184\u001b[0m         \u001b[0;32mif\u001b[0m \u001b[0misinstance\u001b[0m\u001b[0;34m(\u001b[0m\u001b[0mother\u001b[0m\u001b[0;34m,\u001b[0m \u001b[0mSeries\u001b[0m\u001b[0;34m)\u001b[0m\u001b[0;34m:\u001b[0m\u001b[0;34m\u001b[0m\u001b[0;34m\u001b[0m\u001b[0m\n\u001b[0;32m-> 7185\u001b[0;31m             return this.apply(lambda x: other.corr(x, method=method),\n\u001b[0m\u001b[1;32m   7186\u001b[0m                               axis=axis)\n\u001b[1;32m   7187\u001b[0m \u001b[0;34m\u001b[0m\u001b[0m\n",
          "\u001b[0;32m/Library/Frameworks/Python.framework/Versions/3.7/lib/python3.7/site-packages/pandas/core/series.py\u001b[0m in \u001b[0;36mcorr\u001b[0;34m(self, other, method, min_periods)\u001b[0m\n\u001b[1;32m   2103\u001b[0m         \u001b[0;32mif\u001b[0m \u001b[0mmethod\u001b[0m \u001b[0;32min\u001b[0m \u001b[0;34m[\u001b[0m\u001b[0;34m'pearson'\u001b[0m\u001b[0;34m,\u001b[0m \u001b[0;34m'spearman'\u001b[0m\u001b[0;34m,\u001b[0m \u001b[0;34m'kendall'\u001b[0m\u001b[0;34m]\u001b[0m \u001b[0;32mor\u001b[0m \u001b[0mcallable\u001b[0m\u001b[0;34m(\u001b[0m\u001b[0mmethod\u001b[0m\u001b[0;34m)\u001b[0m\u001b[0;34m:\u001b[0m\u001b[0;34m\u001b[0m\u001b[0;34m\u001b[0m\u001b[0m\n\u001b[1;32m   2104\u001b[0m             return nanops.nancorr(this.values, other.values, method=method,\n\u001b[0;32m-> 2105\u001b[0;31m                                   min_periods=min_periods)\n\u001b[0m\u001b[1;32m   2106\u001b[0m \u001b[0;34m\u001b[0m\u001b[0m\n\u001b[1;32m   2107\u001b[0m         raise ValueError(\"method must be either 'pearson', \"\n",
          "\u001b[0;32m/Library/Frameworks/Python.framework/Versions/3.7/lib/python3.7/site-packages/pandas/core/nanops.py\u001b[0m in \u001b[0;36m_f\u001b[0;34m(*args, **kwargs)\u001b[0m\n\u001b[1;32m     74\u001b[0m             \u001b[0;32mtry\u001b[0m\u001b[0;34m:\u001b[0m\u001b[0;34m\u001b[0m\u001b[0;34m\u001b[0m\u001b[0m\n\u001b[1;32m     75\u001b[0m                 \u001b[0;32mwith\u001b[0m \u001b[0mnp\u001b[0m\u001b[0;34m.\u001b[0m\u001b[0merrstate\u001b[0m\u001b[0;34m(\u001b[0m\u001b[0minvalid\u001b[0m\u001b[0;34m=\u001b[0m\u001b[0;34m'ignore'\u001b[0m\u001b[0;34m)\u001b[0m\u001b[0;34m:\u001b[0m\u001b[0;34m\u001b[0m\u001b[0;34m\u001b[0m\u001b[0m\n\u001b[0;32m---> 76\u001b[0;31m                     \u001b[0;32mreturn\u001b[0m \u001b[0mf\u001b[0m\u001b[0;34m(\u001b[0m\u001b[0;34m*\u001b[0m\u001b[0margs\u001b[0m\u001b[0;34m,\u001b[0m \u001b[0;34m**\u001b[0m\u001b[0mkwargs\u001b[0m\u001b[0;34m)\u001b[0m\u001b[0;34m\u001b[0m\u001b[0;34m\u001b[0m\u001b[0m\n\u001b[0m\u001b[1;32m     77\u001b[0m             \u001b[0;32mexcept\u001b[0m \u001b[0mValueError\u001b[0m \u001b[0;32mas\u001b[0m \u001b[0me\u001b[0m\u001b[0;34m:\u001b[0m\u001b[0;34m\u001b[0m\u001b[0;34m\u001b[0m\u001b[0m\n\u001b[1;32m     78\u001b[0m                 \u001b[0;31m# we want to transform an object array\u001b[0m\u001b[0;34m\u001b[0m\u001b[0;34m\u001b[0m\u001b[0;34m\u001b[0m\u001b[0m\n",
          "\u001b[0;32m/Library/Frameworks/Python.framework/Versions/3.7/lib/python3.7/site-packages/pandas/core/nanops.py\u001b[0m in \u001b[0;36mnancorr\u001b[0;34m(a, b, method, min_periods)\u001b[0m\n\u001b[1;32m   1100\u001b[0m \u001b[0;34m\u001b[0m\u001b[0m\n\u001b[1;32m   1101\u001b[0m     \u001b[0mf\u001b[0m \u001b[0;34m=\u001b[0m \u001b[0mget_corr_func\u001b[0m\u001b[0;34m(\u001b[0m\u001b[0mmethod\u001b[0m\u001b[0;34m)\u001b[0m\u001b[0;34m\u001b[0m\u001b[0;34m\u001b[0m\u001b[0m\n\u001b[0;32m-> 1102\u001b[0;31m     \u001b[0;32mreturn\u001b[0m \u001b[0mf\u001b[0m\u001b[0;34m(\u001b[0m\u001b[0ma\u001b[0m\u001b[0;34m,\u001b[0m \u001b[0mb\u001b[0m\u001b[0;34m)\u001b[0m\u001b[0;34m\u001b[0m\u001b[0;34m\u001b[0m\u001b[0m\n\u001b[0m\u001b[1;32m   1103\u001b[0m \u001b[0;34m\u001b[0m\u001b[0m\n\u001b[1;32m   1104\u001b[0m \u001b[0;34m\u001b[0m\u001b[0m\n",
          "\u001b[0;32m/Library/Frameworks/Python.framework/Versions/3.7/lib/python3.7/site-packages/pandas/core/nanops.py\u001b[0m in \u001b[0;36m_pearson\u001b[0;34m(a, b)\u001b[0m\n\u001b[1;32m   1110\u001b[0m \u001b[0;34m\u001b[0m\u001b[0m\n\u001b[1;32m   1111\u001b[0m     \u001b[0;32mdef\u001b[0m \u001b[0m_pearson\u001b[0m\u001b[0;34m(\u001b[0m\u001b[0ma\u001b[0m\u001b[0;34m,\u001b[0m \u001b[0mb\u001b[0m\u001b[0;34m)\u001b[0m\u001b[0;34m:\u001b[0m\u001b[0;34m\u001b[0m\u001b[0;34m\u001b[0m\u001b[0m\n\u001b[0;32m-> 1112\u001b[0;31m         \u001b[0;32mreturn\u001b[0m \u001b[0mnp\u001b[0m\u001b[0;34m.\u001b[0m\u001b[0mcorrcoef\u001b[0m\u001b[0;34m(\u001b[0m\u001b[0ma\u001b[0m\u001b[0;34m,\u001b[0m \u001b[0mb\u001b[0m\u001b[0;34m)\u001b[0m\u001b[0;34m[\u001b[0m\u001b[0;36m0\u001b[0m\u001b[0;34m,\u001b[0m \u001b[0;36m1\u001b[0m\u001b[0;34m]\u001b[0m\u001b[0;34m\u001b[0m\u001b[0;34m\u001b[0m\u001b[0m\n\u001b[0m\u001b[1;32m   1113\u001b[0m \u001b[0;34m\u001b[0m\u001b[0m\n\u001b[1;32m   1114\u001b[0m     \u001b[0;32mdef\u001b[0m \u001b[0m_kendall\u001b[0m\u001b[0;34m(\u001b[0m\u001b[0ma\u001b[0m\u001b[0;34m,\u001b[0m \u001b[0mb\u001b[0m\u001b[0;34m)\u001b[0m\u001b[0;34m:\u001b[0m\u001b[0;34m\u001b[0m\u001b[0;34m\u001b[0m\u001b[0m\n",
          "\u001b[0;32m/Library/Frameworks/Python.framework/Versions/3.7/lib/python3.7/site-packages/numpy/lib/function_base.py\u001b[0m in \u001b[0;36mcorrcoef\u001b[0;34m(x, y, rowvar, bias, ddof)\u001b[0m\n\u001b[1;32m   2520\u001b[0m         warnings.warn('bias and ddof have no effect and are deprecated',\n\u001b[1;32m   2521\u001b[0m                       DeprecationWarning, stacklevel=2)\n\u001b[0;32m-> 2522\u001b[0;31m     \u001b[0mc\u001b[0m \u001b[0;34m=\u001b[0m \u001b[0mcov\u001b[0m\u001b[0;34m(\u001b[0m\u001b[0mx\u001b[0m\u001b[0;34m,\u001b[0m \u001b[0my\u001b[0m\u001b[0;34m,\u001b[0m \u001b[0mrowvar\u001b[0m\u001b[0;34m)\u001b[0m\u001b[0;34m\u001b[0m\u001b[0;34m\u001b[0m\u001b[0m\n\u001b[0m\u001b[1;32m   2523\u001b[0m     \u001b[0;32mtry\u001b[0m\u001b[0;34m:\u001b[0m\u001b[0;34m\u001b[0m\u001b[0;34m\u001b[0m\u001b[0m\n\u001b[1;32m   2524\u001b[0m         \u001b[0md\u001b[0m \u001b[0;34m=\u001b[0m \u001b[0mdiag\u001b[0m\u001b[0;34m(\u001b[0m\u001b[0mc\u001b[0m\u001b[0;34m)\u001b[0m\u001b[0;34m\u001b[0m\u001b[0;34m\u001b[0m\u001b[0m\n",
          "\u001b[0;32m/Library/Frameworks/Python.framework/Versions/3.7/lib/python3.7/site-packages/numpy/lib/function_base.py\u001b[0m in \u001b[0;36mcov\u001b[0;34m(m, y, rowvar, bias, ddof, fweights, aweights)\u001b[0m\n\u001b[1;32m   2448\u001b[0m     \u001b[0;32melse\u001b[0m\u001b[0;34m:\u001b[0m\u001b[0;34m\u001b[0m\u001b[0;34m\u001b[0m\u001b[0m\n\u001b[1;32m   2449\u001b[0m         \u001b[0mX_T\u001b[0m \u001b[0;34m=\u001b[0m \u001b[0;34m(\u001b[0m\u001b[0mX\u001b[0m\u001b[0;34m*\u001b[0m\u001b[0mw\u001b[0m\u001b[0;34m)\u001b[0m\u001b[0;34m.\u001b[0m\u001b[0mT\u001b[0m\u001b[0;34m\u001b[0m\u001b[0;34m\u001b[0m\u001b[0m\n\u001b[0;32m-> 2450\u001b[0;31m     \u001b[0mc\u001b[0m \u001b[0;34m=\u001b[0m \u001b[0mdot\u001b[0m\u001b[0;34m(\u001b[0m\u001b[0mX\u001b[0m\u001b[0;34m,\u001b[0m \u001b[0mX_T\u001b[0m\u001b[0;34m.\u001b[0m\u001b[0mconj\u001b[0m\u001b[0;34m(\u001b[0m\u001b[0;34m)\u001b[0m\u001b[0;34m)\u001b[0m\u001b[0;34m\u001b[0m\u001b[0;34m\u001b[0m\u001b[0m\n\u001b[0m\u001b[1;32m   2451\u001b[0m     \u001b[0mc\u001b[0m \u001b[0;34m*=\u001b[0m \u001b[0mnp\u001b[0m\u001b[0;34m.\u001b[0m\u001b[0mtrue_divide\u001b[0m\u001b[0;34m(\u001b[0m\u001b[0;36m1\u001b[0m\u001b[0;34m,\u001b[0m \u001b[0mfact\u001b[0m\u001b[0;34m)\u001b[0m\u001b[0;34m\u001b[0m\u001b[0;34m\u001b[0m\u001b[0m\n\u001b[1;32m   2452\u001b[0m     \u001b[0;32mreturn\u001b[0m \u001b[0mc\u001b[0m\u001b[0;34m.\u001b[0m\u001b[0msqueeze\u001b[0m\u001b[0;34m(\u001b[0m\u001b[0;34m)\u001b[0m\u001b[0;34m\u001b[0m\u001b[0;34m\u001b[0m\u001b[0m\n",
          "\u001b[0;31mKeyboardInterrupt\u001b[0m: "
         ]
        }
       ]
      }
     },
     "3a15d81c523b4668af3990474d1c1f97": {
      "model_module": "@jupyter-widgets/controls",
      "model_module_version": "1.4.0",
      "model_name": "VBoxModel",
      "state": {
       "_dom_classes": [
        "widget-interact"
       ],
       "children": [
        "IPY_MODEL_ed697e3d491348f3bfd22790a4b85dc8",
        "IPY_MODEL_6a78b6a5d9724b8381cd8fda190019c3",
        "IPY_MODEL_755aa6432a014473bd43c40db4a51d6c",
        "IPY_MODEL_e541fbbb54324d93a2a7144fdbc0d7cd"
       ],
       "layout": "IPY_MODEL_534012aacc914c308e4c638daa77ad72"
      }
     },
     "3a957c9f80824ce4b8a8cb252c591d88": {
      "model_module": "@jupyter-widgets/base",
      "model_module_version": "1.1.0",
      "model_name": "LayoutModel",
      "state": {}
     },
     "3b3338f2a117456dba7c438024232b75": {
      "model_module": "@jupyter-widgets/base",
      "model_module_version": "1.1.0",
      "model_name": "LayoutModel",
      "state": {}
     },
     "3b441069b31e45c58a084b25c11e8e4c": {
      "model_module": "@jupyter-widgets/controls",
      "model_module_version": "1.4.0",
      "model_name": "RadioButtonsModel",
      "state": {
       "_options_labels": [
        "Cosine Similarity",
        "pearson correlation"
       ],
       "description": "Relation",
       "index": 0,
       "layout": "IPY_MODEL_397cdfa25918463d9019a4054f2b8f98",
       "style": "IPY_MODEL_4264a4406a984c2eaf10174993ee8ad1"
      }
     },
     "3cfbca71e9324b2b8d01003efd876391": {
      "model_module": "@jupyter-widgets/base",
      "model_module_version": "1.1.0",
      "model_name": "LayoutModel",
      "state": {}
     },
     "3d9d7af819dd452bbcff6fa890ef1f2d": {
      "model_module": "@jupyter-widgets/controls",
      "model_module_version": "1.4.0",
      "model_name": "DropdownModel",
      "state": {
       "_options_labels": [
        "Apple® - MacBook® Pro / Intel® Core™ i5 Processor / 13.3\" Display / 4GB Memory / 320GB Hard Drive",
        "Apple® - iPod touch® 8GB* MP3 Player (4th Generation - Latest Model) - Black",
        "Beats By Dr. Dre - Beats Tour Earbud Headphones - Black",
        "Beats By Dr. Dre - Beats Solo HD Over-the-Ear Headphones - Black",
        "Apple® - iPod touch® 32GB* MP3 Player (4th Generation - Latest Model) - Black",
        "Rocketfish™ - 90W AC Power Adapter for Most Laptop PCs - Black",
        "Western Digital - Scorpio Blue 500GB Internal Serial ATA Hard Drive for Laptops",
        "Motorola - SURFboard Cable Modem",
        "TiVo® - Premiere High-Definition Digital Video Recorder",
        "Apple® - MacBook® Pro / Intel® Core™ i7 Processor / 13.3\" Display / 4GB Memory / 500GB Hard Drive",
        "Optoma - Pico Pocket DLP Projector",
        "Dynex™ - 3' 3.5mm Stereo Audio Cable",
        "Sony - Blu-ray Remote for PlayStation 3",
        "Western Digital - WD TV Live Plus HD Media Player",
        "Kaspersky Anti-Virus (1-Year Subscription) - Windows",
        "NETGEAR - Wireless-N Router",
        "Beats By Dr. Dre - Monster Studio High-Definition Red Sox Over-the-Ear Headphones - Blue",
        "HP - Photosmart e-All-in-One Wireless Printer",
        "Beats By Dr. Dre - Beats Studio Over-the-Ear Headphones - Black",
        "Beats By Dr. Dre - Beats Studio Over-the-Ear Headphones - White"
       ],
       "description": "Item",
       "index": 0,
       "layout": "IPY_MODEL_d00f817c94d24280be48dc5be235eb16",
       "style": "IPY_MODEL_0145acc2092143898cb79d97da7bf731"
      }
     },
     "3e4765a53e754342980def8652ef3099": {
      "model_module": "@jupyter-widgets/base",
      "model_module_version": "1.1.0",
      "model_name": "LayoutModel",
      "state": {}
     },
     "3e69c483a15e4b30822f323d9b298095": {
      "model_module": "@jupyter-widgets/base",
      "model_module_version": "1.1.0",
      "model_name": "LayoutModel",
      "state": {}
     },
     "3edacd653eab466c9ba4a0ab5b41189d": {
      "model_module": "@jupyter-widgets/base",
      "model_module_version": "1.1.0",
      "model_name": "LayoutModel",
      "state": {}
     },
     "3f0a0ba676e94596b8237736c752976a": {
      "model_module": "@jupyter-widgets/controls",
      "model_module_version": "1.4.0",
      "model_name": "VBoxModel",
      "state": {
       "_dom_classes": [
        "widget-interact"
       ],
       "children": [
        "IPY_MODEL_f9bf69ec762345b5aaa73e68f8e69119",
        "IPY_MODEL_d0836f7c30954018822cdf4ce9092f94",
        "IPY_MODEL_67a5fe35ff954ee88b45adc8068bb0dc",
        "IPY_MODEL_0b1c3bf2fcb04f5a96f758b82773c545"
       ],
       "layout": "IPY_MODEL_9b7ad76798db4b59a325377bf88d1da5"
      }
     },
     "3fc4784dc0ec4854994334263486aa1c": {
      "model_module": "@jupyter-widgets/controls",
      "model_module_version": "1.4.0",
      "model_name": "IntSliderModel",
      "state": {
       "description": "R_item",
       "layout": "IPY_MODEL_ca9ed8949795437db793e1a148fa1801",
       "max": 24,
       "min": -8,
       "style": "IPY_MODEL_40e1d393023c4bd18e1c7b56187b261e",
       "value": 8
      }
     },
     "3fdd7d0cff5d48979f41d4ac4c431e47": {
      "model_module": "@jupyter-widgets/base",
      "model_module_version": "1.1.0",
      "model_name": "LayoutModel",
      "state": {}
     },
     "400f67a31fed4634ba6166881e6b1704": {
      "model_module": "@jupyter-widgets/controls",
      "model_module_version": "1.4.0",
      "model_name": "DescriptionStyleModel",
      "state": {
       "description_width": ""
      }
     },
     "403292e5e0464a438a1c87ed6c7a8058": {
      "model_module": "@jupyter-widgets/base",
      "model_module_version": "1.1.0",
      "model_name": "LayoutModel",
      "state": {}
     },
     "405ed07ae9564859904648a5c3466bad": {
      "model_module": "@jupyter-widgets/controls",
      "model_module_version": "1.4.0",
      "model_name": "VBoxModel",
      "state": {
       "_dom_classes": [
        "widget-interact"
       ],
       "children": [
        "IPY_MODEL_c82f1912516d4f598ebe05bb096e7307",
        "IPY_MODEL_4cde0e0cf1c2417bb6fc471e928b535a",
        "IPY_MODEL_7325919db81f4edcbc0ee78688dca884",
        "IPY_MODEL_2d16e3cf89ba4d15b1933e47160ebce7"
       ],
       "layout": "IPY_MODEL_aac584fff01742a58b4d7ef22c6288b5"
      }
     },
     "40e1d393023c4bd18e1c7b56187b261e": {
      "model_module": "@jupyter-widgets/controls",
      "model_module_version": "1.4.0",
      "model_name": "SliderStyleModel",
      "state": {
       "description_width": ""
      }
     },
     "418dc788fd724b789bade20b93948c33": {
      "model_module": "@jupyter-widgets/base",
      "model_module_version": "1.1.0",
      "model_name": "LayoutModel",
      "state": {}
     },
     "42605a0839c5459e865b8f91687a1360": {
      "model_module": "@jupyter-widgets/controls",
      "model_module_version": "1.4.0",
      "model_name": "VBoxModel",
      "state": {
       "_dom_classes": [
        "widget-interact"
       ],
       "children": [
        "IPY_MODEL_5e3bde998b6940fea57c12b69c682bd0",
        "IPY_MODEL_6f54b3e7d737490a9fcad8041d3c5051",
        "IPY_MODEL_2f69b0676fad45d59818ac84436d1b61",
        "IPY_MODEL_0c8d3a8875d14609b32d2ce7190d07dd"
       ],
       "layout": "IPY_MODEL_b34e1146338345ebaa612b1b34178176"
      }
     },
     "4264a4406a984c2eaf10174993ee8ad1": {
      "model_module": "@jupyter-widgets/controls",
      "model_module_version": "1.4.0",
      "model_name": "DescriptionStyleModel",
      "state": {
       "description_width": ""
      }
     },
     "429d8a7450224733a024cccec8ba348b": {
      "model_module": "@jupyter-widgets/controls",
      "model_module_version": "1.4.0",
      "model_name": "RadioButtonsModel",
      "state": {
       "_options_labels": [
        "Cosine Similarity",
        "pearson correlation",
        "SVDPP Matrix Factorization"
       ],
       "description": "Relation_Type",
       "index": 0,
       "layout": "IPY_MODEL_5ae8ba554dd74d09966e45288ddfbb06",
       "style": "IPY_MODEL_09cddeb383474ae4b52193359eb45f43"
      }
     },
     "42a734dbd7294ca2aecd494c5fa771b6": {
      "model_module": "@jupyter-widgets/base",
      "model_module_version": "1.1.0",
      "model_name": "LayoutModel",
      "state": {}
     },
     "42be3063b0d2420a985b0f16378f5713": {
      "model_module": "@jupyter-widgets/controls",
      "model_module_version": "1.4.0",
      "model_name": "VBoxModel",
      "state": {
       "_dom_classes": [
        "widget-interact"
       ],
       "children": [
        "IPY_MODEL_2ff6747d64b8462490ce33536313e755",
        "IPY_MODEL_908a43668fd24032a7c67e8c226e1dd9",
        "IPY_MODEL_2ceca2e6389646b68cb91820f569c815",
        "IPY_MODEL_abfdd2f5d2084f4fa422dd1463ed8958"
       ],
       "layout": "IPY_MODEL_7609104cc3bd4c8f85dab408ebe246b1"
      }
     },
     "42e70174a3924133b621fac3f0687603": {
      "model_module": "@jupyter-widgets/base",
      "model_module_version": "1.1.0",
      "model_name": "LayoutModel",
      "state": {}
     },
     "42e9cdbf53ec4b27b27598e1bd36c763": {
      "model_module": "@jupyter-widgets/controls",
      "model_module_version": "1.4.0",
      "model_name": "DescriptionStyleModel",
      "state": {
       "description_width": ""
      }
     },
     "43297a8a807640a7ba210396ba0a329a": {
      "model_module": "@jupyter-widgets/base",
      "model_module_version": "1.1.0",
      "model_name": "LayoutModel",
      "state": {}
     },
     "439bbb027b604ce2ae77a66e3f3c5e9e": {
      "model_module": "@jupyter-widgets/controls",
      "model_module_version": "1.4.0",
      "model_name": "DescriptionStyleModel",
      "state": {
       "description_width": ""
      }
     },
     "43b86bf257684b83a537a2cdc03083e3": {
      "model_module": "@jupyter-widgets/base",
      "model_module_version": "1.1.0",
      "model_name": "LayoutModel",
      "state": {}
     },
     "43dccb7ba8574d0fbf74880ffac25f47": {
      "model_module": "@jupyter-widgets/base",
      "model_module_version": "1.1.0",
      "model_name": "LayoutModel",
      "state": {}
     },
     "441e85e9eeeb401a97be8e71309935b5": {
      "model_module": "@jupyter-widgets/controls",
      "model_module_version": "1.4.0",
      "model_name": "RadioButtonsModel",
      "state": {
       "_options_labels": [
        "Cosine Similarity",
        "pearson correlation"
       ],
       "description": "Relation",
       "index": 1,
       "layout": "IPY_MODEL_320e196ab614423f842bd3db1f897a13",
       "style": "IPY_MODEL_44404e1766cf4bd6980bc3f36e3174d4"
      }
     },
     "44404e1766cf4bd6980bc3f36e3174d4": {
      "model_module": "@jupyter-widgets/controls",
      "model_module_version": "1.4.0",
      "model_name": "DescriptionStyleModel",
      "state": {
       "description_width": ""
      }
     },
     "44770647fb2547349e26ddd411272fa9": {
      "model_module": "@jupyter-widgets/output",
      "model_module_version": "1.0.0",
      "model_name": "OutputModel",
      "state": {
       "layout": "IPY_MODEL_14c81772ffaa4e4499c7b47c7934e818",
       "outputs": [
        {
         "ename": "KeyboardInterrupt",
         "evalue": "",
         "output_type": "error",
         "traceback": [
          "\u001b[0;31m---------------------------------------------------------------------------\u001b[0m",
          "\u001b[0;31mKeyboardInterrupt\u001b[0m                         Traceback (most recent call last)",
          "\u001b[0;32m/Library/Frameworks/Python.framework/Versions/3.7/lib/python3.7/site-packages/ipywidgets/widgets/interaction.py\u001b[0m in \u001b[0;36mupdate\u001b[0;34m(self, *args)\u001b[0m\n\u001b[1;32m    249\u001b[0m                     \u001b[0mvalue\u001b[0m \u001b[0;34m=\u001b[0m \u001b[0mwidget\u001b[0m\u001b[0;34m.\u001b[0m\u001b[0mget_interact_value\u001b[0m\u001b[0;34m(\u001b[0m\u001b[0;34m)\u001b[0m\u001b[0;34m\u001b[0m\u001b[0;34m\u001b[0m\u001b[0m\n\u001b[1;32m    250\u001b[0m                     \u001b[0mself\u001b[0m\u001b[0;34m.\u001b[0m\u001b[0mkwargs\u001b[0m\u001b[0;34m[\u001b[0m\u001b[0mwidget\u001b[0m\u001b[0;34m.\u001b[0m\u001b[0m_kwarg\u001b[0m\u001b[0;34m]\u001b[0m \u001b[0;34m=\u001b[0m \u001b[0mvalue\u001b[0m\u001b[0;34m\u001b[0m\u001b[0;34m\u001b[0m\u001b[0m\n\u001b[0;32m--> 251\u001b[0;31m                 \u001b[0mself\u001b[0m\u001b[0;34m.\u001b[0m\u001b[0mresult\u001b[0m \u001b[0;34m=\u001b[0m \u001b[0mself\u001b[0m\u001b[0;34m.\u001b[0m\u001b[0mf\u001b[0m\u001b[0;34m(\u001b[0m\u001b[0;34m**\u001b[0m\u001b[0mself\u001b[0m\u001b[0;34m.\u001b[0m\u001b[0mkwargs\u001b[0m\u001b[0;34m)\u001b[0m\u001b[0;34m\u001b[0m\u001b[0;34m\u001b[0m\u001b[0m\n\u001b[0m\u001b[1;32m    252\u001b[0m                 \u001b[0mshow_inline_matplotlib_plots\u001b[0m\u001b[0;34m(\u001b[0m\u001b[0;34m)\u001b[0m\u001b[0;34m\u001b[0m\u001b[0;34m\u001b[0m\u001b[0m\n\u001b[1;32m    253\u001b[0m                 \u001b[0;32mif\u001b[0m \u001b[0mself\u001b[0m\u001b[0;34m.\u001b[0m\u001b[0mauto_display\u001b[0m \u001b[0;32mand\u001b[0m \u001b[0mself\u001b[0m\u001b[0;34m.\u001b[0m\u001b[0mresult\u001b[0m \u001b[0;32mis\u001b[0m \u001b[0;32mnot\u001b[0m \u001b[0;32mNone\u001b[0m\u001b[0;34m:\u001b[0m\u001b[0;34m\u001b[0m\u001b[0;34m\u001b[0m\u001b[0m\n",
          "\u001b[0;32m<ipython-input-130-0109e1f2f592>\u001b[0m in \u001b[0;36mUserbasedRecommendation\u001b[0;34m(User, no_of_closed_users, Relation_Type)\u001b[0m\n\u001b[1;32m      8\u001b[0m     \u001b[0;32mif\u001b[0m \u001b[0mRelation_Type\u001b[0m \u001b[0;34m==\u001b[0m \u001b[0;34m'pearson correlation'\u001b[0m\u001b[0;34m:\u001b[0m\u001b[0;34m\u001b[0m\u001b[0;34m\u001b[0m\u001b[0m\n\u001b[1;32m      9\u001b[0m         \u001b[0muser_rat\u001b[0m \u001b[0;34m=\u001b[0m \u001b[0mR_df_trans\u001b[0m\u001b[0;34m.\u001b[0m\u001b[0mloc\u001b[0m\u001b[0;34m[\u001b[0m\u001b[0;34m:\u001b[0m\u001b[0;34m,\u001b[0m\u001b[0mUser\u001b[0m\u001b[0;34m]\u001b[0m\u001b[0;34m\u001b[0m\u001b[0;34m\u001b[0m\u001b[0m\n\u001b[0;32m---> 10\u001b[0;31m         \u001b[0musers_similer_to_user\u001b[0m \u001b[0;34m=\u001b[0m \u001b[0mSimilar_users\u001b[0m\u001b[0;34m(\u001b[0m\u001b[0muser_rat\u001b[0m\u001b[0;34m)\u001b[0m\u001b[0;34m\u001b[0m\u001b[0;34m\u001b[0m\u001b[0m\n\u001b[0m\u001b[1;32m     11\u001b[0m         \u001b[0mrec_list\u001b[0m\u001b[0;34m,\u001b[0m\u001b[0malreadyviewd\u001b[0m\u001b[0;34m,\u001b[0m\u001b[0mrec_dict\u001b[0m \u001b[0;34m=\u001b[0m \u001b[0mrecommendations\u001b[0m\u001b[0;34m(\u001b[0m\u001b[0mno_of_closed_users\u001b[0m\u001b[0;34m,\u001b[0m\u001b[0mUser\u001b[0m\u001b[0;34m,\u001b[0m\u001b[0musers_similer_to_user\u001b[0m\u001b[0;34m)\u001b[0m\u001b[0;34m\u001b[0m\u001b[0;34m\u001b[0m\u001b[0m\n\u001b[1;32m     12\u001b[0m         \u001b[0mprint\u001b[0m\u001b[0;34m(\u001b[0m\u001b[0;34m\"Already viewed items: \"\u001b[0m\u001b[0;34m+\u001b[0m \u001b[0;34m\"\\n\"\u001b[0m\u001b[0;34m+\u001b[0m \u001b[0mstr\u001b[0m\u001b[0;34m(\u001b[0m\u001b[0mpd\u001b[0m\u001b[0;34m.\u001b[0m\u001b[0mDataFrame\u001b[0m\u001b[0;34m(\u001b[0m\u001b[0malreadyviewd\u001b[0m\u001b[0;34m)\u001b[0m\u001b[0;34m)\u001b[0m \u001b[0;34m+\u001b[0m \u001b[0;34m\"\\n\\n\"\u001b[0m\u001b[0;34m)\u001b[0m\u001b[0;34m\u001b[0m\u001b[0;34m\u001b[0m\u001b[0m\n",
          "\u001b[0;32m<ipython-input-40-5bd6add57778>\u001b[0m in \u001b[0;36mSimilar_users\u001b[0;34m(user_rating)\u001b[0m\n\u001b[1;32m      1\u001b[0m \u001b[0;32mdef\u001b[0m \u001b[0mSimilar_users\u001b[0m \u001b[0;34m(\u001b[0m\u001b[0muser_rating\u001b[0m\u001b[0;34m)\u001b[0m\u001b[0;34m:\u001b[0m\u001b[0;34m\u001b[0m\u001b[0;34m\u001b[0m\u001b[0m\n\u001b[0;32m----> 2\u001b[0;31m     \u001b[0musers_similer_to_user\u001b[0m \u001b[0;34m=\u001b[0m \u001b[0mR_df_trans\u001b[0m\u001b[0;34m.\u001b[0m\u001b[0mcorrwith\u001b[0m\u001b[0;34m(\u001b[0m\u001b[0muser_rating\u001b[0m\u001b[0;34m)\u001b[0m\u001b[0;34m\u001b[0m\u001b[0;34m\u001b[0m\u001b[0m\n\u001b[0m\u001b[1;32m      3\u001b[0m     \u001b[0mcorr_tab\u001b[0m \u001b[0;34m=\u001b[0m \u001b[0mpd\u001b[0m\u001b[0;34m.\u001b[0m\u001b[0mDataFrame\u001b[0m\u001b[0;34m(\u001b[0m\u001b[0musers_similer_to_user\u001b[0m\u001b[0;34m,\u001b[0m\u001b[0mcolumns\u001b[0m\u001b[0;34m=\u001b[0m\u001b[0;34m[\u001b[0m\u001b[0;34m'Correlation'\u001b[0m\u001b[0;34m]\u001b[0m\u001b[0;34m)\u001b[0m\u001b[0;34m\u001b[0m\u001b[0;34m\u001b[0m\u001b[0m\n\u001b[1;32m      4\u001b[0m     \u001b[0mcorr_tab\u001b[0m\u001b[0;34m.\u001b[0m\u001b[0mdropna\u001b[0m\u001b[0;34m(\u001b[0m\u001b[0minplace\u001b[0m\u001b[0;34m=\u001b[0m\u001b[0;32mTrue\u001b[0m\u001b[0;34m)\u001b[0m\u001b[0;34m\u001b[0m\u001b[0;34m\u001b[0m\u001b[0m\n\u001b[1;32m      5\u001b[0m     \u001b[0mcorr_tab\u001b[0m\u001b[0;34m=\u001b[0m\u001b[0mcorr_tab\u001b[0m\u001b[0;34m.\u001b[0m\u001b[0msort_values\u001b[0m\u001b[0;34m(\u001b[0m\u001b[0;34m'Correlation'\u001b[0m\u001b[0;34m,\u001b[0m\u001b[0mascending\u001b[0m\u001b[0;34m=\u001b[0m\u001b[0;32mFalse\u001b[0m\u001b[0;34m)\u001b[0m\u001b[0;34m.\u001b[0m\u001b[0mreset_index\u001b[0m\u001b[0;34m(\u001b[0m\u001b[0;34m)\u001b[0m\u001b[0;34m\u001b[0m\u001b[0;34m\u001b[0m\u001b[0m\n",
          "\u001b[0;32m/Library/Frameworks/Python.framework/Versions/3.7/lib/python3.7/site-packages/pandas/core/frame.py\u001b[0m in \u001b[0;36mcorrwith\u001b[0;34m(self, other, axis, drop, method)\u001b[0m\n\u001b[1;32m   7184\u001b[0m         \u001b[0;32mif\u001b[0m \u001b[0misinstance\u001b[0m\u001b[0;34m(\u001b[0m\u001b[0mother\u001b[0m\u001b[0;34m,\u001b[0m \u001b[0mSeries\u001b[0m\u001b[0;34m)\u001b[0m\u001b[0;34m:\u001b[0m\u001b[0;34m\u001b[0m\u001b[0;34m\u001b[0m\u001b[0m\n\u001b[1;32m   7185\u001b[0m             return this.apply(lambda x: other.corr(x, method=method),\n\u001b[0;32m-> 7186\u001b[0;31m                               axis=axis)\n\u001b[0m\u001b[1;32m   7187\u001b[0m \u001b[0;34m\u001b[0m\u001b[0m\n\u001b[1;32m   7188\u001b[0m         \u001b[0mother\u001b[0m \u001b[0;34m=\u001b[0m \u001b[0mother\u001b[0m\u001b[0;34m.\u001b[0m\u001b[0m_get_numeric_data\u001b[0m\u001b[0;34m(\u001b[0m\u001b[0;34m)\u001b[0m\u001b[0;34m\u001b[0m\u001b[0;34m\u001b[0m\u001b[0m\n",
          "\u001b[0;32m/Library/Frameworks/Python.framework/Versions/3.7/lib/python3.7/site-packages/pandas/core/frame.py\u001b[0m in \u001b[0;36mapply\u001b[0;34m(self, func, axis, broadcast, raw, reduce, result_type, args, **kwds)\u001b[0m\n\u001b[1;32m   6485\u001b[0m                          \u001b[0margs\u001b[0m\u001b[0;34m=\u001b[0m\u001b[0margs\u001b[0m\u001b[0;34m,\u001b[0m\u001b[0;34m\u001b[0m\u001b[0;34m\u001b[0m\u001b[0m\n\u001b[1;32m   6486\u001b[0m                          kwds=kwds)\n\u001b[0;32m-> 6487\u001b[0;31m         \u001b[0;32mreturn\u001b[0m \u001b[0mop\u001b[0m\u001b[0;34m.\u001b[0m\u001b[0mget_result\u001b[0m\u001b[0;34m(\u001b[0m\u001b[0;34m)\u001b[0m\u001b[0;34m\u001b[0m\u001b[0;34m\u001b[0m\u001b[0m\n\u001b[0m\u001b[1;32m   6488\u001b[0m \u001b[0;34m\u001b[0m\u001b[0m\n\u001b[1;32m   6489\u001b[0m     \u001b[0;32mdef\u001b[0m \u001b[0mapplymap\u001b[0m\u001b[0;34m(\u001b[0m\u001b[0mself\u001b[0m\u001b[0;34m,\u001b[0m \u001b[0mfunc\u001b[0m\u001b[0;34m)\u001b[0m\u001b[0;34m:\u001b[0m\u001b[0;34m\u001b[0m\u001b[0;34m\u001b[0m\u001b[0m\n",
          "\u001b[0;32m/Library/Frameworks/Python.framework/Versions/3.7/lib/python3.7/site-packages/pandas/core/apply.py\u001b[0m in \u001b[0;36mget_result\u001b[0;34m(self)\u001b[0m\n\u001b[1;32m    149\u001b[0m             \u001b[0;32mreturn\u001b[0m \u001b[0mself\u001b[0m\u001b[0;34m.\u001b[0m\u001b[0mapply_raw\u001b[0m\u001b[0;34m(\u001b[0m\u001b[0;34m)\u001b[0m\u001b[0;34m\u001b[0m\u001b[0;34m\u001b[0m\u001b[0m\n\u001b[1;32m    150\u001b[0m \u001b[0;34m\u001b[0m\u001b[0m\n\u001b[0;32m--> 151\u001b[0;31m         \u001b[0;32mreturn\u001b[0m \u001b[0mself\u001b[0m\u001b[0;34m.\u001b[0m\u001b[0mapply_standard\u001b[0m\u001b[0;34m(\u001b[0m\u001b[0;34m)\u001b[0m\u001b[0;34m\u001b[0m\u001b[0;34m\u001b[0m\u001b[0m\n\u001b[0m\u001b[1;32m    152\u001b[0m \u001b[0;34m\u001b[0m\u001b[0m\n\u001b[1;32m    153\u001b[0m     \u001b[0;32mdef\u001b[0m \u001b[0mapply_empty_result\u001b[0m\u001b[0;34m(\u001b[0m\u001b[0mself\u001b[0m\u001b[0;34m)\u001b[0m\u001b[0;34m:\u001b[0m\u001b[0;34m\u001b[0m\u001b[0;34m\u001b[0m\u001b[0m\n",
          "\u001b[0;32m/Library/Frameworks/Python.framework/Versions/3.7/lib/python3.7/site-packages/pandas/core/apply.py\u001b[0m in \u001b[0;36mapply_standard\u001b[0;34m(self)\u001b[0m\n\u001b[1;32m    249\u001b[0m                                           \u001b[0maxis\u001b[0m\u001b[0;34m=\u001b[0m\u001b[0mself\u001b[0m\u001b[0;34m.\u001b[0m\u001b[0maxis\u001b[0m\u001b[0;34m,\u001b[0m\u001b[0;34m\u001b[0m\u001b[0;34m\u001b[0m\u001b[0m\n\u001b[1;32m    250\u001b[0m                                           \u001b[0mdummy\u001b[0m\u001b[0;34m=\u001b[0m\u001b[0mdummy\u001b[0m\u001b[0;34m,\u001b[0m\u001b[0;34m\u001b[0m\u001b[0;34m\u001b[0m\u001b[0m\n\u001b[0;32m--> 251\u001b[0;31m                                           labels=labels)\n\u001b[0m\u001b[1;32m    252\u001b[0m                 \u001b[0;32mreturn\u001b[0m \u001b[0mself\u001b[0m\u001b[0;34m.\u001b[0m\u001b[0mobj\u001b[0m\u001b[0;34m.\u001b[0m\u001b[0m_constructor_sliced\u001b[0m\u001b[0;34m(\u001b[0m\u001b[0mresult\u001b[0m\u001b[0;34m,\u001b[0m \u001b[0mindex\u001b[0m\u001b[0;34m=\u001b[0m\u001b[0mlabels\u001b[0m\u001b[0;34m)\u001b[0m\u001b[0;34m\u001b[0m\u001b[0;34m\u001b[0m\u001b[0m\n\u001b[1;32m    253\u001b[0m             \u001b[0;32mexcept\u001b[0m \u001b[0mException\u001b[0m\u001b[0;34m:\u001b[0m\u001b[0;34m\u001b[0m\u001b[0;34m\u001b[0m\u001b[0m\n",
          "\u001b[0;32mpandas/_libs/reduction.pyx\u001b[0m in \u001b[0;36mpandas._libs.reduction.reduce\u001b[0;34m()\u001b[0m\n",
          "\u001b[0;32mpandas/_libs/reduction.pyx\u001b[0m in \u001b[0;36mpandas._libs.reduction.Reducer.get_result\u001b[0;34m()\u001b[0m\n",
          "\u001b[0;32m/Library/Frameworks/Python.framework/Versions/3.7/lib/python3.7/site-packages/pandas/core/frame.py\u001b[0m in \u001b[0;36m<lambda>\u001b[0;34m(x)\u001b[0m\n\u001b[1;32m   7183\u001b[0m \u001b[0;34m\u001b[0m\u001b[0m\n\u001b[1;32m   7184\u001b[0m         \u001b[0;32mif\u001b[0m \u001b[0misinstance\u001b[0m\u001b[0;34m(\u001b[0m\u001b[0mother\u001b[0m\u001b[0;34m,\u001b[0m \u001b[0mSeries\u001b[0m\u001b[0;34m)\u001b[0m\u001b[0;34m:\u001b[0m\u001b[0;34m\u001b[0m\u001b[0;34m\u001b[0m\u001b[0m\n\u001b[0;32m-> 7185\u001b[0;31m             return this.apply(lambda x: other.corr(x, method=method),\n\u001b[0m\u001b[1;32m   7186\u001b[0m                               axis=axis)\n\u001b[1;32m   7187\u001b[0m \u001b[0;34m\u001b[0m\u001b[0m\n",
          "\u001b[0;32m/Library/Frameworks/Python.framework/Versions/3.7/lib/python3.7/site-packages/pandas/core/series.py\u001b[0m in \u001b[0;36mcorr\u001b[0;34m(self, other, method, min_periods)\u001b[0m\n\u001b[1;32m   2103\u001b[0m         \u001b[0;32mif\u001b[0m \u001b[0mmethod\u001b[0m \u001b[0;32min\u001b[0m \u001b[0;34m[\u001b[0m\u001b[0;34m'pearson'\u001b[0m\u001b[0;34m,\u001b[0m \u001b[0;34m'spearman'\u001b[0m\u001b[0;34m,\u001b[0m \u001b[0;34m'kendall'\u001b[0m\u001b[0;34m]\u001b[0m \u001b[0;32mor\u001b[0m \u001b[0mcallable\u001b[0m\u001b[0;34m(\u001b[0m\u001b[0mmethod\u001b[0m\u001b[0;34m)\u001b[0m\u001b[0;34m:\u001b[0m\u001b[0;34m\u001b[0m\u001b[0;34m\u001b[0m\u001b[0m\n\u001b[1;32m   2104\u001b[0m             return nanops.nancorr(this.values, other.values, method=method,\n\u001b[0;32m-> 2105\u001b[0;31m                                   min_periods=min_periods)\n\u001b[0m\u001b[1;32m   2106\u001b[0m \u001b[0;34m\u001b[0m\u001b[0m\n\u001b[1;32m   2107\u001b[0m         raise ValueError(\"method must be either 'pearson', \"\n",
          "\u001b[0;32m/Library/Frameworks/Python.framework/Versions/3.7/lib/python3.7/site-packages/pandas/core/nanops.py\u001b[0m in \u001b[0;36m_f\u001b[0;34m(*args, **kwargs)\u001b[0m\n\u001b[1;32m     74\u001b[0m             \u001b[0;32mtry\u001b[0m\u001b[0;34m:\u001b[0m\u001b[0;34m\u001b[0m\u001b[0;34m\u001b[0m\u001b[0m\n\u001b[1;32m     75\u001b[0m                 \u001b[0;32mwith\u001b[0m \u001b[0mnp\u001b[0m\u001b[0;34m.\u001b[0m\u001b[0merrstate\u001b[0m\u001b[0;34m(\u001b[0m\u001b[0minvalid\u001b[0m\u001b[0;34m=\u001b[0m\u001b[0;34m'ignore'\u001b[0m\u001b[0;34m)\u001b[0m\u001b[0;34m:\u001b[0m\u001b[0;34m\u001b[0m\u001b[0;34m\u001b[0m\u001b[0m\n\u001b[0;32m---> 76\u001b[0;31m                     \u001b[0;32mreturn\u001b[0m \u001b[0mf\u001b[0m\u001b[0;34m(\u001b[0m\u001b[0;34m*\u001b[0m\u001b[0margs\u001b[0m\u001b[0;34m,\u001b[0m \u001b[0;34m**\u001b[0m\u001b[0mkwargs\u001b[0m\u001b[0;34m)\u001b[0m\u001b[0;34m\u001b[0m\u001b[0;34m\u001b[0m\u001b[0m\n\u001b[0m\u001b[1;32m     77\u001b[0m             \u001b[0;32mexcept\u001b[0m \u001b[0mValueError\u001b[0m \u001b[0;32mas\u001b[0m \u001b[0me\u001b[0m\u001b[0;34m:\u001b[0m\u001b[0;34m\u001b[0m\u001b[0;34m\u001b[0m\u001b[0m\n\u001b[1;32m     78\u001b[0m                 \u001b[0;31m# we want to transform an object array\u001b[0m\u001b[0;34m\u001b[0m\u001b[0;34m\u001b[0m\u001b[0;34m\u001b[0m\u001b[0m\n",
          "\u001b[0;32m/Library/Frameworks/Python.framework/Versions/3.7/lib/python3.7/site-packages/pandas/core/nanops.py\u001b[0m in \u001b[0;36mnancorr\u001b[0;34m(a, b, method, min_periods)\u001b[0m\n\u001b[1;32m   1100\u001b[0m \u001b[0;34m\u001b[0m\u001b[0m\n\u001b[1;32m   1101\u001b[0m     \u001b[0mf\u001b[0m \u001b[0;34m=\u001b[0m \u001b[0mget_corr_func\u001b[0m\u001b[0;34m(\u001b[0m\u001b[0mmethod\u001b[0m\u001b[0;34m)\u001b[0m\u001b[0;34m\u001b[0m\u001b[0;34m\u001b[0m\u001b[0m\n\u001b[0;32m-> 1102\u001b[0;31m     \u001b[0;32mreturn\u001b[0m \u001b[0mf\u001b[0m\u001b[0;34m(\u001b[0m\u001b[0ma\u001b[0m\u001b[0;34m,\u001b[0m \u001b[0mb\u001b[0m\u001b[0;34m)\u001b[0m\u001b[0;34m\u001b[0m\u001b[0;34m\u001b[0m\u001b[0m\n\u001b[0m\u001b[1;32m   1103\u001b[0m \u001b[0;34m\u001b[0m\u001b[0m\n\u001b[1;32m   1104\u001b[0m \u001b[0;34m\u001b[0m\u001b[0m\n",
          "\u001b[0;32m/Library/Frameworks/Python.framework/Versions/3.7/lib/python3.7/site-packages/pandas/core/nanops.py\u001b[0m in \u001b[0;36m_pearson\u001b[0;34m(a, b)\u001b[0m\n\u001b[1;32m   1110\u001b[0m \u001b[0;34m\u001b[0m\u001b[0m\n\u001b[1;32m   1111\u001b[0m     \u001b[0;32mdef\u001b[0m \u001b[0m_pearson\u001b[0m\u001b[0;34m(\u001b[0m\u001b[0ma\u001b[0m\u001b[0;34m,\u001b[0m \u001b[0mb\u001b[0m\u001b[0;34m)\u001b[0m\u001b[0;34m:\u001b[0m\u001b[0;34m\u001b[0m\u001b[0;34m\u001b[0m\u001b[0m\n\u001b[0;32m-> 1112\u001b[0;31m         \u001b[0;32mreturn\u001b[0m \u001b[0mnp\u001b[0m\u001b[0;34m.\u001b[0m\u001b[0mcorrcoef\u001b[0m\u001b[0;34m(\u001b[0m\u001b[0ma\u001b[0m\u001b[0;34m,\u001b[0m \u001b[0mb\u001b[0m\u001b[0;34m)\u001b[0m\u001b[0;34m[\u001b[0m\u001b[0;36m0\u001b[0m\u001b[0;34m,\u001b[0m \u001b[0;36m1\u001b[0m\u001b[0;34m]\u001b[0m\u001b[0;34m\u001b[0m\u001b[0;34m\u001b[0m\u001b[0m\n\u001b[0m\u001b[1;32m   1113\u001b[0m \u001b[0;34m\u001b[0m\u001b[0m\n\u001b[1;32m   1114\u001b[0m     \u001b[0;32mdef\u001b[0m \u001b[0m_kendall\u001b[0m\u001b[0;34m(\u001b[0m\u001b[0ma\u001b[0m\u001b[0;34m,\u001b[0m \u001b[0mb\u001b[0m\u001b[0;34m)\u001b[0m\u001b[0;34m:\u001b[0m\u001b[0;34m\u001b[0m\u001b[0;34m\u001b[0m\u001b[0m\n",
          "\u001b[0;32m/Library/Frameworks/Python.framework/Versions/3.7/lib/python3.7/site-packages/numpy/lib/function_base.py\u001b[0m in \u001b[0;36mcorrcoef\u001b[0;34m(x, y, rowvar, bias, ddof)\u001b[0m\n\u001b[1;32m   2520\u001b[0m         warnings.warn('bias and ddof have no effect and are deprecated',\n\u001b[1;32m   2521\u001b[0m                       DeprecationWarning, stacklevel=2)\n\u001b[0;32m-> 2522\u001b[0;31m     \u001b[0mc\u001b[0m \u001b[0;34m=\u001b[0m \u001b[0mcov\u001b[0m\u001b[0;34m(\u001b[0m\u001b[0mx\u001b[0m\u001b[0;34m,\u001b[0m \u001b[0my\u001b[0m\u001b[0;34m,\u001b[0m \u001b[0mrowvar\u001b[0m\u001b[0;34m)\u001b[0m\u001b[0;34m\u001b[0m\u001b[0;34m\u001b[0m\u001b[0m\n\u001b[0m\u001b[1;32m   2523\u001b[0m     \u001b[0;32mtry\u001b[0m\u001b[0;34m:\u001b[0m\u001b[0;34m\u001b[0m\u001b[0;34m\u001b[0m\u001b[0m\n\u001b[1;32m   2524\u001b[0m         \u001b[0md\u001b[0m \u001b[0;34m=\u001b[0m \u001b[0mdiag\u001b[0m\u001b[0;34m(\u001b[0m\u001b[0mc\u001b[0m\u001b[0;34m)\u001b[0m\u001b[0;34m\u001b[0m\u001b[0;34m\u001b[0m\u001b[0m\n",
          "\u001b[0;32m/Library/Frameworks/Python.framework/Versions/3.7/lib/python3.7/site-packages/numpy/lib/function_base.py\u001b[0m in \u001b[0;36mcov\u001b[0;34m(m, y, rowvar, bias, ddof, fweights, aweights)\u001b[0m\n\u001b[1;32m   2448\u001b[0m     \u001b[0;32melse\u001b[0m\u001b[0;34m:\u001b[0m\u001b[0;34m\u001b[0m\u001b[0;34m\u001b[0m\u001b[0m\n\u001b[1;32m   2449\u001b[0m         \u001b[0mX_T\u001b[0m \u001b[0;34m=\u001b[0m \u001b[0;34m(\u001b[0m\u001b[0mX\u001b[0m\u001b[0;34m*\u001b[0m\u001b[0mw\u001b[0m\u001b[0;34m)\u001b[0m\u001b[0;34m.\u001b[0m\u001b[0mT\u001b[0m\u001b[0;34m\u001b[0m\u001b[0;34m\u001b[0m\u001b[0m\n\u001b[0;32m-> 2450\u001b[0;31m     \u001b[0mc\u001b[0m \u001b[0;34m=\u001b[0m \u001b[0mdot\u001b[0m\u001b[0;34m(\u001b[0m\u001b[0mX\u001b[0m\u001b[0;34m,\u001b[0m \u001b[0mX_T\u001b[0m\u001b[0;34m.\u001b[0m\u001b[0mconj\u001b[0m\u001b[0;34m(\u001b[0m\u001b[0;34m)\u001b[0m\u001b[0;34m)\u001b[0m\u001b[0;34m\u001b[0m\u001b[0;34m\u001b[0m\u001b[0m\n\u001b[0m\u001b[1;32m   2451\u001b[0m     \u001b[0mc\u001b[0m \u001b[0;34m*=\u001b[0m \u001b[0mnp\u001b[0m\u001b[0;34m.\u001b[0m\u001b[0mtrue_divide\u001b[0m\u001b[0;34m(\u001b[0m\u001b[0;36m1\u001b[0m\u001b[0;34m,\u001b[0m \u001b[0mfact\u001b[0m\u001b[0;34m)\u001b[0m\u001b[0;34m\u001b[0m\u001b[0;34m\u001b[0m\u001b[0m\n\u001b[1;32m   2452\u001b[0m     \u001b[0;32mreturn\u001b[0m \u001b[0mc\u001b[0m\u001b[0;34m.\u001b[0m\u001b[0msqueeze\u001b[0m\u001b[0;34m(\u001b[0m\u001b[0;34m)\u001b[0m\u001b[0;34m\u001b[0m\u001b[0;34m\u001b[0m\u001b[0m\n",
          "\u001b[0;31mKeyboardInterrupt\u001b[0m: "
         ]
        }
       ]
      }
     },
     "4490bb62ca674b49b3e118b34b940f55": {
      "model_module": "@jupyter-widgets/controls",
      "model_module_version": "1.4.0",
      "model_name": "DescriptionStyleModel",
      "state": {
       "description_width": ""
      }
     },
     "44db822376504e5ebc3d65bc461a2c28": {
      "model_module": "@jupyter-widgets/base",
      "model_module_version": "1.1.0",
      "model_name": "LayoutModel",
      "state": {}
     },
     "4684199956f54fa782afe6a84c9689f0": {
      "model_module": "@jupyter-widgets/base",
      "model_module_version": "1.1.0",
      "model_name": "LayoutModel",
      "state": {}
     },
     "474c01e6218e42aa84f6f17216349e03": {
      "model_module": "@jupyter-widgets/base",
      "model_module_version": "1.1.0",
      "model_name": "LayoutModel",
      "state": {}
     },
     "478abe4e14054c858ca6a7540d526621": {
      "model_module": "@jupyter-widgets/base",
      "model_module_version": "1.1.0",
      "model_name": "LayoutModel",
      "state": {}
     },
     "47cc74173e5b44738844aedc27f236e4": {
      "model_module": "@jupyter-widgets/controls",
      "model_module_version": "1.4.0",
      "model_name": "DropdownModel",
      "state": {
       "_options_labels": [
        "Apple® - MacBook® Pro / Intel® Core™ i5 Processor / 13.3\" Display / 4GB Memory / 320GB Hard Drive",
        "Apple® - iPod touch® 8GB* MP3 Player (4th Generation - Latest Model) - Black",
        "Beats By Dr. Dre - Beats Tour Earbud Headphones - Black",
        "Beats By Dr. Dre - Beats Solo HD Over-the-Ear Headphones - Black",
        "Apple® - iPod touch® 32GB* MP3 Player (4th Generation - Latest Model) - Black",
        "Rocketfish™ - 90W AC Power Adapter for Most Laptop PCs - Black",
        "Western Digital - Scorpio Blue 500GB Internal Serial ATA Hard Drive for Laptops",
        "Motorola - SURFboard Cable Modem",
        "TiVo® - Premiere High-Definition Digital Video Recorder",
        "Apple® - MacBook® Pro / Intel® Core™ i7 Processor / 13.3\" Display / 4GB Memory / 500GB Hard Drive",
        "Optoma - Pico Pocket DLP Projector",
        "Dynex™ - 3' 3.5mm Stereo Audio Cable",
        "Sony - Blu-ray Remote for PlayStation 3",
        "Western Digital - WD TV Live Plus HD Media Player",
        "Kaspersky Anti-Virus (1-Year Subscription) - Windows",
        "NETGEAR - Wireless-N Router",
        "Beats By Dr. Dre - Monster Studio High-Definition Red Sox Over-the-Ear Headphones - Blue",
        "HP - Photosmart e-All-in-One Wireless Printer",
        "Beats By Dr. Dre - Beats Studio Over-the-Ear Headphones - Black",
        "Beats By Dr. Dre - Beats Studio Over-the-Ear Headphones - White"
       ],
       "description": "Item",
       "index": 0,
       "layout": "IPY_MODEL_e932b368f67b43918e0bed1c3b0c23f1",
       "style": "IPY_MODEL_d0c89039cba147019a09988e1b283ddc"
      }
     },
     "48ca84f62db34517b3f05eb479ec888c": {
      "model_module": "@jupyter-widgets/controls",
      "model_module_version": "1.4.0",
      "model_name": "DropdownModel",
      "state": {
       "_options_labels": [
        "Apple® - MacBook® Pro / Intel® Core™ i5 Processor / 13.3\" Display / 4GB Memory / 320GB Hard Drive",
        "Apple® - iPod touch® 8GB* MP3 Player (4th Generation - Latest Model) - Black",
        "Beats By Dr. Dre - Beats Tour Earbud Headphones - Black",
        "Beats By Dr. Dre - Beats Solo HD Over-the-Ear Headphones - Black",
        "Apple® - iPod touch® 32GB* MP3 Player (4th Generation - Latest Model) - Black",
        "Rocketfish™ - 90W AC Power Adapter for Most Laptop PCs - Black",
        "Western Digital - Scorpio Blue 500GB Internal Serial ATA Hard Drive for Laptops",
        "Motorola - SURFboard Cable Modem",
        "TiVo® - Premiere High-Definition Digital Video Recorder",
        "Apple® - MacBook® Pro / Intel® Core™ i7 Processor / 13.3\" Display / 4GB Memory / 500GB Hard Drive",
        "Optoma - Pico Pocket DLP Projector",
        "Dynex™ - 3' 3.5mm Stereo Audio Cable",
        "Sony - Blu-ray Remote for PlayStation 3",
        "Western Digital - WD TV Live Plus HD Media Player",
        "Kaspersky Anti-Virus (1-Year Subscription) - Windows",
        "NETGEAR - Wireless-N Router",
        "Beats By Dr. Dre - Monster Studio High-Definition Red Sox Over-the-Ear Headphones - Blue",
        "HP - Photosmart e-All-in-One Wireless Printer",
        "Beats By Dr. Dre - Beats Studio Over-the-Ear Headphones - Black",
        "Beats By Dr. Dre - Beats Studio Over-the-Ear Headphones - White"
       ],
       "description": "Item",
       "index": 0,
       "layout": "IPY_MODEL_baa2cf3f8da744d4bd7f9ca2ba478a30",
       "style": "IPY_MODEL_abb3b98cf23a464e8f38449f1928f4f0"
      }
     },
     "4a007a7225134dfabff5a40b3c53b134": {
      "model_module": "@jupyter-widgets/base",
      "model_module_version": "1.1.0",
      "model_name": "LayoutModel",
      "state": {}
     },
     "4b6bb5777d7343dab54d6e2fcf7060c4": {
      "model_module": "@jupyter-widgets/controls",
      "model_module_version": "1.4.0",
      "model_name": "DescriptionStyleModel",
      "state": {
       "description_width": ""
      }
     },
     "4ca313b883354c29801d9b453a605bc2": {
      "model_module": "@jupyter-widgets/base",
      "model_module_version": "1.1.0",
      "model_name": "LayoutModel",
      "state": {}
     },
     "4ca5562fddc743518ad55529f78098fe": {
      "model_module": "@jupyter-widgets/controls",
      "model_module_version": "1.4.0",
      "model_name": "DescriptionStyleModel",
      "state": {
       "description_width": ""
      }
     },
     "4cde0e0cf1c2417bb6fc471e928b535a": {
      "model_module": "@jupyter-widgets/controls",
      "model_module_version": "1.4.0",
      "model_name": "DropdownModel",
      "state": {
       "_options_labels": [
        "1",
        "5",
        "10",
        "20",
        "30",
        "50"
       ],
       "description": "R_item",
       "index": 0,
       "layout": "IPY_MODEL_0c7672382be148338ca3f28edf909445",
       "style": "IPY_MODEL_0aa43acf9b38402889945c1f7b421dc0"
      }
     },
     "4d2936cec6654329a9ae21f89a897971": {
      "model_module": "@jupyter-widgets/base",
      "model_module_version": "1.1.0",
      "model_name": "LayoutModel",
      "state": {}
     },
     "4d4bc148bd124d6297ffda2bfcbcf851": {
      "model_module": "@jupyter-widgets/base",
      "model_module_version": "1.1.0",
      "model_name": "LayoutModel",
      "state": {}
     },
     "4d8a9d1df38d43ef849cef546a5622e9": {
      "model_module": "@jupyter-widgets/base",
      "model_module_version": "1.1.0",
      "model_name": "LayoutModel",
      "state": {}
     },
     "4d9158322180461eaad294bcc673a5a9": {
      "model_module": "@jupyter-widgets/output",
      "model_module_version": "1.0.0",
      "model_name": "OutputModel",
      "state": {
       "layout": "IPY_MODEL_069654ff0a354a17a40aeb53194aca5e",
       "outputs": [
        {
         "name": "stdout",
         "output_type": "stream",
         "text": "Recommended list of items: \n\n                                                                                                                name  \\\n0  Apple® - MacBook® Air / Intel® Core™2 Duo Processor / 13.3\" Display / 2GB Memory / 128GB Solid State Drive          \n2  Apple® - MacBook® Pro / Intel® Core™ i5 Processor / 13.3\" Display / 4GB Memory / 320GB Hard Drive                   \n4  Apple® - MacBook® Pro / Intel® Core™ i7 Processor / 13.3\" Display / 4GB Memory / 500GB Hard Drive                   \n6  Apple® - MacBook® Air / Intel® Core™2 Duo Processor / 13.3\" Display / 2GB Memory / 128GB Flash Storage - Aluminum   \n8  Apple® - MacBook® Air / Intel® Core™2 Duo Processor / 13.3\" Display / 2GB Memory / 256GB Flash Storage - Aluminum   \n\n   Correlation  rating  num of ratings  \n0  0.016734    NaN     NaN              \n2  1.000000    NaN     NaN              \n4  0.072508    NaN     NaN              \n6  0.018093    NaN     NaN              \n8  0.021264    NaN     NaN              \n"
        }
       ]
      }
     },
     "4e0216edb0d443fc84dc65b1502481b6": {
      "model_module": "@jupyter-widgets/base",
      "model_module_version": "1.1.0",
      "model_name": "LayoutModel",
      "state": {}
     },
     "4e219b34b1234914af6dfb78cef9dd8f": {
      "model_module": "@jupyter-widgets/controls",
      "model_module_version": "1.4.0",
      "model_name": "DescriptionStyleModel",
      "state": {
       "description_width": ""
      }
     },
     "4e7b5b0edf5c4eb592506e48fba50b34": {
      "model_module": "@jupyter-widgets/controls",
      "model_module_version": "1.4.0",
      "model_name": "DescriptionStyleModel",
      "state": {
       "description_width": ""
      }
     },
     "4eca9f0534a44dfbbcbbf030ba019c6c": {
      "model_module": "@jupyter-widgets/base",
      "model_module_version": "1.1.0",
      "model_name": "LayoutModel",
      "state": {}
     },
     "514cbd85d88642b9acd7fdd87f8023dd": {
      "model_module": "@jupyter-widgets/output",
      "model_module_version": "1.0.0",
      "model_name": "OutputModel",
      "state": {
       "layout": "IPY_MODEL_bff0fd01b81d4afaa098cb4ea64b924c",
       "outputs": [
        {
         "name": "stdout",
         "output_type": "stream",
         "text": "Recommended list of items: \n                                                                                         name  \\\n0   Bose® - OE Audio Headphones - Silver/Black                                                  \n2   Sony - 900MHz Analog RF Wireless Headphones - Black                                         \n4   Sennheiser - Stereo Sound Headphones - Black                                                \n6   Skullcandy - Skullcrusher DJ Headphones - Black                                             \n8   Skullcandy - Hesh Stereo DJ Headphones 2011 Model - Black                                   \n10  Beats By Dr. Dre - Beats Studio Over-the-Ear Headphones - Black                             \n12  Sony - Sony Noise-Canceling Headphones                                                      \n14  Bose® - QuietComfort® 3 Acoustic Noise Cancelling® Headphones - Silver                      \n16  Sony - Extra Bass Over-the-Ear Headphones                                                   \n18  Sennheiser - Around-the-Ear Headphones - Black/Metallic Chrome                              \n20  Bose® - QuietComfort® 15 Acoustic Noise Cancelling®  Headphones                             \n22  Beats By Dr. Dre - Beats Solo Over-the-Ear Headphones - Black                               \n24  Beats By Dr. Dre - Beats Tour Earbud Headphones - Black                                     \n26  Skullcandy - Dwyane Wade Heat Hesh Stereo Headphones - White                                \n28  Skullcandy - Kobe Bryant Lakers Hesh Stereo Headphones - White                              \n30  Skullcandy - Derrick Rose Bulls Hesh Stereo Headphones - Red                                \n32  Beats By Dr. Dre - Beats Studio Over-the-Ear Headphones - White                             \n34  Sennheiser - RS 170 Wireless Over-the-Ear Headphones                                        \n36  Sennheiser - RS160 Wireless Over-the-Ear Headphones - Black                                 \n38  Sennheiser - RS 180 Wireless Over-the-Ear Headphones - Titanium                             \n40  Beats By Dr. Dre - Beats Pro Over-the-Ear Headphones - Black                                \n42  Sennheiser - Noise-Isolating Over-the-Ear Headphones                                        \n44  Beats By Dr. Dre - Diddybeats Monster Earbud Headphones - Black                             \n46  Beats By Dr. Dre - Monster Diddybeats Earbud Headphones - White                             \n48  Beats By Dr. Dre - Diddybeats Earbud Headphones - Pink                                      \n50  Beats By Dr. Dre - Beats Pro Over-the-Ear Headphones - White                                \n52  Beats By Dr. Dre - Beats (Solo HD) RED Edition Over-the-Ear Headphones - Red                \n54  Beats By Dr. Dre - Beatbox Portable Speaker System with Apple® iPod®/iPhone® Dock - Black   \n56  Beats By Dr. Dre - Beats Solo HD Over-the-Ear Headphones - Black                            \n58  Beats By Dr. Dre - Monster Studio High-Definition Red Sox Over-the-Ear Headphones - Blue    \n\n    Correlation    rating  num of ratings  \n0   0.006420     4.452632  95.0            \n2   0.002696     3.319149  188.0           \n4   0.000980     3.816327  49.0            \n6   0.001457     4.031915  94.0            \n8   0.010302    NaN       NaN              \n10  0.061460     4.258427  267.0           \n12  0.000735     3.225000  240.0           \n14  0.001574     4.333333  24.0            \n16  0.009722    NaN       NaN              \n18  0.001992     4.119403  67.0            \n20  0.004879     4.729167  336.0           \n22  0.154526    NaN       NaN              \n24  0.041303     3.196429  112.0           \n26  0.000591     4.600000  5.0             \n28  0.001457     3.500000  4.0             \n30  0.010063     3.750000  8.0             \n32  0.044574     4.300000  80.0            \n34  0.000575     4.700000  10.0            \n36  0.002588     4.727273  11.0            \n38  0.006778    NaN       NaN              \n40  0.036350     4.253165  79.0            \n42  0.000521     4.294118  51.0            \n44  0.005943    NaN       NaN              \n46  0.012474     2.000000  5.0             \n48  0.007881    NaN       NaN              \n50  0.011459     4.538462  26.0            \n52  0.066016     4.402174  92.0            \n54  0.009907     4.701493  67.0            \n56  1.000000     3.887574  169.0           \n58  0.088080    NaN       NaN              \n"
        }
       ]
      }
     },
     "516d3a1355b446198e43020812b9f8b0": {
      "model_module": "@jupyter-widgets/controls",
      "model_module_version": "1.4.0",
      "model_name": "DropdownModel",
      "state": {
       "_options_labels": [
        "1",
        "5",
        "10",
        "20",
        "30",
        "50"
       ],
       "index": 0,
       "layout": "IPY_MODEL_51bee198a12d4fca85b63340a652adfa",
       "style": "IPY_MODEL_b7168c359c414a2a8524ed1d56a8d02b"
      }
     },
     "519fcf6029354485b7049496717d1cf3": {
      "model_module": "@jupyter-widgets/controls",
      "model_module_version": "1.4.0",
      "model_name": "DropdownModel",
      "state": {
       "_options_labels": [
        "Apple® - MacBook® Pro / Intel® Core™ i5 Processor / 13.3\" Display / 4GB Memory / 320GB Hard Drive",
        "Apple® - iPod touch® 8GB* MP3 Player (4th Generation - Latest Model) - Black",
        "Beats By Dr. Dre - Beats Tour Earbud Headphones - Black",
        "Beats By Dr. Dre - Beats Solo HD Over-the-Ear Headphones - Black",
        "Apple® - iPod touch® 32GB* MP3 Player (4th Generation - Latest Model) - Black",
        "Rocketfish™ - 90W AC Power Adapter for Most Laptop PCs - Black",
        "Western Digital - Scorpio Blue 500GB Internal Serial ATA Hard Drive for Laptops",
        "Motorola - SURFboard Cable Modem",
        "TiVo® - Premiere High-Definition Digital Video Recorder",
        "Apple® - MacBook® Pro / Intel® Core™ i7 Processor / 13.3\" Display / 4GB Memory / 500GB Hard Drive",
        "Optoma - Pico Pocket DLP Projector",
        "Dynex™ - 3' 3.5mm Stereo Audio Cable",
        "Sony - Blu-ray Remote for PlayStation 3",
        "Western Digital - WD TV Live Plus HD Media Player",
        "Kaspersky Anti-Virus (1-Year Subscription) - Windows",
        "NETGEAR - Wireless-N Router",
        "Beats By Dr. Dre - Monster Studio High-Definition Red Sox Over-the-Ear Headphones - Blue",
        "HP - Photosmart e-All-in-One Wireless Printer",
        "Beats By Dr. Dre - Beats Studio Over-the-Ear Headphones - Black",
        "Beats By Dr. Dre - Beats Studio Over-the-Ear Headphones - White"
       ],
       "description": "Item",
       "index": 0,
       "layout": "IPY_MODEL_c5d943b91fc045a0a61cff509f2b3026",
       "style": "IPY_MODEL_4490bb62ca674b49b3e118b34b940f55"
      }
     },
     "51bee198a12d4fca85b63340a652adfa": {
      "model_module": "@jupyter-widgets/base",
      "model_module_version": "1.1.0",
      "model_name": "LayoutModel",
      "state": {}
     },
     "5224351959204e43b7916c6ba1d48ab0": {
      "model_module": "@jupyter-widgets/base",
      "model_module_version": "1.1.0",
      "model_name": "LayoutModel",
      "state": {}
     },
     "5310d2f043ac4a69a58d4305f6ceb8f6": {
      "model_module": "@jupyter-widgets/controls",
      "model_module_version": "1.4.0",
      "model_name": "RadioButtonsModel",
      "state": {
       "_options_labels": [
        "Cosine Similarity",
        "pearson correlation",
        "SVDPP Matrix Factorization"
       ],
       "description": "Relation_Type",
       "index": 1,
       "layout": "IPY_MODEL_44db822376504e5ebc3d65bc461a2c28",
       "style": "IPY_MODEL_5b6651d9928c4cbb85f6b337a4bcc69c"
      }
     },
     "534012aacc914c308e4c638daa77ad72": {
      "model_module": "@jupyter-widgets/base",
      "model_module_version": "1.1.0",
      "model_name": "LayoutModel",
      "state": {}
     },
     "5475b81281be44df89037c1f2b2610f0": {
      "model_module": "@jupyter-widgets/output",
      "model_module_version": "1.0.0",
      "model_name": "OutputModel",
      "state": {
       "layout": "IPY_MODEL_bfdd3a1e158b43b1ad7260841c042af5"
      }
     },
     "54d81aa063624f1c80b890ffed3a3dd5": {
      "model_module": "@jupyter-widgets/base",
      "model_module_version": "1.1.0",
      "model_name": "LayoutModel",
      "state": {}
     },
     "557a59c6b8b045208182a2a7931de818": {
      "model_module": "@jupyter-widgets/controls",
      "model_module_version": "1.4.0",
      "model_name": "DropdownModel",
      "state": {
       "_options_labels": [
        "1",
        "5",
        "10",
        "20",
        "30",
        "50"
       ],
       "description": "R_items",
       "index": 2,
       "layout": "IPY_MODEL_d5c163033b2647daa5b3418a9138c6c5",
       "style": "IPY_MODEL_7c6cecd37b834d0aab254e6c8abe8f70"
      }
     },
     "55b5315db8e34f1daf041ebb6117d1fc": {
      "model_module": "@jupyter-widgets/controls",
      "model_module_version": "1.4.0",
      "model_name": "DescriptionStyleModel",
      "state": {
       "description_width": ""
      }
     },
     "55fdef3131a040ada3c0dcf83ae67b20": {
      "model_module": "@jupyter-widgets/base",
      "model_module_version": "1.1.0",
      "model_name": "LayoutModel",
      "state": {}
     },
     "56e423926d604890b1226610d765ee46": {
      "model_module": "@jupyter-widgets/controls",
      "model_module_version": "1.4.0",
      "model_name": "DescriptionStyleModel",
      "state": {
       "description_width": ""
      }
     },
     "571d75b4ca9d4f7e9ae0fd9af81ba692": {
      "model_module": "@jupyter-widgets/controls",
      "model_module_version": "1.4.0",
      "model_name": "RadioButtonsModel",
      "state": {
       "_options_labels": [
        "Cosine Similarity",
        "pearson correlation"
       ],
       "description": "Relation",
       "index": 1,
       "layout": "IPY_MODEL_dff69953b55e477eb76104bb3b03a7fe",
       "style": "IPY_MODEL_fbded97bc57245389752c084d7bebbd9"
      }
     },
     "57d0ec8383b54e79b37b82f51f7e6fc4": {
      "model_module": "@jupyter-widgets/controls",
      "model_module_version": "1.4.0",
      "model_name": "RadioButtonsModel",
      "state": {
       "_options_labels": [
        "Cosine Similarity",
        "pearson correlation"
       ],
       "description": "Relation",
       "index": 0,
       "layout": "IPY_MODEL_0a601c8642114c52bd2603b6ff9b50df",
       "style": "IPY_MODEL_c8f029955d4f449e9bbacef18bcbe725"
      }
     },
     "58aa706b382042aa8c16de463cedf734": {
      "model_module": "@jupyter-widgets/controls",
      "model_module_version": "1.4.0",
      "model_name": "DescriptionStyleModel",
      "state": {
       "description_width": ""
      }
     },
     "59c2cdc8e8ce45b5a238f727891353f6": {
      "model_module": "@jupyter-widgets/controls",
      "model_module_version": "1.4.0",
      "model_name": "RadioButtonsModel",
      "state": {
       "_options_labels": [
        "Cosine Similarity",
        "pearson correlation"
       ],
       "description": "Relation",
       "index": 1,
       "layout": "IPY_MODEL_3a957c9f80824ce4b8a8cb252c591d88",
       "style": "IPY_MODEL_611ccbc815ff470ea3f4da120eecdbe7"
      }
     },
     "59d143a284f942659303918eeb1b0fcf": {
      "model_module": "@jupyter-widgets/controls",
      "model_module_version": "1.4.0",
      "model_name": "VBoxModel",
      "state": {
       "_dom_classes": [
        "widget-interact"
       ],
       "children": [
        "IPY_MODEL_a5d9e17bac4d496092a839d10cdf21b2",
        "IPY_MODEL_30d3745d31e1481a947dca3e57c6b082",
        "IPY_MODEL_1da3795422d0401a9d79b2722bf3caa9",
        "IPY_MODEL_5475b81281be44df89037c1f2b2610f0"
       ],
       "layout": "IPY_MODEL_68d0500a90c34a9b99e6b021d8f8b179"
      }
     },
     "59d23cecfe5a4237a7cf8d7121ac8e09": {
      "model_module": "@jupyter-widgets/base",
      "model_module_version": "1.1.0",
      "model_name": "LayoutModel",
      "state": {}
     },
     "5a9199cbe74c466283826c548f606fb2": {
      "model_module": "@jupyter-widgets/base",
      "model_module_version": "1.1.0",
      "model_name": "LayoutModel",
      "state": {}
     },
     "5ae8ba554dd74d09966e45288ddfbb06": {
      "model_module": "@jupyter-widgets/base",
      "model_module_version": "1.1.0",
      "model_name": "LayoutModel",
      "state": {}
     },
     "5b6651d9928c4cbb85f6b337a4bcc69c": {
      "model_module": "@jupyter-widgets/controls",
      "model_module_version": "1.4.0",
      "model_name": "DescriptionStyleModel",
      "state": {
       "description_width": ""
      }
     },
     "5b6f540feb584dca9ae7a48be14924b3": {
      "model_module": "@jupyter-widgets/controls",
      "model_module_version": "1.4.0",
      "model_name": "DescriptionStyleModel",
      "state": {
       "description_width": ""
      }
     },
     "5b8feb922b3e41979cd9dd7ec54e20b2": {
      "model_module": "@jupyter-widgets/controls",
      "model_module_version": "1.4.0",
      "model_name": "DescriptionStyleModel",
      "state": {
       "description_width": ""
      }
     },
     "5bdfc0203bc14dd9ab36bc7ab6b4c411": {
      "model_module": "@jupyter-widgets/base",
      "model_module_version": "1.1.0",
      "model_name": "LayoutModel",
      "state": {}
     },
     "5c2bb38d186e43b5a25816405ce7c9b9": {
      "model_module": "@jupyter-widgets/controls",
      "model_module_version": "1.4.0",
      "model_name": "RadioButtonsModel",
      "state": {
       "_options_labels": [
        "Cosine Similarity",
        "pearson correlation"
       ],
       "index": 0,
       "layout": "IPY_MODEL_bd81d9bb3194438a82309e1609ca7bb4",
       "style": "IPY_MODEL_439bbb027b604ce2ae77a66e3f3c5e9e"
      }
     },
     "5c9dd1b724be49e5849396fadde9b779": {
      "model_module": "@jupyter-widgets/controls",
      "model_module_version": "1.4.0",
      "model_name": "VBoxModel",
      "state": {
       "_dom_classes": [
        "widget-interact"
       ],
       "children": [
        "IPY_MODEL_12f70bc4b0f543079a21a57e0f5f1b3b",
        "IPY_MODEL_13f99f53c2cf4155ad85b8c105f07613",
        "IPY_MODEL_59c2cdc8e8ce45b5a238f727891353f6",
        "IPY_MODEL_2d2c1619d1124f79b269cf71e8278841"
       ],
       "layout": "IPY_MODEL_978e045aaa64419fb824724ac72bb55c"
      }
     },
     "5cc3e880588643a1b6d43154d6c76236": {
      "model_module": "@jupyter-widgets/base",
      "model_module_version": "1.1.0",
      "model_name": "LayoutModel",
      "state": {}
     },
     "5e3bde998b6940fea57c12b69c682bd0": {
      "model_module": "@jupyter-widgets/controls",
      "model_module_version": "1.4.0",
      "model_name": "DropdownModel",
      "state": {
       "_options_labels": [
        "Apple® - MacBook® Pro / Intel® Core™ i5 Processor / 13.3\" Display / 4GB Memory / 320GB Hard Drive",
        "Apple® - iPod touch® 8GB* MP3 Player (4th Generation - Latest Model) - Black",
        "Beats By Dr. Dre - Beats Tour Earbud Headphones - Black",
        "Beats By Dr. Dre - Beats Solo HD Over-the-Ear Headphones - Black",
        "Apple® - iPod touch® 32GB* MP3 Player (4th Generation - Latest Model) - Black",
        "Rocketfish™ - 90W AC Power Adapter for Most Laptop PCs - Black",
        "Western Digital - Scorpio Blue 500GB Internal Serial ATA Hard Drive for Laptops",
        "Motorola - SURFboard Cable Modem",
        "TiVo® - Premiere High-Definition Digital Video Recorder",
        "Apple® - MacBook® Pro / Intel® Core™ i7 Processor / 13.3\" Display / 4GB Memory / 500GB Hard Drive",
        "Optoma - Pico Pocket DLP Projector",
        "Dynex™ - 3' 3.5mm Stereo Audio Cable",
        "Sony - Blu-ray Remote for PlayStation 3",
        "Western Digital - WD TV Live Plus HD Media Player",
        "Kaspersky Anti-Virus (1-Year Subscription) - Windows",
        "NETGEAR - Wireless-N Router",
        "Beats By Dr. Dre - Monster Studio High-Definition Red Sox Over-the-Ear Headphones - Blue",
        "HP - Photosmart e-All-in-One Wireless Printer",
        "Beats By Dr. Dre - Beats Studio Over-the-Ear Headphones - Black",
        "Beats By Dr. Dre - Beats Studio Over-the-Ear Headphones - White"
       ],
       "description": "Item",
       "index": 0,
       "layout": "IPY_MODEL_42e70174a3924133b621fac3f0687603",
       "style": "IPY_MODEL_73e4291d22a14e76ba43c1688688b276"
      }
     },
     "5f4aa00dd76a4543a88fba913f35f08a": {
      "model_module": "@jupyter-widgets/base",
      "model_module_version": "1.1.0",
      "model_name": "LayoutModel",
      "state": {}
     },
     "60b6007d5cd64741b39915ae37ada0f7": {
      "model_module": "@jupyter-widgets/base",
      "model_module_version": "1.1.0",
      "model_name": "LayoutModel",
      "state": {}
     },
     "60ce6934175c4fa9b651aae3c97e6590": {
      "model_module": "@jupyter-widgets/base",
      "model_module_version": "1.1.0",
      "model_name": "LayoutModel",
      "state": {}
     },
     "611ccbc815ff470ea3f4da120eecdbe7": {
      "model_module": "@jupyter-widgets/controls",
      "model_module_version": "1.4.0",
      "model_name": "DescriptionStyleModel",
      "state": {
       "description_width": ""
      }
     },
     "61554ae8bdca4830b267cee91ccb1f57": {
      "model_module": "@jupyter-widgets/controls",
      "model_module_version": "1.4.0",
      "model_name": "DescriptionStyleModel",
      "state": {
       "description_width": ""
      }
     },
     "621bd8b52a5f417297bd0effe8f450f4": {
      "model_module": "@jupyter-widgets/base",
      "model_module_version": "1.1.0",
      "model_name": "LayoutModel",
      "state": {}
     },
     "625f1f2a5d6c4434b643f1e01d28258e": {
      "model_module": "@jupyter-widgets/base",
      "model_module_version": "1.1.0",
      "model_name": "LayoutModel",
      "state": {}
     },
     "6281322d3fb84dcf8c13433729465525": {
      "model_module": "@jupyter-widgets/controls",
      "model_module_version": "1.4.0",
      "model_name": "DescriptionStyleModel",
      "state": {
       "description_width": ""
      }
     },
     "628b492ede0d4b289cc49bbed7a47162": {
      "model_module": "@jupyter-widgets/base",
      "model_module_version": "1.1.0",
      "model_name": "LayoutModel",
      "state": {}
     },
     "639b9823c20d4d38b433bd7138668d05": {
      "model_module": "@jupyter-widgets/controls",
      "model_module_version": "1.4.0",
      "model_name": "VBoxModel",
      "state": {
       "_dom_classes": [
        "widget-interact"
       ],
       "children": [
        "IPY_MODEL_0bca8d441fbd429c9a221fc37a9a0c16",
        "IPY_MODEL_aadc512ff74f43b89b7ec4976b58163b",
        "IPY_MODEL_2959c318c8dd41b7b5c71fd7b4156e50",
        "IPY_MODEL_d914527147e54f9da0728ac70e4307f2"
       ],
       "layout": "IPY_MODEL_b430bc60429c4f43919760848f480486"
      }
     },
     "63be1fda3e424f09bd3c74acf71b4ed6": {
      "model_module": "@jupyter-widgets/base",
      "model_module_version": "1.1.0",
      "model_name": "LayoutModel",
      "state": {}
     },
     "63ec2a26775642bea07f6a8a4b564a3c": {
      "model_module": "@jupyter-widgets/controls",
      "model_module_version": "1.4.0",
      "model_name": "DropdownModel",
      "state": {
       "_options_labels": [
        "1",
        "5",
        "10",
        "50",
        "100",
        "150",
        "250",
        "500"
       ],
       "description": "no_of_closed_users",
       "index": 2,
       "layout": "IPY_MODEL_c598cc0617c74f8591c798448041d0b4",
       "style": "IPY_MODEL_73ebc5b2d5ac4db8b8a1984e1270f3fd"
      }
     },
     "64322b0946394341a7e38c492a5d3c01": {
      "model_module": "@jupyter-widgets/base",
      "model_module_version": "1.1.0",
      "model_name": "LayoutModel",
      "state": {}
     },
     "65c7644c542b43149cfd1d3baadce6b0": {
      "model_module": "@jupyter-widgets/base",
      "model_module_version": "1.1.0",
      "model_name": "LayoutModel",
      "state": {}
     },
     "6632823360e14624b5c78a5b7ad8113d": {
      "model_module": "@jupyter-widgets/output",
      "model_module_version": "1.0.0",
      "model_name": "OutputModel",
      "state": {
       "layout": "IPY_MODEL_bd5337ca5793470c869cdfd6ef6ad938"
      }
     },
     "670fbb6c295e4b4e9c055773c93e0d7e": {
      "model_module": "@jupyter-widgets/controls",
      "model_module_version": "1.4.0",
      "model_name": "SliderStyleModel",
      "state": {
       "description_width": ""
      }
     },
     "673362bacbbe48c79f495df3b1a3f118": {
      "model_module": "@jupyter-widgets/controls",
      "model_module_version": "1.4.0",
      "model_name": "DescriptionStyleModel",
      "state": {
       "description_width": ""
      }
     },
     "67a5fe35ff954ee88b45adc8068bb0dc": {
      "model_module": "@jupyter-widgets/controls",
      "model_module_version": "1.4.0",
      "model_name": "RadioButtonsModel",
      "state": {
       "_options_labels": [
        "Cosine Similarity",
        "pearson correlation"
       ],
       "description": "Relation",
       "index": 1,
       "layout": "IPY_MODEL_eed3d1b251d04d7bae4256168a954da2",
       "style": "IPY_MODEL_6281322d3fb84dcf8c13433729465525"
      }
     },
     "686d0d7c35b84157bd699ab62b2e3b9e": {
      "model_module": "@jupyter-widgets/base",
      "model_module_version": "1.1.0",
      "model_name": "LayoutModel",
      "state": {}
     },
     "68d0500a90c34a9b99e6b021d8f8b179": {
      "model_module": "@jupyter-widgets/base",
      "model_module_version": "1.1.0",
      "model_name": "LayoutModel",
      "state": {}
     },
     "68d4d4b855a74dcd8b402aa6a43e9a96": {
      "model_module": "@jupyter-widgets/controls",
      "model_module_version": "1.4.0",
      "model_name": "VBoxModel",
      "state": {
       "_dom_classes": [
        "widget-interact"
       ],
       "children": [
        "IPY_MODEL_a54b5a6dd9df4e3a9c1f2872be1c2edc",
        "IPY_MODEL_3fc4784dc0ec4854994334263486aa1c",
        "IPY_MODEL_b6cbcf57170841b685a7508fa7218048",
        "IPY_MODEL_1f48476adfe84856a0e3cbac48c9994a"
       ],
       "layout": "IPY_MODEL_8778e828ef4c49c3b0c43defae71d840"
      }
     },
     "68ed9fd0519f4a2ab88123559450fa95": {
      "model_module": "@jupyter-widgets/controls",
      "model_module_version": "1.4.0",
      "model_name": "VBoxModel",
      "state": {
       "_dom_classes": [
        "widget-interact"
       ],
       "children": [
        "IPY_MODEL_10dbe3e247ea4a75bdda01d28625c5db",
        "IPY_MODEL_baa3f7ae74d04a78b16c613af1691dbc",
        "IPY_MODEL_36f47608daf2486498903a847563a4e1",
        "IPY_MODEL_216d12480a5344b3809213657037495b"
       ],
       "layout": "IPY_MODEL_1cdee8f60ef24d10b136e94ba4391f1a"
      }
     },
     "694b140300d848849139940fa589d250": {
      "model_module": "@jupyter-widgets/base",
      "model_module_version": "1.1.0",
      "model_name": "LayoutModel",
      "state": {}
     },
     "6a78b6a5d9724b8381cd8fda190019c3": {
      "model_module": "@jupyter-widgets/controls",
      "model_module_version": "1.4.0",
      "model_name": "DropdownModel",
      "state": {
       "_options_labels": [
        "1",
        "5",
        "10",
        "20",
        "30",
        "50"
       ],
       "description": "R_item",
       "index": 2,
       "layout": "IPY_MODEL_4ca313b883354c29801d9b453a605bc2",
       "style": "IPY_MODEL_400f67a31fed4634ba6166881e6b1704"
      }
     },
     "6aab6c88271146b997d20ab9ee5ad317": {
      "model_module": "@jupyter-widgets/controls",
      "model_module_version": "1.4.0",
      "model_name": "DescriptionStyleModel",
      "state": {
       "description_width": ""
      }
     },
     "6acddae19908459aa6614dbc3406011a": {
      "model_module": "@jupyter-widgets/controls",
      "model_module_version": "1.4.0",
      "model_name": "DescriptionStyleModel",
      "state": {
       "description_width": ""
      }
     },
     "6b0834313d9f4fa392796c85bba25565": {
      "model_module": "@jupyter-widgets/output",
      "model_module_version": "1.0.0",
      "model_name": "OutputModel",
      "state": {
       "layout": "IPY_MODEL_943d14bfd9d14d5f966f93a1edb39c39"
      }
     },
     "6b499adec1484e0491202c9e66568567": {
      "model_module": "@jupyter-widgets/controls",
      "model_module_version": "1.4.0",
      "model_name": "DescriptionStyleModel",
      "state": {
       "description_width": ""
      }
     },
     "6b4a633121e24b90848cb0391d6ef434": {
      "model_module": "@jupyter-widgets/controls",
      "model_module_version": "1.4.0",
      "model_name": "DescriptionStyleModel",
      "state": {
       "description_width": ""
      }
     },
     "6b68cb0d2a4242b486789b1f623d0397": {
      "model_module": "@jupyter-widgets/base",
      "model_module_version": "1.1.0",
      "model_name": "LayoutModel",
      "state": {}
     },
     "6bac6e28015c45d4816f83caf0f73d96": {
      "model_module": "@jupyter-widgets/controls",
      "model_module_version": "1.4.0",
      "model_name": "DescriptionStyleModel",
      "state": {
       "description_width": ""
      }
     },
     "6bfe48c9c03a4b88b5f94e74d5b4f772": {
      "model_module": "@jupyter-widgets/controls",
      "model_module_version": "1.4.0",
      "model_name": "DescriptionStyleModel",
      "state": {
       "description_width": ""
      }
     },
     "6c3e7a23522e435f86af50f189685fdd": {
      "model_module": "@jupyter-widgets/controls",
      "model_module_version": "1.4.0",
      "model_name": "DescriptionStyleModel",
      "state": {
       "description_width": ""
      }
     },
     "6c7abdb181484c6f9c8b4dbc67bb83bd": {
      "model_module": "@jupyter-widgets/output",
      "model_module_version": "1.0.0",
      "model_name": "OutputModel",
      "state": {
       "layout": "IPY_MODEL_926bedd3398d408dba7e3c6bafd991e7",
       "outputs": [
        {
         "name": "stdout",
         "output_type": "stream",
         "text": "Recommended list of items: \n\n"
        }
       ]
      }
     },
     "6cfeaa0bb2964839aea8d8e1dfb6067d": {
      "model_module": "@jupyter-widgets/controls",
      "model_module_version": "1.4.0",
      "model_name": "DropdownModel",
      "state": {
       "_options_labels": [
        "1",
        "5",
        "10",
        "20",
        "30",
        "50"
       ],
       "description": "R_items",
       "index": 2,
       "layout": "IPY_MODEL_1f319f4f627846698a492c15acfa7dd0",
       "style": "IPY_MODEL_d2969661d7b84f9a881cda9791809b2a"
      }
     },
     "6d4bbc45f0d647879df3427a1906ff7d": {
      "model_module": "@jupyter-widgets/controls",
      "model_module_version": "1.4.0",
      "model_name": "DropdownModel",
      "state": {
       "_options_labels": [
        "Apple® - MacBook® Pro / Intel® Core™ i5 Processor / 13.3\" Display / 4GB Memory / 320GB Hard Drive",
        "Apple® - iPod touch® 8GB* MP3 Player (4th Generation - Latest Model) - Black",
        "Beats By Dr. Dre - Beats Tour Earbud Headphones - Black",
        "Beats By Dr. Dre - Beats Solo HD Over-the-Ear Headphones - Black",
        "Apple® - iPod touch® 32GB* MP3 Player (4th Generation - Latest Model) - Black",
        "Rocketfish™ - 90W AC Power Adapter for Most Laptop PCs - Black",
        "Western Digital - Scorpio Blue 500GB Internal Serial ATA Hard Drive for Laptops",
        "Motorola - SURFboard Cable Modem",
        "TiVo® - Premiere High-Definition Digital Video Recorder",
        "Apple® - MacBook® Pro / Intel® Core™ i7 Processor / 13.3\" Display / 4GB Memory / 500GB Hard Drive",
        "Optoma - Pico Pocket DLP Projector",
        "Dynex™ - 3' 3.5mm Stereo Audio Cable",
        "Sony - Blu-ray Remote for PlayStation 3",
        "Western Digital - WD TV Live Plus HD Media Player",
        "Kaspersky Anti-Virus (1-Year Subscription) - Windows",
        "NETGEAR - Wireless-N Router",
        "Beats By Dr. Dre - Monster Studio High-Definition Red Sox Over-the-Ear Headphones - Blue",
        "HP - Photosmart e-All-in-One Wireless Printer",
        "Beats By Dr. Dre - Beats Studio Over-the-Ear Headphones - Black",
        "Beats By Dr. Dre - Beats Studio Over-the-Ear Headphones - White"
       ],
       "index": 0,
       "layout": "IPY_MODEL_7bd1e451fce949c686ae66594176dfe2",
       "style": "IPY_MODEL_f6c760e2d9534676be65d3d3bfe1487b"
      }
     },
     "6ea5924a21664882927a8375a844ec70": {
      "model_module": "@jupyter-widgets/controls",
      "model_module_version": "1.4.0",
      "model_name": "DropdownModel",
      "state": {
       "_options_labels": [
        "1",
        "5",
        "10",
        "20",
        "30",
        "50"
       ],
       "description": "R_items",
       "index": 1,
       "layout": "IPY_MODEL_c094b947ec0445c79aa1fffb3b5cd646",
       "style": "IPY_MODEL_06fea61534304ef8ae778c66d3ee9a1e"
      }
     },
     "6ec2aedf042a4cb3acad8531894cb08c": {
      "model_module": "@jupyter-widgets/controls",
      "model_module_version": "1.4.0",
      "model_name": "DescriptionStyleModel",
      "state": {
       "description_width": ""
      }
     },
     "6f54b3e7d737490a9fcad8041d3c5051": {
      "model_module": "@jupyter-widgets/controls",
      "model_module_version": "1.4.0",
      "model_name": "DropdownModel",
      "state": {
       "_options_labels": [
        "1",
        "5",
        "10",
        "20",
        "30",
        "50"
       ],
       "description": "R_items",
       "index": 0,
       "layout": "IPY_MODEL_c1e25cf6a8214067bd44c98576ba36b3",
       "style": "IPY_MODEL_1010c9a75cb84c1b8a40071ea4fa1761"
      }
     },
     "6f6109c1149b4d94a77918756f7034bc": {
      "model_module": "@jupyter-widgets/controls",
      "model_module_version": "1.4.0",
      "model_name": "DescriptionStyleModel",
      "state": {
       "description_width": ""
      }
     },
     "6f916f84c74d430f80dd9b0241a4b7e6": {
      "model_module": "@jupyter-widgets/controls",
      "model_module_version": "1.4.0",
      "model_name": "DescriptionStyleModel",
      "state": {
       "description_width": ""
      }
     },
     "6f9b7409331e4571bbb822fd15ecc376": {
      "model_module": "@jupyter-widgets/controls",
      "model_module_version": "1.4.0",
      "model_name": "DescriptionStyleModel",
      "state": {
       "description_width": ""
      }
     },
     "6ff707f1e73a4631b6dec117836c6e01": {
      "model_module": "@jupyter-widgets/base",
      "model_module_version": "1.1.0",
      "model_name": "LayoutModel",
      "state": {}
     },
     "707272b4782b4675ad177a4648392867": {
      "model_module": "@jupyter-widgets/controls",
      "model_module_version": "1.4.0",
      "model_name": "DropdownModel",
      "state": {
       "_options_labels": [
        "Apple® - MacBook® Pro / Intel® Core™ i5 Processor / 13.3\" Display / 4GB Memory / 320GB Hard Drive",
        "Apple® - iPod touch® 8GB* MP3 Player (4th Generation - Latest Model) - Black",
        "Beats By Dr. Dre - Beats Tour Earbud Headphones - Black",
        "Beats By Dr. Dre - Beats Solo HD Over-the-Ear Headphones - Black",
        "Apple® - iPod touch® 32GB* MP3 Player (4th Generation - Latest Model) - Black",
        "Rocketfish™ - 90W AC Power Adapter for Most Laptop PCs - Black",
        "Western Digital - Scorpio Blue 500GB Internal Serial ATA Hard Drive for Laptops",
        "Motorola - SURFboard Cable Modem",
        "TiVo® - Premiere High-Definition Digital Video Recorder",
        "Apple® - MacBook® Pro / Intel® Core™ i7 Processor / 13.3\" Display / 4GB Memory / 500GB Hard Drive",
        "Optoma - Pico Pocket DLP Projector",
        "Dynex™ - 3' 3.5mm Stereo Audio Cable",
        "Sony - Blu-ray Remote for PlayStation 3",
        "Western Digital - WD TV Live Plus HD Media Player",
        "Kaspersky Anti-Virus (1-Year Subscription) - Windows",
        "NETGEAR - Wireless-N Router",
        "Beats By Dr. Dre - Monster Studio High-Definition Red Sox Over-the-Ear Headphones - Blue",
        "HP - Photosmart e-All-in-One Wireless Printer",
        "Beats By Dr. Dre - Beats Studio Over-the-Ear Headphones - Black",
        "Beats By Dr. Dre - Beats Studio Over-the-Ear Headphones - White"
       ],
       "description": "Item",
       "index": 0,
       "layout": "IPY_MODEL_ee7ee1ab21f447a4b790f76bfbdeeb66",
       "style": "IPY_MODEL_c960c94046eb41d1a40d84f78bd9d89b"
      }
     },
     "7073eafc5cb14758a461b6a9e13f0452": {
      "model_module": "@jupyter-widgets/controls",
      "model_module_version": "1.4.0",
      "model_name": "DescriptionStyleModel",
      "state": {
       "description_width": ""
      }
     },
     "70d86eebd69e4dee8a057671ada73924": {
      "model_module": "@jupyter-widgets/base",
      "model_module_version": "1.1.0",
      "model_name": "LayoutModel",
      "state": {}
     },
     "717223b124bc43cab06a9870d59aabc9": {
      "model_module": "@jupyter-widgets/output",
      "model_module_version": "1.0.0",
      "model_name": "OutputModel",
      "state": {
       "layout": "IPY_MODEL_3b3338f2a117456dba7c438024232b75",
       "outputs": [
        {
         "name": "stdout",
         "output_type": "stream",
         "text": "Already viewed items: \n                                                                                                   0\n0  SanDisk - 4GB Secure Digital High Capacity (SDHC) Class 4 Memory Card                            \n1  Best Buy GC - $25 Gift Card                                                                      \n2  Best Buy GC - $250 Gift Card                                                                     \n3  Sony - USB Stereo Turntable                                                                      \n4  DigiPower - NKL12 Rechargeable Lithium-Ion Battery for Select Nikon CoolPix Digital Cameras      \n5  Memorex - Portable CD/CD-R/RW Boombox with AM/FM Radio - Black                                   \n6  Apple® - MacBook® Pro / Intel® Core™ i5 Processor / 13.3\" Display / 4GB Memory / 320GB Hard Drive\n7  Optoma - Pico Pocket DLP Projector                                                               \n8  SanDisk - Xbox 360 8GB USB Flash Drive                                                           \n9  SanDisk - Xbox 360 16GB USB Flash Drive                                                          \n\n\nViewed by other users - unique items: \n                                                                                                    0\n0   Best Buy GC - $250 Gift Card                                                                     \n1   DigiPower - NKL12 Rechargeable Lithium-Ion Battery for Select Nikon CoolPix Digital Cameras      \n2   SanDisk - Xbox 360 8GB USB Flash Drive                                                           \n3   SanDisk - 4GB Secure Digital High Capacity (SDHC) Class 4 Memory Card                            \n4   Optoma - Pico Pocket DLP Projector                                                               \n5   Best Buy GC - $25 Gift Card                                                                      \n6   Kaspersky Anti-Virus (1-Year Subscription) - Windows                                             \n7   Best Buy GC - $100 Thank-You Gift Card                                                           \n8   Memorex - Portable CD/CD-R/RW Boombox with AM/FM Radio - Black                                   \n9   SanDisk - Xbox 360 16GB USB Flash Drive                                                          \n10  Apple® - MacBook® Pro / Intel® Core™ i5 Processor / 13.3\" Display / 4GB Memory / 320GB Hard Drive\n\n\nRecommended list of items: \n                                                      0\n0  Kaspersky Anti-Virus (1-Year Subscription) - Windows\n1  Best Buy GC - $100 Thank-You Gift Card              \n\n\n"
        }
       ]
      }
     },
     "71cc36283f404835800976f37ca9d70f": {
      "model_module": "@jupyter-widgets/controls",
      "model_module_version": "1.4.0",
      "model_name": "DropdownModel",
      "state": {
       "_options_labels": [
        "Apple® - MacBook® Pro / Intel® Core™ i5 Processor / 13.3\" Display / 4GB Memory / 320GB Hard Drive",
        "Apple® - iPod touch® 8GB* MP3 Player (4th Generation - Latest Model) - Black",
        "Beats By Dr. Dre - Beats Tour Earbud Headphones - Black",
        "Beats By Dr. Dre - Beats Solo HD Over-the-Ear Headphones - Black",
        "Apple® - iPod touch® 32GB* MP3 Player (4th Generation - Latest Model) - Black",
        "Rocketfish™ - 90W AC Power Adapter for Most Laptop PCs - Black",
        "Western Digital - Scorpio Blue 500GB Internal Serial ATA Hard Drive for Laptops",
        "Motorola - SURFboard Cable Modem",
        "TiVo® - Premiere High-Definition Digital Video Recorder",
        "Apple® - MacBook® Pro / Intel® Core™ i7 Processor / 13.3\" Display / 4GB Memory / 500GB Hard Drive",
        "Optoma - Pico Pocket DLP Projector",
        "Dynex™ - 3' 3.5mm Stereo Audio Cable",
        "Sony - Blu-ray Remote for PlayStation 3",
        "Western Digital - WD TV Live Plus HD Media Player",
        "Kaspersky Anti-Virus (1-Year Subscription) - Windows",
        "NETGEAR - Wireless-N Router",
        "Beats By Dr. Dre - Monster Studio High-Definition Red Sox Over-the-Ear Headphones - Blue",
        "HP - Photosmart e-All-in-One Wireless Printer",
        "Beats By Dr. Dre - Beats Studio Over-the-Ear Headphones - Black",
        "Beats By Dr. Dre - Beats Studio Over-the-Ear Headphones - White"
       ],
       "description": "Item",
       "index": 6,
       "layout": "IPY_MODEL_a7ed3bf7760b4c8aae4712d4862ff6f5",
       "style": "IPY_MODEL_56e423926d604890b1226610d765ee46"
      }
     },
     "725b26f92b69445ea01ffd5035eca6d8": {
      "model_module": "@jupyter-widgets/controls",
      "model_module_version": "1.4.0",
      "model_name": "DescriptionStyleModel",
      "state": {
       "description_width": ""
      }
     },
     "72de442f03d74f32bb07de4313241cd0": {
      "model_module": "@jupyter-widgets/controls",
      "model_module_version": "1.4.0",
      "model_name": "VBoxModel",
      "state": {
       "_dom_classes": [
        "widget-interact"
       ],
       "children": [
        "IPY_MODEL_519fcf6029354485b7049496717d1cf3",
        "IPY_MODEL_75544174e8b849cfb202930a707d52c3",
        "IPY_MODEL_befde5274fd44982b186b12c5925ab26",
        "IPY_MODEL_4d9158322180461eaad294bcc673a5a9"
       ],
       "layout": "IPY_MODEL_43297a8a807640a7ba210396ba0a329a"
      }
     },
     "72f4bf5d9fab42f7a77951f5e39bb88b": {
      "model_module": "@jupyter-widgets/controls",
      "model_module_version": "1.4.0",
      "model_name": "SliderStyleModel",
      "state": {
       "description_width": ""
      }
     },
     "73240164e08d4b48addfbeeeaa6bfc82": {
      "model_module": "@jupyter-widgets/controls",
      "model_module_version": "1.4.0",
      "model_name": "RadioButtonsModel",
      "state": {
       "_options_labels": [
        "Cosine Similarity",
        "pearson correlation"
       ],
       "index": 0,
       "layout": "IPY_MODEL_e190bd9992c443bf9032896c664883e7",
       "style": "IPY_MODEL_be6697cc87ac42d3a07f78254d19ca06"
      }
     },
     "7325919db81f4edcbc0ee78688dca884": {
      "model_module": "@jupyter-widgets/controls",
      "model_module_version": "1.4.0",
      "model_name": "RadioButtonsModel",
      "state": {
       "_options_labels": [
        "Cosine Similarity",
        "pearson correlation"
       ],
       "description": "Relation",
       "index": 0,
       "layout": "IPY_MODEL_418dc788fd724b789bade20b93948c33",
       "style": "IPY_MODEL_8d373691695a4cc1b69464177a289063"
      }
     },
     "733b3ce13fc14ccfaa0dd6c0b866624d": {
      "model_module": "@jupyter-widgets/base",
      "model_module_version": "1.1.0",
      "model_name": "LayoutModel",
      "state": {}
     },
     "7390e1900cb9463bbdb4b7ac88b89df3": {
      "model_module": "@jupyter-widgets/base",
      "model_module_version": "1.1.0",
      "model_name": "LayoutModel",
      "state": {}
     },
     "73e4291d22a14e76ba43c1688688b276": {
      "model_module": "@jupyter-widgets/controls",
      "model_module_version": "1.4.0",
      "model_name": "DescriptionStyleModel",
      "state": {
       "description_width": ""
      }
     },
     "73ebc5b2d5ac4db8b8a1984e1270f3fd": {
      "model_module": "@jupyter-widgets/controls",
      "model_module_version": "1.4.0",
      "model_name": "DescriptionStyleModel",
      "state": {
       "description_width": ""
      }
     },
     "75544174e8b849cfb202930a707d52c3": {
      "model_module": "@jupyter-widgets/controls",
      "model_module_version": "1.4.0",
      "model_name": "DropdownModel",
      "state": {
       "_options_labels": [
        "1",
        "5",
        "10",
        "20",
        "30",
        "50"
       ],
       "description": "R_items",
       "index": 1,
       "layout": "IPY_MODEL_a602ddbaab9a4000bec1b936eafb1048",
       "style": "IPY_MODEL_3888d0e04a1a42a490bd12cb10fc7204"
      }
     },
     "755aa6432a014473bd43c40db4a51d6c": {
      "model_module": "@jupyter-widgets/controls",
      "model_module_version": "1.4.0",
      "model_name": "RadioButtonsModel",
      "state": {
       "_options_labels": [
        "Cosine Similarity",
        "pearson correlation"
       ],
       "description": "Relation",
       "index": 1,
       "layout": "IPY_MODEL_839691125f9b41c9a1dee347f59f41ab",
       "style": "IPY_MODEL_245137ea0ca94e2d900b8c2add13116c"
      }
     },
     "7609104cc3bd4c8f85dab408ebe246b1": {
      "model_module": "@jupyter-widgets/base",
      "model_module_version": "1.1.0",
      "model_name": "LayoutModel",
      "state": {}
     },
     "7617ee403fda48729e6c4816ed67ee07": {
      "model_module": "@jupyter-widgets/controls",
      "model_module_version": "1.4.0",
      "model_name": "RadioButtonsModel",
      "state": {
       "_options_labels": [
        "Cosine Similarity",
        "pearson correlation"
       ],
       "description": "Relation",
       "index": 1,
       "layout": "IPY_MODEL_15cbf20a98d24f36800b40ccf2fab869",
       "style": "IPY_MODEL_b49b6b51a2884696a7acb237298c3d47"
      }
     },
     "7741e754715441129497600daa9f2664": {
      "model_module": "@jupyter-widgets/output",
      "model_module_version": "1.0.0",
      "model_name": "OutputModel",
      "state": {
       "layout": "IPY_MODEL_5224351959204e43b7916c6ba1d48ab0",
       "outputs": [
        {
         "ename": "UnboundLocalError",
         "evalue": "local variable 'user_rat' referenced before assignment",
         "output_type": "error",
         "traceback": [
          "\u001b[0;31m---------------------------------------------------------------------------\u001b[0m",
          "\u001b[0;31mUnboundLocalError\u001b[0m                         Traceback (most recent call last)",
          "\u001b[0;32m/Library/Frameworks/Python.framework/Versions/3.7/lib/python3.7/site-packages/ipywidgets/widgets/interaction.py\u001b[0m in \u001b[0;36mupdate\u001b[0;34m(self, *args)\u001b[0m\n\u001b[1;32m    249\u001b[0m                     \u001b[0mvalue\u001b[0m \u001b[0;34m=\u001b[0m \u001b[0mwidget\u001b[0m\u001b[0;34m.\u001b[0m\u001b[0mget_interact_value\u001b[0m\u001b[0;34m(\u001b[0m\u001b[0;34m)\u001b[0m\u001b[0;34m\u001b[0m\u001b[0;34m\u001b[0m\u001b[0m\n\u001b[1;32m    250\u001b[0m                     \u001b[0mself\u001b[0m\u001b[0;34m.\u001b[0m\u001b[0mkwargs\u001b[0m\u001b[0;34m[\u001b[0m\u001b[0mwidget\u001b[0m\u001b[0;34m.\u001b[0m\u001b[0m_kwarg\u001b[0m\u001b[0;34m]\u001b[0m \u001b[0;34m=\u001b[0m \u001b[0mvalue\u001b[0m\u001b[0;34m\u001b[0m\u001b[0;34m\u001b[0m\u001b[0m\n\u001b[0;32m--> 251\u001b[0;31m                 \u001b[0mself\u001b[0m\u001b[0;34m.\u001b[0m\u001b[0mresult\u001b[0m \u001b[0;34m=\u001b[0m \u001b[0mself\u001b[0m\u001b[0;34m.\u001b[0m\u001b[0mf\u001b[0m\u001b[0;34m(\u001b[0m\u001b[0;34m**\u001b[0m\u001b[0mself\u001b[0m\u001b[0;34m.\u001b[0m\u001b[0mkwargs\u001b[0m\u001b[0;34m)\u001b[0m\u001b[0;34m\u001b[0m\u001b[0;34m\u001b[0m\u001b[0m\n\u001b[0m\u001b[1;32m    252\u001b[0m                 \u001b[0mshow_inline_matplotlib_plots\u001b[0m\u001b[0;34m(\u001b[0m\u001b[0;34m)\u001b[0m\u001b[0;34m\u001b[0m\u001b[0;34m\u001b[0m\u001b[0m\n\u001b[1;32m    253\u001b[0m                 \u001b[0;32mif\u001b[0m \u001b[0mself\u001b[0m\u001b[0;34m.\u001b[0m\u001b[0mauto_display\u001b[0m \u001b[0;32mand\u001b[0m \u001b[0mself\u001b[0m\u001b[0;34m.\u001b[0m\u001b[0mresult\u001b[0m \u001b[0;32mis\u001b[0m \u001b[0;32mnot\u001b[0m \u001b[0;32mNone\u001b[0m\u001b[0;34m:\u001b[0m\u001b[0;34m\u001b[0m\u001b[0;34m\u001b[0m\u001b[0m\n",
          "\u001b[0;32m<ipython-input-205-6a7aa602aeb3>\u001b[0m in \u001b[0;36mUserbasedRecommendation\u001b[0;34m(User, no_of_closed_users, Relation_Type)\u001b[0m\n\u001b[1;32m     26\u001b[0m     \u001b[0;32melif\u001b[0m \u001b[0mRelation_Type\u001b[0m \u001b[0;34m==\u001b[0m \u001b[0;34m'SVDPP Matrix Factorization'\u001b[0m\u001b[0;34m:\u001b[0m\u001b[0;34m\u001b[0m\u001b[0;34m\u001b[0m\u001b[0m\n\u001b[1;32m     27\u001b[0m         \u001b[0mtop_n\u001b[0m \u001b[0;34m=\u001b[0m \u001b[0mget_top_n\u001b[0m\u001b[0;34m(\u001b[0m\u001b[0mpredictions\u001b[0m\u001b[0;34m,\u001b[0m \u001b[0mn\u001b[0m\u001b[0;34m=\u001b[0m\u001b[0;36m10\u001b[0m\u001b[0;34m)\u001b[0m\u001b[0;34m\u001b[0m\u001b[0;34m\u001b[0m\u001b[0m\n\u001b[0;32m---> 28\u001b[0;31m         \u001b[0musers_similer_to_user\u001b[0m \u001b[0;34m=\u001b[0m \u001b[0mSimilar_users\u001b[0m\u001b[0;34m(\u001b[0m\u001b[0muser_rat\u001b[0m\u001b[0;34m)\u001b[0m\u001b[0;34m\u001b[0m\u001b[0;34m\u001b[0m\u001b[0m\n\u001b[0m\u001b[1;32m     29\u001b[0m         \u001b[0mrec_list\u001b[0m\u001b[0;34m,\u001b[0m\u001b[0malreadyviewd\u001b[0m\u001b[0;34m,\u001b[0m\u001b[0mrec_dict\u001b[0m \u001b[0;34m=\u001b[0m \u001b[0mrecommendations\u001b[0m\u001b[0;34m(\u001b[0m\u001b[0mno_of_closed_users\u001b[0m\u001b[0;34m,\u001b[0m\u001b[0mUser\u001b[0m\u001b[0;34m,\u001b[0m\u001b[0musers_similer_to_user\u001b[0m\u001b[0;34m)\u001b[0m\u001b[0;34m\u001b[0m\u001b[0;34m\u001b[0m\u001b[0m\n\u001b[1;32m     30\u001b[0m         \u001b[0mrec_df\u001b[0m \u001b[0;34m=\u001b[0m \u001b[0mpd\u001b[0m\u001b[0;34m.\u001b[0m\u001b[0mDataFrame\u001b[0m\u001b[0;34m.\u001b[0m\u001b[0mfrom_dict\u001b[0m\u001b[0;34m(\u001b[0m\u001b[0mtop_n\u001b[0m\u001b[0;34m,\u001b[0m\u001b[0morient\u001b[0m\u001b[0;34m=\u001b[0m\u001b[0;34m'index'\u001b[0m\u001b[0;34m)\u001b[0m\u001b[0;34m\u001b[0m\u001b[0;34m\u001b[0m\u001b[0m\n",
          "\u001b[0;31mUnboundLocalError\u001b[0m: local variable 'user_rat' referenced before assignment"
         ]
        }
       ]
      }
     },
     "77a248a130704a0eac5da530b20a78f3": {
      "model_module": "@jupyter-widgets/base",
      "model_module_version": "1.1.0",
      "model_name": "LayoutModel",
      "state": {}
     },
     "77e6d16a148d41acaa247631034d52f9": {
      "model_module": "@jupyter-widgets/base",
      "model_module_version": "1.1.0",
      "model_name": "LayoutModel",
      "state": {}
     },
     "7a006bc8f566491a8db4648442dcd806": {
      "model_module": "@jupyter-widgets/base",
      "model_module_version": "1.1.0",
      "model_name": "LayoutModel",
      "state": {}
     },
     "7a55e8a72eb34b64b91da0638ba25560": {
      "model_module": "@jupyter-widgets/base",
      "model_module_version": "1.1.0",
      "model_name": "LayoutModel",
      "state": {}
     },
     "7a909677734b4ab197eadb9add3477dd": {
      "model_module": "@jupyter-widgets/base",
      "model_module_version": "1.1.0",
      "model_name": "LayoutModel",
      "state": {}
     },
     "7a993f7471994616bfa36d0d2eded8a5": {
      "model_module": "@jupyter-widgets/controls",
      "model_module_version": "1.4.0",
      "model_name": "DescriptionStyleModel",
      "state": {
       "description_width": ""
      }
     },
     "7b1cc3b22fdd4702a60e07a6f8ac0e39": {
      "model_module": "@jupyter-widgets/base",
      "model_module_version": "1.1.0",
      "model_name": "LayoutModel",
      "state": {}
     },
     "7bd1e451fce949c686ae66594176dfe2": {
      "model_module": "@jupyter-widgets/base",
      "model_module_version": "1.1.0",
      "model_name": "LayoutModel",
      "state": {}
     },
     "7c6cecd37b834d0aab254e6c8abe8f70": {
      "model_module": "@jupyter-widgets/controls",
      "model_module_version": "1.4.0",
      "model_name": "DescriptionStyleModel",
      "state": {
       "description_width": ""
      }
     },
     "7df44213817841a3a146d51303d3508e": {
      "model_module": "@jupyter-widgets/base",
      "model_module_version": "1.1.0",
      "model_name": "LayoutModel",
      "state": {}
     },
     "7dfe42acaaba44f19755c63189ff44d5": {
      "model_module": "@jupyter-widgets/controls",
      "model_module_version": "1.4.0",
      "model_name": "DropdownModel",
      "state": {
       "_options_labels": [
        "1",
        "5",
        "10",
        "20",
        "30",
        "50"
       ],
       "index": 0,
       "layout": "IPY_MODEL_cc16742b6ff648ba8eb76831229496fa",
       "style": "IPY_MODEL_1e47c6ab22a94220822359e461194ac0"
      }
     },
     "7e21af6065bd4342bfc4a19978400460": {
      "model_module": "@jupyter-widgets/controls",
      "model_module_version": "1.4.0",
      "model_name": "RadioButtonsModel",
      "state": {
       "_options_labels": [
        "Cosine Similarity",
        "pearson correlation"
       ],
       "description": "Relation",
       "index": 0,
       "layout": "IPY_MODEL_b7e93d15092240fc9ab49d622e241661",
       "style": "IPY_MODEL_15b55cd894194c868f4a3858a299d19a"
      }
     },
     "7ed8057b578048a3a3b4c16899ee32b1": {
      "model_module": "@jupyter-widgets/output",
      "model_module_version": "1.0.0",
      "model_name": "OutputModel",
      "state": {
       "layout": "IPY_MODEL_c2a8875478004e71aa5d5905456a298d",
       "outputs": [
        {
         "name": "stdout",
         "output_type": "stream",
         "text": "Recommended list of items: \n\n"
        }
       ]
      }
     },
     "7eef70aa605b4ea8ba5ba9a8dc0e0d6c": {
      "model_module": "@jupyter-widgets/base",
      "model_module_version": "1.1.0",
      "model_name": "LayoutModel",
      "state": {}
     },
     "7ef09c2a07014a7d87bc8257a6207993": {
      "model_module": "@jupyter-widgets/base",
      "model_module_version": "1.1.0",
      "model_name": "LayoutModel",
      "state": {}
     },
     "7f5982889e01443684627c8d8a5d588a": {
      "model_module": "@jupyter-widgets/controls",
      "model_module_version": "1.4.0",
      "model_name": "DropdownModel",
      "state": {
       "_options_labels": [
        "1",
        "5",
        "10",
        "20",
        "30",
        "50"
       ],
       "description": "R_items",
       "index": 2,
       "layout": "IPY_MODEL_3cfbca71e9324b2b8d01003efd876391",
       "style": "IPY_MODEL_9c7d6ef3b78741d39ef1aed226510109"
      }
     },
     "7ff7fb5a89fe4ad0a0826a4cdae4defa": {
      "model_module": "@jupyter-widgets/controls",
      "model_module_version": "1.4.0",
      "model_name": "DropdownModel",
      "state": {
       "_options_labels": [
        "Apple® - MacBook® Pro / Intel® Core™ i5 Processor / 13.3\" Display / 4GB Memory / 320GB Hard Drive",
        "Apple® - iPod touch® 8GB* MP3 Player (4th Generation - Latest Model) - Black",
        "Beats By Dr. Dre - Beats Tour Earbud Headphones - Black",
        "Beats By Dr. Dre - Beats Solo HD Over-the-Ear Headphones - Black",
        "Apple® - iPod touch® 32GB* MP3 Player (4th Generation - Latest Model) - Black",
        "Rocketfish™ - 90W AC Power Adapter for Most Laptop PCs - Black",
        "Western Digital - Scorpio Blue 500GB Internal Serial ATA Hard Drive for Laptops",
        "Motorola - SURFboard Cable Modem",
        "TiVo® - Premiere High-Definition Digital Video Recorder",
        "Apple® - MacBook® Pro / Intel® Core™ i7 Processor / 13.3\" Display / 4GB Memory / 500GB Hard Drive",
        "Optoma - Pico Pocket DLP Projector",
        "Dynex™ - 3' 3.5mm Stereo Audio Cable",
        "Sony - Blu-ray Remote for PlayStation 3",
        "Western Digital - WD TV Live Plus HD Media Player",
        "Kaspersky Anti-Virus (1-Year Subscription) - Windows",
        "NETGEAR - Wireless-N Router",
        "Beats By Dr. Dre - Monster Studio High-Definition Red Sox Over-the-Ear Headphones - Blue",
        "HP - Photosmart e-All-in-One Wireless Printer",
        "Beats By Dr. Dre - Beats Studio Over-the-Ear Headphones - Black",
        "Beats By Dr. Dre - Beats Studio Over-the-Ear Headphones - White"
       ],
       "index": 0,
       "layout": "IPY_MODEL_4eca9f0534a44dfbbcbbf030ba019c6c",
       "style": "IPY_MODEL_24e4099405a544c2b04aa51d3e19ee15"
      }
     },
     "8090e85701814455a79e6a5f45443d8f": {
      "model_module": "@jupyter-widgets/controls",
      "model_module_version": "1.4.0",
      "model_name": "RadioButtonsModel",
      "state": {
       "_options_labels": [
        "Cosine Similarity",
        "pearson correlation"
       ],
       "description": "Relation",
       "index": 0,
       "layout": "IPY_MODEL_403292e5e0464a438a1c87ed6c7a8058",
       "style": "IPY_MODEL_c1d5817e5e084df6bd214f894dd319cc"
      }
     },
     "80a06adcbbcd46538535d1e5ca9e08fa": {
      "model_module": "@jupyter-widgets/base",
      "model_module_version": "1.1.0",
      "model_name": "LayoutModel",
      "state": {}
     },
     "81001042ba3449e4be048a2a03b999dc": {
      "model_module": "@jupyter-widgets/controls",
      "model_module_version": "1.4.0",
      "model_name": "DescriptionStyleModel",
      "state": {
       "description_width": ""
      }
     },
     "81ac423d5e4e473280b99897cb273e9d": {
      "model_module": "@jupyter-widgets/controls",
      "model_module_version": "1.4.0",
      "model_name": "DropdownModel",
      "state": {
       "_options_labels": [
        "Apple® - MacBook® Pro / Intel® Core™ i5 Processor / 13.3\" Display / 4GB Memory / 320GB Hard Drive",
        "Apple® - iPod touch® 8GB* MP3 Player (4th Generation - Latest Model) - Black",
        "Beats By Dr. Dre - Beats Tour Earbud Headphones - Black",
        "Beats By Dr. Dre - Beats Solo HD Over-the-Ear Headphones - Black",
        "Apple® - iPod touch® 32GB* MP3 Player (4th Generation - Latest Model) - Black",
        "Rocketfish™ - 90W AC Power Adapter for Most Laptop PCs - Black",
        "Western Digital - Scorpio Blue 500GB Internal Serial ATA Hard Drive for Laptops",
        "Motorola - SURFboard Cable Modem",
        "TiVo® - Premiere High-Definition Digital Video Recorder",
        "Apple® - MacBook® Pro / Intel® Core™ i7 Processor / 13.3\" Display / 4GB Memory / 500GB Hard Drive",
        "Optoma - Pico Pocket DLP Projector",
        "Dynex™ - 3' 3.5mm Stereo Audio Cable",
        "Sony - Blu-ray Remote for PlayStation 3",
        "Western Digital - WD TV Live Plus HD Media Player",
        "Kaspersky Anti-Virus (1-Year Subscription) - Windows",
        "NETGEAR - Wireless-N Router",
        "Beats By Dr. Dre - Monster Studio High-Definition Red Sox Over-the-Ear Headphones - Blue",
        "HP - Photosmart e-All-in-One Wireless Printer",
        "Beats By Dr. Dre - Beats Studio Over-the-Ear Headphones - Black",
        "Beats By Dr. Dre - Beats Studio Over-the-Ear Headphones - White"
       ],
       "description": "Item",
       "index": 0,
       "layout": "IPY_MODEL_621bd8b52a5f417297bd0effe8f450f4",
       "style": "IPY_MODEL_ed446defa1824ab79397a59b31e349a0"
      }
     },
     "81d98806dd0e43efbcafa451418df3c1": {
      "model_module": "@jupyter-widgets/controls",
      "model_module_version": "1.4.0",
      "model_name": "VBoxModel",
      "state": {
       "_dom_classes": [
        "widget-interact"
       ],
       "children": [
        "IPY_MODEL_48ca84f62db34517b3f05eb479ec888c",
        "IPY_MODEL_7f5982889e01443684627c8d8a5d588a",
        "IPY_MODEL_bec571df542e497bb4b0817bec3ab438",
        "IPY_MODEL_bbd234cfe84f42e789c4bad810e791ee"
       ],
       "layout": "IPY_MODEL_42a734dbd7294ca2aecd494c5fa771b6"
      }
     },
     "822a10b9eee24d9ebf0b65f243723f24": {
      "model_module": "@jupyter-widgets/base",
      "model_module_version": "1.1.0",
      "model_name": "LayoutModel",
      "state": {}
     },
     "829b1719a62a40548cd00f31940152a4": {
      "model_module": "@jupyter-widgets/base",
      "model_module_version": "1.1.0",
      "model_name": "LayoutModel",
      "state": {}
     },
     "839691125f9b41c9a1dee347f59f41ab": {
      "model_module": "@jupyter-widgets/base",
      "model_module_version": "1.1.0",
      "model_name": "LayoutModel",
      "state": {}
     },
     "850a1f26064344e689c083811649f6a2": {
      "model_module": "@jupyter-widgets/base",
      "model_module_version": "1.1.0",
      "model_name": "LayoutModel",
      "state": {}
     },
     "85e1313e9206419eb5c08b215445529a": {
      "model_module": "@jupyter-widgets/controls",
      "model_module_version": "1.4.0",
      "model_name": "SliderStyleModel",
      "state": {
       "description_width": ""
      }
     },
     "85efc8639f2a4ebbadb0b658872520b8": {
      "model_module": "@jupyter-widgets/base",
      "model_module_version": "1.1.0",
      "model_name": "LayoutModel",
      "state": {}
     },
     "86baefc56bd748d892a5ec4719e4acee": {
      "model_module": "@jupyter-widgets/base",
      "model_module_version": "1.1.0",
      "model_name": "LayoutModel",
      "state": {}
     },
     "86e1f8883ae2401293f77daf94950537": {
      "model_module": "@jupyter-widgets/base",
      "model_module_version": "1.1.0",
      "model_name": "LayoutModel",
      "state": {}
     },
     "8778e828ef4c49c3b0c43defae71d840": {
      "model_module": "@jupyter-widgets/base",
      "model_module_version": "1.1.0",
      "model_name": "LayoutModel",
      "state": {}
     },
     "8784dd42126940f198abcfa030b399e4": {
      "model_module": "@jupyter-widgets/base",
      "model_module_version": "1.1.0",
      "model_name": "LayoutModel",
      "state": {}
     },
     "87e1ab2db9c14c29bbdf2ecac2446abd": {
      "model_module": "@jupyter-widgets/controls",
      "model_module_version": "1.4.0",
      "model_name": "IntSliderModel",
      "state": {
       "description": "R_item",
       "layout": "IPY_MODEL_b6c7519d1ca74d3da9921144775abf84",
       "max": 24,
       "min": -8,
       "style": "IPY_MODEL_85e1313e9206419eb5c08b215445529a",
       "value": 4
      }
     },
     "88a1676fa77d4689bfb32cc52c080f99": {
      "model_module": "@jupyter-widgets/controls",
      "model_module_version": "1.4.0",
      "model_name": "DescriptionStyleModel",
      "state": {
       "description_width": ""
      }
     },
     "88c78c93d18d44c8be1646ef38df280c": {
      "model_module": "@jupyter-widgets/base",
      "model_module_version": "1.1.0",
      "model_name": "LayoutModel",
      "state": {}
     },
     "88f457a3601a48c98c3d6f7a8419e30c": {
      "model_module": "@jupyter-widgets/controls",
      "model_module_version": "1.4.0",
      "model_name": "DropdownModel",
      "state": {
       "_options_labels": [
        "1",
        "5",
        "10",
        "20",
        "30",
        "50"
       ],
       "description": "R_item",
       "index": 1,
       "layout": "IPY_MODEL_85efc8639f2a4ebbadb0b658872520b8",
       "style": "IPY_MODEL_7a993f7471994616bfa36d0d2eded8a5"
      }
     },
     "8951efcf841549e8910ed88c8ea2f00b": {
      "model_module": "@jupyter-widgets/controls",
      "model_module_version": "1.4.0",
      "model_name": "RadioButtonsModel",
      "state": {
       "_options_labels": [
        "Cosine Similarity",
        "pearson correlation"
       ],
       "description": "Relation",
       "index": 1,
       "layout": "IPY_MODEL_ec80bb7908d44dce979b7c2e925d3775",
       "style": "IPY_MODEL_cdd6f78d6b644aa4b384299ef1677086"
      }
     },
     "899fab464c9143de8b55f7565d25a823": {
      "model_module": "@jupyter-widgets/controls",
      "model_module_version": "1.4.0",
      "model_name": "VBoxModel",
      "state": {
       "_dom_classes": [
        "widget-interact"
       ],
       "children": [
        "IPY_MODEL_9228c4e2151c4f8c8cb9b4c7ae9da98c",
        "IPY_MODEL_88f457a3601a48c98c3d6f7a8419e30c",
        "IPY_MODEL_33a75cbcc92249fdb4a59ec3c67f31a0",
        "IPY_MODEL_9a88dc3d9eba40008afa58b4999d7175"
       ],
       "layout": "IPY_MODEL_df8447f72f1143e3afbd32e227f2432f"
      }
     },
     "8a2184502dc74e73ad5aa35689a886c9": {
      "model_module": "@jupyter-widgets/base",
      "model_module_version": "1.1.0",
      "model_name": "LayoutModel",
      "state": {}
     },
     "8b663a9c2a504820b6f9b0d82f4c20b1": {
      "model_module": "@jupyter-widgets/controls",
      "model_module_version": "1.4.0",
      "model_name": "RadioButtonsModel",
      "state": {
       "_options_labels": [
        "Cosine Similarity",
        "pearson correlation"
       ],
       "description": "Relation",
       "index": 1,
       "layout": "IPY_MODEL_1f79caca110849318b5b64e6109afb76",
       "style": "IPY_MODEL_cf8ece60928b456a9a4307a46f10fa83"
      }
     },
     "8d373691695a4cc1b69464177a289063": {
      "model_module": "@jupyter-widgets/controls",
      "model_module_version": "1.4.0",
      "model_name": "DescriptionStyleModel",
      "state": {
       "description_width": ""
      }
     },
     "8d77fd644306432d803bc5a4c8ec6768": {
      "model_module": "@jupyter-widgets/base",
      "model_module_version": "1.1.0",
      "model_name": "LayoutModel",
      "state": {}
     },
     "8da619ab856246a196cdf2bf2ed8e906": {
      "model_module": "@jupyter-widgets/controls",
      "model_module_version": "1.4.0",
      "model_name": "DropdownModel",
      "state": {
       "_options_labels": [
        "e93d81ed71a34bf33b61a4bc0cd2a486d73da2d2"
       ],
       "description": "User",
       "index": 0,
       "layout": "IPY_MODEL_64322b0946394341a7e38c492a5d3c01",
       "style": "IPY_MODEL_aa6d4475d0354495b4590ff4dc276b54"
      }
     },
     "8db2955d88024cd4b87bd16437e13a4d": {
      "model_module": "@jupyter-widgets/controls",
      "model_module_version": "1.4.0",
      "model_name": "DescriptionStyleModel",
      "state": {
       "description_width": ""
      }
     },
     "8e36cfa461c34772aae3036e8b88ce57": {
      "model_module": "@jupyter-widgets/base",
      "model_module_version": "1.1.0",
      "model_name": "LayoutModel",
      "state": {}
     },
     "8e5bce9527a743cc9636a6738c864dfc": {
      "model_module": "@jupyter-widgets/controls",
      "model_module_version": "1.4.0",
      "model_name": "DescriptionStyleModel",
      "state": {
       "description_width": ""
      }
     },
     "8eec51dfbff64398825061e44bd67aa3": {
      "model_module": "@jupyter-widgets/base",
      "model_module_version": "1.1.0",
      "model_name": "LayoutModel",
      "state": {}
     },
     "8ef6351cbecb464298c24665666ccd40": {
      "model_module": "@jupyter-widgets/controls",
      "model_module_version": "1.4.0",
      "model_name": "DropdownModel",
      "state": {
       "_options_labels": [
        "dc2bbff57193eed0181fd595452298dc1c2a4a70",
        "4924744a593a6de6d9ec34434a53e3901f449e7a",
        "7e708681b4f6a8dece0f538e11b535a780973068",
        "b60937bc9d7aaf43cad00b21e53c48c6ce0056df",
        "63f812f21f67f4afe07bcb7eb8afaa60a1373617",
        "72ff174ccd1c6c574aeae88cafdb128aada17191",
        "18db88e54b8fec0f44b88c85aa71aa8ccc628f50",
        "ff0b5a6dba4172d3295663450203866c825cb97d",
        "c5fca994457ed89ef61f32c074806e814127c112",
        "493d7c1900e606f079ca6c742898eadf7075e34a",
        "0daebfc24b4b818e8b451ea7a4ab8dcde5bb127f",
        "85691806a5373f6ed2180e42c9f6dcf02182d1ca",
        "b35862d23e811c2cb1f8bba328df13cacdd10d75",
        "5f57d92a0b4d12e79613c3d6c0856411a3845fdd",
        "6c646a930383da16b3963e4812ef1a1876fd12ee",
        "25b1e8c13f2dd0b0445921c9166301ce4b383242",
        "b44745292f516376f523748c5effeade0fbe12bc",
        "d8b2ca85c7610ff1b955baf6b40575250d7c335c",
        "881393c0590ef19491d17fe9d722bc42dc0706e6",
        "11409f6cf896af91577b1ab352a600a6dbbd20d2"
       ],
       "description": "User",
       "index": 0,
       "layout": "IPY_MODEL_b3f0c4c6d83340e08f24bc34e9a266ce",
       "style": "IPY_MODEL_81001042ba3449e4be048a2a03b999dc"
      }
     },
     "9023ac0093a8426f8659c0c085f39a2f": {
      "model_module": "@jupyter-widgets/controls",
      "model_module_version": "1.4.0",
      "model_name": "DropdownModel",
      "state": {
       "_options_labels": [
        "Apple® - MacBook® Pro / Intel® Core™ i5 Processor / 13.3\" Display / 4GB Memory / 320GB Hard Drive",
        "Apple® - iPod touch® 8GB* MP3 Player (4th Generation - Latest Model) - Black",
        "Beats By Dr. Dre - Beats Tour Earbud Headphones - Black",
        "Beats By Dr. Dre - Beats Solo HD Over-the-Ear Headphones - Black",
        "Apple® - iPod touch® 32GB* MP3 Player (4th Generation - Latest Model) - Black",
        "Rocketfish™ - 90W AC Power Adapter for Most Laptop PCs - Black",
        "Western Digital - Scorpio Blue 500GB Internal Serial ATA Hard Drive for Laptops",
        "Motorola - SURFboard Cable Modem",
        "TiVo® - Premiere High-Definition Digital Video Recorder",
        "Apple® - MacBook® Pro / Intel® Core™ i7 Processor / 13.3\" Display / 4GB Memory / 500GB Hard Drive",
        "Optoma - Pico Pocket DLP Projector",
        "Dynex™ - 3' 3.5mm Stereo Audio Cable",
        "Sony - Blu-ray Remote for PlayStation 3",
        "Western Digital - WD TV Live Plus HD Media Player",
        "Kaspersky Anti-Virus (1-Year Subscription) - Windows",
        "NETGEAR - Wireless-N Router",
        "Beats By Dr. Dre - Monster Studio High-Definition Red Sox Over-the-Ear Headphones - Blue",
        "HP - Photosmart e-All-in-One Wireless Printer",
        "Beats By Dr. Dre - Beats Studio Over-the-Ear Headphones - Black",
        "Beats By Dr. Dre - Beats Studio Over-the-Ear Headphones - White"
       ],
       "description": "Item",
       "index": 2,
       "layout": "IPY_MODEL_9ae1f255b342453786b8963827dcc053",
       "style": "IPY_MODEL_6b4a633121e24b90848cb0391d6ef434"
      }
     },
     "908a43668fd24032a7c67e8c226e1dd9": {
      "model_module": "@jupyter-widgets/controls",
      "model_module_version": "1.4.0",
      "model_name": "IntSliderModel",
      "state": {
       "description": "R_items",
       "layout": "IPY_MODEL_8d77fd644306432d803bc5a4c8ec6768",
       "max": 18,
       "min": -6,
       "style": "IPY_MODEL_e77e21d40ce449a793d57bebde62634a",
       "value": 6
      }
     },
     "9228c4e2151c4f8c8cb9b4c7ae9da98c": {
      "model_module": "@jupyter-widgets/controls",
      "model_module_version": "1.4.0",
      "model_name": "DropdownModel",
      "state": {
       "_options_labels": [
        "Apple® - MacBook® Pro / Intel® Core™ i5 Processor / 13.3\" Display / 4GB Memory / 320GB Hard Drive",
        "Apple® - iPod touch® 8GB* MP3 Player (4th Generation - Latest Model) - Black",
        "Beats By Dr. Dre - Beats Tour Earbud Headphones - Black",
        "Beats By Dr. Dre - Beats Solo HD Over-the-Ear Headphones - Black",
        "Apple® - iPod touch® 32GB* MP3 Player (4th Generation - Latest Model) - Black",
        "Rocketfish™ - 90W AC Power Adapter for Most Laptop PCs - Black",
        "Western Digital - Scorpio Blue 500GB Internal Serial ATA Hard Drive for Laptops",
        "Motorola - SURFboard Cable Modem",
        "TiVo® - Premiere High-Definition Digital Video Recorder",
        "Apple® - MacBook® Pro / Intel® Core™ i7 Processor / 13.3\" Display / 4GB Memory / 500GB Hard Drive",
        "Optoma - Pico Pocket DLP Projector",
        "Dynex™ - 3' 3.5mm Stereo Audio Cable",
        "Sony - Blu-ray Remote for PlayStation 3",
        "Western Digital - WD TV Live Plus HD Media Player",
        "Kaspersky Anti-Virus (1-Year Subscription) - Windows",
        "NETGEAR - Wireless-N Router",
        "Beats By Dr. Dre - Monster Studio High-Definition Red Sox Over-the-Ear Headphones - Blue",
        "HP - Photosmart e-All-in-One Wireless Printer",
        "Beats By Dr. Dre - Beats Studio Over-the-Ear Headphones - Black",
        "Beats By Dr. Dre - Beats Studio Over-the-Ear Headphones - White"
       ],
       "description": "Item",
       "index": 3,
       "layout": "IPY_MODEL_0571aef79df142dd9eda0c8ff27ccc47",
       "style": "IPY_MODEL_9e9d65e5a374479cbda426e5e3604e5d"
      }
     },
     "92541dccf0d04e64aff038204b77452f": {
      "model_module": "@jupyter-widgets/base",
      "model_module_version": "1.1.0",
      "model_name": "LayoutModel",
      "state": {}
     },
     "926bedd3398d408dba7e3c6bafd991e7": {
      "model_module": "@jupyter-widgets/base",
      "model_module_version": "1.1.0",
      "model_name": "LayoutModel",
      "state": {}
     },
     "936624f8855549fab6c8a36ce7013823": {
      "model_module": "@jupyter-widgets/controls",
      "model_module_version": "1.4.0",
      "model_name": "VBoxModel",
      "state": {
       "_dom_classes": [
        "widget-interact"
       ],
       "children": [
        "IPY_MODEL_8da619ab856246a196cdf2bf2ed8e906",
        "IPY_MODEL_d7eb2cf6b7db4e409ab25800d53e7027",
        "IPY_MODEL_ce6a7120aab14d96bd4dbf38dc3c4ad4",
        "IPY_MODEL_ff8319614edb43f8adeb3aa9f22cde9f"
       ],
       "layout": "IPY_MODEL_4e0216edb0d443fc84dc65b1502481b6"
      }
     },
     "93bf951abebc4b62801c350855d55455": {
      "model_module": "@jupyter-widgets/controls",
      "model_module_version": "1.4.0",
      "model_name": "VBoxModel",
      "state": {
       "_dom_classes": [
        "widget-interact"
       ],
       "children": [
        "IPY_MODEL_0539afb3bf7f467e8cfa3c4937933420",
        "IPY_MODEL_96621312281843d28df177fd7688052b",
        "IPY_MODEL_07dda474b8a24f659a501f3d21869174",
        "IPY_MODEL_31830c8d4a5f4e198611422b9c573602"
       ],
       "layout": "IPY_MODEL_2880fac3df364e9c8f8c4e374ebd2a80"
      }
     },
     "941cfaeac48744b8bafee6c521531a1d": {
      "model_module": "@jupyter-widgets/controls",
      "model_module_version": "1.4.0",
      "model_name": "DescriptionStyleModel",
      "state": {
       "description_width": ""
      }
     },
     "943d14bfd9d14d5f966f93a1edb39c39": {
      "model_module": "@jupyter-widgets/base",
      "model_module_version": "1.1.0",
      "model_name": "LayoutModel",
      "state": {}
     },
     "949c813b0d4e4a068ee27f16f533304a": {
      "model_module": "@jupyter-widgets/controls",
      "model_module_version": "1.4.0",
      "model_name": "DescriptionStyleModel",
      "state": {
       "description_width": ""
      }
     },
     "95b626a8de0442dc948d5ebd9fd02b7c": {
      "model_module": "@jupyter-widgets/base",
      "model_module_version": "1.1.0",
      "model_name": "LayoutModel",
      "state": {}
     },
     "95ed58ecb5a44d2b84522e4a1e71b732": {
      "model_module": "@jupyter-widgets/controls",
      "model_module_version": "1.4.0",
      "model_name": "DescriptionStyleModel",
      "state": {
       "description_width": ""
      }
     },
     "96621312281843d28df177fd7688052b": {
      "model_module": "@jupyter-widgets/controls",
      "model_module_version": "1.4.0",
      "model_name": "DropdownModel",
      "state": {
       "_options_labels": [
        "1",
        "5",
        "10",
        "20",
        "30",
        "50"
       ],
       "description": "R_item",
       "index": 1,
       "layout": "IPY_MODEL_88c78c93d18d44c8be1646ef38df280c",
       "style": "IPY_MODEL_0b6ddfcdff2441c19f1229af5cd9d597"
      }
     },
     "967483cda1de4bbbbec79b8b0caa110d": {
      "model_module": "@jupyter-widgets/controls",
      "model_module_version": "1.4.0",
      "model_name": "DescriptionStyleModel",
      "state": {
       "description_width": ""
      }
     },
     "9715e343a4e4430799a86ade4d1e1ae3": {
      "model_module": "@jupyter-widgets/controls",
      "model_module_version": "1.4.0",
      "model_name": "DropdownModel",
      "state": {
       "_options_labels": [
        "1",
        "5",
        "10",
        "20",
        "30",
        "50"
       ],
       "description": "R_items",
       "index": 1,
       "layout": "IPY_MODEL_988c540f7b2d4110a3eb4943335d4e8d",
       "style": "IPY_MODEL_c2f1e16d47f748cf94fc069352966d2e"
      }
     },
     "971cf33b79ee452993da28978858b011": {
      "model_module": "@jupyter-widgets/base",
      "model_module_version": "1.1.0",
      "model_name": "LayoutModel",
      "state": {}
     },
     "978e045aaa64419fb824724ac72bb55c": {
      "model_module": "@jupyter-widgets/base",
      "model_module_version": "1.1.0",
      "model_name": "LayoutModel",
      "state": {}
     },
     "9796d2509d02410c88f2402ee815a7f3": {
      "model_module": "@jupyter-widgets/controls",
      "model_module_version": "1.4.0",
      "model_name": "DescriptionStyleModel",
      "state": {
       "description_width": ""
      }
     },
     "988c540f7b2d4110a3eb4943335d4e8d": {
      "model_module": "@jupyter-widgets/base",
      "model_module_version": "1.1.0",
      "model_name": "LayoutModel",
      "state": {}
     },
     "9892be7257c1493386db13fbd503ca97": {
      "model_module": "@jupyter-widgets/base",
      "model_module_version": "1.1.0",
      "model_name": "LayoutModel",
      "state": {}
     },
     "9a49ff85616942199e493b3805c5eba5": {
      "model_module": "@jupyter-widgets/controls",
      "model_module_version": "1.4.0",
      "model_name": "DropdownModel",
      "state": {
       "_options_labels": [
        "Apple® - MacBook® Pro / Intel® Core™ i5 Processor / 13.3\" Display / 4GB Memory / 320GB Hard Drive",
        "Apple® - iPod touch® 8GB* MP3 Player (4th Generation - Latest Model) - Black",
        "Beats By Dr. Dre - Beats Tour Earbud Headphones - Black",
        "Beats By Dr. Dre - Beats Solo HD Over-the-Ear Headphones - Black",
        "Apple® - iPod touch® 32GB* MP3 Player (4th Generation - Latest Model) - Black",
        "Rocketfish™ - 90W AC Power Adapter for Most Laptop PCs - Black",
        "Western Digital - Scorpio Blue 500GB Internal Serial ATA Hard Drive for Laptops",
        "Motorola - SURFboard Cable Modem",
        "TiVo® - Premiere High-Definition Digital Video Recorder",
        "Apple® - MacBook® Pro / Intel® Core™ i7 Processor / 13.3\" Display / 4GB Memory / 500GB Hard Drive",
        "Optoma - Pico Pocket DLP Projector",
        "Dynex™ - 3' 3.5mm Stereo Audio Cable",
        "Sony - Blu-ray Remote for PlayStation 3",
        "Western Digital - WD TV Live Plus HD Media Player",
        "Kaspersky Anti-Virus (1-Year Subscription) - Windows",
        "NETGEAR - Wireless-N Router",
        "Beats By Dr. Dre - Monster Studio High-Definition Red Sox Over-the-Ear Headphones - Blue",
        "HP - Photosmart e-All-in-One Wireless Printer",
        "Beats By Dr. Dre - Beats Studio Over-the-Ear Headphones - Black",
        "Beats By Dr. Dre - Beats Studio Over-the-Ear Headphones - White"
       ],
       "description": "Item",
       "index": 0,
       "layout": "IPY_MODEL_dd3d854a48f4466c8c9055b0494c1b05",
       "style": "IPY_MODEL_b9d2feab2db646afa40bba934b2e236d"
      }
     },
     "9a52b1d50b504bfc9da4c4420e287672": {
      "model_module": "@jupyter-widgets/controls",
      "model_module_version": "1.4.0",
      "model_name": "DescriptionStyleModel",
      "state": {
       "description_width": ""
      }
     },
     "9a88dc3d9eba40008afa58b4999d7175": {
      "model_module": "@jupyter-widgets/output",
      "model_module_version": "1.0.0",
      "model_name": "OutputModel",
      "state": {
       "layout": "IPY_MODEL_8e36cfa461c34772aae3036e8b88ce57"
      }
     },
     "9ae1f255b342453786b8963827dcc053": {
      "model_module": "@jupyter-widgets/base",
      "model_module_version": "1.1.0",
      "model_name": "LayoutModel",
      "state": {}
     },
     "9b0bc008d9af4a2bb44dc3b27ed00d31": {
      "model_module": "@jupyter-widgets/base",
      "model_module_version": "1.1.0",
      "model_name": "LayoutModel",
      "state": {}
     },
     "9b2b85b975524c5e8f9405815f498fa7": {
      "model_module": "@jupyter-widgets/controls",
      "model_module_version": "1.4.0",
      "model_name": "VBoxModel",
      "state": {
       "_dom_classes": [
        "widget-interact"
       ],
       "children": [
        "IPY_MODEL_20c052b9f2724a6d8df6436a612da02d",
        "IPY_MODEL_c0e9b30ed15945d39eb6661e23389f74",
        "IPY_MODEL_429d8a7450224733a024cccec8ba348b",
        "IPY_MODEL_9ba945074a914437818cb7a88889f3ca"
       ],
       "layout": "IPY_MODEL_a38e288a565b4da385f21c94ef66de03"
      }
     },
     "9b7ad76798db4b59a325377bf88d1da5": {
      "model_module": "@jupyter-widgets/base",
      "model_module_version": "1.1.0",
      "model_name": "LayoutModel",
      "state": {}
     },
     "9ba945074a914437818cb7a88889f3ca": {
      "model_module": "@jupyter-widgets/output",
      "model_module_version": "1.0.0",
      "model_name": "OutputModel",
      "state": {
       "layout": "IPY_MODEL_7a55e8a72eb34b64b91da0638ba25560",
       "outputs": [
        {
         "name": "stdout",
         "output_type": "stream",
         "text": "Already viewed items: \n                                                                                        0\n0  Sony - 60-Minute MiniDV Digital Video Cassettes (6-Pack)                              \n1  Bose® - UB-20 Wall/Ceiling Bracket - Silver - Silver                                  \n2  Best Buy GC - $50 Gift Card                                                           \n3  Nyko - Charge Station Charging Dock and Rechargeable Battery Pack Set for Nintendo Wii\n4  Belkin - Auto FM Transmitter for Most Apple® iPod® and iPhone Models - Black          \n5  Rocketfish™ - 8' HDMI Digital Audio/Video Cable for PlayStation 3                     \n6  Best Buy GC - $50 Thank-You Gift Card                                                 \n7  Logitech - G330 Gaming Headset                                                        \n8  Belkin - 1 Amp Micro AC/DC Power Kit for Apple® iPod® and iPhone - Black              \n9  Sony - BRAVIA USB Wireless LAN Adapter                                                \n\n\nViewed by other users - unique items: \n                                                                                        0\n0  Sony - 60-Minute MiniDV Digital Video Cassettes (6-Pack)                              \n1  Nyko - Charge Station Charging Dock and Rechargeable Battery Pack Set for Nintendo Wii\n\n\nRecommended list of items: \nEmpty DataFrame\nColumns: []\nIndex: []\n\n\n"
        }
       ]
      }
     },
     "9c7d6ef3b78741d39ef1aed226510109": {
      "model_module": "@jupyter-widgets/controls",
      "model_module_version": "1.4.0",
      "model_name": "DescriptionStyleModel",
      "state": {
       "description_width": ""
      }
     },
     "9d21da8572e742a7b2a2d418bdb5ab83": {
      "model_module": "@jupyter-widgets/controls",
      "model_module_version": "1.4.0",
      "model_name": "DropdownModel",
      "state": {
       "_options_labels": [
        "1",
        "5",
        "10",
        "20",
        "30",
        "50"
       ],
       "description": "R_item",
       "index": 0,
       "layout": "IPY_MODEL_a4f49391f824461cb759cfc966577d16",
       "style": "IPY_MODEL_331fea34f0934e2c998589419bbf675d"
      }
     },
     "9e9a36644947442ea5e59b0c38e889dc": {
      "model_module": "@jupyter-widgets/output",
      "model_module_version": "1.0.0",
      "model_name": "OutputModel",
      "state": {
       "layout": "IPY_MODEL_f3f1159ddbab42509e0a110c6f3a4cd0",
       "outputs": [
        {
         "name": "stdout",
         "output_type": "stream",
         "text": "Recommended list of items: \n\n"
        }
       ]
      }
     },
     "9e9d65e5a374479cbda426e5e3604e5d": {
      "model_module": "@jupyter-widgets/controls",
      "model_module_version": "1.4.0",
      "model_name": "DescriptionStyleModel",
      "state": {
       "description_width": ""
      }
     },
     "9f4266c417a440ce8f4e2f232997c771": {
      "model_module": "@jupyter-widgets/base",
      "model_module_version": "1.1.0",
      "model_name": "LayoutModel",
      "state": {}
     },
     "9f508ad9cebb4b409a6d263279e65325": {
      "model_module": "@jupyter-widgets/base",
      "model_module_version": "1.1.0",
      "model_name": "LayoutModel",
      "state": {}
     },
     "9fb0e3c5dcf24fbba93e374a2052c37a": {
      "model_module": "@jupyter-widgets/base",
      "model_module_version": "1.1.0",
      "model_name": "LayoutModel",
      "state": {}
     },
     "9fd319b45a1b4f6eaeb1309e22413ca1": {
      "model_module": "@jupyter-widgets/base",
      "model_module_version": "1.1.0",
      "model_name": "LayoutModel",
      "state": {}
     },
     "9fe5da2f39614a19a72fb63239168911": {
      "model_module": "@jupyter-widgets/controls",
      "model_module_version": "1.4.0",
      "model_name": "DropdownModel",
      "state": {
       "_options_labels": [
        "dc2bbff57193eed0181fd595452298dc1c2a4a70",
        "4924744a593a6de6d9ec34434a53e3901f449e7a",
        "7e708681b4f6a8dece0f538e11b535a780973068",
        "b60937bc9d7aaf43cad00b21e53c48c6ce0056df",
        "63f812f21f67f4afe07bcb7eb8afaa60a1373617",
        "72ff174ccd1c6c574aeae88cafdb128aada17191",
        "18db88e54b8fec0f44b88c85aa71aa8ccc628f50",
        "ff0b5a6dba4172d3295663450203866c825cb97d",
        "c5fca994457ed89ef61f32c074806e814127c112",
        "493d7c1900e606f079ca6c742898eadf7075e34a",
        "0daebfc24b4b818e8b451ea7a4ab8dcde5bb127f",
        "85691806a5373f6ed2180e42c9f6dcf02182d1ca",
        "b35862d23e811c2cb1f8bba328df13cacdd10d75",
        "5f57d92a0b4d12e79613c3d6c0856411a3845fdd",
        "6c646a930383da16b3963e4812ef1a1876fd12ee",
        "25b1e8c13f2dd0b0445921c9166301ce4b383242",
        "b44745292f516376f523748c5effeade0fbe12bc",
        "d8b2ca85c7610ff1b955baf6b40575250d7c335c",
        "881393c0590ef19491d17fe9d722bc42dc0706e6",
        "11409f6cf896af91577b1ab352a600a6dbbd20d2"
       ],
       "description": "User",
       "index": 16,
       "layout": "IPY_MODEL_478abe4e14054c858ca6a7540d526621",
       "style": "IPY_MODEL_5b8feb922b3e41979cd9dd7ec54e20b2"
      }
     },
     "a034641c44b94f23b68b5aeda6b52e11": {
      "model_module": "@jupyter-widgets/controls",
      "model_module_version": "1.4.0",
      "model_name": "DescriptionStyleModel",
      "state": {
       "description_width": ""
      }
     },
     "a04bc9e881a9406998bb478cf10bf5fc": {
      "model_module": "@jupyter-widgets/base",
      "model_module_version": "1.1.0",
      "model_name": "LayoutModel",
      "state": {}
     },
     "a04f5c008fc24452865fd9d9b3309b8a": {
      "model_module": "@jupyter-widgets/base",
      "model_module_version": "1.1.0",
      "model_name": "LayoutModel",
      "state": {}
     },
     "a0820df9650b48158630867285122099": {
      "model_module": "@jupyter-widgets/base",
      "model_module_version": "1.1.0",
      "model_name": "LayoutModel",
      "state": {}
     },
     "a0d6702bdbae49559b80200202436493": {
      "model_module": "@jupyter-widgets/controls",
      "model_module_version": "1.4.0",
      "model_name": "VBoxModel",
      "state": {
       "_dom_classes": [
        "widget-interact"
       ],
       "children": [
        "IPY_MODEL_707272b4782b4675ad177a4648392867",
        "IPY_MODEL_557a59c6b8b045208182a2a7931de818",
        "IPY_MODEL_8090e85701814455a79e6a5f45443d8f",
        "IPY_MODEL_9e9a36644947442ea5e59b0c38e889dc"
       ],
       "layout": "IPY_MODEL_d74351d71c8f4959a64d71aab174f943"
      }
     },
     "a0e6405aafb64328a1148bd9b314e460": {
      "model_module": "@jupyter-widgets/base",
      "model_module_version": "1.1.0",
      "model_name": "LayoutModel",
      "state": {}
     },
     "a0e87beef0474141961c57dbb11587f9": {
      "model_module": "@jupyter-widgets/base",
      "model_module_version": "1.1.0",
      "model_name": "LayoutModel",
      "state": {}
     },
     "a0fc9f7667d34f4cbcac541b415c5184": {
      "model_module": "@jupyter-widgets/controls",
      "model_module_version": "1.4.0",
      "model_name": "IntSliderModel",
      "state": {
       "description": "R_items",
       "layout": "IPY_MODEL_a6d3679822e14297807313cd994f3c19",
       "max": 18,
       "min": -6,
       "style": "IPY_MODEL_e51c2eb81da34108a29565b173c1c8d0",
       "value": 6
      }
     },
     "a10892a8f0f14196a893ebeffcf76805": {
      "model_module": "@jupyter-widgets/controls",
      "model_module_version": "1.4.0",
      "model_name": "DropdownModel",
      "state": {
       "_options_labels": [
        "e93d81ed71a34bf33b61a4bc0cd2a486d73da2d2"
       ],
       "description": "User",
       "index": 0,
       "layout": "IPY_MODEL_9fb0e3c5dcf24fbba93e374a2052c37a",
       "style": "IPY_MODEL_6c3e7a23522e435f86af50f189685fdd"
      }
     },
     "a1a44db643244450b091e4c16f91c49c": {
      "model_module": "@jupyter-widgets/controls",
      "model_module_version": "1.4.0",
      "model_name": "VBoxModel",
      "state": {
       "_dom_classes": [
        "widget-interact"
       ],
       "children": [
        "IPY_MODEL_fe332c35d8064eafad4cf19d5c827352",
        "IPY_MODEL_fecaf933cac64b9198c1c0bdd08d41e1",
        "IPY_MODEL_1fa7fc8bc293418f9cfd1e6be6e75d13",
        "IPY_MODEL_6b0834313d9f4fa392796c85bba25565"
       ],
       "layout": "IPY_MODEL_2e51d8427cdb4991814cf93a779d9db8"
      }
     },
     "a2392f00b58b4028926c4bc5e64f9bf6": {
      "model_module": "@jupyter-widgets/controls",
      "model_module_version": "1.4.0",
      "model_name": "DescriptionStyleModel",
      "state": {
       "description_width": ""
      }
     },
     "a23a95ae58c741249dec934d1d8977ac": {
      "model_module": "@jupyter-widgets/base",
      "model_module_version": "1.1.0",
      "model_name": "LayoutModel",
      "state": {}
     },
     "a30d42f701f94c10928eaca679504bd3": {
      "model_module": "@jupyter-widgets/base",
      "model_module_version": "1.1.0",
      "model_name": "LayoutModel",
      "state": {}
     },
     "a334c457df574ba3a7c5b508b3af6eac": {
      "model_module": "@jupyter-widgets/controls",
      "model_module_version": "1.4.0",
      "model_name": "DropdownModel",
      "state": {
       "_options_labels": [
        "1",
        "5",
        "10",
        "20",
        "30",
        "50"
       ],
       "index": 0,
       "layout": "IPY_MODEL_7390e1900cb9463bbdb4b7ac88b89df3",
       "style": "IPY_MODEL_b9a0de010f30424ab4bcd5193482fbec"
      }
     },
     "a38e288a565b4da385f21c94ef66de03": {
      "model_module": "@jupyter-widgets/base",
      "model_module_version": "1.1.0",
      "model_name": "LayoutModel",
      "state": {}
     },
     "a48dc4751e4342d9a507deb11dad958a": {
      "model_module": "@jupyter-widgets/controls",
      "model_module_version": "1.4.0",
      "model_name": "DropdownModel",
      "state": {
       "_options_labels": [
        "1",
        "5",
        "10",
        "20",
        "30",
        "50"
       ],
       "description": "R_item",
       "index": 0,
       "layout": "IPY_MODEL_09d10668ba8a4cf0af0253d1684d96ca",
       "style": "IPY_MODEL_42e9cdbf53ec4b27b27598e1bd36c763"
      }
     },
     "a4f49391f824461cb759cfc966577d16": {
      "model_module": "@jupyter-widgets/base",
      "model_module_version": "1.1.0",
      "model_name": "LayoutModel",
      "state": {}
     },
     "a54b5a6dd9df4e3a9c1f2872be1c2edc": {
      "model_module": "@jupyter-widgets/controls",
      "model_module_version": "1.4.0",
      "model_name": "DropdownModel",
      "state": {
       "_options_labels": [
        "Apple® - MacBook® Pro / Intel® Core™ i5 Processor / 13.3\" Display / 4GB Memory / 320GB Hard Drive",
        "Apple® - iPod touch® 8GB* MP3 Player (4th Generation - Latest Model) - Black",
        "Beats By Dr. Dre - Beats Tour Earbud Headphones - Black",
        "Beats By Dr. Dre - Beats Solo HD Over-the-Ear Headphones - Black",
        "Apple® - iPod touch® 32GB* MP3 Player (4th Generation - Latest Model) - Black",
        "Rocketfish™ - 90W AC Power Adapter for Most Laptop PCs - Black",
        "Western Digital - Scorpio Blue 500GB Internal Serial ATA Hard Drive for Laptops",
        "Motorola - SURFboard Cable Modem",
        "TiVo® - Premiere High-Definition Digital Video Recorder",
        "Apple® - MacBook® Pro / Intel® Core™ i7 Processor / 13.3\" Display / 4GB Memory / 500GB Hard Drive",
        "Optoma - Pico Pocket DLP Projector",
        "Dynex™ - 3' 3.5mm Stereo Audio Cable",
        "Sony - Blu-ray Remote for PlayStation 3",
        "Western Digital - WD TV Live Plus HD Media Player",
        "Kaspersky Anti-Virus (1-Year Subscription) - Windows",
        "NETGEAR - Wireless-N Router",
        "Beats By Dr. Dre - Monster Studio High-Definition Red Sox Over-the-Ear Headphones - Blue",
        "HP - Photosmart e-All-in-One Wireless Printer",
        "Beats By Dr. Dre - Beats Studio Over-the-Ear Headphones - Black",
        "Beats By Dr. Dre - Beats Studio Over-the-Ear Headphones - White"
       ],
       "description": "Item",
       "index": 0,
       "layout": "IPY_MODEL_07cc1291d0b44481a10aa87f8586cd5c",
       "style": "IPY_MODEL_dd58a14a7fc34b0fb8a3c93fac391f45"
      }
     },
     "a55554dbc1ed4300baafc93f06074a13": {
      "model_module": "@jupyter-widgets/controls",
      "model_module_version": "1.4.0",
      "model_name": "DescriptionStyleModel",
      "state": {
       "description_width": ""
      }
     },
     "a5d9e17bac4d496092a839d10cdf21b2": {
      "model_module": "@jupyter-widgets/controls",
      "model_module_version": "1.4.0",
      "model_name": "DropdownModel",
      "state": {
       "_options_labels": [
        "Apple® - MacBook® Pro / Intel® Core™ i5 Processor / 13.3\" Display / 4GB Memory / 320GB Hard Drive",
        "Apple® - iPod touch® 8GB* MP3 Player (4th Generation - Latest Model) - Black",
        "Beats By Dr. Dre - Beats Tour Earbud Headphones - Black",
        "Beats By Dr. Dre - Beats Solo HD Over-the-Ear Headphones - Black",
        "Apple® - iPod touch® 32GB* MP3 Player (4th Generation - Latest Model) - Black",
        "Rocketfish™ - 90W AC Power Adapter for Most Laptop PCs - Black",
        "Western Digital - Scorpio Blue 500GB Internal Serial ATA Hard Drive for Laptops",
        "Motorola - SURFboard Cable Modem",
        "TiVo® - Premiere High-Definition Digital Video Recorder",
        "Apple® - MacBook® Pro / Intel® Core™ i7 Processor / 13.3\" Display / 4GB Memory / 500GB Hard Drive",
        "Optoma - Pico Pocket DLP Projector",
        "Dynex™ - 3' 3.5mm Stereo Audio Cable",
        "Sony - Blu-ray Remote for PlayStation 3",
        "Western Digital - WD TV Live Plus HD Media Player",
        "Kaspersky Anti-Virus (1-Year Subscription) - Windows",
        "NETGEAR - Wireless-N Router",
        "Beats By Dr. Dre - Monster Studio High-Definition Red Sox Over-the-Ear Headphones - Blue",
        "HP - Photosmart e-All-in-One Wireless Printer",
        "Beats By Dr. Dre - Beats Studio Over-the-Ear Headphones - Black",
        "Beats By Dr. Dre - Beats Studio Over-the-Ear Headphones - White"
       ],
       "description": "Item",
       "index": 0,
       "layout": "IPY_MODEL_3edacd653eab466c9ba4a0ab5b41189d",
       "style": "IPY_MODEL_967483cda1de4bbbbec79b8b0caa110d"
      }
     },
     "a602ddbaab9a4000bec1b936eafb1048": {
      "model_module": "@jupyter-widgets/base",
      "model_module_version": "1.1.0",
      "model_name": "LayoutModel",
      "state": {}
     },
     "a6d3679822e14297807313cd994f3c19": {
      "model_module": "@jupyter-widgets/base",
      "model_module_version": "1.1.0",
      "model_name": "LayoutModel",
      "state": {}
     },
     "a74d47e0a22746c9b9ae1bf766f6ee6e": {
      "model_module": "@jupyter-widgets/controls",
      "model_module_version": "1.4.0",
      "model_name": "VBoxModel",
      "state": {
       "_dom_classes": [
        "widget-interact"
       ],
       "children": [
        "IPY_MODEL_47cc74173e5b44738844aedc27f236e4",
        "IPY_MODEL_a48dc4751e4342d9a507deb11dad958a",
        "IPY_MODEL_3b441069b31e45c58a084b25c11e8e4c",
        "IPY_MODEL_209fe39647464461b51972ebaaebab84"
       ],
       "layout": "IPY_MODEL_c4167364cc6f47268c626fce969fedb6"
      }
     },
     "a7707331c5ab4b32a7f2a7a67663ea0c": {
      "model_module": "@jupyter-widgets/output",
      "model_module_version": "1.0.0",
      "model_name": "OutputModel",
      "state": {
       "layout": "IPY_MODEL_e61cab17a7d7447194f210d2b3d610b6"
      }
     },
     "a7ed3bf7760b4c8aae4712d4862ff6f5": {
      "model_module": "@jupyter-widgets/base",
      "model_module_version": "1.1.0",
      "model_name": "LayoutModel",
      "state": {}
     },
     "a918584973aa4bb685009a3cfec227cb": {
      "model_module": "@jupyter-widgets/controls",
      "model_module_version": "1.4.0",
      "model_name": "DropdownModel",
      "state": {
       "_options_labels": [
        "1",
        "5",
        "10",
        "50",
        "100",
        "150",
        "250",
        "500"
       ],
       "description": "no_of_closed_users",
       "index": 4,
       "layout": "IPY_MODEL_374eb78a8c024d49abf2dd79299666b6",
       "style": "IPY_MODEL_30176bb10a604a668543d6c2392cd14c"
      }
     },
     "aa6d4475d0354495b4590ff4dc276b54": {
      "model_module": "@jupyter-widgets/controls",
      "model_module_version": "1.4.0",
      "model_name": "DescriptionStyleModel",
      "state": {
       "description_width": ""
      }
     },
     "aaba32ed27994638887cb23ffd3b813b": {
      "model_module": "@jupyter-widgets/base",
      "model_module_version": "1.1.0",
      "model_name": "LayoutModel",
      "state": {}
     },
     "aac584fff01742a58b4d7ef22c6288b5": {
      "model_module": "@jupyter-widgets/base",
      "model_module_version": "1.1.0",
      "model_name": "LayoutModel",
      "state": {}
     },
     "aadc512ff74f43b89b7ec4976b58163b": {
      "model_module": "@jupyter-widgets/controls",
      "model_module_version": "1.4.0",
      "model_name": "DropdownModel",
      "state": {
       "_options_labels": [
        "1",
        "5",
        "10",
        "20",
        "30",
        "50"
       ],
       "description": "R_item",
       "index": 3,
       "layout": "IPY_MODEL_1f04d2080a644e5683ff5fa0017605a4",
       "style": "IPY_MODEL_042723da01e54faf8d25ccf93a0a16fd"
      }
     },
     "abb3b98cf23a464e8f38449f1928f4f0": {
      "model_module": "@jupyter-widgets/controls",
      "model_module_version": "1.4.0",
      "model_name": "DescriptionStyleModel",
      "state": {
       "description_width": ""
      }
     },
     "abfdd2f5d2084f4fa422dd1463ed8958": {
      "model_module": "@jupyter-widgets/output",
      "model_module_version": "1.0.0",
      "model_name": "OutputModel",
      "state": {
       "layout": "IPY_MODEL_aededba36d9448d6aa50f5c9f54478a9"
      }
     },
     "ac98fa6971be4e2381b5af70d493777c": {
      "model_module": "@jupyter-widgets/base",
      "model_module_version": "1.1.0",
      "model_name": "LayoutModel",
      "state": {}
     },
     "aca36fece4804c9c9a2586bb48af925f": {
      "model_module": "@jupyter-widgets/controls",
      "model_module_version": "1.4.0",
      "model_name": "DescriptionStyleModel",
      "state": {
       "description_width": ""
      }
     },
     "ace8d77705424dba9bc7f50e4ff66b4a": {
      "model_module": "@jupyter-widgets/controls",
      "model_module_version": "1.4.0",
      "model_name": "RadioButtonsModel",
      "state": {
       "_options_labels": [
        "Cosine Similarity",
        "pearson correlation"
       ],
       "description": "Relation",
       "index": 1,
       "layout": "IPY_MODEL_dd052888f5774f9e91760b2d39fd96db",
       "style": "IPY_MODEL_e2710e5df525428e96fe78df21c23e73"
      }
     },
     "ad2757039eb64527aa8932751deb6ec9": {
      "model_module": "@jupyter-widgets/base",
      "model_module_version": "1.1.0",
      "model_name": "LayoutModel",
      "state": {}
     },
     "ad2a986ad62b46588dc0926b87e92abf": {
      "model_module": "@jupyter-widgets/controls",
      "model_module_version": "1.4.0",
      "model_name": "VBoxModel",
      "state": {
       "_dom_classes": [
        "widget-interact"
       ],
       "children": [
        "IPY_MODEL_c0bb764490fc4c4bb92611445dea2160",
        "IPY_MODEL_2b3ee8bf56bd441eb8db7a5e6f6b14d8",
        "IPY_MODEL_8951efcf841549e8910ed88c8ea2f00b",
        "IPY_MODEL_3181c5b7f8ea4db0b2ffd35f76ae7f83"
       ],
       "layout": "IPY_MODEL_9f508ad9cebb4b409a6d263279e65325"
      }
     },
     "aededba36d9448d6aa50f5c9f54478a9": {
      "model_module": "@jupyter-widgets/base",
      "model_module_version": "1.1.0",
      "model_name": "LayoutModel",
      "state": {}
     },
     "af255b40230e4294a1c3603d202a3533": {
      "model_module": "@jupyter-widgets/controls",
      "model_module_version": "1.4.0",
      "model_name": "DescriptionStyleModel",
      "state": {
       "description_width": ""
      }
     },
     "b12fd5b643a3464c988d306d4cc2c43d": {
      "model_module": "@jupyter-widgets/controls",
      "model_module_version": "1.4.0",
      "model_name": "RadioButtonsModel",
      "state": {
       "_options_labels": [
        "Cosine Similarity",
        "pearson correlation"
       ],
       "description": "Relation",
       "index": 1,
       "layout": "IPY_MODEL_694b140300d848849139940fa589d250",
       "style": "IPY_MODEL_baf9ba97bae846e5885c0f1b00e138fb"
      }
     },
     "b29877a77aa54857b53482c6a63d3f3e": {
      "model_module": "@jupyter-widgets/output",
      "model_module_version": "1.0.0",
      "model_name": "OutputModel",
      "state": {
       "layout": "IPY_MODEL_10c8c1e7e6a14ea387c227a38df44103",
       "outputs": [
        {
         "name": "stdout",
         "output_type": "stream",
         "text": "Recommended list of items: \n\n"
        },
        {
         "data": {
          "text/html": "<div>\n<style scoped>\n    .dataframe tbody tr th:only-of-type {\n        vertical-align: middle;\n    }\n\n    .dataframe tbody tr th {\n        vertical-align: top;\n    }\n\n    .dataframe thead th {\n        text-align: right;\n    }\n</style>\n<table border=\"1\" class=\"dataframe\">\n  <thead>\n    <tr style=\"text-align: right;\">\n      <th></th>\n      <th>name</th>\n      <th>Correlation</th>\n      <th>rating</th>\n      <th>num of ratings</th>\n    </tr>\n  </thead>\n  <tbody>\n    <tr>\n      <th>0</th>\n      <td>Western Digital - Caviar GP 500GB Internal Hard Drive</td>\n      <td>0.019735</td>\n      <td>4.361345</td>\n      <td>119.0</td>\n    </tr>\n    <tr>\n      <th>2</th>\n      <td>Western Digital - Scorpio Blue 250GB Internal Serial ATA Hard Drive for Laptops</td>\n      <td>0.030521</td>\n      <td>4.556818</td>\n      <td>88.0</td>\n    </tr>\n    <tr>\n      <th>4</th>\n      <td>Western Digital - Scorpio Blue 500GB Internal Serial ATA Hard Drive for Laptops</td>\n      <td>1.000000</td>\n      <td>4.525253</td>\n      <td>99.0</td>\n    </tr>\n    <tr>\n      <th>6</th>\n      <td>Western Digital - Scorpio Blue 320GB Internal EIDE Hard Drive for Laptops</td>\n      <td>0.020521</td>\n      <td>NaN</td>\n      <td>NaN</td>\n    </tr>\n    <tr>\n      <th>8</th>\n      <td>Seagate - Momentus 500GB Internal Serial ATA Hard Drive for Laptops</td>\n      <td>0.039942</td>\n      <td>4.434783</td>\n      <td>115.0</td>\n    </tr>\n  </tbody>\n</table>\n</div>",
          "text/plain": "                                                                              name  \\\n0  Western Digital - Caviar GP 500GB Internal Hard Drive                             \n2  Western Digital - Scorpio Blue 250GB Internal Serial ATA Hard Drive for Laptops   \n4  Western Digital - Scorpio Blue 500GB Internal Serial ATA Hard Drive for Laptops   \n6  Western Digital - Scorpio Blue 320GB Internal EIDE Hard Drive for Laptops         \n8  Seagate - Momentus 500GB Internal Serial ATA Hard Drive for Laptops               \n\n   Correlation    rating  num of ratings  \n0  0.019735     4.361345  119.0           \n2  0.030521     4.556818  88.0            \n4  1.000000     4.525253  99.0            \n6  0.020521    NaN       NaN              \n8  0.039942     4.434783  115.0           "
         },
         "metadata": {},
         "output_type": "display_data"
        }
       ]
      }
     },
     "b34e1146338345ebaa612b1b34178176": {
      "model_module": "@jupyter-widgets/base",
      "model_module_version": "1.1.0",
      "model_name": "LayoutModel",
      "state": {}
     },
     "b37a51f20e1f40c5a3673fed26ebbf42": {
      "model_module": "@jupyter-widgets/controls",
      "model_module_version": "1.4.0",
      "model_name": "VBoxModel",
      "state": {
       "_dom_classes": [
        "widget-interact"
       ],
       "children": [
        "IPY_MODEL_ed697e3d491348f3bfd22790a4b85dc8",
        "IPY_MODEL_6a78b6a5d9724b8381cd8fda190019c3",
        "IPY_MODEL_755aa6432a014473bd43c40db4a51d6c",
        "IPY_MODEL_0f3084d71009419e830601403d4cce09"
       ],
       "layout": "IPY_MODEL_a0e6405aafb64328a1148bd9b314e460"
      }
     },
     "b3f0c4c6d83340e08f24bc34e9a266ce": {
      "model_module": "@jupyter-widgets/base",
      "model_module_version": "1.1.0",
      "model_name": "LayoutModel",
      "state": {}
     },
     "b430bc60429c4f43919760848f480486": {
      "model_module": "@jupyter-widgets/base",
      "model_module_version": "1.1.0",
      "model_name": "LayoutModel",
      "state": {}
     },
     "b49b6b51a2884696a7acb237298c3d47": {
      "model_module": "@jupyter-widgets/controls",
      "model_module_version": "1.4.0",
      "model_name": "DescriptionStyleModel",
      "state": {
       "description_width": ""
      }
     },
     "b4b636bf4f2a4fc2b2e32b776ff0e536": {
      "model_module": "@jupyter-widgets/base",
      "model_module_version": "1.1.0",
      "model_name": "LayoutModel",
      "state": {}
     },
     "b5498bf68c0e4051bb0efb2a06495f76": {
      "model_module": "@jupyter-widgets/controls",
      "model_module_version": "1.4.0",
      "model_name": "DescriptionStyleModel",
      "state": {
       "description_width": ""
      }
     },
     "b5acbbaee1f740a8a0db9904e2b7069b": {
      "model_module": "@jupyter-widgets/controls",
      "model_module_version": "1.4.0",
      "model_name": "DescriptionStyleModel",
      "state": {
       "description_width": ""
      }
     },
     "b6c7519d1ca74d3da9921144775abf84": {
      "model_module": "@jupyter-widgets/base",
      "model_module_version": "1.1.0",
      "model_name": "LayoutModel",
      "state": {}
     },
     "b6cbcf57170841b685a7508fa7218048": {
      "model_module": "@jupyter-widgets/controls",
      "model_module_version": "1.4.0",
      "model_name": "RadioButtonsModel",
      "state": {
       "_options_labels": [
        "Cosine Similarity",
        "pearson correlation"
       ],
       "description": "Relation",
       "index": 0,
       "layout": "IPY_MODEL_70d86eebd69e4dee8a057671ada73924",
       "style": "IPY_MODEL_5b6f540feb584dca9ae7a48be14924b3"
      }
     },
     "b7168c359c414a2a8524ed1d56a8d02b": {
      "model_module": "@jupyter-widgets/controls",
      "model_module_version": "1.4.0",
      "model_name": "DescriptionStyleModel",
      "state": {
       "description_width": ""
      }
     },
     "b71959a3eb7e47f9ab4a1db3ef1e3858": {
      "model_module": "@jupyter-widgets/base",
      "model_module_version": "1.1.0",
      "model_name": "LayoutModel",
      "state": {}
     },
     "b7b6e142bfa54fb68a1ec71b62cb2cd1": {
      "model_module": "@jupyter-widgets/base",
      "model_module_version": "1.1.0",
      "model_name": "LayoutModel",
      "state": {}
     },
     "b7e93d15092240fc9ab49d622e241661": {
      "model_module": "@jupyter-widgets/base",
      "model_module_version": "1.1.0",
      "model_name": "LayoutModel",
      "state": {}
     },
     "b85b8a40d369469b9ea2786c8eaca258": {
      "model_module": "@jupyter-widgets/controls",
      "model_module_version": "1.4.0",
      "model_name": "VBoxModel",
      "state": {
       "_dom_classes": [
        "widget-interact"
       ],
       "children": [
        "IPY_MODEL_9fe5da2f39614a19a72fb63239168911",
        "IPY_MODEL_63ec2a26775642bea07f6a8a4b564a3c",
        "IPY_MODEL_1eb862624ecd4da2b4b35c08e18991b1",
        "IPY_MODEL_cfe77aa50037435c91515dc68418ae00"
       ],
       "layout": "IPY_MODEL_60b6007d5cd64741b39915ae37ada0f7"
      }
     },
     "b899b8014ecf4370a25828c3b4132082": {
      "model_module": "@jupyter-widgets/base",
      "model_module_version": "1.1.0",
      "model_name": "LayoutModel",
      "state": {}
     },
     "b8ab6c21cee14e21bd355be6278a96df": {
      "model_module": "@jupyter-widgets/base",
      "model_module_version": "1.1.0",
      "model_name": "LayoutModel",
      "state": {}
     },
     "b9a0de010f30424ab4bcd5193482fbec": {
      "model_module": "@jupyter-widgets/controls",
      "model_module_version": "1.4.0",
      "model_name": "DescriptionStyleModel",
      "state": {
       "description_width": ""
      }
     },
     "b9d2feab2db646afa40bba934b2e236d": {
      "model_module": "@jupyter-widgets/controls",
      "model_module_version": "1.4.0",
      "model_name": "DescriptionStyleModel",
      "state": {
       "description_width": ""
      }
     },
     "baa2cf3f8da744d4bd7f9ca2ba478a30": {
      "model_module": "@jupyter-widgets/base",
      "model_module_version": "1.1.0",
      "model_name": "LayoutModel",
      "state": {}
     },
     "baa3f7ae74d04a78b16c613af1691dbc": {
      "model_module": "@jupyter-widgets/controls",
      "model_module_version": "1.4.0",
      "model_name": "DropdownModel",
      "state": {
       "_options_labels": [
        "1",
        "5",
        "10",
        "20",
        "30",
        "50"
       ],
       "description": "R_item",
       "index": 2,
       "layout": "IPY_MODEL_4d8a9d1df38d43ef849cef546a5622e9",
       "style": "IPY_MODEL_3714ce2a90ba46fcbf09316570c3590d"
      }
     },
     "bacb72a821e544b6b6b67a44afa7097c": {
      "model_module": "@jupyter-widgets/base",
      "model_module_version": "1.1.0",
      "model_name": "LayoutModel",
      "state": {}
     },
     "bae76f0cb93640b190b8fdea5eedc9fc": {
      "model_module": "@jupyter-widgets/controls",
      "model_module_version": "1.4.0",
      "model_name": "VBoxModel",
      "state": {
       "_dom_classes": [
        "widget-interact"
       ],
       "children": [
        "IPY_MODEL_9fe5da2f39614a19a72fb63239168911",
        "IPY_MODEL_63ec2a26775642bea07f6a8a4b564a3c",
        "IPY_MODEL_1eb862624ecd4da2b4b35c08e18991b1",
        "IPY_MODEL_717223b124bc43cab06a9870d59aabc9"
       ],
       "layout": "IPY_MODEL_0cb32891cf654443ba3499ba9be9302d"
      }
     },
     "baf9ba97bae846e5885c0f1b00e138fb": {
      "model_module": "@jupyter-widgets/controls",
      "model_module_version": "1.4.0",
      "model_name": "DescriptionStyleModel",
      "state": {
       "description_width": ""
      }
     },
     "bb608bf7283143daaf6c739520d4cd5a": {
      "model_module": "@jupyter-widgets/controls",
      "model_module_version": "1.4.0",
      "model_name": "DropdownModel",
      "state": {
       "_options_labels": [
        "dc2bbff57193eed0181fd595452298dc1c2a4a70",
        "4924744a593a6de6d9ec34434a53e3901f449e7a",
        "7e708681b4f6a8dece0f538e11b535a780973068",
        "b60937bc9d7aaf43cad00b21e53c48c6ce0056df",
        "63f812f21f67f4afe07bcb7eb8afaa60a1373617",
        "72ff174ccd1c6c574aeae88cafdb128aada17191",
        "18db88e54b8fec0f44b88c85aa71aa8ccc628f50",
        "ff0b5a6dba4172d3295663450203866c825cb97d",
        "c5fca994457ed89ef61f32c074806e814127c112",
        "493d7c1900e606f079ca6c742898eadf7075e34a",
        "0daebfc24b4b818e8b451ea7a4ab8dcde5bb127f",
        "85691806a5373f6ed2180e42c9f6dcf02182d1ca",
        "b35862d23e811c2cb1f8bba328df13cacdd10d75",
        "5f57d92a0b4d12e79613c3d6c0856411a3845fdd",
        "6c646a930383da16b3963e4812ef1a1876fd12ee",
        "25b1e8c13f2dd0b0445921c9166301ce4b383242",
        "b44745292f516376f523748c5effeade0fbe12bc",
        "d8b2ca85c7610ff1b955baf6b40575250d7c335c",
        "881393c0590ef19491d17fe9d722bc42dc0706e6",
        "11409f6cf896af91577b1ab352a600a6dbbd20d2"
       ],
       "description": "User",
       "index": 3,
       "layout": "IPY_MODEL_5a9199cbe74c466283826c548f606fb2",
       "style": "IPY_MODEL_f46c51fc398c4b38a3155a5b0c4c6f78"
      }
     },
     "bbd234cfe84f42e789c4bad810e791ee": {
      "model_module": "@jupyter-widgets/output",
      "model_module_version": "1.0.0",
      "model_name": "OutputModel",
      "state": {
       "layout": "IPY_MODEL_feac5f12d4aa480cbca264ae9d2075ee",
       "outputs": [
        {
         "name": "stdout",
         "output_type": "stream",
         "text": "Recommended list of items: \n\n"
        },
        {
         "data": {
          "text/html": "<div>\n<style scoped>\n    .dataframe tbody tr th:only-of-type {\n        vertical-align: middle;\n    }\n\n    .dataframe tbody tr th {\n        vertical-align: top;\n    }\n\n    .dataframe thead th {\n        text-align: right;\n    }\n</style>\n<table border=\"1\" class=\"dataframe\">\n  <thead>\n    <tr style=\"text-align: right;\">\n      <th></th>\n      <th>name</th>\n      <th>freq</th>\n      <th>rating</th>\n      <th>num of ratings</th>\n    </tr>\n  </thead>\n  <tbody>\n    <tr>\n      <th>0</th>\n      <td>Apple® - MacBook® Air / Intel® Core™2 Duo Processor / 13.3\" Display / 2GB Memory / 128GB Solid State Drive</td>\n      <td>0.023306</td>\n      <td>NaN</td>\n      <td>NaN</td>\n    </tr>\n    <tr>\n      <th>2</th>\n      <td>Speck - Hardshell Laptop Case for Apple® MacBook® Pro Laptops - Clear</td>\n      <td>0.004550</td>\n      <td>4.000000</td>\n      <td>17.0</td>\n    </tr>\n    <tr>\n      <th>4</th>\n      <td>Apple® - Wireless Keyboard</td>\n      <td>0.005105</td>\n      <td>NaN</td>\n      <td>NaN</td>\n    </tr>\n    <tr>\n      <th>6</th>\n      <td>Western Digital - My Book 2TB External USB 2.0 Hard Drive for Mac - Charcoal</td>\n      <td>0.004490</td>\n      <td>4.307692</td>\n      <td>26.0</td>\n    </tr>\n    <tr>\n      <th>8</th>\n      <td>Apple® - MacBook® Pro / Intel® Core™ i5 Processor / 13.3\" Display / 4GB Memory / 320GB Hard Drive</td>\n      <td>1.000000</td>\n      <td>NaN</td>\n      <td>NaN</td>\n    </tr>\n    <tr>\n      <th>10</th>\n      <td>Apple® - MacBook® Pro / Intel® Core™ i7 Processor / 13.3\" Display / 4GB Memory / 500GB Hard Drive</td>\n      <td>0.089274</td>\n      <td>NaN</td>\n      <td>NaN</td>\n    </tr>\n    <tr>\n      <th>12</th>\n      <td>Dell - Inspiron Laptop / Intel® Core™ i5 Processor / 14\" Display / 4GB Memory / 500GB Hard Drive - Mars Black</td>\n      <td>0.006106</td>\n      <td>NaN</td>\n      <td>NaN</td>\n    </tr>\n    <tr>\n      <th>14</th>\n      <td>Apple® - MacBook® Air / Intel® Core™2 Duo Processor / 13.3\" Display / 2GB Memory / 128GB Flash Storage - Aluminum</td>\n      <td>0.026858</td>\n      <td>NaN</td>\n      <td>NaN</td>\n    </tr>\n    <tr>\n      <th>16</th>\n      <td>Apple® - MacBook® Air / Intel® Core™2 Duo Processor / 13.3\" Display / 2GB Memory / 256GB Flash Storage - Aluminum</td>\n      <td>0.027803</td>\n      <td>NaN</td>\n      <td>NaN</td>\n    </tr>\n    <tr>\n      <th>18</th>\n      <td>Apple® - MagSafe 85W Power Adapter for 15\" and 17\" MacBook® Pro</td>\n      <td>0.004766</td>\n      <td>3.913043</td>\n      <td>46.0</td>\n    </tr>\n  </tbody>\n</table>\n</div>",
          "text/plain": "                                                                                                                 name  \\\n0   Apple® - MacBook® Air / Intel® Core™2 Duo Processor / 13.3\" Display / 2GB Memory / 128GB Solid State Drive          \n2   Speck - Hardshell Laptop Case for Apple® MacBook® Pro Laptops - Clear                                               \n4   Apple® - Wireless Keyboard                                                                                          \n6   Western Digital - My Book 2TB External USB 2.0 Hard Drive for Mac - Charcoal                                        \n8   Apple® - MacBook® Pro / Intel® Core™ i5 Processor / 13.3\" Display / 4GB Memory / 320GB Hard Drive                   \n10  Apple® - MacBook® Pro / Intel® Core™ i7 Processor / 13.3\" Display / 4GB Memory / 500GB Hard Drive                   \n12  Dell - Inspiron Laptop / Intel® Core™ i5 Processor / 14\" Display / 4GB Memory / 500GB Hard Drive - Mars Black       \n14  Apple® - MacBook® Air / Intel® Core™2 Duo Processor / 13.3\" Display / 2GB Memory / 128GB Flash Storage - Aluminum   \n16  Apple® - MacBook® Air / Intel® Core™2 Duo Processor / 13.3\" Display / 2GB Memory / 256GB Flash Storage - Aluminum   \n18  Apple® - MagSafe 85W Power Adapter for 15\" and 17\" MacBook® Pro                                                     \n\n        freq    rating  num of ratings  \n0   0.023306 NaN       NaN              \n2   0.004550  4.000000  17.0            \n4   0.005105 NaN       NaN              \n6   0.004490  4.307692  26.0            \n8   1.000000 NaN       NaN              \n10  0.089274 NaN       NaN              \n12  0.006106 NaN       NaN              \n14  0.026858 NaN       NaN              \n16  0.027803 NaN       NaN              \n18  0.004766  3.913043  46.0            "
         },
         "metadata": {},
         "output_type": "display_data"
        }
       ]
      }
     },
     "bd5337ca5793470c869cdfd6ef6ad938": {
      "model_module": "@jupyter-widgets/base",
      "model_module_version": "1.1.0",
      "model_name": "LayoutModel",
      "state": {}
     },
     "bd81d9bb3194438a82309e1609ca7bb4": {
      "model_module": "@jupyter-widgets/base",
      "model_module_version": "1.1.0",
      "model_name": "LayoutModel",
      "state": {}
     },
     "be6697cc87ac42d3a07f78254d19ca06": {
      "model_module": "@jupyter-widgets/controls",
      "model_module_version": "1.4.0",
      "model_name": "DescriptionStyleModel",
      "state": {
       "description_width": ""
      }
     },
     "bec571df542e497bb4b0817bec3ab438": {
      "model_module": "@jupyter-widgets/controls",
      "model_module_version": "1.4.0",
      "model_name": "RadioButtonsModel",
      "state": {
       "_options_labels": [
        "Cosine Similarity",
        "pearson correlation"
       ],
       "description": "Relation",
       "index": 0,
       "layout": "IPY_MODEL_e216f37b1c0d4e29b95dba89c0337f8d",
       "style": "IPY_MODEL_d494dedc36a44d28be9a5e3fc249f8ed"
      }
     },
     "befde5274fd44982b186b12c5925ab26": {
      "model_module": "@jupyter-widgets/controls",
      "model_module_version": "1.4.0",
      "model_name": "RadioButtonsModel",
      "state": {
       "_options_labels": [
        "Cosine Similarity",
        "pearson correlation"
       ],
       "description": "Relation",
       "index": 1,
       "layout": "IPY_MODEL_0824d283a8ff43c697deec9231613dbf",
       "style": "IPY_MODEL_c6b4f9b2629b48148f380ac2ba1c27ba"
      }
     },
     "bf24268c0139401ba074d2d5a7ac9257": {
      "model_module": "@jupyter-widgets/controls",
      "model_module_version": "1.4.0",
      "model_name": "DescriptionStyleModel",
      "state": {
       "description_width": ""
      }
     },
     "bf5875acedd644aeb30be416ebe9c00b": {
      "model_module": "@jupyter-widgets/controls",
      "model_module_version": "1.4.0",
      "model_name": "DropdownModel",
      "state": {
       "_options_labels": [
        "1",
        "5",
        "10",
        "20",
        "30",
        "50"
       ],
       "description": "R_items",
       "index": 4,
       "layout": "IPY_MODEL_d18e1e9532614523a70e0e7fe5fe7484",
       "style": "IPY_MODEL_673362bacbbe48c79f495df3b1a3f118"
      }
     },
     "bfdd3a1e158b43b1ad7260841c042af5": {
      "model_module": "@jupyter-widgets/base",
      "model_module_version": "1.1.0",
      "model_name": "LayoutModel",
      "state": {}
     },
     "bff0fd01b81d4afaa098cb4ea64b924c": {
      "model_module": "@jupyter-widgets/base",
      "model_module_version": "1.1.0",
      "model_name": "LayoutModel",
      "state": {}
     },
     "c03e2c27516e4beabd1950a55e3eed8a": {
      "model_module": "@jupyter-widgets/base",
      "model_module_version": "1.1.0",
      "model_name": "LayoutModel",
      "state": {}
     },
     "c094b947ec0445c79aa1fffb3b5cd646": {
      "model_module": "@jupyter-widgets/base",
      "model_module_version": "1.1.0",
      "model_name": "LayoutModel",
      "state": {}
     },
     "c0ad778f4e82432eaea379baade7435f": {
      "model_module": "@jupyter-widgets/output",
      "model_module_version": "1.0.0",
      "model_name": "OutputModel",
      "state": {
       "layout": "IPY_MODEL_ad2757039eb64527aa8932751deb6ec9"
      }
     },
     "c0bb764490fc4c4bb92611445dea2160": {
      "model_module": "@jupyter-widgets/controls",
      "model_module_version": "1.4.0",
      "model_name": "DropdownModel",
      "state": {
       "_options_labels": [
        "Apple® - MacBook® Pro / Intel® Core™ i5 Processor / 13.3\" Display / 4GB Memory / 320GB Hard Drive",
        "Apple® - iPod touch® 8GB* MP3 Player (4th Generation - Latest Model) - Black",
        "Beats By Dr. Dre - Beats Tour Earbud Headphones - Black",
        "Beats By Dr. Dre - Beats Solo HD Over-the-Ear Headphones - Black",
        "Apple® - iPod touch® 32GB* MP3 Player (4th Generation - Latest Model) - Black",
        "Rocketfish™ - 90W AC Power Adapter for Most Laptop PCs - Black",
        "Western Digital - Scorpio Blue 500GB Internal Serial ATA Hard Drive for Laptops",
        "Motorola - SURFboard Cable Modem",
        "TiVo® - Premiere High-Definition Digital Video Recorder",
        "Apple® - MacBook® Pro / Intel® Core™ i7 Processor / 13.3\" Display / 4GB Memory / 500GB Hard Drive",
        "Optoma - Pico Pocket DLP Projector",
        "Dynex™ - 3' 3.5mm Stereo Audio Cable",
        "Sony - Blu-ray Remote for PlayStation 3",
        "Western Digital - WD TV Live Plus HD Media Player",
        "Kaspersky Anti-Virus (1-Year Subscription) - Windows",
        "NETGEAR - Wireless-N Router",
        "Beats By Dr. Dre - Monster Studio High-Definition Red Sox Over-the-Ear Headphones - Blue",
        "HP - Photosmart e-All-in-One Wireless Printer",
        "Beats By Dr. Dre - Beats Studio Over-the-Ear Headphones - Black",
        "Beats By Dr. Dre - Beats Studio Over-the-Ear Headphones - White"
       ],
       "description": "Item",
       "index": 8,
       "layout": "IPY_MODEL_a0e87beef0474141961c57dbb11587f9",
       "style": "IPY_MODEL_9a52b1d50b504bfc9da4c4420e287672"
      }
     },
     "c0e9b30ed15945d39eb6661e23389f74": {
      "model_module": "@jupyter-widgets/controls",
      "model_module_version": "1.4.0",
      "model_name": "DropdownModel",
      "state": {
       "_options_labels": [
        "1",
        "5",
        "10",
        "50",
        "100",
        "150",
        "250",
        "500"
       ],
       "description": "no_of_closed_users",
       "index": 0,
       "layout": "IPY_MODEL_4a007a7225134dfabff5a40b3c53b134",
       "style": "IPY_MODEL_88a1676fa77d4689bfb32cc52c080f99"
      }
     },
     "c1b2a4ffa9104dd69a04373e2e82e0e0": {
      "model_module": "@jupyter-widgets/base",
      "model_module_version": "1.1.0",
      "model_name": "LayoutModel",
      "state": {}
     },
     "c1d5817e5e084df6bd214f894dd319cc": {
      "model_module": "@jupyter-widgets/controls",
      "model_module_version": "1.4.0",
      "model_name": "DescriptionStyleModel",
      "state": {
       "description_width": ""
      }
     },
     "c1e25cf6a8214067bd44c98576ba36b3": {
      "model_module": "@jupyter-widgets/base",
      "model_module_version": "1.1.0",
      "model_name": "LayoutModel",
      "state": {}
     },
     "c2a8875478004e71aa5d5905456a298d": {
      "model_module": "@jupyter-widgets/base",
      "model_module_version": "1.1.0",
      "model_name": "LayoutModel",
      "state": {}
     },
     "c2f1e16d47f748cf94fc069352966d2e": {
      "model_module": "@jupyter-widgets/controls",
      "model_module_version": "1.4.0",
      "model_name": "DescriptionStyleModel",
      "state": {
       "description_width": ""
      }
     },
     "c4167364cc6f47268c626fce969fedb6": {
      "model_module": "@jupyter-widgets/base",
      "model_module_version": "1.1.0",
      "model_name": "LayoutModel",
      "state": {}
     },
     "c598cc0617c74f8591c798448041d0b4": {
      "model_module": "@jupyter-widgets/base",
      "model_module_version": "1.1.0",
      "model_name": "LayoutModel",
      "state": {}
     },
     "c5d943b91fc045a0a61cff509f2b3026": {
      "model_module": "@jupyter-widgets/base",
      "model_module_version": "1.1.0",
      "model_name": "LayoutModel",
      "state": {}
     },
     "c6b4f9b2629b48148f380ac2ba1c27ba": {
      "model_module": "@jupyter-widgets/controls",
      "model_module_version": "1.4.0",
      "model_name": "DescriptionStyleModel",
      "state": {
       "description_width": ""
      }
     },
     "c79429f0671f4567bcd7210bf407e425": {
      "model_module": "@jupyter-widgets/controls",
      "model_module_version": "1.4.0",
      "model_name": "IntSliderModel",
      "state": {
       "description": "R_items",
       "layout": "IPY_MODEL_10441339ccb046b3b12d549ec0c5d5dd",
       "max": 18,
       "min": -6,
       "style": "IPY_MODEL_670fbb6c295e4b4e9c055773c93e0d7e",
       "value": 6
      }
     },
     "c82f1912516d4f598ebe05bb096e7307": {
      "model_module": "@jupyter-widgets/controls",
      "model_module_version": "1.4.0",
      "model_name": "DropdownModel",
      "state": {
       "_options_labels": [
        "Apple® - MacBook® Pro / Intel® Core™ i5 Processor / 13.3\" Display / 4GB Memory / 320GB Hard Drive",
        "Apple® - iPod touch® 8GB* MP3 Player (4th Generation - Latest Model) - Black",
        "Beats By Dr. Dre - Beats Tour Earbud Headphones - Black",
        "Beats By Dr. Dre - Beats Solo HD Over-the-Ear Headphones - Black",
        "Apple® - iPod touch® 32GB* MP3 Player (4th Generation - Latest Model) - Black",
        "Rocketfish™ - 90W AC Power Adapter for Most Laptop PCs - Black",
        "Western Digital - Scorpio Blue 500GB Internal Serial ATA Hard Drive for Laptops",
        "Motorola - SURFboard Cable Modem",
        "TiVo® - Premiere High-Definition Digital Video Recorder",
        "Apple® - MacBook® Pro / Intel® Core™ i7 Processor / 13.3\" Display / 4GB Memory / 500GB Hard Drive",
        "Optoma - Pico Pocket DLP Projector",
        "Dynex™ - 3' 3.5mm Stereo Audio Cable",
        "Sony - Blu-ray Remote for PlayStation 3",
        "Western Digital - WD TV Live Plus HD Media Player",
        "Kaspersky Anti-Virus (1-Year Subscription) - Windows",
        "NETGEAR - Wireless-N Router",
        "Beats By Dr. Dre - Monster Studio High-Definition Red Sox Over-the-Ear Headphones - Blue",
        "HP - Photosmart e-All-in-One Wireless Printer",
        "Beats By Dr. Dre - Beats Studio Over-the-Ear Headphones - Black",
        "Beats By Dr. Dre - Beats Studio Over-the-Ear Headphones - White"
       ],
       "description": "Item",
       "index": 0,
       "layout": "IPY_MODEL_0af436befc194523938d4769f78620c3",
       "style": "IPY_MODEL_61554ae8bdca4830b267cee91ccb1f57"
      }
     },
     "c84ba035d82b48859e05c9bb64419446": {
      "model_module": "@jupyter-widgets/controls",
      "model_module_version": "1.4.0",
      "model_name": "DescriptionStyleModel",
      "state": {
       "description_width": ""
      }
     },
     "c8f029955d4f449e9bbacef18bcbe725": {
      "model_module": "@jupyter-widgets/controls",
      "model_module_version": "1.4.0",
      "model_name": "DescriptionStyleModel",
      "state": {
       "description_width": ""
      }
     },
     "c960c94046eb41d1a40d84f78bd9d89b": {
      "model_module": "@jupyter-widgets/controls",
      "model_module_version": "1.4.0",
      "model_name": "DescriptionStyleModel",
      "state": {
       "description_width": ""
      }
     },
     "ca73a84224fb443babb4acde11eb9f48": {
      "model_module": "@jupyter-widgets/controls",
      "model_module_version": "1.4.0",
      "model_name": "DescriptionStyleModel",
      "state": {
       "description_width": ""
      }
     },
     "ca9ed8949795437db793e1a148fa1801": {
      "model_module": "@jupyter-widgets/base",
      "model_module_version": "1.1.0",
      "model_name": "LayoutModel",
      "state": {}
     },
     "cb6104c66d674f5b9941a35c6772bc53": {
      "model_module": "@jupyter-widgets/controls",
      "model_module_version": "1.4.0",
      "model_name": "VBoxModel",
      "state": {
       "_dom_classes": [
        "widget-interact"
       ],
       "children": [
        "IPY_MODEL_d0ef9ea4b62b4b629cdf1d8bfb8c523c",
        "IPY_MODEL_bf5875acedd644aeb30be416ebe9c00b",
        "IPY_MODEL_7617ee403fda48729e6c4816ed67ee07",
        "IPY_MODEL_514cbd85d88642b9acd7fdd87f8023dd"
       ],
       "layout": "IPY_MODEL_a04bc9e881a9406998bb478cf10bf5fc"
      }
     },
     "cbb38bf7397f49b784454c246d5a6fbf": {
      "model_module": "@jupyter-widgets/controls",
      "model_module_version": "1.4.0",
      "model_name": "DropdownModel",
      "state": {
       "_options_labels": [
        "Apple® - MacBook® Pro / Intel® Core™ i5 Processor / 13.3\" Display / 4GB Memory / 320GB Hard Drive",
        "Apple® - iPod touch® 8GB* MP3 Player (4th Generation - Latest Model) - Black",
        "Beats By Dr. Dre - Beats Tour Earbud Headphones - Black",
        "Beats By Dr. Dre - Beats Solo HD Over-the-Ear Headphones - Black",
        "Apple® - iPod touch® 32GB* MP3 Player (4th Generation - Latest Model) - Black",
        "Rocketfish™ - 90W AC Power Adapter for Most Laptop PCs - Black",
        "Western Digital - Scorpio Blue 500GB Internal Serial ATA Hard Drive for Laptops",
        "Motorola - SURFboard Cable Modem",
        "TiVo® - Premiere High-Definition Digital Video Recorder",
        "Apple® - MacBook® Pro / Intel® Core™ i7 Processor / 13.3\" Display / 4GB Memory / 500GB Hard Drive",
        "Optoma - Pico Pocket DLP Projector",
        "Dynex™ - 3' 3.5mm Stereo Audio Cable",
        "Sony - Blu-ray Remote for PlayStation 3",
        "Western Digital - WD TV Live Plus HD Media Player",
        "Kaspersky Anti-Virus (1-Year Subscription) - Windows",
        "NETGEAR - Wireless-N Router",
        "Beats By Dr. Dre - Monster Studio High-Definition Red Sox Over-the-Ear Headphones - Blue",
        "HP - Photosmart e-All-in-One Wireless Printer",
        "Beats By Dr. Dre - Beats Studio Over-the-Ear Headphones - Black",
        "Beats By Dr. Dre - Beats Studio Over-the-Ear Headphones - White"
       ],
       "description": "Item",
       "index": 0,
       "layout": "IPY_MODEL_822a10b9eee24d9ebf0b65f243723f24",
       "style": "IPY_MODEL_2653a182da0246c383f9b6660969140b"
      }
     },
     "cc16742b6ff648ba8eb76831229496fa": {
      "model_module": "@jupyter-widgets/base",
      "model_module_version": "1.1.0",
      "model_name": "LayoutModel",
      "state": {}
     },
     "cdd6f78d6b644aa4b384299ef1677086": {
      "model_module": "@jupyter-widgets/controls",
      "model_module_version": "1.4.0",
      "model_name": "DescriptionStyleModel",
      "state": {
       "description_width": ""
      }
     },
     "ce6a7120aab14d96bd4dbf38dc3c4ad4": {
      "model_module": "@jupyter-widgets/controls",
      "model_module_version": "1.4.0",
      "model_name": "RadioButtonsModel",
      "state": {
       "_options_labels": [
        "Cosine Similarity",
        "pearson correlation",
        "SVDPP Matrix Factorization"
       ],
       "description": "Relation_Type",
       "index": 0,
       "layout": "IPY_MODEL_ecab42a2b6e444729c3226e648495bd1",
       "style": "IPY_MODEL_ca73a84224fb443babb4acde11eb9f48"
      }
     },
     "cf8ece60928b456a9a4307a46f10fa83": {
      "model_module": "@jupyter-widgets/controls",
      "model_module_version": "1.4.0",
      "model_name": "DescriptionStyleModel",
      "state": {
       "description_width": ""
      }
     },
     "cfe77aa50037435c91515dc68418ae00": {
      "model_module": "@jupyter-widgets/output",
      "model_module_version": "1.0.0",
      "model_name": "OutputModel",
      "state": {
       "layout": "IPY_MODEL_3fdd7d0cff5d48979f41d4ac4c431e47",
       "outputs": [
        {
         "name": "stdout",
         "output_type": "stream",
         "text": "Already viewed items: \n                                                                                                   0\n0  SanDisk - 4GB Secure Digital High Capacity (SDHC) Class 4 Memory Card                            \n1  Best Buy GC - $25 Gift Card                                                                      \n2  Best Buy GC - $250 Gift Card                                                                     \n3  Sony - USB Stereo Turntable                                                                      \n4  DigiPower - NKL12 Rechargeable Lithium-Ion Battery for Select Nikon CoolPix Digital Cameras      \n5  Memorex - Portable CD/CD-R/RW Boombox with AM/FM Radio - Black                                   \n6  Apple® - MacBook® Pro / Intel® Core™ i5 Processor / 13.3\" Display / 4GB Memory / 320GB Hard Drive\n7  Optoma - Pico Pocket DLP Projector                                                               \n8  SanDisk - Xbox 360 8GB USB Flash Drive                                                           \n9  SanDisk - Xbox 360 16GB USB Flash Drive                                                          \n\n\nViewed by other users - unique items: \n                                                                                                    0\n0   Best Buy GC - $250 Gift Card                                                                     \n1   DigiPower - NKL12 Rechargeable Lithium-Ion Battery for Select Nikon CoolPix Digital Cameras      \n2   SanDisk - Xbox 360 8GB USB Flash Drive                                                           \n3   SanDisk - 4GB Secure Digital High Capacity (SDHC) Class 4 Memory Card                            \n4   Optoma - Pico Pocket DLP Projector                                                               \n5   Best Buy GC - $25 Gift Card                                                                      \n6   Kaspersky Anti-Virus (1-Year Subscription) - Windows                                             \n7   Best Buy GC - $100 Thank-You Gift Card                                                           \n8   Memorex - Portable CD/CD-R/RW Boombox with AM/FM Radio - Black                                   \n9   SanDisk - Xbox 360 16GB USB Flash Drive                                                          \n10  Apple® - MacBook® Pro / Intel® Core™ i5 Processor / 13.3\" Display / 4GB Memory / 320GB Hard Drive\n\n\nRecommended list of items: \n                                                      0\n0  Kaspersky Anti-Virus (1-Year Subscription) - Windows\n1  Best Buy GC - $100 Thank-You Gift Card              \n\n\n"
        }
       ]
      }
     },
     "d00f817c94d24280be48dc5be235eb16": {
      "model_module": "@jupyter-widgets/base",
      "model_module_version": "1.1.0",
      "model_name": "LayoutModel",
      "state": {}
     },
     "d0836f7c30954018822cdf4ce9092f94": {
      "model_module": "@jupyter-widgets/controls",
      "model_module_version": "1.4.0",
      "model_name": "DropdownModel",
      "state": {
       "_options_labels": [
        "1",
        "5",
        "10",
        "20",
        "30",
        "50"
       ],
       "description": "R_item",
       "index": 2,
       "layout": "IPY_MODEL_4684199956f54fa782afe6a84c9689f0",
       "style": "IPY_MODEL_8e5bce9527a743cc9636a6738c864dfc"
      }
     },
     "d0c89039cba147019a09988e1b283ddc": {
      "model_module": "@jupyter-widgets/controls",
      "model_module_version": "1.4.0",
      "model_name": "DescriptionStyleModel",
      "state": {
       "description_width": ""
      }
     },
     "d0ef9ea4b62b4b629cdf1d8bfb8c523c": {
      "model_module": "@jupyter-widgets/controls",
      "model_module_version": "1.4.0",
      "model_name": "DropdownModel",
      "state": {
       "_options_labels": [
        "Apple® - MacBook® Pro / Intel® Core™ i5 Processor / 13.3\" Display / 4GB Memory / 320GB Hard Drive",
        "Apple® - iPod touch® 8GB* MP3 Player (4th Generation - Latest Model) - Black",
        "Beats By Dr. Dre - Beats Tour Earbud Headphones - Black",
        "Beats By Dr. Dre - Beats Solo HD Over-the-Ear Headphones - Black",
        "Apple® - iPod touch® 32GB* MP3 Player (4th Generation - Latest Model) - Black",
        "Rocketfish™ - 90W AC Power Adapter for Most Laptop PCs - Black",
        "Western Digital - Scorpio Blue 500GB Internal Serial ATA Hard Drive for Laptops",
        "Motorola - SURFboard Cable Modem",
        "TiVo® - Premiere High-Definition Digital Video Recorder",
        "Apple® - MacBook® Pro / Intel® Core™ i7 Processor / 13.3\" Display / 4GB Memory / 500GB Hard Drive",
        "Optoma - Pico Pocket DLP Projector",
        "Dynex™ - 3' 3.5mm Stereo Audio Cable",
        "Sony - Blu-ray Remote for PlayStation 3",
        "Western Digital - WD TV Live Plus HD Media Player",
        "Kaspersky Anti-Virus (1-Year Subscription) - Windows",
        "NETGEAR - Wireless-N Router",
        "Beats By Dr. Dre - Monster Studio High-Definition Red Sox Over-the-Ear Headphones - Blue",
        "HP - Photosmart e-All-in-One Wireless Printer",
        "Beats By Dr. Dre - Beats Studio Over-the-Ear Headphones - Black",
        "Beats By Dr. Dre - Beats Studio Over-the-Ear Headphones - White"
       ],
       "description": "Item",
       "index": 3,
       "layout": "IPY_MODEL_7a006bc8f566491a8db4648442dcd806",
       "style": "IPY_MODEL_e92f66ebdc5b41fc8c945c2f18c6709b"
      }
     },
     "d18e1e9532614523a70e0e7fe5fe7484": {
      "model_module": "@jupyter-widgets/base",
      "model_module_version": "1.1.0",
      "model_name": "LayoutModel",
      "state": {}
     },
     "d1cd38eaee384a64a65743bdd0362609": {
      "model_module": "@jupyter-widgets/controls",
      "model_module_version": "1.4.0",
      "model_name": "DropdownModel",
      "state": {
       "_options_labels": [
        "1",
        "5",
        "10",
        "20",
        "30",
        "50"
       ],
       "description": "R_item",
       "index": 1,
       "layout": "IPY_MODEL_9b0bc008d9af4a2bb44dc3b27ed00d31",
       "style": "IPY_MODEL_f236b7ef082f439d940b8124c9806d43"
      }
     },
     "d1f4e080654e440286af102a5dcc5004": {
      "model_module": "@jupyter-widgets/controls",
      "model_module_version": "1.4.0",
      "model_name": "DescriptionStyleModel",
      "state": {
       "description_width": ""
      }
     },
     "d2969661d7b84f9a881cda9791809b2a": {
      "model_module": "@jupyter-widgets/controls",
      "model_module_version": "1.4.0",
      "model_name": "DescriptionStyleModel",
      "state": {
       "description_width": ""
      }
     },
     "d36d9ccfcf4d409c842311ff6ecee960": {
      "model_module": "@jupyter-widgets/base",
      "model_module_version": "1.1.0",
      "model_name": "LayoutModel",
      "state": {}
     },
     "d3aeb6a714494cc9b2744244940e321a": {
      "model_module": "@jupyter-widgets/base",
      "model_module_version": "1.1.0",
      "model_name": "LayoutModel",
      "state": {}
     },
     "d3b3ce9c49c94edb907130831e251670": {
      "model_module": "@jupyter-widgets/controls",
      "model_module_version": "1.4.0",
      "model_name": "DropdownModel",
      "state": {
       "_options_labels": [
        "Apple® - MacBook® Pro / Intel® Core™ i5 Processor / 13.3\" Display / 4GB Memory / 320GB Hard Drive",
        "Apple® - iPod touch® 8GB* MP3 Player (4th Generation - Latest Model) - Black",
        "Beats By Dr. Dre - Beats Tour Earbud Headphones - Black",
        "Beats By Dr. Dre - Beats Solo HD Over-the-Ear Headphones - Black",
        "Apple® - iPod touch® 32GB* MP3 Player (4th Generation - Latest Model) - Black",
        "Rocketfish™ - 90W AC Power Adapter for Most Laptop PCs - Black",
        "Western Digital - Scorpio Blue 500GB Internal Serial ATA Hard Drive for Laptops",
        "Motorola - SURFboard Cable Modem",
        "TiVo® - Premiere High-Definition Digital Video Recorder",
        "Apple® - MacBook® Pro / Intel® Core™ i7 Processor / 13.3\" Display / 4GB Memory / 500GB Hard Drive",
        "Optoma - Pico Pocket DLP Projector",
        "Dynex™ - 3' 3.5mm Stereo Audio Cable",
        "Sony - Blu-ray Remote for PlayStation 3",
        "Western Digital - WD TV Live Plus HD Media Player",
        "Kaspersky Anti-Virus (1-Year Subscription) - Windows",
        "NETGEAR - Wireless-N Router",
        "Beats By Dr. Dre - Monster Studio High-Definition Red Sox Over-the-Ear Headphones - Blue",
        "HP - Photosmart e-All-in-One Wireless Printer",
        "Beats By Dr. Dre - Beats Studio Over-the-Ear Headphones - Black",
        "Beats By Dr. Dre - Beats Studio Over-the-Ear Headphones - White"
       ],
       "description": "Item",
       "index": 0,
       "layout": "IPY_MODEL_6b68cb0d2a4242b486789b1f623d0397",
       "style": "IPY_MODEL_58aa706b382042aa8c16de463cedf734"
      }
     },
     "d494dedc36a44d28be9a5e3fc249f8ed": {
      "model_module": "@jupyter-widgets/controls",
      "model_module_version": "1.4.0",
      "model_name": "DescriptionStyleModel",
      "state": {
       "description_width": ""
      }
     },
     "d5269c02ae0841529e2dc4fad6c639be": {
      "model_module": "@jupyter-widgets/controls",
      "model_module_version": "1.4.0",
      "model_name": "VBoxModel",
      "state": {
       "_dom_classes": [
        "widget-interact"
       ],
       "children": [
        "IPY_MODEL_3d9d7af819dd452bbcff6fa890ef1f2d",
        "IPY_MODEL_a0fc9f7667d34f4cbcac541b415c5184",
        "IPY_MODEL_2e3203d4376c415185d7c35e8fd7bdec",
        "IPY_MODEL_f9dd1fa9a5124830a708e54cb2163c5f"
       ],
       "layout": "IPY_MODEL_86e1f8883ae2401293f77daf94950537"
      }
     },
     "d58d3e9107dc4b07b0985a4d86b23b9a": {
      "model_module": "@jupyter-widgets/output",
      "model_module_version": "1.0.0",
      "model_name": "OutputModel",
      "state": {
       "layout": "IPY_MODEL_b899b8014ecf4370a25828c3b4132082",
       "outputs": [
        {
         "name": "stdout",
         "output_type": "stream",
         "text": "Already viewed items: \n                                                                                                   0\n0  SanDisk - 4GB Secure Digital High Capacity (SDHC) Class 4 Memory Card                            \n1  Best Buy GC - $25 Gift Card                                                                      \n2  Best Buy GC - $250 Gift Card                                                                     \n3  Sony - USB Stereo Turntable                                                                      \n4  DigiPower - NKL12 Rechargeable Lithium-Ion Battery for Select Nikon CoolPix Digital Cameras      \n5  Memorex - Portable CD/CD-R/RW Boombox with AM/FM Radio - Black                                   \n6  Apple® - MacBook® Pro / Intel® Core™ i5 Processor / 13.3\" Display / 4GB Memory / 320GB Hard Drive\n7  Optoma - Pico Pocket DLP Projector                                                               \n8  SanDisk - Xbox 360 8GB USB Flash Drive                                                           \n9  SanDisk - Xbox 360 16GB USB Flash Drive                                                          \n\n\nViewed by other users - unique items: \n                                                                                                    0\n0   Best Buy GC - $250 Gift Card                                                                     \n1   DigiPower - NKL12 Rechargeable Lithium-Ion Battery for Select Nikon CoolPix Digital Cameras      \n2   SanDisk - Xbox 360 8GB USB Flash Drive                                                           \n3   SanDisk - 4GB Secure Digital High Capacity (SDHC) Class 4 Memory Card                            \n4   Optoma - Pico Pocket DLP Projector                                                               \n5   Best Buy GC - $25 Gift Card                                                                      \n6   Kaspersky Anti-Virus (1-Year Subscription) - Windows                                             \n7   Best Buy GC - $100 Thank-You Gift Card                                                           \n8   Memorex - Portable CD/CD-R/RW Boombox with AM/FM Radio - Black                                   \n9   SanDisk - Xbox 360 16GB USB Flash Drive                                                          \n10  Apple® - MacBook® Pro / Intel® Core™ i5 Processor / 13.3\" Display / 4GB Memory / 320GB Hard Drive\n\n\nRecommended list of items: \n                                                      0\n0  Kaspersky Anti-Virus (1-Year Subscription) - Windows\n1  Best Buy GC - $100 Thank-You Gift Card              \n\n\n"
        }
       ]
      }
     },
     "d5c163033b2647daa5b3418a9138c6c5": {
      "model_module": "@jupyter-widgets/base",
      "model_module_version": "1.1.0",
      "model_name": "LayoutModel",
      "state": {}
     },
     "d705b46b031248e1a9ea31d3dc7d68cf": {
      "model_module": "@jupyter-widgets/base",
      "model_module_version": "1.1.0",
      "model_name": "LayoutModel",
      "state": {}
     },
     "d74351d71c8f4959a64d71aab174f943": {
      "model_module": "@jupyter-widgets/base",
      "model_module_version": "1.1.0",
      "model_name": "LayoutModel",
      "state": {}
     },
     "d7eb2cf6b7db4e409ab25800d53e7027": {
      "model_module": "@jupyter-widgets/controls",
      "model_module_version": "1.4.0",
      "model_name": "DropdownModel",
      "state": {
       "_options_labels": [
        "1",
        "5",
        "10",
        "50",
        "100",
        "150",
        "250",
        "500"
       ],
       "description": "no_of_closed_users",
       "index": 3,
       "layout": "IPY_MODEL_733b3ce13fc14ccfaa0dd6c0b866624d",
       "style": "IPY_MODEL_4ca5562fddc743518ad55529f78098fe"
      }
     },
     "d8312fb0823442139e1799b3ee5a1572": {
      "model_module": "@jupyter-widgets/base",
      "model_module_version": "1.1.0",
      "model_name": "LayoutModel",
      "state": {}
     },
     "d914527147e54f9da0728ac70e4307f2": {
      "model_module": "@jupyter-widgets/output",
      "model_module_version": "1.0.0",
      "model_name": "OutputModel",
      "state": {
       "layout": "IPY_MODEL_f2e4c9849ee14642adc50da239e68633"
      }
     },
     "d9255a093cb14f9da06f0151591e1e0f": {
      "model_module": "@jupyter-widgets/base",
      "model_module_version": "1.1.0",
      "model_name": "LayoutModel",
      "state": {}
     },
     "d97d770a456b49f9bbeac202f12349cb": {
      "model_module": "@jupyter-widgets/controls",
      "model_module_version": "1.4.0",
      "model_name": "DropdownModel",
      "state": {
       "_options_labels": [
        "1",
        "5",
        "10",
        "20",
        "30",
        "50"
       ],
       "description": "R_item",
       "index": 1,
       "layout": "IPY_MODEL_f9520c8f7d304722986247c39690af95",
       "style": "IPY_MODEL_0390287eac044c46b45dd5b7d5f15f9d"
      }
     },
     "dd052888f5774f9e91760b2d39fd96db": {
      "model_module": "@jupyter-widgets/base",
      "model_module_version": "1.1.0",
      "model_name": "LayoutModel",
      "state": {}
     },
     "dd3d854a48f4466c8c9055b0494c1b05": {
      "model_module": "@jupyter-widgets/base",
      "model_module_version": "1.1.0",
      "model_name": "LayoutModel",
      "state": {}
     },
     "dd58a14a7fc34b0fb8a3c93fac391f45": {
      "model_module": "@jupyter-widgets/controls",
      "model_module_version": "1.4.0",
      "model_name": "DescriptionStyleModel",
      "state": {
       "description_width": ""
      }
     },
     "de8e4280b2fb4ae8ac0a5deeae318f94": {
      "model_module": "@jupyter-widgets/base",
      "model_module_version": "1.1.0",
      "model_name": "LayoutModel",
      "state": {}
     },
     "df8447f72f1143e3afbd32e227f2432f": {
      "model_module": "@jupyter-widgets/base",
      "model_module_version": "1.1.0",
      "model_name": "LayoutModel",
      "state": {}
     },
     "dff69953b55e477eb76104bb3b03a7fe": {
      "model_module": "@jupyter-widgets/base",
      "model_module_version": "1.1.0",
      "model_name": "LayoutModel",
      "state": {}
     },
     "e190bd9992c443bf9032896c664883e7": {
      "model_module": "@jupyter-widgets/base",
      "model_module_version": "1.1.0",
      "model_name": "LayoutModel",
      "state": {}
     },
     "e216f37b1c0d4e29b95dba89c0337f8d": {
      "model_module": "@jupyter-widgets/base",
      "model_module_version": "1.1.0",
      "model_name": "LayoutModel",
      "state": {}
     },
     "e2710e5df525428e96fe78df21c23e73": {
      "model_module": "@jupyter-widgets/controls",
      "model_module_version": "1.4.0",
      "model_name": "DescriptionStyleModel",
      "state": {
       "description_width": ""
      }
     },
     "e28abe689cc14ecf934e28c1e27375f3": {
      "model_module": "@jupyter-widgets/controls",
      "model_module_version": "1.4.0",
      "model_name": "VBoxModel",
      "state": {
       "_dom_classes": [
        "widget-interact"
       ],
       "children": [
        "IPY_MODEL_8ef6351cbecb464298c24665666ccd40",
        "IPY_MODEL_1566c2453ea346e0887558a078e0f70a",
        "IPY_MODEL_e2ea203b76d74284aeef0ec88dd7a05b",
        "IPY_MODEL_7741e754715441129497600daa9f2664"
       ],
       "layout": "IPY_MODEL_7b1cc3b22fdd4702a60e07a6f8ac0e39"
      }
     },
     "e2b31c083a1d4e998e3bd8263d9ee910": {
      "model_module": "@jupyter-widgets/controls",
      "model_module_version": "1.4.0",
      "model_name": "DropdownModel",
      "state": {
       "_options_labels": [
        "1",
        "5",
        "10",
        "20",
        "30",
        "50"
       ],
       "index": 0,
       "layout": "IPY_MODEL_63be1fda3e424f09bd3c74acf71b4ed6",
       "style": "IPY_MODEL_4e7b5b0edf5c4eb592506e48fba50b34"
      }
     },
     "e2ea203b76d74284aeef0ec88dd7a05b": {
      "model_module": "@jupyter-widgets/controls",
      "model_module_version": "1.4.0",
      "model_name": "RadioButtonsModel",
      "state": {
       "_options_labels": [
        "Cosine Similarity",
        "pearson correlation",
        "SVDPP Matrix Factorization"
       ],
       "description": "Relation_Type",
       "index": 2,
       "layout": "IPY_MODEL_1c9d33521f37456abe5f8d02464a97cc",
       "style": "IPY_MODEL_6acddae19908459aa6614dbc3406011a"
      }
     },
     "e51c2eb81da34108a29565b173c1c8d0": {
      "model_module": "@jupyter-widgets/controls",
      "model_module_version": "1.4.0",
      "model_name": "SliderStyleModel",
      "state": {
       "description_width": ""
      }
     },
     "e541fbbb54324d93a2a7144fdbc0d7cd": {
      "model_module": "@jupyter-widgets/output",
      "model_module_version": "1.0.0",
      "model_name": "OutputModel",
      "state": {
       "layout": "IPY_MODEL_a23a95ae58c741249dec934d1d8977ac"
      }
     },
     "e61cab17a7d7447194f210d2b3d610b6": {
      "model_module": "@jupyter-widgets/base",
      "model_module_version": "1.1.0",
      "model_name": "LayoutModel",
      "state": {}
     },
     "e67629e0ca814ed6b9eab14331f774e0": {
      "model_module": "@jupyter-widgets/base",
      "model_module_version": "1.1.0",
      "model_name": "LayoutModel",
      "state": {}
     },
     "e6a52a73705c44569560a4486b127e39": {
      "model_module": "@jupyter-widgets/controls",
      "model_module_version": "1.4.0",
      "model_name": "DescriptionStyleModel",
      "state": {
       "description_width": ""
      }
     },
     "e77e21d40ce449a793d57bebde62634a": {
      "model_module": "@jupyter-widgets/controls",
      "model_module_version": "1.4.0",
      "model_name": "SliderStyleModel",
      "state": {
       "description_width": ""
      }
     },
     "e7c59cd40a87446f8110917d041f7d1c": {
      "model_module": "@jupyter-widgets/controls",
      "model_module_version": "1.4.0",
      "model_name": "DescriptionStyleModel",
      "state": {
       "description_width": ""
      }
     },
     "e80d7ae23ea04024aa60364057f68d4e": {
      "model_module": "@jupyter-widgets/controls",
      "model_module_version": "1.4.0",
      "model_name": "VBoxModel",
      "state": {
       "_dom_classes": [
        "widget-interact"
       ],
       "children": [
        "IPY_MODEL_81ac423d5e4e473280b99897cb273e9d",
        "IPY_MODEL_fcdcfe6dcc17482bb4ab420b14df6ef3",
        "IPY_MODEL_8b663a9c2a504820b6f9b0d82f4c20b1",
        "IPY_MODEL_ee49c96f7692400ebc8f5af9d11aee42"
       ],
       "layout": "IPY_MODEL_9f4266c417a440ce8f4e2f232997c771"
      }
     },
     "e826daefe7584fe883eb1f8303a8bb0f": {
      "model_module": "@jupyter-widgets/output",
      "model_module_version": "1.0.0",
      "model_name": "OutputModel",
      "state": {
       "layout": "IPY_MODEL_b71959a3eb7e47f9ab4a1db3ef1e3858"
      }
     },
     "e92f66ebdc5b41fc8c945c2f18c6709b": {
      "model_module": "@jupyter-widgets/controls",
      "model_module_version": "1.4.0",
      "model_name": "DescriptionStyleModel",
      "state": {
       "description_width": ""
      }
     },
     "e932b368f67b43918e0bed1c3b0c23f1": {
      "model_module": "@jupyter-widgets/base",
      "model_module_version": "1.1.0",
      "model_name": "LayoutModel",
      "state": {}
     },
     "e941d8b89e3743098e97ed1328ff03c3": {
      "model_module": "@jupyter-widgets/controls",
      "model_module_version": "1.4.0",
      "model_name": "VBoxModel",
      "state": {
       "_dom_classes": [
        "widget-interact"
       ],
       "layout": "IPY_MODEL_86baefc56bd748d892a5ec4719e4acee"
      }
     },
     "ec80bb7908d44dce979b7c2e925d3775": {
      "model_module": "@jupyter-widgets/base",
      "model_module_version": "1.1.0",
      "model_name": "LayoutModel",
      "state": {}
     },
     "ecab42a2b6e444729c3226e648495bd1": {
      "model_module": "@jupyter-widgets/base",
      "model_module_version": "1.1.0",
      "model_name": "LayoutModel",
      "state": {}
     },
     "ed446defa1824ab79397a59b31e349a0": {
      "model_module": "@jupyter-widgets/controls",
      "model_module_version": "1.4.0",
      "model_name": "DescriptionStyleModel",
      "state": {
       "description_width": ""
      }
     },
     "ed697e3d491348f3bfd22790a4b85dc8": {
      "model_module": "@jupyter-widgets/controls",
      "model_module_version": "1.4.0",
      "model_name": "DropdownModel",
      "state": {
       "_options_labels": [
        "Apple® - MacBook® Pro / Intel® Core™ i5 Processor / 13.3\" Display / 4GB Memory / 320GB Hard Drive",
        "Apple® - iPod touch® 8GB* MP3 Player (4th Generation - Latest Model) - Black",
        "Beats By Dr. Dre - Beats Tour Earbud Headphones - Black",
        "Beats By Dr. Dre - Beats Solo HD Over-the-Ear Headphones - Black",
        "Apple® - iPod touch® 32GB* MP3 Player (4th Generation - Latest Model) - Black",
        "Rocketfish™ - 90W AC Power Adapter for Most Laptop PCs - Black",
        "Western Digital - Scorpio Blue 500GB Internal Serial ATA Hard Drive for Laptops",
        "Motorola - SURFboard Cable Modem",
        "TiVo® - Premiere High-Definition Digital Video Recorder",
        "Apple® - MacBook® Pro / Intel® Core™ i7 Processor / 13.3\" Display / 4GB Memory / 500GB Hard Drive",
        "Optoma - Pico Pocket DLP Projector",
        "Dynex™ - 3' 3.5mm Stereo Audio Cable",
        "Sony - Blu-ray Remote for PlayStation 3",
        "Western Digital - WD TV Live Plus HD Media Player",
        "Kaspersky Anti-Virus (1-Year Subscription) - Windows",
        "NETGEAR - Wireless-N Router",
        "Beats By Dr. Dre - Monster Studio High-Definition Red Sox Over-the-Ear Headphones - Blue",
        "HP - Photosmart e-All-in-One Wireless Printer",
        "Beats By Dr. Dre - Beats Studio Over-the-Ear Headphones - Black",
        "Beats By Dr. Dre - Beats Studio Over-the-Ear Headphones - White"
       ],
       "description": "Item",
       "index": 2,
       "layout": "IPY_MODEL_4d2936cec6654329a9ae21f89a897971",
       "style": "IPY_MODEL_4e219b34b1234914af6dfb78cef9dd8f"
      }
     },
     "ee49c96f7692400ebc8f5af9d11aee42": {
      "model_module": "@jupyter-widgets/output",
      "model_module_version": "1.0.0",
      "model_name": "OutputModel",
      "state": {
       "layout": "IPY_MODEL_2ab1632f2b0d46399ce57d00d7fb8208",
       "outputs": [
        {
         "name": "stdout",
         "output_type": "stream",
         "text": "Recommended list of items: \n\n"
        }
       ]
      }
     },
     "ee7ee1ab21f447a4b790f76bfbdeeb66": {
      "model_module": "@jupyter-widgets/base",
      "model_module_version": "1.1.0",
      "model_name": "LayoutModel",
      "state": {}
     },
     "eed3d1b251d04d7bae4256168a954da2": {
      "model_module": "@jupyter-widgets/base",
      "model_module_version": "1.1.0",
      "model_name": "LayoutModel",
      "state": {}
     },
     "f1d4d633a2d24fa4a567d9c8050e78cd": {
      "model_module": "@jupyter-widgets/controls",
      "model_module_version": "1.4.0",
      "model_name": "VBoxModel",
      "state": {
       "_dom_classes": [
        "widget-interact"
       ],
       "children": [
        "IPY_MODEL_c0bb764490fc4c4bb92611445dea2160",
        "IPY_MODEL_87e1ab2db9c14c29bbdf2ecac2446abd",
        "IPY_MODEL_8951efcf841549e8910ed88c8ea2f00b",
        "IPY_MODEL_12142afe828940648f7ab86a4c63a87d"
       ],
       "layout": "IPY_MODEL_7ef09c2a07014a7d87bc8257a6207993"
      }
     },
     "f236b7ef082f439d940b8124c9806d43": {
      "model_module": "@jupyter-widgets/controls",
      "model_module_version": "1.4.0",
      "model_name": "DescriptionStyleModel",
      "state": {
       "description_width": ""
      }
     },
     "f27188834b94437aa29222d320d8fca8": {
      "model_module": "@jupyter-widgets/controls",
      "model_module_version": "1.4.0",
      "model_name": "VBoxModel",
      "state": {
       "_dom_classes": [
        "widget-interact"
       ],
       "children": [
        "IPY_MODEL_71cc36283f404835800976f37ca9d70f",
        "IPY_MODEL_6ea5924a21664882927a8375a844ec70",
        "IPY_MODEL_b12fd5b643a3464c988d306d4cc2c43d",
        "IPY_MODEL_b29877a77aa54857b53482c6a63d3f3e"
       ],
       "layout": "IPY_MODEL_7eef70aa605b4ea8ba5ba9a8dc0e0d6c"
      }
     },
     "f2e4c9849ee14642adc50da239e68633": {
      "model_module": "@jupyter-widgets/base",
      "model_module_version": "1.1.0",
      "model_name": "LayoutModel",
      "state": {}
     },
     "f3586ef8f0e14737be3993bc53581488": {
      "model_module": "@jupyter-widgets/controls",
      "model_module_version": "1.4.0",
      "model_name": "DescriptionStyleModel",
      "state": {
       "description_width": ""
      }
     },
     "f379b6268ab5402fb045d6b9a9660c0c": {
      "model_module": "@jupyter-widgets/base",
      "model_module_version": "1.1.0",
      "model_name": "LayoutModel",
      "state": {}
     },
     "f3f1159ddbab42509e0a110c6f3a4cd0": {
      "model_module": "@jupyter-widgets/base",
      "model_module_version": "1.1.0",
      "model_name": "LayoutModel",
      "state": {}
     },
     "f46c51fc398c4b38a3155a5b0c4c6f78": {
      "model_module": "@jupyter-widgets/controls",
      "model_module_version": "1.4.0",
      "model_name": "DescriptionStyleModel",
      "state": {
       "description_width": ""
      }
     },
     "f6c760e2d9534676be65d3d3bfe1487b": {
      "model_module": "@jupyter-widgets/controls",
      "model_module_version": "1.4.0",
      "model_name": "DescriptionStyleModel",
      "state": {
       "description_width": ""
      }
     },
     "f729e436c3144a55b74b15f67a20628f": {
      "model_module": "@jupyter-widgets/controls",
      "model_module_version": "1.4.0",
      "model_name": "RadioButtonsModel",
      "state": {
       "_options_labels": [
        "Cosine Similarity",
        "pearson correlation",
        "SVDPP Matrix Factorization"
       ],
       "description": "Relation_Type",
       "index": 1,
       "layout": "IPY_MODEL_3e4765a53e754342980def8652ef3099",
       "style": "IPY_MODEL_e7c59cd40a87446f8110917d041f7d1c"
      }
     },
     "f772a3bf386745a8b2123752090b10a5": {
      "model_module": "@jupyter-widgets/controls",
      "model_module_version": "1.4.0",
      "model_name": "VBoxModel",
      "state": {
       "_dom_classes": [
        "widget-interact"
       ],
       "children": [
        "IPY_MODEL_bb608bf7283143daaf6c739520d4cd5a",
        "IPY_MODEL_a918584973aa4bb685009a3cfec227cb",
        "IPY_MODEL_5310d2f043ac4a69a58d4305f6ceb8f6",
        "IPY_MODEL_44770647fb2547349e26ddd411272fa9"
       ],
       "layout": "IPY_MODEL_f80b1f821a7c49c891d86ef88511fd1a"
      }
     },
     "f80b1f821a7c49c891d86ef88511fd1a": {
      "model_module": "@jupyter-widgets/base",
      "model_module_version": "1.1.0",
      "model_name": "LayoutModel",
      "state": {}
     },
     "f9520c8f7d304722986247c39690af95": {
      "model_module": "@jupyter-widgets/base",
      "model_module_version": "1.1.0",
      "model_name": "LayoutModel",
      "state": {}
     },
     "f9bf69ec762345b5aaa73e68f8e69119": {
      "model_module": "@jupyter-widgets/controls",
      "model_module_version": "1.4.0",
      "model_name": "DropdownModel",
      "state": {
       "_options_labels": [
        "Apple® - MacBook® Pro / Intel® Core™ i5 Processor / 13.3\" Display / 4GB Memory / 320GB Hard Drive",
        "Apple® - iPod touch® 8GB* MP3 Player (4th Generation - Latest Model) - Black",
        "Beats By Dr. Dre - Beats Tour Earbud Headphones - Black",
        "Beats By Dr. Dre - Beats Solo HD Over-the-Ear Headphones - Black",
        "Apple® - iPod touch® 32GB* MP3 Player (4th Generation - Latest Model) - Black",
        "Rocketfish™ - 90W AC Power Adapter for Most Laptop PCs - Black",
        "Western Digital - Scorpio Blue 500GB Internal Serial ATA Hard Drive for Laptops",
        "Motorola - SURFboard Cable Modem",
        "TiVo® - Premiere High-Definition Digital Video Recorder",
        "Apple® - MacBook® Pro / Intel® Core™ i7 Processor / 13.3\" Display / 4GB Memory / 500GB Hard Drive",
        "Optoma - Pico Pocket DLP Projector",
        "Dynex™ - 3' 3.5mm Stereo Audio Cable",
        "Sony - Blu-ray Remote for PlayStation 3",
        "Western Digital - WD TV Live Plus HD Media Player",
        "Kaspersky Anti-Virus (1-Year Subscription) - Windows",
        "NETGEAR - Wireless-N Router",
        "Beats By Dr. Dre - Monster Studio High-Definition Red Sox Over-the-Ear Headphones - Blue",
        "HP - Photosmart e-All-in-One Wireless Printer",
        "Beats By Dr. Dre - Beats Studio Over-the-Ear Headphones - Black",
        "Beats By Dr. Dre - Beats Studio Over-the-Ear Headphones - White"
       ],
       "description": "Item",
       "index": 0,
       "layout": "IPY_MODEL_3e69c483a15e4b30822f323d9b298095",
       "style": "IPY_MODEL_6b499adec1484e0491202c9e66568567"
      }
     },
     "f9dd1fa9a5124830a708e54cb2163c5f": {
      "model_module": "@jupyter-widgets/output",
      "model_module_version": "1.0.0",
      "model_name": "OutputModel",
      "state": {
       "layout": "IPY_MODEL_59d23cecfe5a4237a7cf8d7121ac8e09",
       "outputs": [
        {
         "ename": "ValueError",
         "evalue": "Expected 2D array, got 1D array instead:\narray=[0. 0. 1. ... 0. 0. 0.].\nReshape your data either using array.reshape(-1, 1) if your data has a single feature or array.reshape(1, -1) if it contains a single sample.",
         "output_type": "error",
         "traceback": [
          "\u001b[0;31m---------------------------------------------------------------------------\u001b[0m",
          "\u001b[0;31mValueError\u001b[0m                                Traceback (most recent call last)",
          "\u001b[0;32m/Library/Frameworks/Python.framework/Versions/3.7/lib/python3.7/site-packages/ipywidgets/widgets/interaction.py\u001b[0m in \u001b[0;36mupdate\u001b[0;34m(self, *args)\u001b[0m\n\u001b[1;32m    249\u001b[0m                     \u001b[0mvalue\u001b[0m \u001b[0;34m=\u001b[0m \u001b[0mwidget\u001b[0m\u001b[0;34m.\u001b[0m\u001b[0mget_interact_value\u001b[0m\u001b[0;34m(\u001b[0m\u001b[0;34m)\u001b[0m\u001b[0;34m\u001b[0m\u001b[0;34m\u001b[0m\u001b[0m\n\u001b[1;32m    250\u001b[0m                     \u001b[0mself\u001b[0m\u001b[0;34m.\u001b[0m\u001b[0mkwargs\u001b[0m\u001b[0;34m[\u001b[0m\u001b[0mwidget\u001b[0m\u001b[0;34m.\u001b[0m\u001b[0m_kwarg\u001b[0m\u001b[0;34m]\u001b[0m \u001b[0;34m=\u001b[0m \u001b[0mvalue\u001b[0m\u001b[0;34m\u001b[0m\u001b[0;34m\u001b[0m\u001b[0m\n\u001b[0;32m--> 251\u001b[0;31m                 \u001b[0mself\u001b[0m\u001b[0;34m.\u001b[0m\u001b[0mresult\u001b[0m \u001b[0;34m=\u001b[0m \u001b[0mself\u001b[0m\u001b[0;34m.\u001b[0m\u001b[0mf\u001b[0m\u001b[0;34m(\u001b[0m\u001b[0;34m**\u001b[0m\u001b[0mself\u001b[0m\u001b[0;34m.\u001b[0m\u001b[0mkwargs\u001b[0m\u001b[0;34m)\u001b[0m\u001b[0;34m\u001b[0m\u001b[0;34m\u001b[0m\u001b[0m\n\u001b[0m\u001b[1;32m    252\u001b[0m                 \u001b[0mshow_inline_matplotlib_plots\u001b[0m\u001b[0;34m(\u001b[0m\u001b[0;34m)\u001b[0m\u001b[0;34m\u001b[0m\u001b[0;34m\u001b[0m\u001b[0m\n\u001b[1;32m    253\u001b[0m                 \u001b[0;32mif\u001b[0m \u001b[0mself\u001b[0m\u001b[0;34m.\u001b[0m\u001b[0mauto_display\u001b[0m \u001b[0;32mand\u001b[0m \u001b[0mself\u001b[0m\u001b[0;34m.\u001b[0m\u001b[0mresult\u001b[0m \u001b[0;32mis\u001b[0m \u001b[0;32mnot\u001b[0m \u001b[0;32mNone\u001b[0m\u001b[0;34m:\u001b[0m\u001b[0;34m\u001b[0m\u001b[0;34m\u001b[0m\u001b[0m\n",
          "\u001b[0;32m<ipython-input-403-e96a6219e107>\u001b[0m in \u001b[0;36mItembasedRecommendation\u001b[0;34m(Item, R_items, Relation)\u001b[0m\n\u001b[1;32m     20\u001b[0m     \u001b[0;32melif\u001b[0m \u001b[0mRelation\u001b[0m \u001b[0;34m==\u001b[0m \u001b[0;34m'Cosine Similarity'\u001b[0m\u001b[0;34m:\u001b[0m\u001b[0;34m\u001b[0m\u001b[0;34m\u001b[0m\u001b[0m\n\u001b[1;32m     21\u001b[0m         \u001b[0mItem_sku\u001b[0m \u001b[0;34m=\u001b[0m \u001b[0mmerged\u001b[0m\u001b[0;34m[\u001b[0m\u001b[0mmerged\u001b[0m\u001b[0;34m.\u001b[0m\u001b[0mname\u001b[0m \u001b[0;34m==\u001b[0m \u001b[0mItem\u001b[0m\u001b[0;34m]\u001b[0m\u001b[0;34m.\u001b[0m\u001b[0msku\u001b[0m\u001b[0;34m.\u001b[0m\u001b[0munique\u001b[0m\u001b[0;34m(\u001b[0m\u001b[0;34m)\u001b[0m\u001b[0;34m[\u001b[0m\u001b[0;36m0\u001b[0m\u001b[0;34m]\u001b[0m\u001b[0;34m\u001b[0m\u001b[0;34m\u001b[0m\u001b[0m\n\u001b[0;32m---> 22\u001b[0;31m         \u001b[0mcosine_sim\u001b[0m \u001b[0;34m=\u001b[0m \u001b[0mcosine_similarity\u001b[0m\u001b[0;34m(\u001b[0m\u001b[0mr_matrix_dummy\u001b[0m\u001b[0;34m.\u001b[0m\u001b[0mtranspose\u001b[0m\u001b[0;34m(\u001b[0m\u001b[0;34m)\u001b[0m\u001b[0;34m,\u001b[0m\u001b[0mr_matrix_dummy\u001b[0m\u001b[0;34m.\u001b[0m\u001b[0mtranspose\u001b[0m\u001b[0;34m(\u001b[0m\u001b[0;34m)\u001b[0m\u001b[0;34m.\u001b[0m\u001b[0mloc\u001b[0m\u001b[0;34m[\u001b[0m\u001b[0mItem_sku\u001b[0m\u001b[0;34m]\u001b[0m\u001b[0;34m)\u001b[0m\u001b[0;34m\u001b[0m\u001b[0;34m\u001b[0m\u001b[0m\n\u001b[0m\u001b[1;32m     23\u001b[0m         \u001b[0mcosine_sim\u001b[0m \u001b[0;34m=\u001b[0m \u001b[0mpd\u001b[0m\u001b[0;34m.\u001b[0m\u001b[0mDataFrame\u001b[0m\u001b[0;34m(\u001b[0m\u001b[0mcosine_sim\u001b[0m\u001b[0;34m,\u001b[0m \u001b[0mindex\u001b[0m\u001b[0;34m=\u001b[0m\u001b[0mr_matrix_dummy\u001b[0m\u001b[0;34m.\u001b[0m\u001b[0mtranspose\u001b[0m\u001b[0;34m(\u001b[0m\u001b[0;34m)\u001b[0m\u001b[0;34m.\u001b[0m\u001b[0mindex\u001b[0m\u001b[0;34m,\u001b[0m \u001b[0mcolumns\u001b[0m\u001b[0;34m=\u001b[0m\u001b[0;34m[\u001b[0m\u001b[0;34m'freq'\u001b[0m\u001b[0;34m]\u001b[0m\u001b[0;34m)\u001b[0m\u001b[0;34m\u001b[0m\u001b[0;34m\u001b[0m\u001b[0m\n\u001b[1;32m     24\u001b[0m         \u001b[0mItems_similer_to_user\u001b[0m \u001b[0;34m=\u001b[0m \u001b[0mcosine_sim\u001b[0m\u001b[0;34m.\u001b[0m\u001b[0msort_values\u001b[0m\u001b[0;34m(\u001b[0m\u001b[0mascending\u001b[0m \u001b[0;34m=\u001b[0m \u001b[0;32mFalse\u001b[0m\u001b[0;34m,\u001b[0m\u001b[0mby\u001b[0m\u001b[0;34m=\u001b[0m\u001b[0;34m'freq'\u001b[0m\u001b[0;34m)\u001b[0m\u001b[0;34m.\u001b[0m\u001b[0mreset_index\u001b[0m\u001b[0;34m(\u001b[0m\u001b[0;34m)\u001b[0m\u001b[0;34m\u001b[0m\u001b[0;34m\u001b[0m\u001b[0m\n",
          "\u001b[0;32m/Library/Frameworks/Python.framework/Versions/3.7/lib/python3.7/site-packages/sklearn/metrics/pairwise.py\u001b[0m in \u001b[0;36mcosine_similarity\u001b[0;34m(X, Y, dense_output)\u001b[0m\n\u001b[1;32m    894\u001b[0m     \u001b[0;31m# to avoid recursive import\u001b[0m\u001b[0;34m\u001b[0m\u001b[0;34m\u001b[0m\u001b[0;34m\u001b[0m\u001b[0m\n\u001b[1;32m    895\u001b[0m \u001b[0;34m\u001b[0m\u001b[0m\n\u001b[0;32m--> 896\u001b[0;31m     \u001b[0mX\u001b[0m\u001b[0;34m,\u001b[0m \u001b[0mY\u001b[0m \u001b[0;34m=\u001b[0m \u001b[0mcheck_pairwise_arrays\u001b[0m\u001b[0;34m(\u001b[0m\u001b[0mX\u001b[0m\u001b[0;34m,\u001b[0m \u001b[0mY\u001b[0m\u001b[0;34m)\u001b[0m\u001b[0;34m\u001b[0m\u001b[0;34m\u001b[0m\u001b[0m\n\u001b[0m\u001b[1;32m    897\u001b[0m \u001b[0;34m\u001b[0m\u001b[0m\n\u001b[1;32m    898\u001b[0m     \u001b[0mX_normalized\u001b[0m \u001b[0;34m=\u001b[0m \u001b[0mnormalize\u001b[0m\u001b[0;34m(\u001b[0m\u001b[0mX\u001b[0m\u001b[0;34m,\u001b[0m \u001b[0mcopy\u001b[0m\u001b[0;34m=\u001b[0m\u001b[0;32mTrue\u001b[0m\u001b[0;34m)\u001b[0m\u001b[0;34m\u001b[0m\u001b[0;34m\u001b[0m\u001b[0m\n",
          "\u001b[0;32m/Library/Frameworks/Python.framework/Versions/3.7/lib/python3.7/site-packages/sklearn/metrics/pairwise.py\u001b[0m in \u001b[0;36mcheck_pairwise_arrays\u001b[0;34m(X, Y, precomputed, dtype)\u001b[0m\n\u001b[1;32m    111\u001b[0m                         warn_on_dtype=warn_on_dtype, estimator=estimator)\n\u001b[1;32m    112\u001b[0m         Y = check_array(Y, accept_sparse='csr', dtype=dtype,\n\u001b[0;32m--> 113\u001b[0;31m                         warn_on_dtype=warn_on_dtype, estimator=estimator)\n\u001b[0m\u001b[1;32m    114\u001b[0m \u001b[0;34m\u001b[0m\u001b[0m\n\u001b[1;32m    115\u001b[0m     \u001b[0;32mif\u001b[0m \u001b[0mprecomputed\u001b[0m\u001b[0;34m:\u001b[0m\u001b[0;34m\u001b[0m\u001b[0;34m\u001b[0m\u001b[0m\n",
          "\u001b[0;32m/Library/Frameworks/Python.framework/Versions/3.7/lib/python3.7/site-packages/sklearn/utils/validation.py\u001b[0m in \u001b[0;36mcheck_array\u001b[0;34m(array, accept_sparse, accept_large_sparse, dtype, order, copy, force_all_finite, ensure_2d, allow_nd, ensure_min_samples, ensure_min_features, warn_on_dtype, estimator)\u001b[0m\n\u001b[1;32m    550\u001b[0m                     \u001b[0;34m\"Reshape your data either using array.reshape(-1, 1) if \"\u001b[0m\u001b[0;34m\u001b[0m\u001b[0;34m\u001b[0m\u001b[0m\n\u001b[1;32m    551\u001b[0m                     \u001b[0;34m\"your data has a single feature or array.reshape(1, -1) \"\u001b[0m\u001b[0;34m\u001b[0m\u001b[0;34m\u001b[0m\u001b[0m\n\u001b[0;32m--> 552\u001b[0;31m                     \"if it contains a single sample.\".format(array))\n\u001b[0m\u001b[1;32m    553\u001b[0m \u001b[0;34m\u001b[0m\u001b[0m\n\u001b[1;32m    554\u001b[0m         \u001b[0;31m# in the future np.flexible dtypes will be handled like object dtypes\u001b[0m\u001b[0;34m\u001b[0m\u001b[0;34m\u001b[0m\u001b[0;34m\u001b[0m\u001b[0m\n",
          "\u001b[0;31mValueError\u001b[0m: Expected 2D array, got 1D array instead:\narray=[0. 0. 1. ... 0. 0. 0.].\nReshape your data either using array.reshape(-1, 1) if your data has a single feature or array.reshape(1, -1) if it contains a single sample."
         ]
        }
       ]
      }
     },
     "f9e2172d8bab4de6921afd7f2fc06bd8": {
      "model_module": "@jupyter-widgets/controls",
      "model_module_version": "1.4.0",
      "model_name": "DescriptionStyleModel",
      "state": {
       "description_width": ""
      }
     },
     "fa087a0d3a4e4b099b47340e43932c90": {
      "model_module": "@jupyter-widgets/output",
      "model_module_version": "1.0.0",
      "model_name": "OutputModel",
      "state": {
       "layout": "IPY_MODEL_628b492ede0d4b289cc49bbed7a47162",
       "outputs": [
        {
         "name": "stdout",
         "output_type": "stream",
         "text": "Recommended list of items: \n\n"
        }
       ]
      }
     },
     "fb2edb37a81d4b49803eb8d8994b743f": {
      "model_module": "@jupyter-widgets/controls",
      "model_module_version": "1.4.0",
      "model_name": "VBoxModel",
      "state": {
       "_dom_classes": [
        "widget-interact"
       ],
       "children": [
        "IPY_MODEL_cbb38bf7397f49b784454c246d5a6fbf",
        "IPY_MODEL_294d2a93e6d14f3cb8bb7985f9182001",
        "IPY_MODEL_ace8d77705424dba9bc7f50e4ff66b4a",
        "IPY_MODEL_fa087a0d3a4e4b099b47340e43932c90"
       ],
       "layout": "IPY_MODEL_8784dd42126940f198abcfa030b399e4"
      }
     },
     "fbded97bc57245389752c084d7bebbd9": {
      "model_module": "@jupyter-widgets/controls",
      "model_module_version": "1.4.0",
      "model_name": "DescriptionStyleModel",
      "state": {
       "description_width": ""
      }
     },
     "fcdcfe6dcc17482bb4ab420b14df6ef3": {
      "model_module": "@jupyter-widgets/controls",
      "model_module_version": "1.4.0",
      "model_name": "DropdownModel",
      "state": {
       "_options_labels": [
        "1",
        "5",
        "10",
        "20",
        "30",
        "50"
       ],
       "description": "R_items",
       "index": 1,
       "layout": "IPY_MODEL_d3aeb6a714494cc9b2744244940e321a",
       "style": "IPY_MODEL_6f916f84c74d430f80dd9b0241a4b7e6"
      }
     },
     "fe332c35d8064eafad4cf19d5c827352": {
      "model_module": "@jupyter-widgets/controls",
      "model_module_version": "1.4.0",
      "model_name": "DropdownModel",
      "state": {
       "_options_labels": [
        "e",
        "9",
        "3",
        "d",
        "8",
        "1",
        "e",
        "d",
        "7",
        "1",
        "a",
        "3",
        "4",
        "b",
        "f",
        "3",
        "3",
        "b",
        "6",
        "1",
        "a",
        "4",
        "b",
        "c",
        "0",
        "c",
        "d",
        "2",
        "a",
        "4",
        "8",
        "6",
        "d",
        "7",
        "3",
        "d",
        "a",
        "2",
        "d",
        "2"
       ],
       "description": "User",
       "index": 0,
       "layout": "IPY_MODEL_bacb72a821e544b6b6b67a44afa7097c",
       "style": "IPY_MODEL_725b26f92b69445ea01ffd5035eca6d8"
      }
     },
     "fe51d11c5499459aa34d251ce30ea78d": {
      "model_module": "@jupyter-widgets/base",
      "model_module_version": "1.1.0",
      "model_name": "LayoutModel",
      "state": {}
     },
     "feac5f12d4aa480cbca264ae9d2075ee": {
      "model_module": "@jupyter-widgets/base",
      "model_module_version": "1.1.0",
      "model_name": "LayoutModel",
      "state": {}
     },
     "fecaf933cac64b9198c1c0bdd08d41e1": {
      "model_module": "@jupyter-widgets/controls",
      "model_module_version": "1.4.0",
      "model_name": "DropdownModel",
      "state": {
       "_options_labels": [
        "1",
        "5",
        "10",
        "50",
        "100",
        "150",
        "250",
        "500"
       ],
       "description": "no_of_closed_users",
       "index": 0,
       "layout": "IPY_MODEL_0eb0b703a9c140468ad63e0f9107fc51",
       "style": "IPY_MODEL_a034641c44b94f23b68b5aeda6b52e11"
      }
     },
     "ff3ba27a2e1548a9acef42f7a2441d50": {
      "model_module": "@jupyter-widgets/controls",
      "model_module_version": "1.4.0",
      "model_name": "DropdownModel",
      "state": {
       "_options_labels": [
        "Apple® - MacBook® Pro / Intel® Core™ i5 Processor / 13.3\" Display / 4GB Memory / 320GB Hard Drive",
        "Apple® - iPod touch® 8GB* MP3 Player (4th Generation - Latest Model) - Black",
        "Beats By Dr. Dre - Beats Tour Earbud Headphones - Black",
        "Beats By Dr. Dre - Beats Solo HD Over-the-Ear Headphones - Black",
        "Apple® - iPod touch® 32GB* MP3 Player (4th Generation - Latest Model) - Black",
        "Rocketfish™ - 90W AC Power Adapter for Most Laptop PCs - Black",
        "Western Digital - Scorpio Blue 500GB Internal Serial ATA Hard Drive for Laptops",
        "Motorola - SURFboard Cable Modem",
        "TiVo® - Premiere High-Definition Digital Video Recorder",
        "Apple® - MacBook® Pro / Intel® Core™ i7 Processor / 13.3\" Display / 4GB Memory / 500GB Hard Drive",
        "Optoma - Pico Pocket DLP Projector",
        "Dynex™ - 3' 3.5mm Stereo Audio Cable",
        "Sony - Blu-ray Remote for PlayStation 3",
        "Western Digital - WD TV Live Plus HD Media Player",
        "Kaspersky Anti-Virus (1-Year Subscription) - Windows",
        "NETGEAR - Wireless-N Router",
        "Beats By Dr. Dre - Monster Studio High-Definition Red Sox Over-the-Ear Headphones - Blue",
        "HP - Photosmart e-All-in-One Wireless Printer",
        "Beats By Dr. Dre - Beats Studio Over-the-Ear Headphones - Black",
        "Beats By Dr. Dre - Beats Studio Over-the-Ear Headphones - White"
       ],
       "description": "Item",
       "index": 0,
       "layout": "IPY_MODEL_c1b2a4ffa9104dd69a04373e2e82e0e0",
       "style": "IPY_MODEL_094aee171ed344178a6783f8d54a08a5"
      }
     },
     "ff8319614edb43f8adeb3aa9f22cde9f": {
      "model_module": "@jupyter-widgets/output",
      "model_module_version": "1.0.0",
      "model_name": "OutputModel",
      "state": {
       "layout": "IPY_MODEL_ac98fa6971be4e2381b5af70d493777c"
      }
     }
    },
    "version_major": 2,
    "version_minor": 0
   }
  }
 },
 "nbformat": 4,
 "nbformat_minor": 2
}
